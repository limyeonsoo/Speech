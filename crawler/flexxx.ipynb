{
 "cells": [
  {
   "cell_type": "code",
   "execution_count": 4,
   "metadata": {
    "scrolled": true
   },
   "outputs": [
    {
     "name": "stderr",
     "output_type": "stream",
     "text": [
      "0it [00:00, ?it/s]\n",
      "0it [00:00, ?it/s]\n",
      "0it [00:00, ?it/s]\n",
      "0it [00:00, ?it/s]\n",
      "  9%|▉         | 2/22 [00:00<00:01, 15.29it/s]"
     ]
    },
    {
     "name": "stdout",
     "output_type": "stream",
     "text": [
      "/home/knlab/Summer_study/Lab_members/YS/honk/keyword_spotting_data_generator/data/다음/다음_7.flac\n",
      "/home/knlab/Summer_study/Lab_members/YS/honk/keyword_spotting_data_generator/data/다음/다음_5.flac\n",
      "/home/knlab/Summer_study/Lab_members/YS/honk/keyword_spotting_data_generator/data/다음/다음_3.flac\n",
      "/home/knlab/Summer_study/Lab_members/YS/honk/keyword_spotting_data_generator/data/다음/다음_4.flac\n"
     ]
    },
    {
     "name": "stderr",
     "output_type": "stream",
     "text": [
      " 27%|██▋       | 6/22 [00:00<00:00, 16.15it/s]"
     ]
    },
    {
     "name": "stdout",
     "output_type": "stream",
     "text": [
      "/home/knlab/Summer_study/Lab_members/YS/honk/keyword_spotting_data_generator/data/다음/다음_10.flac\n",
      "/home/knlab/Summer_study/Lab_members/YS/honk/keyword_spotting_data_generator/data/다음/다음_6.flac\n",
      "/home/knlab/Summer_study/Lab_members/YS/honk/keyword_spotting_data_generator/data/다음/다음_2.flac\n",
      "/home/knlab/Summer_study/Lab_members/YS/honk/keyword_spotting_data_generator/data/다음/다음_6.flac\n"
     ]
    },
    {
     "name": "stderr",
     "output_type": "stream",
     "text": [
      " 45%|████▌     | 10/22 [00:00<00:00, 13.72it/s]"
     ]
    },
    {
     "name": "stdout",
     "output_type": "stream",
     "text": [
      "/home/knlab/Summer_study/Lab_members/YS/honk/keyword_spotting_data_generator/data/다음/다음_3.flac\n",
      "/home/knlab/Summer_study/Lab_members/YS/honk/keyword_spotting_data_generator/data/다음/다음_1.flac\n",
      "/home/knlab/Summer_study/Lab_members/YS/honk/keyword_spotting_data_generator/data/다음/다음_0.flac\n"
     ]
    },
    {
     "name": "stderr",
     "output_type": "stream",
     "text": [
      " 64%|██████▎   | 14/22 [00:00<00:00, 15.03it/s]"
     ]
    },
    {
     "name": "stdout",
     "output_type": "stream",
     "text": [
      "/home/knlab/Summer_study/Lab_members/YS/honk/keyword_spotting_data_generator/data/다음/다음_4.flac\n",
      "/home/knlab/Summer_study/Lab_members/YS/honk/keyword_spotting_data_generator/data/다음/다음_5.flac\n",
      "/home/knlab/Summer_study/Lab_members/YS/honk/keyword_spotting_data_generator/data/다음/다음_2.flac\n",
      "/home/knlab/Summer_study/Lab_members/YS/honk/keyword_spotting_data_generator/data/다음/다음_7.flac\n"
     ]
    },
    {
     "name": "stderr",
     "output_type": "stream",
     "text": [
      "\r",
      " 73%|███████▎  | 16/22 [00:01<00:00, 14.75it/s]"
     ]
    },
    {
     "name": "stdout",
     "output_type": "stream",
     "text": [
      "/home/knlab/Summer_study/Lab_members/YS/honk/keyword_spotting_data_generator/data/다음/다음_10.flac\n",
      "/home/knlab/Summer_study/Lab_members/YS/honk/keyword_spotting_data_generator/data/다음/다음_8.flac\n",
      "/home/knlab/Summer_study/Lab_members/YS/honk/keyword_spotting_data_generator/data/다음/다음_9.flac\n"
     ]
    },
    {
     "name": "stderr",
     "output_type": "stream",
     "text": [
      " 91%|█████████ | 20/22 [00:01<00:00, 14.55it/s]"
     ]
    },
    {
     "name": "stdout",
     "output_type": "stream",
     "text": [
      "/home/knlab/Summer_study/Lab_members/YS/honk/keyword_spotting_data_generator/data/다음/다음_0.flac\n",
      "/home/knlab/Summer_study/Lab_members/YS/honk/keyword_spotting_data_generator/data/다음/다음_8.flac\n",
      "/home/knlab/Summer_study/Lab_members/YS/honk/keyword_spotting_data_generator/data/다음/다음_9.flac\n",
      "/home/knlab/Summer_study/Lab_members/YS/honk/keyword_spotting_data_generator/data/다음/다음_1.flac\n"
     ]
    },
    {
     "name": "stderr",
     "output_type": "stream",
     "text": [
      "100%|██████████| 22/22 [00:01<00:00, 14.90it/s]\n",
      "0it [00:00, ?it/s]\n",
      " 10%|█         | 2/20 [00:00<00:01, 17.33it/s]"
     ]
    },
    {
     "name": "stdout",
     "output_type": "stream",
     "text": [
      "/home/knlab/Summer_study/Lab_members/YS/honk/keyword_spotting_data_generator/data/주가/주가_8.flac\n",
      "/home/knlab/Summer_study/Lab_members/YS/honk/keyword_spotting_data_generator/data/주가/주가_6.flac\n",
      "/home/knlab/Summer_study/Lab_members/YS/honk/keyword_spotting_data_generator/data/주가/주가_9.flac\n",
      "/home/knlab/Summer_study/Lab_members/YS/honk/keyword_spotting_data_generator/data/주가/주가_2.flac\n"
     ]
    },
    {
     "name": "stderr",
     "output_type": "stream",
     "text": [
      " 30%|███       | 6/20 [00:00<00:00, 17.30it/s]"
     ]
    },
    {
     "name": "stdout",
     "output_type": "stream",
     "text": [
      "/home/knlab/Summer_study/Lab_members/YS/honk/keyword_spotting_data_generator/data/주가/주가_0.flac\n",
      "/home/knlab/Summer_study/Lab_members/YS/honk/keyword_spotting_data_generator/data/주가/주가_7.flac\n",
      "/home/knlab/Summer_study/Lab_members/YS/honk/keyword_spotting_data_generator/data/주가/주가_2.flac\n",
      "/home/knlab/Summer_study/Lab_members/YS/honk/keyword_spotting_data_generator/data/주가/주가_8.flac\n"
     ]
    },
    {
     "name": "stderr",
     "output_type": "stream",
     "text": [
      " 50%|█████     | 10/20 [00:00<00:00, 17.29it/s]"
     ]
    },
    {
     "name": "stdout",
     "output_type": "stream",
     "text": [
      "/home/knlab/Summer_study/Lab_members/YS/honk/keyword_spotting_data_generator/data/주가/주가_5.flac\n",
      "/home/knlab/Summer_study/Lab_members/YS/honk/keyword_spotting_data_generator/data/주가/주가_7.flac\n",
      "/home/knlab/Summer_study/Lab_members/YS/honk/keyword_spotting_data_generator/data/주가/주가_6.flac\n"
     ]
    },
    {
     "name": "stderr",
     "output_type": "stream",
     "text": [
      "\r",
      " 60%|██████    | 12/20 [00:00<00:00, 15.01it/s]"
     ]
    },
    {
     "name": "stdout",
     "output_type": "stream",
     "text": [
      "/home/knlab/Summer_study/Lab_members/YS/honk/keyword_spotting_data_generator/data/주가/주가_3.flac\n",
      "/home/knlab/Summer_study/Lab_members/YS/honk/keyword_spotting_data_generator/data/주가/주가_5.flac\n",
      "/home/knlab/Summer_study/Lab_members/YS/honk/keyword_spotting_data_generator/data/주가/주가_9.flac\n"
     ]
    },
    {
     "name": "stderr",
     "output_type": "stream",
     "text": [
      " 80%|████████  | 16/20 [00:01<00:00, 14.90it/s]"
     ]
    },
    {
     "name": "stdout",
     "output_type": "stream",
     "text": [
      "/home/knlab/Summer_study/Lab_members/YS/honk/keyword_spotting_data_generator/data/주가/주가_1.flac\n",
      "/home/knlab/Summer_study/Lab_members/YS/honk/keyword_spotting_data_generator/data/주가/주가_0.flac\n",
      "/home/knlab/Summer_study/Lab_members/YS/honk/keyword_spotting_data_generator/data/주가/주가_4.flac\n",
      "/home/knlab/Summer_study/Lab_members/YS/honk/keyword_spotting_data_generator/data/주가/주가_4.flac\n"
     ]
    },
    {
     "name": "stderr",
     "output_type": "stream",
     "text": [
      "\r",
      " 90%|█████████ | 18/20 [00:01<00:00, 14.09it/s]"
     ]
    },
    {
     "name": "stdout",
     "output_type": "stream",
     "text": [
      "/home/knlab/Summer_study/Lab_members/YS/honk/keyword_spotting_data_generator/data/주가/주가_3.flac\n",
      "/home/knlab/Summer_study/Lab_members/YS/honk/keyword_spotting_data_generator/data/주가/주가_1.flac\n"
     ]
    },
    {
     "name": "stderr",
     "output_type": "stream",
     "text": [
      "100%|██████████| 20/20 [00:01<00:00, 14.09it/s]\n",
      "0it [00:00, ?it/s]\n",
      "0it [00:00, ?it/s]\n",
      "  8%|▊         | 2/24 [00:00<00:01, 15.06it/s]"
     ]
    },
    {
     "name": "stdout",
     "output_type": "stream",
     "text": [
      "/home/knlab/Summer_study/Lab_members/YS/honk/keyword_spotting_data_generator/data/비/비_5.flac\n",
      "/home/knlab/Summer_study/Lab_members/YS/honk/keyword_spotting_data_generator/data/비/비_10.flac\n",
      "/home/knlab/Summer_study/Lab_members/YS/honk/keyword_spotting_data_generator/data/비/비_5.flac\n",
      "/home/knlab/Summer_study/Lab_members/YS/honk/keyword_spotting_data_generator/data/비/비_2.flac\n"
     ]
    },
    {
     "name": "stderr",
     "output_type": "stream",
     "text": [
      " 25%|██▌       | 6/24 [00:00<00:01, 15.61it/s]"
     ]
    },
    {
     "name": "stdout",
     "output_type": "stream",
     "text": [
      "/home/knlab/Summer_study/Lab_members/YS/honk/keyword_spotting_data_generator/data/비/비_11.flac\n",
      "/home/knlab/Summer_study/Lab_members/YS/honk/keyword_spotting_data_generator/data/비/비_1.flac\n",
      "/home/knlab/Summer_study/Lab_members/YS/honk/keyword_spotting_data_generator/data/비/비_4.flac\n",
      "/home/knlab/Summer_study/Lab_members/YS/honk/keyword_spotting_data_generator/data/비/비_10.flac\n"
     ]
    },
    {
     "name": "stderr",
     "output_type": "stream",
     "text": [
      " 42%|████▏     | 10/24 [00:00<00:00, 16.08it/s]"
     ]
    },
    {
     "name": "stdout",
     "output_type": "stream",
     "text": [
      "/home/knlab/Summer_study/Lab_members/YS/honk/keyword_spotting_data_generator/data/비/비_9.flac\n",
      "/home/knlab/Summer_study/Lab_members/YS/honk/keyword_spotting_data_generator/data/비/비_7.flac\n",
      "/home/knlab/Summer_study/Lab_members/YS/honk/keyword_spotting_data_generator/data/비/비_8.flac\n",
      "/home/knlab/Summer_study/Lab_members/YS/honk/keyword_spotting_data_generator/data/비/비_1.flac\n"
     ]
    },
    {
     "name": "stderr",
     "output_type": "stream",
     "text": [
      " 58%|█████▊    | 14/24 [00:00<00:00, 16.10it/s]"
     ]
    },
    {
     "name": "stdout",
     "output_type": "stream",
     "text": [
      "/home/knlab/Summer_study/Lab_members/YS/honk/keyword_spotting_data_generator/data/비/비_8.flac\n",
      "/home/knlab/Summer_study/Lab_members/YS/honk/keyword_spotting_data_generator/data/비/비_3.flac\n",
      "/home/knlab/Summer_study/Lab_members/YS/honk/keyword_spotting_data_generator/data/비/비_6.flac\n",
      "/home/knlab/Summer_study/Lab_members/YS/honk/keyword_spotting_data_generator/data/비/비_0.flac\n"
     ]
    },
    {
     "name": "stderr",
     "output_type": "stream",
     "text": [
      " 75%|███████▌  | 18/24 [00:01<00:00, 16.22it/s]"
     ]
    },
    {
     "name": "stdout",
     "output_type": "stream",
     "text": [
      "/home/knlab/Summer_study/Lab_members/YS/honk/keyword_spotting_data_generator/data/비/비_9.flac\n",
      "/home/knlab/Summer_study/Lab_members/YS/honk/keyword_spotting_data_generator/data/비/비_4.flac\n",
      "/home/knlab/Summer_study/Lab_members/YS/honk/keyword_spotting_data_generator/data/비/비_3.flac\n",
      "/home/knlab/Summer_study/Lab_members/YS/honk/keyword_spotting_data_generator/data/비/비_6.flac\n"
     ]
    },
    {
     "name": "stderr",
     "output_type": "stream",
     "text": [
      " 92%|█████████▏| 22/24 [00:01<00:00, 16.08it/s]"
     ]
    },
    {
     "name": "stdout",
     "output_type": "stream",
     "text": [
      "/home/knlab/Summer_study/Lab_members/YS/honk/keyword_spotting_data_generator/data/비/비_2.flac\n",
      "/home/knlab/Summer_study/Lab_members/YS/honk/keyword_spotting_data_generator/data/비/비_0.flac\n",
      "/home/knlab/Summer_study/Lab_members/YS/honk/keyword_spotting_data_generator/data/비/비_11.flac\n",
      "/home/knlab/Summer_study/Lab_members/YS/honk/keyword_spotting_data_generator/data/비/비_7.flac\n"
     ]
    },
    {
     "name": "stderr",
     "output_type": "stream",
     "text": [
      "100%|██████████| 24/24 [00:01<00:00, 16.00it/s]\n",
      "0it [00:00, ?it/s]\n",
      " 20%|██        | 2/10 [00:00<00:00, 17.20it/s]"
     ]
    },
    {
     "name": "stdout",
     "output_type": "stream",
     "text": [
      "/home/knlab/Summer_study/Lab_members/YS/honk/keyword_spotting_data_generator/data/태양광/태양광_1.flac\n",
      "/home/knlab/Summer_study/Lab_members/YS/honk/keyword_spotting_data_generator/data/태양광/태양광_2.flac\n",
      "/home/knlab/Summer_study/Lab_members/YS/honk/keyword_spotting_data_generator/data/태양광/태양광_4.flac\n",
      "/home/knlab/Summer_study/Lab_members/YS/honk/keyword_spotting_data_generator/data/태양광/태양광_1.flac\n"
     ]
    },
    {
     "name": "stderr",
     "output_type": "stream",
     "text": [
      " 60%|██████    | 6/10 [00:00<00:00, 16.76it/s]"
     ]
    },
    {
     "name": "stdout",
     "output_type": "stream",
     "text": [
      "/home/knlab/Summer_study/Lab_members/YS/honk/keyword_spotting_data_generator/data/태양광/태양광_4.flac\n",
      "/home/knlab/Summer_study/Lab_members/YS/honk/keyword_spotting_data_generator/data/태양광/태양광_3.flac\n",
      "/home/knlab/Summer_study/Lab_members/YS/honk/keyword_spotting_data_generator/data/태양광/태양광_0.flac\n",
      "/home/knlab/Summer_study/Lab_members/YS/honk/keyword_spotting_data_generator/data/태양광/태양광_2.flac\n"
     ]
    },
    {
     "name": "stderr",
     "output_type": "stream",
     "text": [
      "100%|██████████| 10/10 [00:00<00:00, 16.25it/s]\n",
      "  0%|          | 0/26 [00:00<?, ?it/s]"
     ]
    },
    {
     "name": "stdout",
     "output_type": "stream",
     "text": [
      "/home/knlab/Summer_study/Lab_members/YS/honk/keyword_spotting_data_generator/data/태양광/태양광_0.flac\n",
      "/home/knlab/Summer_study/Lab_members/YS/honk/keyword_spotting_data_generator/data/태양광/태양광_3.flac\n",
      "/home/knlab/Summer_study/Lab_members/YS/honk/keyword_spotting_data_generator/data/미세먼지/미세먼지_12.flac\n",
      "/home/knlab/Summer_study/Lab_members/YS/honk/keyword_spotting_data_generator/data/미세먼지/미세먼지_11.flac\n"
     ]
    },
    {
     "name": "stderr",
     "output_type": "stream",
     "text": [
      " 15%|█▌        | 4/26 [00:00<00:01, 16.38it/s]"
     ]
    },
    {
     "name": "stdout",
     "output_type": "stream",
     "text": [
      "/home/knlab/Summer_study/Lab_members/YS/honk/keyword_spotting_data_generator/data/미세먼지/미세먼지_11.flac\n",
      "/home/knlab/Summer_study/Lab_members/YS/honk/keyword_spotting_data_generator/data/미세먼지/미세먼지_4.flac\n",
      "/home/knlab/Summer_study/Lab_members/YS/honk/keyword_spotting_data_generator/data/미세먼지/미세먼지_6.flac\n"
     ]
    },
    {
     "name": "stderr",
     "output_type": "stream",
     "text": [
      " 31%|███       | 8/26 [00:00<00:01, 15.55it/s]"
     ]
    },
    {
     "name": "stdout",
     "output_type": "stream",
     "text": [
      "/home/knlab/Summer_study/Lab_members/YS/honk/keyword_spotting_data_generator/data/미세먼지/미세먼지_0.flac\n",
      "/home/knlab/Summer_study/Lab_members/YS/honk/keyword_spotting_data_generator/data/미세먼지/미세먼지_3.flac\n",
      "/home/knlab/Summer_study/Lab_members/YS/honk/keyword_spotting_data_generator/data/미세먼지/미세먼지_3.flac\n",
      "/home/knlab/Summer_study/Lab_members/YS/honk/keyword_spotting_data_generator/data/미세먼지/미세먼지_1.flac\n"
     ]
    },
    {
     "name": "stderr",
     "output_type": "stream",
     "text": [
      " 46%|████▌     | 12/26 [00:00<00:00, 16.52it/s]"
     ]
    },
    {
     "name": "stdout",
     "output_type": "stream",
     "text": [
      "/home/knlab/Summer_study/Lab_members/YS/honk/keyword_spotting_data_generator/data/미세먼지/미세먼지_8.flac\n",
      "/home/knlab/Summer_study/Lab_members/YS/honk/keyword_spotting_data_generator/data/미세먼지/미세먼지_5.flac\n",
      "/home/knlab/Summer_study/Lab_members/YS/honk/keyword_spotting_data_generator/data/미세먼지/미세먼지_4.flac\n",
      "/home/knlab/Summer_study/Lab_members/YS/honk/keyword_spotting_data_generator/data/미세먼지/미세먼지_7.flac\n"
     ]
    },
    {
     "name": "stderr",
     "output_type": "stream",
     "text": [
      " 62%|██████▏   | 16/26 [00:00<00:00, 16.81it/s]"
     ]
    },
    {
     "name": "stdout",
     "output_type": "stream",
     "text": [
      "/home/knlab/Summer_study/Lab_members/YS/honk/keyword_spotting_data_generator/data/미세먼지/미세먼지_9.flac\n",
      "/home/knlab/Summer_study/Lab_members/YS/honk/keyword_spotting_data_generator/data/미세먼지/미세먼지_0.flac\n",
      "/home/knlab/Summer_study/Lab_members/YS/honk/keyword_spotting_data_generator/data/미세먼지/미세먼지_6.flac\n",
      "/home/knlab/Summer_study/Lab_members/YS/honk/keyword_spotting_data_generator/data/미세먼지/미세먼지_9.flac\n"
     ]
    },
    {
     "name": "stderr",
     "output_type": "stream",
     "text": [
      " 77%|███████▋  | 20/26 [00:01<00:00, 16.16it/s]"
     ]
    },
    {
     "name": "stdout",
     "output_type": "stream",
     "text": [
      "/home/knlab/Summer_study/Lab_members/YS/honk/keyword_spotting_data_generator/data/미세먼지/미세먼지_7.flac\n",
      "/home/knlab/Summer_study/Lab_members/YS/honk/keyword_spotting_data_generator/data/미세먼지/미세먼지_8.flac\n",
      "/home/knlab/Summer_study/Lab_members/YS/honk/keyword_spotting_data_generator/data/미세먼지/미세먼지_2.flac\n",
      "/home/knlab/Summer_study/Lab_members/YS/honk/keyword_spotting_data_generator/data/미세먼지/미세먼지_5.flac\n"
     ]
    },
    {
     "name": "stderr",
     "output_type": "stream",
     "text": [
      " 92%|█████████▏| 24/26 [00:01<00:00, 16.79it/s]"
     ]
    },
    {
     "name": "stdout",
     "output_type": "stream",
     "text": [
      "/home/knlab/Summer_study/Lab_members/YS/honk/keyword_spotting_data_generator/data/미세먼지/미세먼지_10.flac\n",
      "/home/knlab/Summer_study/Lab_members/YS/honk/keyword_spotting_data_generator/data/미세먼지/미세먼지_2.flac\n",
      "/home/knlab/Summer_study/Lab_members/YS/honk/keyword_spotting_data_generator/data/미세먼지/미세먼지_12.flac\n",
      "/home/knlab/Summer_study/Lab_members/YS/honk/keyword_spotting_data_generator/data/미세먼지/미세먼지_1.flac\n"
     ]
    },
    {
     "name": "stderr",
     "output_type": "stream",
     "text": [
      "100%|██████████| 26/26 [00:01<00:00, 16.35it/s]\n",
      " 12%|█▎        | 2/16 [00:00<00:00, 17.80it/s]"
     ]
    },
    {
     "name": "stdout",
     "output_type": "stream",
     "text": [
      "/home/knlab/Summer_study/Lab_members/YS/honk/keyword_spotting_data_generator/data/미세먼지/미세먼지_10.flac\n",
      "/home/knlab/Summer_study/Lab_members/YS/honk/keyword_spotting_data_generator/data/타이머/타이머_0.flac\n",
      "/home/knlab/Summer_study/Lab_members/YS/honk/keyword_spotting_data_generator/data/타이머/타이머_1.flac\n",
      "/home/knlab/Summer_study/Lab_members/YS/honk/keyword_spotting_data_generator/data/타이머/타이머_6.flac\n"
     ]
    },
    {
     "name": "stderr",
     "output_type": "stream",
     "text": [
      " 38%|███▊      | 6/16 [00:00<00:00, 16.13it/s]"
     ]
    },
    {
     "name": "stdout",
     "output_type": "stream",
     "text": [
      "/home/knlab/Summer_study/Lab_members/YS/honk/keyword_spotting_data_generator/data/타이머/타이머_5.flac\n",
      "/home/knlab/Summer_study/Lab_members/YS/honk/keyword_spotting_data_generator/data/타이머/타이머_7.flac\n",
      "/home/knlab/Summer_study/Lab_members/YS/honk/keyword_spotting_data_generator/data/타이머/타이머_0.flac\n",
      "/home/knlab/Summer_study/Lab_members/YS/honk/keyword_spotting_data_generator/data/타이머/타이머_4.flac\n"
     ]
    },
    {
     "name": "stderr",
     "output_type": "stream",
     "text": [
      " 38%|███▊      | 6/16 [00:00<00:00, 13.36it/s]\n"
     ]
    },
    {
     "ename": "KeyboardInterrupt",
     "evalue": "",
     "output_type": "error",
     "traceback": [
      "\u001b[0;31m---------------------------------------------------------------------------\u001b[0m",
      "\u001b[0;31mKeyboardInterrupt\u001b[0m                         Traceback (most recent call last)",
      "\u001b[0;32m<ipython-input-4-5d2a1c57cbce>\u001b[0m in \u001b[0;36m<module>\u001b[0;34m\u001b[0m\n\u001b[1;32m     11\u001b[0m             \u001b[0;32mpass\u001b[0m\u001b[0;34m\u001b[0m\u001b[0;34m\u001b[0m\u001b[0m\n\u001b[1;32m     12\u001b[0m         \u001b[0mlabel\u001b[0m \u001b[0;34m=\u001b[0m \u001b[0mroot\u001b[0m\u001b[0;34m.\u001b[0m\u001b[0msplit\u001b[0m\u001b[0;34m(\u001b[0m\u001b[0;34m'/'\u001b[0m\u001b[0;34m)\u001b[0m\u001b[0;34m[\u001b[0m\u001b[0;34m-\u001b[0m\u001b[0;36m1\u001b[0m\u001b[0;34m]\u001b[0m\u001b[0;34m\u001b[0m\u001b[0;34m\u001b[0m\u001b[0m\n\u001b[0;32m---> 13\u001b[0;31m         \u001b[0msubprocess\u001b[0m\u001b[0;34m.\u001b[0m\u001b[0mcall\u001b[0m\u001b[0;34m(\u001b[0m\u001b[0mcmd\u001b[0m\u001b[0;34m+\u001b[0m\u001b[0mos\u001b[0m\u001b[0;34m.\u001b[0m\u001b[0mpath\u001b[0m\u001b[0;34m.\u001b[0m\u001b[0mjoin\u001b[0m\u001b[0;34m(\u001b[0m\u001b[0mroot\u001b[0m\u001b[0;34m,\u001b[0m \u001b[0mfile\u001b[0m\u001b[0;34m)\u001b[0m\u001b[0;34m+\u001b[0m\u001b[0;34m' '\u001b[0m\u001b[0;34m+\u001b[0m\u001b[0mos\u001b[0m\u001b[0;34m.\u001b[0m\u001b[0mpath\u001b[0m\u001b[0;34m.\u001b[0m\u001b[0mjoin\u001b[0m\u001b[0;34m(\u001b[0m\u001b[0mroot\u001b[0m\u001b[0;34m,\u001b[0m \u001b[0mfile\u001b[0m\u001b[0;34m)\u001b[0m\u001b[0;34m.\u001b[0m\u001b[0mreplace\u001b[0m\u001b[0;34m(\u001b[0m\u001b[0;34m\"wav\"\u001b[0m\u001b[0;34m,\u001b[0m\u001b[0;34m\"flac\"\u001b[0m\u001b[0;34m)\u001b[0m\u001b[0;34m,\u001b[0m\u001b[0mshell\u001b[0m\u001b[0;34m=\u001b[0m\u001b[0;32mTrue\u001b[0m\u001b[0;34m)\u001b[0m\u001b[0;34m\u001b[0m\u001b[0;34m\u001b[0m\u001b[0m\n\u001b[0m\u001b[1;32m     14\u001b[0m \u001b[0;34m\u001b[0m\u001b[0m\n",
      "\u001b[0;32m/usr/lib/python3.6/subprocess.py\u001b[0m in \u001b[0;36mcall\u001b[0;34m(timeout, *popenargs, **kwargs)\u001b[0m\n\u001b[1;32m    287\u001b[0m     \u001b[0;32mwith\u001b[0m \u001b[0mPopen\u001b[0m\u001b[0;34m(\u001b[0m\u001b[0;34m*\u001b[0m\u001b[0mpopenargs\u001b[0m\u001b[0;34m,\u001b[0m \u001b[0;34m**\u001b[0m\u001b[0mkwargs\u001b[0m\u001b[0;34m)\u001b[0m \u001b[0;32mas\u001b[0m \u001b[0mp\u001b[0m\u001b[0;34m:\u001b[0m\u001b[0;34m\u001b[0m\u001b[0;34m\u001b[0m\u001b[0m\n\u001b[1;32m    288\u001b[0m         \u001b[0;32mtry\u001b[0m\u001b[0;34m:\u001b[0m\u001b[0;34m\u001b[0m\u001b[0;34m\u001b[0m\u001b[0m\n\u001b[0;32m--> 289\u001b[0;31m             \u001b[0;32mreturn\u001b[0m \u001b[0mp\u001b[0m\u001b[0;34m.\u001b[0m\u001b[0mwait\u001b[0m\u001b[0;34m(\u001b[0m\u001b[0mtimeout\u001b[0m\u001b[0;34m=\u001b[0m\u001b[0mtimeout\u001b[0m\u001b[0;34m)\u001b[0m\u001b[0;34m\u001b[0m\u001b[0;34m\u001b[0m\u001b[0m\n\u001b[0m\u001b[1;32m    290\u001b[0m         \u001b[0;32mexcept\u001b[0m\u001b[0;34m:\u001b[0m\u001b[0;34m\u001b[0m\u001b[0;34m\u001b[0m\u001b[0m\n\u001b[1;32m    291\u001b[0m             \u001b[0mp\u001b[0m\u001b[0;34m.\u001b[0m\u001b[0mkill\u001b[0m\u001b[0;34m(\u001b[0m\u001b[0;34m)\u001b[0m\u001b[0;34m\u001b[0m\u001b[0;34m\u001b[0m\u001b[0m\n",
      "\u001b[0;32m/usr/lib/python3.6/subprocess.py\u001b[0m in \u001b[0;36mwait\u001b[0;34m(self, timeout, endtime)\u001b[0m\n\u001b[1;32m   1475\u001b[0m                         \u001b[0;32mif\u001b[0m \u001b[0mself\u001b[0m\u001b[0;34m.\u001b[0m\u001b[0mreturncode\u001b[0m \u001b[0;32mis\u001b[0m \u001b[0;32mnot\u001b[0m \u001b[0;32mNone\u001b[0m\u001b[0;34m:\u001b[0m\u001b[0;34m\u001b[0m\u001b[0;34m\u001b[0m\u001b[0m\n\u001b[1;32m   1476\u001b[0m                             \u001b[0;32mbreak\u001b[0m  \u001b[0;31m# Another thread waited.\u001b[0m\u001b[0;34m\u001b[0m\u001b[0;34m\u001b[0m\u001b[0m\n\u001b[0;32m-> 1477\u001b[0;31m                         \u001b[0;34m(\u001b[0m\u001b[0mpid\u001b[0m\u001b[0;34m,\u001b[0m \u001b[0msts\u001b[0m\u001b[0;34m)\u001b[0m \u001b[0;34m=\u001b[0m \u001b[0mself\u001b[0m\u001b[0;34m.\u001b[0m\u001b[0m_try_wait\u001b[0m\u001b[0;34m(\u001b[0m\u001b[0;36m0\u001b[0m\u001b[0;34m)\u001b[0m\u001b[0;34m\u001b[0m\u001b[0;34m\u001b[0m\u001b[0m\n\u001b[0m\u001b[1;32m   1478\u001b[0m                         \u001b[0;31m# Check the pid and loop as waitpid has been known to\u001b[0m\u001b[0;34m\u001b[0m\u001b[0;34m\u001b[0m\u001b[0;34m\u001b[0m\u001b[0m\n\u001b[1;32m   1479\u001b[0m                         \u001b[0;31m# return 0 even without WNOHANG in odd situations.\u001b[0m\u001b[0;34m\u001b[0m\u001b[0;34m\u001b[0m\u001b[0;34m\u001b[0m\u001b[0m\n",
      "\u001b[0;32m/usr/lib/python3.6/subprocess.py\u001b[0m in \u001b[0;36m_try_wait\u001b[0;34m(self, wait_flags)\u001b[0m\n\u001b[1;32m   1422\u001b[0m             \u001b[0;34m\"\"\"All callers to this function MUST hold self._waitpid_lock.\"\"\"\u001b[0m\u001b[0;34m\u001b[0m\u001b[0;34m\u001b[0m\u001b[0m\n\u001b[1;32m   1423\u001b[0m             \u001b[0;32mtry\u001b[0m\u001b[0;34m:\u001b[0m\u001b[0;34m\u001b[0m\u001b[0;34m\u001b[0m\u001b[0m\n\u001b[0;32m-> 1424\u001b[0;31m                 \u001b[0;34m(\u001b[0m\u001b[0mpid\u001b[0m\u001b[0;34m,\u001b[0m \u001b[0msts\u001b[0m\u001b[0;34m)\u001b[0m \u001b[0;34m=\u001b[0m \u001b[0mos\u001b[0m\u001b[0;34m.\u001b[0m\u001b[0mwaitpid\u001b[0m\u001b[0;34m(\u001b[0m\u001b[0mself\u001b[0m\u001b[0;34m.\u001b[0m\u001b[0mpid\u001b[0m\u001b[0;34m,\u001b[0m \u001b[0mwait_flags\u001b[0m\u001b[0;34m)\u001b[0m\u001b[0;34m\u001b[0m\u001b[0;34m\u001b[0m\u001b[0m\n\u001b[0m\u001b[1;32m   1425\u001b[0m             \u001b[0;32mexcept\u001b[0m \u001b[0mChildProcessError\u001b[0m\u001b[0;34m:\u001b[0m\u001b[0;34m\u001b[0m\u001b[0;34m\u001b[0m\u001b[0m\n\u001b[1;32m   1426\u001b[0m                 \u001b[0;31m# This happens if SIGCLD is set to be ignored or waiting\u001b[0m\u001b[0;34m\u001b[0m\u001b[0;34m\u001b[0m\u001b[0;34m\u001b[0m\u001b[0m\n",
      "\u001b[0;31mKeyboardInterrupt\u001b[0m: "
     ]
    }
   ],
   "source": [
    "import os\n",
    "from tqdm import tqdm\n",
    "import subprocess\n",
    "\n",
    "cmd = \"ffmpeg -i \"\n",
    "\n",
    "for root, dirs, files in os.walk(\"/home/knlab/Summer_study/Lab_members/YS/honk/keyword_spotting_data_generator/data\"):\n",
    "    for file in tqdm(files):\n",
    "        if os.path.isfile(os.path.join(root,file).replace(\"wav\",\"flac\")):\n",
    "            continue\n",
    "        label = root.split('/')[-1]\n",
    "        subprocess.call(cmd+os.path.join(root, file)+' '+os.path.join(root, file).replace(\"wav\",\"flac\"),shell=True)\n",
    "        \n"
   ]
  },
  {
   "cell_type": "code",
   "execution_count": 2,
   "metadata": {},
   "outputs": [],
   "source": [
    "def transcribe_file(speech_file):\n",
    "    \"\"\"Transcribe the given audio file.\"\"\"\n",
    "    from google.cloud import speech\n",
    "    from google.cloud.speech import enums\n",
    "    from google.cloud.speech import types\n",
    "    client = speech.SpeechClient()\n",
    "\n",
    "    with open(speech_file, 'rb') as audio_file:\n",
    "        content = audio_file.read()\n",
    "\n",
    "    audio = types.RecognitionAudio(content=content)\n",
    "    config = types.RecognitionConfig(\n",
    " #       encoding=enums.RecognitionConfig.AudioEncoding.LINEAR16,\n",
    "        sample_rate_hertz=16000,\n",
    "        language_code='ko-KR')\n",
    "\n",
    "    response = client.recognize(config, audio)\n",
    "    # Each result is for a consecutive portion of the audio. Iterate through\n",
    "    # them to get the transcripts for the entire audio file.\n",
    "    for result in response.results:\n",
    "        # The first alternative is the most likely one for this portion.\n",
    "        print(u'Transcript: {}'.format(result.alternatives[0].transcript))\n",
    "    return result.alternatives[0].transcript"
   ]
  },
  {
   "cell_type": "code",
   "execution_count": 3,
   "metadata": {},
   "outputs": [
    {
     "name": "stderr",
     "output_type": "stream",
     "text": [
      "0it [00:00, ?it/s]\n",
      "0it [00:00, ?it/s]\n",
      "0it [00:00, ?it/s]\n",
      "0it [00:00, ?it/s]\n",
      "  0%|          | 0/22 [00:09<?, ?it/s]\n"
     ]
    },
    {
     "ename": "DefaultCredentialsError",
     "evalue": "Could not automatically determine credentials. Please set GOOGLE_APPLICATION_CREDENTIALS or explicitly create credentials and re-run the application. For more information, please see https://cloud.google.com/docs/authentication/getting-started",
     "output_type": "error",
     "traceback": [
      "\u001b[0;31m---------------------------------------------------------------------------\u001b[0m",
      "\u001b[0;31mDefaultCredentialsError\u001b[0m                   Traceback (most recent call last)",
      "\u001b[0;32m<ipython-input-3-fc91f420a279>\u001b[0m in \u001b[0;36m<module>\u001b[0;34m\u001b[0m\n\u001b[1;32m     14\u001b[0m     \u001b[0;32mfor\u001b[0m \u001b[0mfile\u001b[0m \u001b[0;32min\u001b[0m \u001b[0mtqdm\u001b[0m\u001b[0;34m(\u001b[0m\u001b[0mfiles\u001b[0m\u001b[0;34m)\u001b[0m\u001b[0;34m:\u001b[0m\u001b[0;34m\u001b[0m\u001b[0;34m\u001b[0m\u001b[0m\n\u001b[1;32m     15\u001b[0m         \u001b[0;32mif\u001b[0m \u001b[0mfile\u001b[0m\u001b[0;34m[\u001b[0m\u001b[0;34m-\u001b[0m\u001b[0;36m5\u001b[0m\u001b[0;34m:\u001b[0m\u001b[0;34m]\u001b[0m \u001b[0;34m==\u001b[0m \u001b[0;34m\".flac\"\u001b[0m\u001b[0;34m:\u001b[0m\u001b[0;34m\u001b[0m\u001b[0;34m\u001b[0m\u001b[0m\n\u001b[0;32m---> 16\u001b[0;31m             \u001b[0mtemp\u001b[0m\u001b[0;34m.\u001b[0m\u001b[0mappend\u001b[0m\u001b[0;34m(\u001b[0m\u001b[0mtranscribe_file\u001b[0m\u001b[0;34m(\u001b[0m\u001b[0mos\u001b[0m\u001b[0;34m.\u001b[0m\u001b[0mpath\u001b[0m\u001b[0;34m.\u001b[0m\u001b[0mjoin\u001b[0m\u001b[0;34m(\u001b[0m\u001b[0mroot\u001b[0m\u001b[0;34m,\u001b[0m\u001b[0mfile\u001b[0m\u001b[0;34m)\u001b[0m\u001b[0;34m)\u001b[0m\u001b[0;34m)\u001b[0m\u001b[0;34m\u001b[0m\u001b[0;34m\u001b[0m\u001b[0m\n\u001b[0m\u001b[1;32m     17\u001b[0m             \u001b[0mkeyword_dic\u001b[0m\u001b[0;34m[\u001b[0m\u001b[0mlabel\u001b[0m\u001b[0;34m]\u001b[0m \u001b[0;34m=\u001b[0m \u001b[0mtemp\u001b[0m\u001b[0;34m\u001b[0m\u001b[0;34m\u001b[0m\u001b[0m\n\u001b[1;32m     18\u001b[0m \u001b[0;34m\u001b[0m\u001b[0m\n",
      "\u001b[0;32m<ipython-input-2-bf4315233daf>\u001b[0m in \u001b[0;36mtranscribe_file\u001b[0;34m(speech_file)\u001b[0m\n\u001b[1;32m      4\u001b[0m     \u001b[0;32mfrom\u001b[0m \u001b[0mgoogle\u001b[0m\u001b[0;34m.\u001b[0m\u001b[0mcloud\u001b[0m\u001b[0;34m.\u001b[0m\u001b[0mspeech\u001b[0m \u001b[0;32mimport\u001b[0m \u001b[0menums\u001b[0m\u001b[0;34m\u001b[0m\u001b[0;34m\u001b[0m\u001b[0m\n\u001b[1;32m      5\u001b[0m     \u001b[0;32mfrom\u001b[0m \u001b[0mgoogle\u001b[0m\u001b[0;34m.\u001b[0m\u001b[0mcloud\u001b[0m\u001b[0;34m.\u001b[0m\u001b[0mspeech\u001b[0m \u001b[0;32mimport\u001b[0m \u001b[0mtypes\u001b[0m\u001b[0;34m\u001b[0m\u001b[0;34m\u001b[0m\u001b[0m\n\u001b[0;32m----> 6\u001b[0;31m     \u001b[0mclient\u001b[0m \u001b[0;34m=\u001b[0m \u001b[0mspeech\u001b[0m\u001b[0;34m.\u001b[0m\u001b[0mSpeechClient\u001b[0m\u001b[0;34m(\u001b[0m\u001b[0;34m)\u001b[0m\u001b[0;34m\u001b[0m\u001b[0;34m\u001b[0m\u001b[0m\n\u001b[0m\u001b[1;32m      7\u001b[0m \u001b[0;34m\u001b[0m\u001b[0m\n\u001b[1;32m      8\u001b[0m     \u001b[0;32mwith\u001b[0m \u001b[0mopen\u001b[0m\u001b[0;34m(\u001b[0m\u001b[0mspeech_file\u001b[0m\u001b[0;34m,\u001b[0m \u001b[0;34m'rb'\u001b[0m\u001b[0;34m)\u001b[0m \u001b[0;32mas\u001b[0m \u001b[0maudio_file\u001b[0m\u001b[0;34m:\u001b[0m\u001b[0;34m\u001b[0m\u001b[0;34m\u001b[0m\u001b[0m\n",
      "\u001b[0;32m~/.local/lib/python3.6/site-packages/google/cloud/speech_v1/gapic/speech_client.py\u001b[0m in \u001b[0;36m__init__\u001b[0;34m(self, transport, channel, credentials, client_config, client_info, client_options)\u001b[0m\n\u001b[1;32m    159\u001b[0m         \u001b[0;32melse\u001b[0m\u001b[0;34m:\u001b[0m\u001b[0;34m\u001b[0m\u001b[0;34m\u001b[0m\u001b[0m\n\u001b[1;32m    160\u001b[0m             self.transport = speech_grpc_transport.SpeechGrpcTransport(\n\u001b[0;32m--> 161\u001b[0;31m                 \u001b[0maddress\u001b[0m\u001b[0;34m=\u001b[0m\u001b[0mapi_endpoint\u001b[0m\u001b[0;34m,\u001b[0m \u001b[0mchannel\u001b[0m\u001b[0;34m=\u001b[0m\u001b[0mchannel\u001b[0m\u001b[0;34m,\u001b[0m \u001b[0mcredentials\u001b[0m\u001b[0;34m=\u001b[0m\u001b[0mcredentials\u001b[0m\u001b[0;34m\u001b[0m\u001b[0;34m\u001b[0m\u001b[0m\n\u001b[0m\u001b[1;32m    162\u001b[0m             )\n\u001b[1;32m    163\u001b[0m \u001b[0;34m\u001b[0m\u001b[0m\n",
      "\u001b[0;32m~/.local/lib/python3.6/site-packages/google/cloud/speech_v1/gapic/transports/speech_grpc_transport.py\u001b[0m in \u001b[0;36m__init__\u001b[0;34m(self, channel, credentials, address)\u001b[0m\n\u001b[1;32m     60\u001b[0m         \u001b[0;31m# Create the channel.\u001b[0m\u001b[0;34m\u001b[0m\u001b[0;34m\u001b[0m\u001b[0;34m\u001b[0m\u001b[0m\n\u001b[1;32m     61\u001b[0m         \u001b[0;32mif\u001b[0m \u001b[0mchannel\u001b[0m \u001b[0;32mis\u001b[0m \u001b[0;32mNone\u001b[0m\u001b[0;34m:\u001b[0m\u001b[0;34m\u001b[0m\u001b[0;34m\u001b[0m\u001b[0m\n\u001b[0;32m---> 62\u001b[0;31m             \u001b[0mchannel\u001b[0m \u001b[0;34m=\u001b[0m \u001b[0mself\u001b[0m\u001b[0;34m.\u001b[0m\u001b[0mcreate_channel\u001b[0m\u001b[0;34m(\u001b[0m\u001b[0maddress\u001b[0m\u001b[0;34m=\u001b[0m\u001b[0maddress\u001b[0m\u001b[0;34m,\u001b[0m \u001b[0mcredentials\u001b[0m\u001b[0;34m=\u001b[0m\u001b[0mcredentials\u001b[0m\u001b[0;34m)\u001b[0m\u001b[0;34m\u001b[0m\u001b[0;34m\u001b[0m\u001b[0m\n\u001b[0m\u001b[1;32m     63\u001b[0m \u001b[0;34m\u001b[0m\u001b[0m\n\u001b[1;32m     64\u001b[0m         \u001b[0mself\u001b[0m\u001b[0;34m.\u001b[0m\u001b[0m_channel\u001b[0m \u001b[0;34m=\u001b[0m \u001b[0mchannel\u001b[0m\u001b[0;34m\u001b[0m\u001b[0;34m\u001b[0m\u001b[0m\n",
      "\u001b[0;32m~/.local/lib/python3.6/site-packages/google/cloud/speech_v1/gapic/transports/speech_grpc_transport.py\u001b[0m in \u001b[0;36mcreate_channel\u001b[0;34m(cls, address, credentials, **kwargs)\u001b[0m\n\u001b[1;32m     99\u001b[0m             \u001b[0mscopes\u001b[0m\u001b[0;34m=\u001b[0m\u001b[0mcls\u001b[0m\u001b[0;34m.\u001b[0m\u001b[0m_OAUTH_SCOPES\u001b[0m\u001b[0;34m,\u001b[0m\u001b[0;34m\u001b[0m\u001b[0;34m\u001b[0m\u001b[0m\n\u001b[1;32m    100\u001b[0m             \u001b[0moptions\u001b[0m\u001b[0;34m=\u001b[0m\u001b[0;34m{\u001b[0m\u001b[0;34m\"grpc.max_receive_message_length\"\u001b[0m\u001b[0;34m:\u001b[0m \u001b[0;36m256\u001b[0m \u001b[0;34m*\u001b[0m \u001b[0;36m1024\u001b[0m \u001b[0;34m*\u001b[0m \u001b[0;36m1024\u001b[0m\u001b[0;34m}\u001b[0m\u001b[0;34m.\u001b[0m\u001b[0mitems\u001b[0m\u001b[0;34m(\u001b[0m\u001b[0;34m)\u001b[0m\u001b[0;34m,\u001b[0m\u001b[0;34m\u001b[0m\u001b[0;34m\u001b[0m\u001b[0m\n\u001b[0;32m--> 101\u001b[0;31m             \u001b[0;34m**\u001b[0m\u001b[0mkwargs\u001b[0m\u001b[0;34m\u001b[0m\u001b[0;34m\u001b[0m\u001b[0m\n\u001b[0m\u001b[1;32m    102\u001b[0m         )\n\u001b[1;32m    103\u001b[0m \u001b[0;34m\u001b[0m\u001b[0m\n",
      "\u001b[0;32m~/.local/lib/python3.6/site-packages/google/api_core/grpc_helpers.py\u001b[0m in \u001b[0;36mcreate_channel\u001b[0;34m(target, credentials, scopes, ssl_credentials, **kwargs)\u001b[0m\n\u001b[1;32m    175\u001b[0m     \"\"\"\n\u001b[1;32m    176\u001b[0m     \u001b[0;32mif\u001b[0m \u001b[0mcredentials\u001b[0m \u001b[0;32mis\u001b[0m \u001b[0;32mNone\u001b[0m\u001b[0;34m:\u001b[0m\u001b[0;34m\u001b[0m\u001b[0;34m\u001b[0m\u001b[0m\n\u001b[0;32m--> 177\u001b[0;31m         \u001b[0mcredentials\u001b[0m\u001b[0;34m,\u001b[0m \u001b[0m_\u001b[0m \u001b[0;34m=\u001b[0m \u001b[0mgoogle\u001b[0m\u001b[0;34m.\u001b[0m\u001b[0mauth\u001b[0m\u001b[0;34m.\u001b[0m\u001b[0mdefault\u001b[0m\u001b[0;34m(\u001b[0m\u001b[0mscopes\u001b[0m\u001b[0;34m=\u001b[0m\u001b[0mscopes\u001b[0m\u001b[0;34m)\u001b[0m\u001b[0;34m\u001b[0m\u001b[0;34m\u001b[0m\u001b[0m\n\u001b[0m\u001b[1;32m    178\u001b[0m     \u001b[0;32melse\u001b[0m\u001b[0;34m:\u001b[0m\u001b[0;34m\u001b[0m\u001b[0;34m\u001b[0m\u001b[0m\n\u001b[1;32m    179\u001b[0m         credentials = google.auth.credentials.with_scopes_if_required(\n",
      "\u001b[0;32m/usr/local/lib/python3.6/dist-packages/google/auth/_default.py\u001b[0m in \u001b[0;36mdefault\u001b[0;34m(scopes, request)\u001b[0m\n\u001b[1;32m    315\u001b[0m             \u001b[0;32mreturn\u001b[0m \u001b[0mcredentials\u001b[0m\u001b[0;34m,\u001b[0m \u001b[0meffective_project_id\u001b[0m\u001b[0;34m\u001b[0m\u001b[0;34m\u001b[0m\u001b[0m\n\u001b[1;32m    316\u001b[0m \u001b[0;34m\u001b[0m\u001b[0m\n\u001b[0;32m--> 317\u001b[0;31m     \u001b[0;32mraise\u001b[0m \u001b[0mexceptions\u001b[0m\u001b[0;34m.\u001b[0m\u001b[0mDefaultCredentialsError\u001b[0m\u001b[0;34m(\u001b[0m\u001b[0m_HELP_MESSAGE\u001b[0m\u001b[0;34m)\u001b[0m\u001b[0;34m\u001b[0m\u001b[0;34m\u001b[0m\u001b[0m\n\u001b[0m",
      "\u001b[0;31mDefaultCredentialsError\u001b[0m: Could not automatically determine credentials. Please set GOOGLE_APPLICATION_CREDENTIALS or explicitly create credentials and re-run the application. For more information, please see https://cloud.google.com/docs/authentication/getting-started"
     ]
    }
   ],
   "source": [
    "import os\n",
    "from tqdm import tqdm\n",
    "import subprocess\n",
    "import glob\n",
    "\n",
    "cmd = \"ffmpeg -i \"\n",
    "keyword_len = {}\n",
    "keyword_dic = {}\n",
    "\n",
    "for root, dirs, files in os.walk(\"/home/knlab/Summer_study/Lab_members/YS/honk/keyword_spotting_data_generator/data\"):\n",
    "    label = root.split('/')[-1]\n",
    "    temp = []\n",
    "    keyword_len[label]=len(files)\n",
    "    for file in tqdm(files):\n",
    "        if file[-5:] == \".flac\":\n",
    "            temp.append(transcribe_file(os.path.join(root,file)))\n",
    "            keyword_dic[label] = temp\n",
    "            \n"
   ]
  }
 ],
 "metadata": {
  "kernelspec": {
   "display_name": "Python 3",
   "language": "python",
   "name": "python3"
  },
  "language_info": {
   "codemirror_mode": {
    "name": "ipython",
    "version": 3
   },
   "file_extension": ".py",
   "mimetype": "text/x-python",
   "name": "python",
   "nbconvert_exporter": "python",
   "pygments_lexer": "ipython3",
   "version": "3.6.8"
  }
 },
 "nbformat": 4,
 "nbformat_minor": 2
}
