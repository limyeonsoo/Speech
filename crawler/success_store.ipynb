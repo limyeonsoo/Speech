{
 "cells": [
  {
   "cell_type": "code",
   "execution_count": 65,
   "metadata": {},
   "outputs": [],
   "source": [
    "import json\n",
    "import pandas as pd\n",
    "import shutil\n",
    "\n",
    "dictionary = {}\n",
    "\n",
    "with open(\"./life_result.json\",\"r\") as f:\n",
    "    temps = f.readlines()\n",
    "    for temp in temps:\n",
    "        teemp = json.loads(temp)\n",
    "        #print(teemp)\n",
    "        dictionary.update(teemp)\n",
    "#print(list(dictionary.values())[1][0])\n",
    "\n",
    "# import glob\n",
    "# mak = glob.glob(\"/mnt/sdb/YS/youtube_data/건강/막걸리/*\")\n",
    "# print(mak)\n",
    "\n",
    "import os\n",
    "fiiiles = {}\n",
    "for root, directories, files in os.walk(\"/mnt/sdb/YS/youtube_data/일상생활\"):\n",
    "    labels = root.split('/')[-1]\n",
    "    if labels == '일상생활':\n",
    "        continue\n",
    "#     print(labels)\n",
    "#     for file, label in zip(files,dictionary[labels]):\n",
    "#         print(file,label)\n",
    "    fiiiles[labels] = files\n",
    "#print(fiiiles)\n",
    "\n",
    "source = \"/mnt/sdb/YS/youtube_data/일상생활/\"\n",
    "dest = \"/mnt/sdb/YS/success/life/\"\n",
    "\n",
    "for i in dictionary.keys():\n",
    "    if not i: continue\n",
    "    for k,j in zip(dictionary[i][0],fiiiles[i]):\n",
    "        if k==i and dictionary[i][1]>=18:\n",
    "            if not os.path.exists(dest+i):\n",
    "                os.makedirs(dest+i)\n",
    "            shutil.copy(source+i+\"/\"+j, dest+i+\"/\"+j)\n",
    "            #print(source+i+\"/\"+j, dest+i+\"/\"+j)\n",
    "        #print(\"k : \",k)\n",
    "        #print(\"j : \",j)\n",
    "            \n"
   ]
  }
 ],
 "metadata": {
  "kernelspec": {
   "display_name": "Python 3",
   "language": "python",
   "name": "python3"
  },
  "language_info": {
   "codemirror_mode": {
    "name": "ipython",
    "version": 3
   },
   "file_extension": ".py",
   "mimetype": "text/x-python",
   "name": "python",
   "nbconvert_exporter": "python",
   "pygments_lexer": "ipython3",
   "version": "3.6.8"
  }
 },
 "nbformat": 4,
 "nbformat_minor": 2
}
