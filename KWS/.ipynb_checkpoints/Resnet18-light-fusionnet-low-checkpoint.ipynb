{
 "cells": [
  {
   "cell_type": "code",
   "execution_count": 1,
   "metadata": {},
   "outputs": [],
   "source": [
    "#!/usr/bin/env python\n",
    "\"\"\"Train a CNN for Google speech commands.\"\"\"\n",
    "\n",
    "__author__ = 'Yuan Xu, Erdene-Ochir Tuguldur'\n",
    "\n",
    "import argparse\n",
    "import time\n",
    "\n",
    "from tqdm import *\n",
    "\n",
    "import torch\n",
    "from torch.autograd import Variable\n",
    "from torch.utils.data import DataLoader\n",
    "from torch.utils.data.sampler import WeightedRandomSampler\n",
    "\n",
    "import torchvision\n",
    "from torchvision.transforms import *\n",
    "\n",
    "from tensorboardX import SummaryWriter\n",
    "\n",
    "import models\n",
    "from datasets import *\n",
    "from transforms import *\n",
    "from mixup import *"
   ]
  },
  {
   "cell_type": "code",
   "execution_count": 2,
   "metadata": {},
   "outputs": [],
   "source": [
    "import torch.nn as nn\n",
    "import math\n",
    "import torch.utils.model_zoo as model_zoo"
   ]
  },
  {
   "cell_type": "code",
   "execution_count": 1,
   "metadata": {},
   "outputs": [
    {
     "ename": "NameError",
     "evalue": "name 'nn' is not defined",
     "output_type": "error",
     "traceback": [
      "\u001b[0;31m---------------------------------------------------------------------------\u001b[0m",
      "\u001b[0;31mNameError\u001b[0m                                 Traceback (most recent call last)",
      "\u001b[0;32m<ipython-input-1-79ed49846826>\u001b[0m in \u001b[0;36m<module>\u001b[0;34m\u001b[0m\n\u001b[1;32m      3\u001b[0m     \u001b[0;32mreturn\u001b[0m \u001b[0mnn\u001b[0m\u001b[0;34m.\u001b[0m\u001b[0mConv2d\u001b[0m\u001b[0;34m(\u001b[0m\u001b[0min_planes\u001b[0m\u001b[0;34m,\u001b[0m \u001b[0mout_planes\u001b[0m\u001b[0;34m,\u001b[0m \u001b[0mkernel_size\u001b[0m\u001b[0;34m=\u001b[0m\u001b[0;36m1\u001b[0m\u001b[0;34m,\u001b[0m \u001b[0mstride\u001b[0m\u001b[0;34m=\u001b[0m\u001b[0mstride\u001b[0m\u001b[0;34m,\u001b[0m \u001b[0mbias\u001b[0m\u001b[0;34m=\u001b[0m\u001b[0;32mFalse\u001b[0m\u001b[0;34m,\u001b[0m \u001b[0mpadding\u001b[0m\u001b[0;34m=\u001b[0m\u001b[0;36m1\u001b[0m\u001b[0;34m)\u001b[0m\u001b[0;34m\u001b[0m\u001b[0;34m\u001b[0m\u001b[0m\n\u001b[1;32m      4\u001b[0m \u001b[0;34m\u001b[0m\u001b[0m\n\u001b[0;32m----> 5\u001b[0;31m \u001b[0;32mclass\u001b[0m \u001b[0mdepthwise_separable_conv\u001b[0m\u001b[0;34m(\u001b[0m\u001b[0mnn\u001b[0m\u001b[0;34m.\u001b[0m\u001b[0mModule\u001b[0m\u001b[0;34m)\u001b[0m\u001b[0;34m:\u001b[0m\u001b[0;34m\u001b[0m\u001b[0;34m\u001b[0m\u001b[0m\n\u001b[0m\u001b[1;32m      6\u001b[0m     \u001b[0;32mdef\u001b[0m \u001b[0m__init__\u001b[0m\u001b[0;34m(\u001b[0m\u001b[0mself\u001b[0m\u001b[0;34m,\u001b[0m \u001b[0min_planes\u001b[0m\u001b[0;34m,\u001b[0m \u001b[0mout_planes\u001b[0m\u001b[0;34m,\u001b[0m \u001b[0mkernel_size\u001b[0m\u001b[0;34m,\u001b[0m \u001b[0mpadding\u001b[0m\u001b[0;34m=\u001b[0m\u001b[0;36m0\u001b[0m\u001b[0;34m,\u001b[0m \u001b[0mstride\u001b[0m\u001b[0;34m=\u001b[0m\u001b[0;36m1\u001b[0m\u001b[0;34m,\u001b[0m \u001b[0mbias\u001b[0m\u001b[0;34m=\u001b[0m\u001b[0;32mFalse\u001b[0m\u001b[0;34m)\u001b[0m\u001b[0;34m:\u001b[0m\u001b[0;34m\u001b[0m\u001b[0;34m\u001b[0m\u001b[0m\n\u001b[1;32m      7\u001b[0m         \u001b[0msuper\u001b[0m\u001b[0;34m(\u001b[0m\u001b[0mdepthwise_separable_conv\u001b[0m\u001b[0;34m,\u001b[0m \u001b[0mself\u001b[0m\u001b[0;34m)\u001b[0m\u001b[0;34m.\u001b[0m\u001b[0m__init__\u001b[0m\u001b[0;34m(\u001b[0m\u001b[0;34m)\u001b[0m\u001b[0;34m\u001b[0m\u001b[0;34m\u001b[0m\u001b[0m\n",
      "\u001b[0;31mNameError\u001b[0m: name 'nn' is not defined"
     ]
    }
   ],
   "source": [
    "def conv1x1(in_planes, out_planes, stride=1):\n",
    "    \"\"\"3x3 convolution with padding\"\"\"\n",
    "    return nn.Conv2d(in_planes, out_planes, kernel_size=1, stride=stride, bias=False, padding=1)\n",
    "\n",
    "class depthwise_separable_conv(nn.Module):\n",
    "    def __init__(self, in_planes, out_planes, kernel_size, padding=0, stride=1, bias=False):\n",
    "        super(depthwise_separable_conv, self).__init__()\n",
    "        self.depthwise = nn.Conv2d(in_planes, in_planes, kernel_size=kernel_size, stride=stride, groups=in_planes, bias=bias, padding=1)\n",
    "        self.pointwise = nn.Conv2d(in_planes, out_planes, kernel_size=1, stride=stride, bias=bias)\n",
    "\n",
    "    def forward(self, x):\n",
    "        out = self.depthwise(x)\n",
    "        out = self.pointwise(out)\n",
    "        return out\n",
    "\n",
    "class BasicBlock(nn.Module):\n",
    "    expansion = 1\n",
    "\n",
    "    def __init__(self, inplanes, planes, stride=1, conv3x1_sample=None, conv1x3_sample=None):\n",
    "        super(BasicBlock, self).__init__()\n",
    "        #self.piece = 4\n",
    "        #adaptive_plane = round((planes-inplanes)/self.piece)\n",
    "        self.conv1 = depthwise_separable_conv(inplanes, planes, 3, stride)\n",
    "        self.bn1 = nn.BatchNorm2d(planes)\n",
    "        self.relu = nn.ReLU(inplace=True)\n",
    "        self.conv2 = depthwise_separable_conv(planes, planes, 3, 1)\n",
    "        self.bn2 = nn.BatchNorm2d(planes)\n",
    "        self.conv3x1_sample = conv3x1_sample\n",
    "        self.conv1x3_sample = conv1x3_sample\n",
    "        #print(self.downsample)\n",
    "        self.stride = stride\n",
    "\n",
    "    def forward(self, x):\n",
    "        #print(x.shape)\n",
    "        residual = x\n",
    "\n",
    "        out = self.conv1(x)\n",
    "        out = self.bn1(out)\n",
    "        out = self.relu(out)\n",
    "\n",
    "        out = self.conv2(out)\n",
    "        out = self.bn2(out)\n",
    "        #print(\"out {}\".format(out.shape))\n",
    "        if self.conv1x3_sample is not None and self.conv3x1_sample is not None:\n",
    "            vertical = x\n",
    "            horizontal = x\n",
    "            vertical = self.conv1x3_sample(vertical)\n",
    "            horizontal = self.conv3x1_sample(horizontal)\n",
    "            residual = vertical + horizontal\n",
    "        \n",
    "        #print(\"res {}\".format(residual.shape))\n",
    "        out += residual\n",
    "        out = self.relu(out)\n",
    "        \n",
    "        return out\n",
    "\n",
    "class ResNet(nn.Module):\n",
    "\n",
    "    def __init__(self, block, layers, num_classes=1000, in_channels=2):\n",
    "        self.inplanes = 40\n",
    "        super(ResNet, self).__init__()\n",
    "        self.conv1 = nn.Conv2d(in_channels, self.inplanes, kernel_size=3, stride=2, bias=False, padding=3)\n",
    "        self.bn1 = nn.BatchNorm2d(self.inplanes)\n",
    "        self.relu = nn.ReLU(inplace=True)\n",
    "        self.maxpool = nn.MaxPool2d(kernel_size=3, stride=1)\n",
    "        self.layer1 = self._make_layer(block, 40, layers[0], stride=2)\n",
    "        self.layer2 = self._make_layer(block, 40, layers[1], stride=2)\n",
    "        self.layer3 = self._make_layer(block, 40, layers[2], stride=2)\n",
    "        #self.layer4 = self._make_layer(block, 512, layers[3], stride=2)\n",
    "        self.avgpool = nn.AdaptiveAvgPool2d((1, 1))\n",
    "        self.fc = nn.Linear(40, num_classes)\n",
    "\n",
    "        for m in self.modules():\n",
    "            if isinstance(m, nn.Conv2d):\n",
    "                n = m.kernel_size[0] * m.kernel_size[1] * m.out_channels\n",
    "                m.weight.data.normal_(0, math.sqrt(2. / n))\n",
    "            elif isinstance(m, nn.BatchNorm2d):\n",
    "                m.weight.data.fill_(1)\n",
    "                m.bias.data.zero_()\n",
    "\n",
    "    def _make_layer(self, block, planes, blocks, stride=1):\n",
    "        h_sample, v_sample = None, None\n",
    "        if stride != 1 or self.inplanes != planes * block.expansion:\n",
    "            h_sample = nn.Sequential(\n",
    "                nn.Conv2d(self.inplanes, planes * block.expansion,\n",
    "                          kernel_size=(3, 1), stride=1, bias=False, padding=(1,0)),\n",
    "                nn.BatchNorm2d(planes * block.expansion),\n",
    "                nn.ReLU(inplace=True)\n",
    "            )\n",
    "            v_sample = nn.Sequential(\n",
    "                nn.Conv2d(self.inplanes, planes * block.expansion,\n",
    "                          kernel_size=(1, 3), stride=1, bias=False, padding=(0,1)),\n",
    "                nn.BatchNorm2d(planes * block.expansion),\n",
    "                nn.ReLU(inplace=True)\n",
    "            )\n",
    "        #print(downsample)\n",
    "        layers = []\n",
    "        layers.append(block(self.inplanes, planes, stride, h_sample, v_sample))\n",
    "        self.inplanes = planes * block.expansion\n",
    "        for i in range(1, blocks):\n",
    "            layers.append(block(self.inplanes, planes))\n",
    "\n",
    "        return nn.Sequential(*layers)\n",
    "\n",
    "    def forward(self, x):\n",
    "        x = self.conv1(x)\n",
    "        x = self.bn1(x)\n",
    "        x = self.relu(x)\n",
    "        x = self.maxpool(x)\n",
    "        x = self.layer1(x)\n",
    "        x = self.layer2(x)\n",
    "        x = self.layer3(x)\n",
    "        #x = self.layer4(x)\n",
    "        #print(x.shape)\n",
    "        x = self.avgpool(x)\n",
    "        #print(x.shape)\n",
    "        x = x.view(x.size(0), -1)\n",
    "        x = self.fc(x)\n",
    "\n",
    "        return x"
   ]
  },
  {
   "cell_type": "code",
   "execution_count": 4,
   "metadata": {},
   "outputs": [
    {
     "data": {
      "text/plain": [
       "35996"
      ]
     },
     "execution_count": 4,
     "metadata": {},
     "output_type": "execute_result"
    }
   ],
   "source": [
    "model = ResNet(BasicBlock, [2, 2, 2], num_classes=len(CLASSES), in_channels=1)\n",
    "def count_parameters(model):\n",
    "    return sum(p.numel() for p in model.parameters() if p.requires_grad)\n",
    "\n",
    "count_parameters(model)"
   ]
  },
  {
   "cell_type": "code",
   "execution_count": 5,
   "metadata": {},
   "outputs": [],
   "source": [
    "class Arg():\n",
    "    def __init__(self):\n",
    "        self.train_dataset=\"/home/cilab/LabMembers/DJ/sr_dataset/speech_command/train\"\n",
    "        self.valid_dataset=\"/home/cilab/LabMembers/DJ/sr_dataset/speech_command/valid\"\n",
    "        self.background_noise=\"/home/cilab/LabMembers/DJ/sr_dataset/speech_command/train/_background_noise_\"\n",
    "        self.comment=\"\"\n",
    "        self.batch_size=64\n",
    "        self.dataload_workers_nums=6\n",
    "        self.weight_decay=1e-2\n",
    "        self.optim='sgd'\n",
    "        self.learning_rate=0.01\n",
    "        self.lr_scheduler='plateau'\n",
    "        self.lr_scheduler_patience=5\n",
    "        self.lr_scheduler_step_size=50\n",
    "        self.lr_scheduler_gamma=0.1\n",
    "        self.max_epochs=70\n",
    "        self.resume=None\n",
    "        self.model=\"resnet18-light-fusionnet\"\n",
    "        self.input=\"mel40\"\n",
    "        self.mixup=True\n",
    "args = Arg()"
   ]
  },
  {
   "cell_type": "code",
   "execution_count": 6,
   "metadata": {},
   "outputs": [
    {
     "name": "stdout",
     "output_type": "stream",
     "text": [
      "use_gpu True\n"
     ]
    }
   ],
   "source": [
    "use_gpu = torch.cuda.is_available()\n",
    "print('use_gpu', use_gpu)\n",
    "if use_gpu:\n",
    "    torch.backends.cudnn.benchmark = True\n",
    "\n",
    "n_mels = 32\n",
    "if args.input == 'mel40':\n",
    "    n_mels = 40\n",
    "\n",
    "data_aug_transform = Compose([ChangeAmplitude(), ChangeSpeedAndPitchAudio(), FixAudioLength(), ToSTFT(), StretchAudioOnSTFT(), TimeshiftAudioOnSTFT(), FixSTFTDimension()])\n",
    "bg_dataset = BackgroundNoiseDataset(args.background_noise, data_aug_transform)\n",
    "add_bg_noise = AddBackgroundNoiseOnSTFT(bg_dataset)\n",
    "train_feature_transform = Compose([ToMelSpectrogramFromSTFT(n_mels=n_mels), DeleteSTFT(), ToTensor('mel_spectrogram', 'input')])\n",
    "train_dataset = SpeechCommandsDataset(args.train_dataset,\n",
    "                                Compose([LoadAudio(),\n",
    "                                         data_aug_transform,\n",
    "                                         add_bg_noise,\n",
    "                                         train_feature_transform]))\n",
    "\n",
    "valid_feature_transform = Compose([ToMelSpectrogram(n_mels=n_mels), ToTensor('mel_spectrogram', 'input')])\n",
    "valid_dataset = SpeechCommandsDataset(args.valid_dataset,\n",
    "                                Compose([LoadAudio(),\n",
    "                                         FixAudioLength(),\n",
    "                                         valid_feature_transform]))\n",
    "\n",
    "weights = train_dataset.make_weights_for_balanced_classes()\n",
    "sampler = WeightedRandomSampler(weights, len(weights))\n",
    "train_dataloader = DataLoader(train_dataset, batch_size=args.batch_size, sampler=sampler,\n",
    "                              pin_memory=use_gpu, num_workers=args.dataload_workers_nums)\n",
    "valid_dataloader = DataLoader(valid_dataset, batch_size=args.batch_size, shuffle=False,\n",
    "                              pin_memory=use_gpu, num_workers=args.dataload_workers_nums)"
   ]
  },
  {
   "cell_type": "code",
   "execution_count": 7,
   "metadata": {
    "scrolled": true
   },
   "outputs": [
    {
     "name": "stdout",
     "output_type": "stream",
     "text": [
      "ResNet(\n",
      "  (conv1): Conv2d(1, 16, kernel_size=(3, 3), stride=(2, 2), padding=(3, 3), bias=False)\n",
      "  (bn1): BatchNorm2d(16, eps=1e-05, momentum=0.1, affine=True, track_running_stats=True)\n",
      "  (relu): ReLU(inplace=True)\n",
      "  (maxpool): MaxPool2d(kernel_size=3, stride=1, padding=0, dilation=1, ceil_mode=False)\n",
      "  (layer1): Sequential(\n",
      "    (0): BasicBlock(\n",
      "      (conv1): depthwise_separable_conv(\n",
      "        (depthwise): Conv2d(16, 16, kernel_size=(3, 3), stride=(1, 1), padding=(1, 1), groups=16, bias=False)\n",
      "        (pointwise): Conv2d(16, 24, kernel_size=(1, 1), stride=(1, 1), bias=False)\n",
      "      )\n",
      "      (bn1): BatchNorm2d(24, eps=1e-05, momentum=0.1, affine=True, track_running_stats=True)\n",
      "      (relu): ReLU(inplace=True)\n",
      "      (conv2): depthwise_separable_conv(\n",
      "        (depthwise): Conv2d(24, 24, kernel_size=(3, 3), stride=(1, 1), padding=(1, 1), groups=24, bias=False)\n",
      "        (pointwise): Conv2d(24, 24, kernel_size=(1, 1), stride=(1, 1), bias=False)\n",
      "      )\n",
      "      (bn2): BatchNorm2d(24, eps=1e-05, momentum=0.1, affine=True, track_running_stats=True)\n",
      "      (conv3x1_sample): Sequential(\n",
      "        (0): Conv2d(16, 24, kernel_size=(3, 1), stride=(1, 1), padding=(1, 0), bias=False)\n",
      "        (1): BatchNorm2d(24, eps=1e-05, momentum=0.1, affine=True, track_running_stats=True)\n",
      "        (2): ReLU(inplace=True)\n",
      "      )\n",
      "      (conv1x3_sample): Sequential(\n",
      "        (0): Conv2d(16, 24, kernel_size=(1, 3), stride=(1, 1), padding=(0, 1), bias=False)\n",
      "        (1): BatchNorm2d(24, eps=1e-05, momentum=0.1, affine=True, track_running_stats=True)\n",
      "        (2): ReLU(inplace=True)\n",
      "      )\n",
      "    )\n",
      "    (1): BasicBlock(\n",
      "      (conv1): depthwise_separable_conv(\n",
      "        (depthwise): Conv2d(24, 24, kernel_size=(3, 3), stride=(1, 1), padding=(1, 1), groups=24, bias=False)\n",
      "        (pointwise): Conv2d(24, 24, kernel_size=(1, 1), stride=(1, 1), bias=False)\n",
      "      )\n",
      "      (bn1): BatchNorm2d(24, eps=1e-05, momentum=0.1, affine=True, track_running_stats=True)\n",
      "      (relu): ReLU(inplace=True)\n",
      "      (conv2): depthwise_separable_conv(\n",
      "        (depthwise): Conv2d(24, 24, kernel_size=(3, 3), stride=(1, 1), padding=(1, 1), groups=24, bias=False)\n",
      "        (pointwise): Conv2d(24, 24, kernel_size=(1, 1), stride=(1, 1), bias=False)\n",
      "      )\n",
      "      (bn2): BatchNorm2d(24, eps=1e-05, momentum=0.1, affine=True, track_running_stats=True)\n",
      "    )\n",
      "  )\n",
      "  (layer2): Sequential(\n",
      "    (0): BasicBlock(\n",
      "      (conv1): depthwise_separable_conv(\n",
      "        (depthwise): Conv2d(24, 24, kernel_size=(3, 3), stride=(1, 1), padding=(1, 1), groups=24, bias=False)\n",
      "        (pointwise): Conv2d(24, 32, kernel_size=(1, 1), stride=(1, 1), bias=False)\n",
      "      )\n",
      "      (bn1): BatchNorm2d(32, eps=1e-05, momentum=0.1, affine=True, track_running_stats=True)\n",
      "      (relu): ReLU(inplace=True)\n",
      "      (conv2): depthwise_separable_conv(\n",
      "        (depthwise): Conv2d(32, 32, kernel_size=(3, 3), stride=(1, 1), padding=(1, 1), groups=32, bias=False)\n",
      "        (pointwise): Conv2d(32, 32, kernel_size=(1, 1), stride=(1, 1), bias=False)\n",
      "      )\n",
      "      (bn2): BatchNorm2d(32, eps=1e-05, momentum=0.1, affine=True, track_running_stats=True)\n",
      "      (conv3x1_sample): Sequential(\n",
      "        (0): Conv2d(24, 32, kernel_size=(3, 1), stride=(1, 1), padding=(1, 0), bias=False)\n",
      "        (1): BatchNorm2d(32, eps=1e-05, momentum=0.1, affine=True, track_running_stats=True)\n",
      "        (2): ReLU(inplace=True)\n",
      "      )\n",
      "      (conv1x3_sample): Sequential(\n",
      "        (0): Conv2d(24, 32, kernel_size=(1, 3), stride=(1, 1), padding=(0, 1), bias=False)\n",
      "        (1): BatchNorm2d(32, eps=1e-05, momentum=0.1, affine=True, track_running_stats=True)\n",
      "        (2): ReLU(inplace=True)\n",
      "      )\n",
      "    )\n",
      "    (1): BasicBlock(\n",
      "      (conv1): depthwise_separable_conv(\n",
      "        (depthwise): Conv2d(32, 32, kernel_size=(3, 3), stride=(1, 1), padding=(1, 1), groups=32, bias=False)\n",
      "        (pointwise): Conv2d(32, 32, kernel_size=(1, 1), stride=(1, 1), bias=False)\n",
      "      )\n",
      "      (bn1): BatchNorm2d(32, eps=1e-05, momentum=0.1, affine=True, track_running_stats=True)\n",
      "      (relu): ReLU(inplace=True)\n",
      "      (conv2): depthwise_separable_conv(\n",
      "        (depthwise): Conv2d(32, 32, kernel_size=(3, 3), stride=(1, 1), padding=(1, 1), groups=32, bias=False)\n",
      "        (pointwise): Conv2d(32, 32, kernel_size=(1, 1), stride=(1, 1), bias=False)\n",
      "      )\n",
      "      (bn2): BatchNorm2d(32, eps=1e-05, momentum=0.1, affine=True, track_running_stats=True)\n",
      "    )\n",
      "  )\n",
      "  (layer3): Sequential(\n",
      "    (0): BasicBlock(\n",
      "      (conv1): depthwise_separable_conv(\n",
      "        (depthwise): Conv2d(32, 32, kernel_size=(3, 3), stride=(1, 1), padding=(1, 1), groups=32, bias=False)\n",
      "        (pointwise): Conv2d(32, 48, kernel_size=(1, 1), stride=(1, 1), bias=False)\n",
      "      )\n",
      "      (bn1): BatchNorm2d(48, eps=1e-05, momentum=0.1, affine=True, track_running_stats=True)\n",
      "      (relu): ReLU(inplace=True)\n",
      "      (conv2): depthwise_separable_conv(\n",
      "        (depthwise): Conv2d(48, 48, kernel_size=(3, 3), stride=(1, 1), padding=(1, 1), groups=48, bias=False)\n",
      "        (pointwise): Conv2d(48, 48, kernel_size=(1, 1), stride=(1, 1), bias=False)\n",
      "      )\n",
      "      (bn2): BatchNorm2d(48, eps=1e-05, momentum=0.1, affine=True, track_running_stats=True)\n",
      "      (conv3x1_sample): Sequential(\n",
      "        (0): Conv2d(32, 48, kernel_size=(3, 1), stride=(1, 1), padding=(1, 0), bias=False)\n",
      "        (1): BatchNorm2d(48, eps=1e-05, momentum=0.1, affine=True, track_running_stats=True)\n",
      "        (2): ReLU(inplace=True)\n",
      "      )\n",
      "      (conv1x3_sample): Sequential(\n",
      "        (0): Conv2d(32, 48, kernel_size=(1, 3), stride=(1, 1), padding=(0, 1), bias=False)\n",
      "        (1): BatchNorm2d(48, eps=1e-05, momentum=0.1, affine=True, track_running_stats=True)\n",
      "        (2): ReLU(inplace=True)\n",
      "      )\n",
      "    )\n",
      "    (1): BasicBlock(\n",
      "      (conv1): depthwise_separable_conv(\n",
      "        (depthwise): Conv2d(48, 48, kernel_size=(3, 3), stride=(1, 1), padding=(1, 1), groups=48, bias=False)\n",
      "        (pointwise): Conv2d(48, 48, kernel_size=(1, 1), stride=(1, 1), bias=False)\n",
      "      )\n",
      "      (bn1): BatchNorm2d(48, eps=1e-05, momentum=0.1, affine=True, track_running_stats=True)\n",
      "      (relu): ReLU(inplace=True)\n",
      "      (conv2): depthwise_separable_conv(\n",
      "        (depthwise): Conv2d(48, 48, kernel_size=(3, 3), stride=(1, 1), padding=(1, 1), groups=48, bias=False)\n",
      "        (pointwise): Conv2d(48, 48, kernel_size=(1, 1), stride=(1, 1), bias=False)\n",
      "      )\n",
      "      (bn2): BatchNorm2d(48, eps=1e-05, momentum=0.1, affine=True, track_running_stats=True)\n",
      "    )\n",
      "  )\n",
      "  (avgpool): AdaptiveAvgPool2d(output_size=(1, 1))\n",
      "  (fc): Linear(in_features=48, out_features=12, bias=True)\n",
      ")\n"
     ]
    }
   ],
   "source": [
    "# a name used to save checkpoints etc.\n",
    "full_name = '%s_%s_%s_bs%d_lr%.1e_wd%.1e' % (args.model, args.optim, args.lr_scheduler, args.batch_size, args.learning_rate, args.weight_decay)\n",
    "if args.comment:\n",
    "    full_name = '%s_%s' % (full_name, args.comment)\n",
    "\n",
    "#model = models.create_model(model_name=args.model, num_classes=len(CLASSES), in_channels=1)\n",
    "model = ResNet(BasicBlock, [2, 2, 2], num_classes=len(CLASSES), in_channels=1)\n",
    "print(model)\n",
    "if use_gpu:\n",
    "    model = torch.nn.DataParallel(model).cuda()\n",
    "\n",
    "criterion = torch.nn.CrossEntropyLoss()\n",
    "\n",
    "if args.optim == 'sgd':\n",
    "    optimizer = torch.optim.SGD(model.parameters(), lr=args.learning_rate, momentum=0.9, weight_decay=args.weight_decay)\n",
    "else:\n",
    "    optimizer = torch.optim.Adam(model.parameters(), lr=args.learning_rate, weight_decay=args.weight_decay)\n",
    "\n",
    "start_timestamp = int(time.time()*1000)\n",
    "start_epoch = 0\n",
    "best_accuracy = 0\n",
    "best_loss = 1e100\n",
    "global_step = 0\n",
    "\n",
    "if args.resume:\n",
    "    print(\"resuming a checkpoint '%s'\" % args.resume)\n",
    "    checkpoint = torch.load(args.resume)\n",
    "    model.load_state_dict(checkpoint['state_dict'])\n",
    "    model.float()\n",
    "    optimizer.load_state_dict(checkpoint['optimizer'])\n",
    "\n",
    "    best_accuracy = checkpoint.get('accuracy', best_accuracy)\n",
    "    best_loss = checkpoint.get('loss', best_loss)\n",
    "    start_epoch = checkpoint.get('epoch', start_epoch)\n",
    "    global_step = checkpoint.get('step', global_step)\n",
    "\n",
    "    del checkpoint  # reduce memory\n",
    "\n",
    "if args.lr_scheduler == 'plateau':\n",
    "    lr_scheduler = torch.optim.lr_scheduler.ReduceLROnPlateau(optimizer, patience=args.lr_scheduler_patience, factor=args.lr_scheduler_gamma)\n",
    "else:\n",
    "    lr_scheduler = torch.optim.lr_scheduler.StepLR(optimizer, step_size=args.lr_scheduler_step_size, gamma=args.lr_scheduler_gamma, last_epoch=start_epoch-1)"
   ]
  },
  {
   "cell_type": "code",
   "execution_count": 8,
   "metadata": {},
   "outputs": [
    {
     "data": {
      "text/plain": [
       "35996"
      ]
     },
     "execution_count": 8,
     "metadata": {},
     "output_type": "execute_result"
    }
   ],
   "source": [
    "def count_parameters(model):\n",
    "    return sum(p.numel() for p in model.parameters() if p.requires_grad)\n",
    "\n",
    "count_parameters(model)"
   ]
  },
  {
   "cell_type": "code",
   "execution_count": 9,
   "metadata": {},
   "outputs": [],
   "source": [
    "def get_lr():\n",
    "    return optimizer.param_groups[0]['lr']\n",
    "\n",
    "writer = SummaryWriter(comment=('_speech_commands_' + full_name))\n",
    "\n",
    "def train(epoch):\n",
    "    global global_step\n",
    "\n",
    "    print(\"epoch %3d with lr=%.02e\" % (epoch, get_lr()))\n",
    "    phase = 'train'\n",
    "    writer.add_scalar('%s/learning_rate' % phase,  get_lr(), epoch)\n",
    "\n",
    "    model.train()  # Set model to training mode\n",
    "\n",
    "    running_loss = 0.0\n",
    "    it = 0\n",
    "    correct = 0\n",
    "    total = 0\n",
    "\n",
    "    pbar = tqdm(train_dataloader, unit=\"audios\", unit_scale=train_dataloader.batch_size)\n",
    "    for batch in pbar:\n",
    "        inputs = batch['input']\n",
    "        inputs = torch.unsqueeze(inputs, 1)\n",
    "        targets = batch['target']\n",
    "\n",
    "        if args.mixup:\n",
    "            inputs, targets = mixup(inputs, targets, num_classes=len(CLASSES))\n",
    "\n",
    "        inputs = Variable(inputs, requires_grad=True)\n",
    "        targets = Variable(targets, requires_grad=False)\n",
    "        if use_gpu:\n",
    "            inputs = inputs.cuda()\n",
    "            targets = targets.cuda(async=True)\n",
    "\n",
    "        # forward/backward\n",
    "        outputs = model(inputs)\n",
    "        if args.mixup:\n",
    "            loss = mixup_cross_entropy_loss(outputs, targets)\n",
    "        else:\n",
    "            loss = criterion(outputs, targets)\n",
    "        optimizer.zero_grad()\n",
    "        loss.backward()\n",
    "        optimizer.step()\n",
    "\n",
    "        # statistics\n",
    "        it += 1\n",
    "        global_step += 1\n",
    "        running_loss += loss.item()\n",
    "        pred = outputs.data.max(1, keepdim=True)[1]\n",
    "        if args.mixup:\n",
    "            targets = batch['target']\n",
    "            targets = Variable(targets, requires_grad=False).cuda(async=True)\n",
    "        correct += pred.eq(targets.data.view_as(pred)).sum()\n",
    "        total += targets.size(0)\n",
    "\n",
    "        writer.add_scalar('%s/loss' % phase, loss.item(), global_step)\n",
    "\n",
    "        # update the progress bar\n",
    "        pbar.set_postfix({\n",
    "            'loss': \"%.05f\" % (running_loss / it),\n",
    "            'acc': \"%.02f%%\" % (100*correct/total)\n",
    "        })\n",
    "\n",
    "    accuracy = correct/total\n",
    "    epoch_loss = running_loss / it\n",
    "    writer.add_scalar('%s/accuracy' % phase, 100*accuracy, epoch)\n",
    "    writer.add_scalar('%s/epoch_loss' % phase, epoch_loss, epoch)"
   ]
  },
  {
   "cell_type": "code",
   "execution_count": 10,
   "metadata": {},
   "outputs": [],
   "source": [
    "def valid(epoch):\n",
    "    global best_accuracy, best_loss, global_step\n",
    "\n",
    "    phase = 'valid'\n",
    "    model.eval()  # Set model to evaluate mode\n",
    "\n",
    "    running_loss = 0.0\n",
    "    it = 0\n",
    "    correct = 0\n",
    "    total = 0\n",
    "\n",
    "    pbar = tqdm(valid_dataloader, unit=\"audios\", unit_scale=valid_dataloader.batch_size)\n",
    "    for batch in pbar:\n",
    "        inputs = batch['input']\n",
    "        inputs = torch.unsqueeze(inputs, 1)\n",
    "        targets = batch['target']\n",
    "\n",
    "        inputs = Variable(inputs, volatile = True)\n",
    "        targets = Variable(targets, requires_grad=False)\n",
    "\n",
    "        if use_gpu:\n",
    "            inputs = inputs.cuda()\n",
    "            targets = targets.cuda(async=True)\n",
    "\n",
    "        # forward\n",
    "        outputs = model(inputs)\n",
    "        loss = criterion(outputs, targets)\n",
    "\n",
    "        # statistics\n",
    "        it += 1\n",
    "        global_step += 1\n",
    "        running_loss += loss.item()\n",
    "        pred = outputs.data.max(1, keepdim=True)[1]\n",
    "        correct += pred.eq(targets.data.view_as(pred)).sum()\n",
    "        total += targets.size(0)\n",
    "\n",
    "        writer.add_scalar('%s/loss' % phase, loss.item(), global_step)\n",
    "\n",
    "        # update the progress bar\n",
    "        pbar.set_postfix({\n",
    "            'loss': \"%.05f\" % (running_loss / it),\n",
    "            'acc': \"%.02f%%\" % (100*correct/total)\n",
    "        })\n",
    "\n",
    "    accuracy = 100*correct/total\n",
    "    epoch_loss = running_loss / it\n",
    "    writer.add_scalar('%s/accuracy' % phase, accuracy, epoch)\n",
    "    writer.add_scalar('%s/epoch_loss' % phase, epoch_loss, epoch)\n",
    "    checkpoint = {\n",
    "        'epoch': epoch,\n",
    "        'step': global_step,\n",
    "        'state_dict': model.state_dict(),\n",
    "        'loss': epoch_loss,\n",
    "        'accuracy': accuracy,\n",
    "        'optimizer' : optimizer.state_dict(),\n",
    "    }\n",
    "    if accuracy > best_accuracy:\n",
    "        best_accuracy = accuracy\n",
    "        torch.save(checkpoint, 'checkpoints/best-acc-%s.pth' % full_name)\n",
    "        torch.save(model, '%d-%s-best-acc.pth' % (start_timestamp, full_name))\n",
    "    if epoch_loss < best_loss:\n",
    "        best_loss = epoch_loss\n",
    "        torch.save(checkpoint, 'checkpoints/best-loss-%s.pth' % full_name)\n",
    "        torch.save(model, '%d-%s-best-loss.pth' % (start_timestamp, full_name))\n",
    "    torch.save(model, './%s.pth'%(full_name))\n",
    "    #torch.save(checkpoint, 'checkpoints/Resnet18.pth')\n",
    "    del checkpoint  # reduce memory\n",
    "\n",
    "    return epoch_loss"
   ]
  },
  {
   "cell_type": "code",
   "execution_count": 11,
   "metadata": {},
   "outputs": [
    {
     "name": "stderr",
     "output_type": "stream",
     "text": [
      "\r",
      "  0%|          | 0/56256 [00:00<?, ?audios/s]"
     ]
    },
    {
     "name": "stdout",
     "output_type": "stream",
     "text": [
      "training resnet18-light-fusionnet for Google speech commands...\n",
      "epoch   0 with lr=1.00e-02\n"
     ]
    },
    {
     "name": "stderr",
     "output_type": "stream",
     "text": [
      "100%|██████████| 56256/56256 [05:15<00:00, 178.15audios/s, loss=2.25586, acc=19.00%]\n",
      "  0%|          | 0/7488 [00:00<?, ?audios/s]/usr/local/lib/python3.6/dist-packages/ipykernel_launcher.py:18: UserWarning: volatile was removed and now has no effect. Use `with torch.no_grad():` instead.\n",
      "100%|██████████| 7488/7488 [00:11<00:00, 657.87audios/s, loss=1.95727, acc=24.00%]\n",
      "/home/cilab/.local/lib/python3.6/site-packages/torch/serialization.py:292: UserWarning: Couldn't retrieve source code for container of type DataParallel. It won't be checked for correctness upon loading.\n",
      "  \"type \" + obj.__name__ + \". It won't be checked \"\n",
      "/home/cilab/.local/lib/python3.6/site-packages/torch/serialization.py:292: UserWarning: Couldn't retrieve source code for container of type ResNet. It won't be checked for correctness upon loading.\n",
      "  \"type \" + obj.__name__ + \". It won't be checked \"\n",
      "/home/cilab/.local/lib/python3.6/site-packages/torch/serialization.py:292: UserWarning: Couldn't retrieve source code for container of type Conv2d. It won't be checked for correctness upon loading.\n",
      "  \"type \" + obj.__name__ + \". It won't be checked \"\n",
      "/home/cilab/.local/lib/python3.6/site-packages/torch/serialization.py:292: UserWarning: Couldn't retrieve source code for container of type BatchNorm2d. It won't be checked for correctness upon loading.\n",
      "  \"type \" + obj.__name__ + \". It won't be checked \"\n",
      "/home/cilab/.local/lib/python3.6/site-packages/torch/serialization.py:292: UserWarning: Couldn't retrieve source code for container of type ReLU. It won't be checked for correctness upon loading.\n",
      "  \"type \" + obj.__name__ + \". It won't be checked \"\n",
      "/home/cilab/.local/lib/python3.6/site-packages/torch/serialization.py:292: UserWarning: Couldn't retrieve source code for container of type MaxPool2d. It won't be checked for correctness upon loading.\n",
      "  \"type \" + obj.__name__ + \". It won't be checked \"\n",
      "/home/cilab/.local/lib/python3.6/site-packages/torch/serialization.py:292: UserWarning: Couldn't retrieve source code for container of type Sequential. It won't be checked for correctness upon loading.\n",
      "  \"type \" + obj.__name__ + \". It won't be checked \"\n",
      "/home/cilab/.local/lib/python3.6/site-packages/torch/serialization.py:292: UserWarning: Couldn't retrieve source code for container of type BasicBlock. It won't be checked for correctness upon loading.\n",
      "  \"type \" + obj.__name__ + \". It won't be checked \"\n",
      "/home/cilab/.local/lib/python3.6/site-packages/torch/serialization.py:292: UserWarning: Couldn't retrieve source code for container of type depthwise_separable_conv. It won't be checked for correctness upon loading.\n",
      "  \"type \" + obj.__name__ + \". It won't be checked \"\n",
      "/home/cilab/.local/lib/python3.6/site-packages/torch/serialization.py:292: UserWarning: Couldn't retrieve source code for container of type AdaptiveAvgPool2d. It won't be checked for correctness upon loading.\n",
      "  \"type \" + obj.__name__ + \". It won't be checked \"\n",
      "/home/cilab/.local/lib/python3.6/site-packages/torch/serialization.py:292: UserWarning: Couldn't retrieve source code for container of type Linear. It won't be checked for correctness upon loading.\n",
      "  \"type \" + obj.__name__ + \". It won't be checked \"\n",
      "  0%|          | 0/56256 [00:00<?, ?audios/s]"
     ]
    },
    {
     "name": "stdout",
     "output_type": "stream",
     "text": [
      "<class 'float'>\n",
      "total time elapsed: 0h 5m 27s , best accuracy: 24.00%, best loss 1.957267\n",
      "epoch   1 with lr=1.00e-02\n"
     ]
    },
    {
     "name": "stderr",
     "output_type": "stream",
     "text": [
      "100%|██████████| 56256/56256 [05:31<00:00, 169.63audios/s, loss=1.94110, acc=30.00%]\n",
      "100%|██████████| 7488/7488 [00:13<00:00, 536.96audios/s, loss=2.10225, acc=22.00%]\n",
      "  0%|          | 0/56256 [00:00<?, ?audios/s]"
     ]
    },
    {
     "name": "stdout",
     "output_type": "stream",
     "text": [
      "<class 'float'>\n",
      "total time elapsed: 0h 11m 13s , best accuracy: 24.00%, best loss 1.957267\n",
      "epoch   2 with lr=1.00e-02\n"
     ]
    },
    {
     "name": "stderr",
     "output_type": "stream",
     "text": [
      "100%|██████████| 56256/56256 [06:22<00:00, 146.92audios/s, loss=1.83734, acc=35.00%]\n",
      "100%|██████████| 7488/7488 [00:14<00:00, 523.14audios/s, loss=1.94072, acc=29.00%]\n",
      "  0%|          | 0/56256 [00:00<?, ?audios/s]"
     ]
    },
    {
     "name": "stdout",
     "output_type": "stream",
     "text": [
      "<class 'float'>\n",
      "total time elapsed: 0h 17m 50s , best accuracy: 29.00%, best loss 1.940720\n",
      "epoch   3 with lr=1.00e-02\n"
     ]
    },
    {
     "name": "stderr",
     "output_type": "stream",
     "text": [
      "100%|██████████| 56256/56256 [06:23<00:00, 146.58audios/s, loss=1.79703, acc=36.00%]\n",
      "100%|██████████| 7488/7488 [00:14<00:00, 525.72audios/s, loss=2.07390, acc=31.00%]\n",
      "  0%|          | 0/56256 [00:00<?, ?audios/s]"
     ]
    },
    {
     "name": "stdout",
     "output_type": "stream",
     "text": [
      "<class 'float'>\n",
      "total time elapsed: 0h 24m 28s , best accuracy: 31.00%, best loss 1.940720\n",
      "epoch   4 with lr=1.00e-02\n"
     ]
    },
    {
     "name": "stderr",
     "output_type": "stream",
     "text": [
      "100%|██████████| 56256/56256 [06:25<00:00, 145.92audios/s, loss=1.76794, acc=37.00%]\n",
      "100%|██████████| 7488/7488 [00:14<00:00, 533.53audios/s, loss=1.52468, acc=46.00%]\n",
      "  0%|          | 0/56256 [00:00<?, ?audios/s]"
     ]
    },
    {
     "name": "stdout",
     "output_type": "stream",
     "text": [
      "<class 'float'>\n",
      "total time elapsed: 0h 31m 8s , best accuracy: 46.00%, best loss 1.524680\n",
      "epoch   5 with lr=1.00e-02\n"
     ]
    },
    {
     "name": "stderr",
     "output_type": "stream",
     "text": [
      "100%|██████████| 56256/56256 [06:28<00:00, 144.65audios/s, loss=1.75126, acc=38.00%]\n",
      "100%|██████████| 7488/7488 [00:16<00:00, 445.14audios/s, loss=1.25787, acc=61.00%]\n",
      "  0%|          | 0/56256 [00:00<?, ?audios/s]"
     ]
    },
    {
     "name": "stdout",
     "output_type": "stream",
     "text": [
      "<class 'float'>\n",
      "total time elapsed: 0h 37m 54s , best accuracy: 61.00%, best loss 1.257867\n",
      "epoch   6 with lr=1.00e-02\n"
     ]
    },
    {
     "name": "stderr",
     "output_type": "stream",
     "text": [
      "100%|██████████| 56256/56256 [08:21<00:00, 112.15audios/s, loss=1.74039, acc=38.00%]\n",
      "100%|██████████| 7488/7488 [00:20<00:00, 370.18audios/s, loss=1.44647, acc=48.00%]\n",
      "  0%|          | 0/56256 [00:00<?, ?audios/s]"
     ]
    },
    {
     "name": "stdout",
     "output_type": "stream",
     "text": [
      "<class 'float'>\n",
      "total time elapsed: 0h 46m 36s , best accuracy: 61.00%, best loss 1.257867\n",
      "epoch   7 with lr=1.00e-02\n"
     ]
    },
    {
     "name": "stderr",
     "output_type": "stream",
     "text": [
      "100%|██████████| 56256/56256 [08:58<00:00, 104.52audios/s, loss=1.72765, acc=38.00%]\n",
      "100%|██████████| 7488/7488 [00:19<00:00, 378.48audios/s, loss=1.09973, acc=60.00%]\n",
      "  0%|          | 0/56256 [00:00<?, ?audios/s]"
     ]
    },
    {
     "name": "stdout",
     "output_type": "stream",
     "text": [
      "<class 'float'>\n",
      "total time elapsed: 0h 55m 54s , best accuracy: 61.00%, best loss 1.099730\n",
      "epoch   8 with lr=1.00e-02\n"
     ]
    },
    {
     "name": "stderr",
     "output_type": "stream",
     "text": [
      "100%|██████████| 56256/56256 [08:58<00:00, 104.54audios/s, loss=1.71417, acc=39.00%]\n",
      "100%|██████████| 7488/7488 [00:19<00:00, 379.03audios/s, loss=3.93424, acc=16.00%]\n",
      "  0%|          | 0/56256 [00:00<?, ?audios/s]"
     ]
    },
    {
     "name": "stdout",
     "output_type": "stream",
     "text": [
      "<class 'float'>\n",
      "total time elapsed: 1h 5m 12s , best accuracy: 61.00%, best loss 1.099730\n",
      "epoch   9 with lr=1.00e-02\n"
     ]
    },
    {
     "name": "stderr",
     "output_type": "stream",
     "text": [
      "100%|██████████| 56256/56256 [08:57<00:00, 104.61audios/s, loss=1.70188, acc=39.00%]\n",
      "100%|██████████| 7488/7488 [00:19<00:00, 380.06audios/s, loss=1.62547, acc=42.00%]\n",
      "  0%|          | 0/56256 [00:00<?, ?audios/s]"
     ]
    },
    {
     "name": "stdout",
     "output_type": "stream",
     "text": [
      "<class 'float'>\n",
      "total time elapsed: 1h 14m 29s , best accuracy: 61.00%, best loss 1.099730\n",
      "epoch  10 with lr=1.00e-02\n"
     ]
    },
    {
     "name": "stderr",
     "output_type": "stream",
     "text": [
      "100%|██████████| 56256/56256 [08:56<00:00, 104.82audios/s, loss=1.70648, acc=40.00%]\n",
      "100%|██████████| 7488/7488 [00:20<00:00, 373.91audios/s, loss=1.50034, acc=45.00%]\n",
      "  0%|          | 0/56256 [00:00<?, ?audios/s]"
     ]
    },
    {
     "name": "stdout",
     "output_type": "stream",
     "text": [
      "<class 'float'>\n",
      "total time elapsed: 1h 23m 46s , best accuracy: 61.00%, best loss 1.099730\n",
      "epoch  11 with lr=1.00e-02\n"
     ]
    },
    {
     "name": "stderr",
     "output_type": "stream",
     "text": [
      "100%|██████████| 56256/56256 [09:01<00:00, 103.94audios/s, loss=1.69928, acc=40.00%]\n",
      "100%|██████████| 7488/7488 [00:19<00:00, 389.08audios/s, loss=1.55638, acc=44.00%]\n",
      "  0%|          | 0/56256 [00:00<?, ?audios/s]"
     ]
    },
    {
     "name": "stdout",
     "output_type": "stream",
     "text": [
      "<class 'float'>\n",
      "total time elapsed: 1h 33m 6s , best accuracy: 61.00%, best loss 1.099730\n",
      "epoch  12 with lr=1.00e-02\n"
     ]
    },
    {
     "name": "stderr",
     "output_type": "stream",
     "text": [
      "100%|██████████| 56256/56256 [08:59<00:00, 104.27audios/s, loss=1.69907, acc=40.00%]\n",
      "100%|██████████| 7488/7488 [00:18<00:00, 395.62audios/s, loss=1.59447, acc=41.00%]\n",
      "  0%|          | 0/56256 [00:00<?, ?audios/s]"
     ]
    },
    {
     "name": "stdout",
     "output_type": "stream",
     "text": [
      "<class 'float'>\n",
      "total time elapsed: 1h 42m 25s , best accuracy: 61.00%, best loss 1.099730\n",
      "epoch  13 with lr=1.00e-02\n"
     ]
    },
    {
     "name": "stderr",
     "output_type": "stream",
     "text": [
      "100%|██████████| 56256/56256 [08:52<00:00, 105.66audios/s, loss=1.69839, acc=40.00%]\n",
      "100%|██████████| 7488/7488 [00:19<00:00, 387.60audios/s, loss=2.46123, acc=26.00%]\n",
      "  0%|          | 0/56256 [00:00<?, ?audios/s]"
     ]
    },
    {
     "name": "stdout",
     "output_type": "stream",
     "text": [
      "<class 'float'>\n",
      "total time elapsed: 1h 51m 37s , best accuracy: 61.00%, best loss 1.099730\n",
      "epoch  14 with lr=1.00e-03\n"
     ]
    },
    {
     "name": "stderr",
     "output_type": "stream",
     "text": [
      "100%|██████████| 56256/56256 [08:54<00:00, 105.21audios/s, loss=1.58106, acc=44.00%]\n",
      "100%|██████████| 7488/7488 [00:19<00:00, 381.97audios/s, loss=0.84050, acc=77.00%]\n",
      "  0%|          | 0/56256 [00:00<?, ?audios/s]"
     ]
    },
    {
     "name": "stdout",
     "output_type": "stream",
     "text": [
      "<class 'float'>\n",
      "total time elapsed: 2h 0m 51s , best accuracy: 77.00%, best loss 0.840498\n",
      "epoch  15 with lr=1.00e-03\n"
     ]
    },
    {
     "name": "stderr",
     "output_type": "stream",
     "text": [
      "100%|██████████| 56256/56256 [08:51<00:00, 105.77audios/s, loss=1.54382, acc=44.00%]\n",
      "100%|██████████| 7488/7488 [00:18<00:00, 396.13audios/s, loss=0.81565, acc=78.00%]\n",
      "  0%|          | 0/56256 [00:00<?, ?audios/s]"
     ]
    },
    {
     "name": "stdout",
     "output_type": "stream",
     "text": [
      "<class 'float'>\n",
      "total time elapsed: 2h 10m 2s , best accuracy: 78.00%, best loss 0.815652\n",
      "epoch  16 with lr=1.00e-03\n"
     ]
    },
    {
     "name": "stderr",
     "output_type": "stream",
     "text": [
      "100%|██████████| 56256/56256 [08:54<00:00, 105.19audios/s, loss=1.54286, acc=44.00%]\n",
      "100%|██████████| 7488/7488 [00:19<00:00, 393.94audios/s, loss=0.78989, acc=79.00%]\n",
      "  0%|          | 0/56256 [00:00<?, ?audios/s]"
     ]
    },
    {
     "name": "stdout",
     "output_type": "stream",
     "text": [
      "<class 'float'>\n",
      "total time elapsed: 2h 19m 16s , best accuracy: 79.00%, best loss 0.789889\n",
      "epoch  17 with lr=1.00e-03\n"
     ]
    },
    {
     "name": "stderr",
     "output_type": "stream",
     "text": [
      "100%|██████████| 56256/56256 [09:09<00:00, 102.32audios/s, loss=1.53802, acc=45.00%]\n",
      "100%|██████████| 7488/7488 [00:19<00:00, 379.19audios/s, loss=0.79396, acc=74.00%]\n",
      "  0%|          | 0/56256 [00:00<?, ?audios/s]"
     ]
    },
    {
     "name": "stdout",
     "output_type": "stream",
     "text": [
      "<class 'float'>\n",
      "total time elapsed: 2h 28m 46s , best accuracy: 79.00%, best loss 0.789889\n",
      "epoch  18 with lr=1.00e-03\n"
     ]
    },
    {
     "name": "stderr",
     "output_type": "stream",
     "text": [
      "100%|██████████| 56256/56256 [09:03<00:00, 103.56audios/s, loss=1.53518, acc=44.00%]\n",
      "100%|██████████| 7488/7488 [00:21<00:00, 355.89audios/s, loss=0.51986, acc=87.00%]\n",
      "  0%|          | 0/56256 [00:00<?, ?audios/s]"
     ]
    },
    {
     "name": "stdout",
     "output_type": "stream",
     "text": [
      "<class 'float'>\n",
      "total time elapsed: 2h 38m 10s , best accuracy: 87.00%, best loss 0.519856\n",
      "epoch  19 with lr=1.00e-03\n"
     ]
    },
    {
     "name": "stderr",
     "output_type": "stream",
     "text": [
      "100%|██████████| 56256/56256 [09:24<00:00, 99.59audios/s, loss=1.52894, acc=44.00%] \n",
      "100%|██████████| 7488/7488 [00:20<00:00, 364.69audios/s, loss=0.64677, acc=84.00%]\n",
      "  0%|          | 0/56256 [00:00<?, ?audios/s]"
     ]
    },
    {
     "name": "stdout",
     "output_type": "stream",
     "text": [
      "<class 'float'>\n",
      "total time elapsed: 2h 47m 55s , best accuracy: 87.00%, best loss 0.519856\n",
      "epoch  20 with lr=1.00e-03\n"
     ]
    },
    {
     "name": "stderr",
     "output_type": "stream",
     "text": [
      "100%|██████████| 56256/56256 [09:25<00:00, 99.53audios/s, loss=1.52711, acc=45.00%] \n",
      "100%|██████████| 7488/7488 [00:21<00:00, 355.40audios/s, loss=0.73217, acc=79.00%]\n",
      "  0%|          | 0/56256 [00:00<?, ?audios/s]"
     ]
    },
    {
     "name": "stdout",
     "output_type": "stream",
     "text": [
      "<class 'float'>\n",
      "total time elapsed: 2h 57m 42s , best accuracy: 87.00%, best loss 0.519856\n",
      "epoch  21 with lr=1.00e-03\n"
     ]
    },
    {
     "name": "stderr",
     "output_type": "stream",
     "text": [
      "100%|██████████| 56256/56256 [09:24<00:00, 99.66audios/s, loss=1.52286, acc=45.00%] \n",
      "100%|██████████| 7488/7488 [00:21<00:00, 355.68audios/s, loss=0.54117, acc=85.00%]\n",
      "  0%|          | 0/56256 [00:00<?, ?audios/s]"
     ]
    },
    {
     "name": "stdout",
     "output_type": "stream",
     "text": [
      "<class 'float'>\n",
      "total time elapsed: 3h 7m 27s , best accuracy: 87.00%, best loss 0.519856\n",
      "epoch  22 with lr=1.00e-03\n"
     ]
    },
    {
     "name": "stderr",
     "output_type": "stream",
     "text": [
      "100%|██████████| 56256/56256 [09:27<00:00, 99.15audios/s, loss=1.52338, acc=45.00%] \n",
      "100%|██████████| 7488/7488 [00:20<00:00, 367.28audios/s, loss=0.48650, acc=88.00%]\n",
      "  0%|          | 0/56256 [00:00<?, ?audios/s]"
     ]
    },
    {
     "name": "stdout",
     "output_type": "stream",
     "text": [
      "<class 'float'>\n",
      "total time elapsed: 3h 17m 15s , best accuracy: 88.00%, best loss 0.486502\n",
      "epoch  23 with lr=1.00e-03\n"
     ]
    },
    {
     "name": "stderr",
     "output_type": "stream",
     "text": [
      "100%|██████████| 56256/56256 [09:25<00:00, 99.40audios/s, loss=1.51789, acc=45.00%] \n",
      "100%|██████████| 7488/7488 [00:20<00:00, 363.24audios/s, loss=0.80269, acc=78.00%]\n",
      "  0%|          | 0/56256 [00:00<?, ?audios/s]"
     ]
    },
    {
     "name": "stdout",
     "output_type": "stream",
     "text": [
      "<class 'float'>\n",
      "total time elapsed: 3h 27m 2s , best accuracy: 88.00%, best loss 0.486502\n",
      "epoch  24 with lr=1.00e-03\n"
     ]
    },
    {
     "name": "stderr",
     "output_type": "stream",
     "text": [
      "100%|██████████| 56256/56256 [09:28<00:00, 99.01audios/s, loss=1.51901, acc=45.00%] \n",
      "100%|██████████| 7488/7488 [00:20<00:00, 368.20audios/s, loss=0.84336, acc=75.00%]\n",
      "  0%|          | 0/56256 [00:00<?, ?audios/s]"
     ]
    },
    {
     "name": "stdout",
     "output_type": "stream",
     "text": [
      "<class 'float'>\n",
      "total time elapsed: 3h 36m 50s , best accuracy: 88.00%, best loss 0.486502\n",
      "epoch  25 with lr=1.00e-03\n"
     ]
    },
    {
     "name": "stderr",
     "output_type": "stream",
     "text": [
      "100%|██████████| 56256/56256 [09:27<00:00, 99.07audios/s, loss=1.51362, acc=45.00%] \n",
      "100%|██████████| 7488/7488 [00:20<00:00, 366.85audios/s, loss=0.72644, acc=79.00%]\n",
      "  0%|          | 0/56256 [00:00<?, ?audios/s]"
     ]
    },
    {
     "name": "stdout",
     "output_type": "stream",
     "text": [
      "<class 'float'>\n",
      "total time elapsed: 3h 46m 39s , best accuracy: 88.00%, best loss 0.486502\n",
      "epoch  26 with lr=1.00e-03\n"
     ]
    },
    {
     "name": "stderr",
     "output_type": "stream",
     "text": [
      "100%|██████████| 56256/56256 [09:02<00:00, 103.64audios/s, loss=1.51443, acc=45.00%]\n",
      "100%|██████████| 7488/7488 [00:21<00:00, 353.77audios/s, loss=0.85953, acc=74.00%]\n",
      "  0%|          | 0/56256 [00:00<?, ?audios/s]"
     ]
    },
    {
     "name": "stdout",
     "output_type": "stream",
     "text": [
      "<class 'float'>\n",
      "total time elapsed: 3h 56m 3s , best accuracy: 88.00%, best loss 0.486502\n",
      "epoch  27 with lr=1.00e-03\n"
     ]
    },
    {
     "name": "stderr",
     "output_type": "stream",
     "text": [
      "100%|██████████| 56256/56256 [08:53<00:00, 105.45audios/s, loss=1.50957, acc=45.00%]\n",
      "100%|██████████| 7488/7488 [00:20<00:00, 367.38audios/s, loss=0.53873, acc=87.00%]\n",
      "  0%|          | 0/56256 [00:00<?, ?audios/s]"
     ]
    },
    {
     "name": "stdout",
     "output_type": "stream",
     "text": [
      "<class 'float'>\n",
      "total time elapsed: 4h 5m 16s , best accuracy: 88.00%, best loss 0.486502\n",
      "epoch  28 with lr=1.00e-03\n"
     ]
    },
    {
     "name": "stderr",
     "output_type": "stream",
     "text": [
      "100%|██████████| 56256/56256 [08:58<00:00, 104.38audios/s, loss=1.51051, acc=45.00%]\n",
      "100%|██████████| 7488/7488 [00:19<00:00, 386.03audios/s, loss=0.90829, acc=73.00%]\n",
      "  0%|          | 0/56256 [00:00<?, ?audios/s]"
     ]
    },
    {
     "name": "stdout",
     "output_type": "stream",
     "text": [
      "<class 'float'>\n",
      "total time elapsed: 4h 14m 35s , best accuracy: 88.00%, best loss 0.486502\n",
      "epoch  29 with lr=1.00e-04\n"
     ]
    },
    {
     "name": "stderr",
     "output_type": "stream",
     "text": [
      "100%|██████████| 56256/56256 [08:54<00:00, 105.28audios/s, loss=1.47275, acc=46.00%]\n",
      "100%|██████████| 7488/7488 [00:19<00:00, 382.70audios/s, loss=0.55906, acc=85.00%]\n",
      "  0%|          | 0/56256 [00:00<?, ?audios/s]"
     ]
    },
    {
     "name": "stdout",
     "output_type": "stream",
     "text": [
      "<class 'float'>\n",
      "total time elapsed: 4h 23m 49s , best accuracy: 88.00%, best loss 0.486502\n",
      "epoch  30 with lr=1.00e-04\n"
     ]
    },
    {
     "name": "stderr",
     "output_type": "stream",
     "text": [
      "100%|██████████| 56256/56256 [08:56<00:00, 104.94audios/s, loss=1.46286, acc=46.00%]\n",
      "100%|██████████| 7488/7488 [00:19<00:00, 392.83audios/s, loss=0.48967, acc=88.00%]\n",
      "  0%|          | 0/56256 [00:00<?, ?audios/s]"
     ]
    },
    {
     "name": "stdout",
     "output_type": "stream",
     "text": [
      "<class 'float'>\n",
      "total time elapsed: 4h 33m 4s , best accuracy: 88.00%, best loss 0.486502\n",
      "epoch  31 with lr=1.00e-04\n"
     ]
    },
    {
     "name": "stderr",
     "output_type": "stream",
     "text": [
      "100%|██████████| 56256/56256 [08:59<00:00, 104.32audios/s, loss=1.46161, acc=46.00%]\n",
      "100%|██████████| 7488/7488 [00:18<00:00, 396.69audios/s, loss=0.56687, acc=85.00%]\n",
      "  0%|          | 0/56256 [00:00<?, ?audios/s]"
     ]
    },
    {
     "name": "stdout",
     "output_type": "stream",
     "text": [
      "<class 'float'>\n",
      "total time elapsed: 4h 42m 22s , best accuracy: 88.00%, best loss 0.486502\n",
      "epoch  32 with lr=1.00e-04\n"
     ]
    },
    {
     "name": "stderr",
     "output_type": "stream",
     "text": [
      "100%|██████████| 56256/56256 [08:58<00:00, 104.49audios/s, loss=1.45650, acc=47.00%]\n",
      "100%|██████████| 7488/7488 [00:19<00:00, 390.18audios/s, loss=0.54564, acc=86.00%]\n",
      "  0%|          | 0/56256 [00:00<?, ?audios/s]"
     ]
    },
    {
     "name": "stdout",
     "output_type": "stream",
     "text": [
      "<class 'float'>\n",
      "total time elapsed: 4h 51m 40s , best accuracy: 88.00%, best loss 0.486502\n",
      "epoch  33 with lr=1.00e-04\n"
     ]
    },
    {
     "name": "stderr",
     "output_type": "stream",
     "text": [
      "100%|██████████| 56256/56256 [08:52<00:00, 105.69audios/s, loss=1.45457, acc=46.00%]\n",
      "100%|██████████| 7488/7488 [00:19<00:00, 388.43audios/s, loss=0.46143, acc=89.00%]\n",
      "  0%|          | 0/56256 [00:00<?, ?audios/s]"
     ]
    },
    {
     "name": "stdout",
     "output_type": "stream",
     "text": [
      "<class 'float'>\n",
      "total time elapsed: 5h 0m 51s , best accuracy: 89.00%, best loss 0.461433\n",
      "epoch  34 with lr=1.00e-04\n"
     ]
    },
    {
     "name": "stderr",
     "output_type": "stream",
     "text": [
      "100%|██████████| 56256/56256 [08:57<00:00, 104.67audios/s, loss=1.45422, acc=46.00%]\n",
      "100%|██████████| 7488/7488 [00:19<00:00, 387.24audios/s, loss=0.50875, acc=87.00%]\n",
      "  0%|          | 0/56256 [00:00<?, ?audios/s]"
     ]
    },
    {
     "name": "stdout",
     "output_type": "stream",
     "text": [
      "<class 'float'>\n",
      "total time elapsed: 5h 10m 8s , best accuracy: 89.00%, best loss 0.461433\n",
      "epoch  35 with lr=1.00e-04\n"
     ]
    },
    {
     "name": "stderr",
     "output_type": "stream",
     "text": [
      "100%|██████████| 56256/56256 [08:50<00:00, 106.01audios/s, loss=1.45779, acc=46.00%]\n",
      "100%|██████████| 7488/7488 [00:18<00:00, 398.05audios/s, loss=0.47086, acc=89.00%]\n",
      "  0%|          | 0/56256 [00:00<?, ?audios/s]"
     ]
    },
    {
     "name": "stdout",
     "output_type": "stream",
     "text": [
      "<class 'float'>\n",
      "total time elapsed: 5h 19m 18s , best accuracy: 89.00%, best loss 0.461433\n",
      "epoch  36 with lr=1.00e-04\n"
     ]
    },
    {
     "name": "stderr",
     "output_type": "stream",
     "text": [
      "100%|██████████| 56256/56256 [08:56<00:00, 104.94audios/s, loss=1.44796, acc=47.00%]\n",
      "100%|██████████| 7488/7488 [00:18<00:00, 400.10audios/s, loss=0.43413, acc=89.00%]\n",
      "  0%|          | 0/56256 [00:00<?, ?audios/s]"
     ]
    },
    {
     "name": "stdout",
     "output_type": "stream",
     "text": [
      "<class 'float'>\n",
      "total time elapsed: 5h 28m 33s , best accuracy: 89.00%, best loss 0.434132\n",
      "epoch  37 with lr=1.00e-04\n"
     ]
    },
    {
     "name": "stderr",
     "output_type": "stream",
     "text": [
      "100%|██████████| 56256/56256 [08:53<00:00, 105.43audios/s, loss=1.44685, acc=47.00%]\n",
      "100%|██████████| 7488/7488 [00:20<00:00, 371.44audios/s, loss=0.52047, acc=88.00%]\n",
      "  0%|          | 0/56256 [00:00<?, ?audios/s]"
     ]
    },
    {
     "name": "stdout",
     "output_type": "stream",
     "text": [
      "<class 'float'>\n",
      "total time elapsed: 5h 37m 46s , best accuracy: 89.00%, best loss 0.434132\n",
      "epoch  38 with lr=1.00e-04\n"
     ]
    },
    {
     "name": "stderr",
     "output_type": "stream",
     "text": [
      "100%|██████████| 56256/56256 [08:57<00:00, 104.74audios/s, loss=1.45029, acc=47.00%]\n",
      "100%|██████████| 7488/7488 [00:19<00:00, 388.85audios/s, loss=0.43717, acc=89.00%]\n",
      "  0%|          | 0/56256 [00:00<?, ?audios/s]"
     ]
    },
    {
     "name": "stdout",
     "output_type": "stream",
     "text": [
      "<class 'float'>\n",
      "total time elapsed: 5h 47m 3s , best accuracy: 89.00%, best loss 0.434132\n",
      "epoch  39 with lr=1.00e-04\n"
     ]
    },
    {
     "name": "stderr",
     "output_type": "stream",
     "text": [
      "100%|██████████| 56256/56256 [08:54<00:00, 105.25audios/s, loss=1.44579, acc=47.00%]\n",
      "100%|██████████| 7488/7488 [00:20<00:00, 363.05audios/s, loss=0.48273, acc=89.00%]\n",
      "  0%|          | 0/56256 [00:00<?, ?audios/s]"
     ]
    },
    {
     "name": "stdout",
     "output_type": "stream",
     "text": [
      "<class 'float'>\n",
      "total time elapsed: 5h 56m 18s , best accuracy: 89.00%, best loss 0.434132\n",
      "epoch  40 with lr=1.00e-04\n"
     ]
    },
    {
     "name": "stderr",
     "output_type": "stream",
     "text": [
      "100%|██████████| 56256/56256 [08:51<00:00, 105.81audios/s, loss=1.44786, acc=47.00%]\n",
      "100%|██████████| 7488/7488 [00:19<00:00, 381.99audios/s, loss=0.51304, acc=88.00%]\n",
      "  0%|          | 0/56256 [00:00<?, ?audios/s]"
     ]
    },
    {
     "name": "stdout",
     "output_type": "stream",
     "text": [
      "<class 'float'>\n",
      "total time elapsed: 6h 5m 29s , best accuracy: 89.00%, best loss 0.434132\n",
      "epoch  41 with lr=1.00e-04\n"
     ]
    },
    {
     "name": "stderr",
     "output_type": "stream",
     "text": [
      "100%|██████████| 56256/56256 [08:58<00:00, 104.53audios/s, loss=1.44185, acc=47.00%]\n",
      "100%|██████████| 7488/7488 [00:19<00:00, 379.52audios/s, loss=0.48717, acc=88.00%]\n",
      "  0%|          | 0/56256 [00:00<?, ?audios/s]"
     ]
    },
    {
     "name": "stdout",
     "output_type": "stream",
     "text": [
      "<class 'float'>\n",
      "total time elapsed: 6h 14m 47s , best accuracy: 89.00%, best loss 0.434132\n",
      "epoch  42 with lr=1.00e-04\n"
     ]
    },
    {
     "name": "stderr",
     "output_type": "stream",
     "text": [
      "100%|██████████| 56256/56256 [08:53<00:00, 105.54audios/s, loss=1.44509, acc=47.00%]\n",
      "100%|██████████| 7488/7488 [00:19<00:00, 381.38audios/s, loss=0.44148, acc=90.00%]\n",
      "  0%|          | 0/56256 [00:00<?, ?audios/s]"
     ]
    },
    {
     "name": "stdout",
     "output_type": "stream",
     "text": [
      "<class 'float'>\n",
      "total time elapsed: 6h 24m 0s , best accuracy: 90.00%, best loss 0.434132\n",
      "epoch  43 with lr=1.00e-05\n"
     ]
    },
    {
     "name": "stderr",
     "output_type": "stream",
     "text": [
      "100%|██████████| 56256/56256 [08:52<00:00, 105.61audios/s, loss=1.43909, acc=47.00%]\n",
      "100%|██████████| 7488/7488 [00:19<00:00, 382.78audios/s, loss=0.38054, acc=91.00%]\n",
      "  0%|          | 0/56256 [00:00<?, ?audios/s]"
     ]
    },
    {
     "name": "stdout",
     "output_type": "stream",
     "text": [
      "<class 'float'>\n",
      "total time elapsed: 6h 33m 12s , best accuracy: 91.00%, best loss 0.380537\n",
      "epoch  44 with lr=1.00e-05\n"
     ]
    },
    {
     "name": "stderr",
     "output_type": "stream",
     "text": [
      "100%|██████████| 56256/56256 [08:56<00:00, 104.92audios/s, loss=1.43901, acc=47.00%]\n",
      "100%|██████████| 7488/7488 [00:19<00:00, 392.78audios/s, loss=0.42625, acc=90.00%]\n",
      "  0%|          | 0/56256 [00:00<?, ?audios/s]"
     ]
    },
    {
     "name": "stdout",
     "output_type": "stream",
     "text": [
      "<class 'float'>\n",
      "total time elapsed: 6h 42m 28s , best accuracy: 91.00%, best loss 0.380537\n",
      "epoch  45 with lr=1.00e-05\n"
     ]
    },
    {
     "name": "stderr",
     "output_type": "stream",
     "text": [
      "100%|██████████| 56256/56256 [09:00<00:00, 104.12audios/s, loss=1.43750, acc=47.00%]\n",
      "100%|██████████| 7488/7488 [00:19<00:00, 385.37audios/s, loss=0.48601, acc=88.00%]\n",
      "  0%|          | 0/56256 [00:00<?, ?audios/s]"
     ]
    },
    {
     "name": "stdout",
     "output_type": "stream",
     "text": [
      "<class 'float'>\n",
      "total time elapsed: 6h 51m 47s , best accuracy: 91.00%, best loss 0.380537\n",
      "epoch  46 with lr=1.00e-05\n"
     ]
    },
    {
     "name": "stderr",
     "output_type": "stream",
     "text": [
      "100%|██████████| 56256/56256 [08:54<00:00, 105.19audios/s, loss=1.43314, acc=47.00%]\n",
      "100%|██████████| 7488/7488 [00:19<00:00, 379.99audios/s, loss=0.51004, acc=88.00%]\n",
      "  0%|          | 0/56256 [00:00<?, ?audios/s]"
     ]
    },
    {
     "name": "stdout",
     "output_type": "stream",
     "text": [
      "<class 'float'>\n",
      "total time elapsed: 7h 1m 2s , best accuracy: 91.00%, best loss 0.380537\n",
      "epoch  47 with lr=1.00e-05\n"
     ]
    },
    {
     "name": "stderr",
     "output_type": "stream",
     "text": [
      "100%|██████████| 56256/56256 [08:55<00:00, 105.04audios/s, loss=1.43405, acc=47.00%]\n",
      "100%|██████████| 7488/7488 [00:19<00:00, 392.17audios/s, loss=0.44439, acc=89.00%]\n",
      "  0%|          | 0/56256 [00:00<?, ?audios/s]"
     ]
    },
    {
     "name": "stdout",
     "output_type": "stream",
     "text": [
      "<class 'float'>\n",
      "total time elapsed: 7h 10m 17s , best accuracy: 91.00%, best loss 0.380537\n",
      "epoch  48 with lr=1.00e-05\n"
     ]
    },
    {
     "name": "stderr",
     "output_type": "stream",
     "text": [
      "100%|██████████| 56256/56256 [08:53<00:00, 105.42audios/s, loss=1.43567, acc=47.00%]\n",
      "100%|██████████| 7488/7488 [00:18<00:00, 398.16audios/s, loss=0.53480, acc=87.00%]\n",
      "  0%|          | 0/56256 [00:00<?, ?audios/s]"
     ]
    },
    {
     "name": "stdout",
     "output_type": "stream",
     "text": [
      "<class 'float'>\n",
      "total time elapsed: 7h 19m 29s , best accuracy: 91.00%, best loss 0.380537\n",
      "epoch  49 with lr=1.00e-05\n"
     ]
    },
    {
     "name": "stderr",
     "output_type": "stream",
     "text": [
      "100%|██████████| 56256/56256 [09:01<00:00, 103.98audios/s, loss=1.43741, acc=47.00%]\n",
      "100%|██████████| 7488/7488 [00:19<00:00, 383.02audios/s, loss=0.42889, acc=90.00%]\n",
      "  0%|          | 0/56256 [00:00<?, ?audios/s]"
     ]
    },
    {
     "name": "stdout",
     "output_type": "stream",
     "text": [
      "<class 'float'>\n",
      "total time elapsed: 7h 28m 50s , best accuracy: 91.00%, best loss 0.380537\n",
      "epoch  50 with lr=1.00e-06\n"
     ]
    },
    {
     "name": "stderr",
     "output_type": "stream",
     "text": [
      "100%|██████████| 56256/56256 [08:55<00:00, 105.00audios/s, loss=1.43770, acc=47.00%]\n",
      "100%|██████████| 7488/7488 [00:19<00:00, 380.95audios/s, loss=0.48060, acc=89.00%]\n",
      "  0%|          | 0/56256 [00:00<?, ?audios/s]"
     ]
    },
    {
     "name": "stdout",
     "output_type": "stream",
     "text": [
      "<class 'float'>\n",
      "total time elapsed: 7h 38m 5s , best accuracy: 91.00%, best loss 0.380537\n",
      "epoch  51 with lr=1.00e-06\n"
     ]
    },
    {
     "name": "stderr",
     "output_type": "stream",
     "text": [
      "100%|██████████| 56256/56256 [08:57<00:00, 104.71audios/s, loss=1.43859, acc=47.00%]\n",
      "100%|██████████| 7488/7488 [00:19<00:00, 387.17audios/s, loss=0.42368, acc=90.00%]\n",
      "  0%|          | 0/56256 [00:00<?, ?audios/s]"
     ]
    },
    {
     "name": "stdout",
     "output_type": "stream",
     "text": [
      "<class 'float'>\n",
      "total time elapsed: 7h 47m 22s , best accuracy: 91.00%, best loss 0.380537\n",
      "epoch  52 with lr=1.00e-06\n"
     ]
    },
    {
     "name": "stderr",
     "output_type": "stream",
     "text": [
      "100%|██████████| 56256/56256 [08:59<00:00, 104.34audios/s, loss=1.43381, acc=47.00%]\n",
      "100%|██████████| 7488/7488 [00:19<00:00, 381.16audios/s, loss=0.45917, acc=89.00%]\n",
      "  0%|          | 0/56256 [00:00<?, ?audios/s]"
     ]
    },
    {
     "name": "stdout",
     "output_type": "stream",
     "text": [
      "<class 'float'>\n",
      "total time elapsed: 7h 56m 41s , best accuracy: 91.00%, best loss 0.380537\n",
      "epoch  53 with lr=1.00e-06\n"
     ]
    },
    {
     "name": "stderr",
     "output_type": "stream",
     "text": [
      "100%|██████████| 56256/56256 [09:01<00:00, 103.95audios/s, loss=1.43471, acc=47.00%]\n",
      "100%|██████████| 7488/7488 [00:19<00:00, 377.25audios/s, loss=0.51884, acc=88.00%]\n",
      "  0%|          | 0/56256 [00:00<?, ?audios/s]"
     ]
    },
    {
     "name": "stdout",
     "output_type": "stream",
     "text": [
      "<class 'float'>\n",
      "total time elapsed: 8h 6m 2s , best accuracy: 91.00%, best loss 0.380537\n",
      "epoch  54 with lr=1.00e-06\n"
     ]
    },
    {
     "name": "stderr",
     "output_type": "stream",
     "text": [
      "100%|██████████| 56256/56256 [08:57<00:00, 104.76audios/s, loss=1.43772, acc=47.00%]\n",
      "100%|██████████| 7488/7488 [00:19<00:00, 383.62audios/s, loss=0.37832, acc=91.00%]\n",
      "  0%|          | 0/56256 [00:00<?, ?audios/s]"
     ]
    },
    {
     "name": "stdout",
     "output_type": "stream",
     "text": [
      "<class 'float'>\n",
      "total time elapsed: 8h 15m 18s , best accuracy: 91.00%, best loss 0.378318\n",
      "epoch  55 with lr=1.00e-06\n"
     ]
    },
    {
     "name": "stderr",
     "output_type": "stream",
     "text": [
      "100%|██████████| 56256/56256 [08:55<00:00, 105.06audios/s, loss=1.43693, acc=47.00%]\n",
      "100%|██████████| 7488/7488 [00:19<00:00, 379.72audios/s, loss=0.44380, acc=89.00%]\n",
      "  0%|          | 0/56256 [00:00<?, ?audios/s]"
     ]
    },
    {
     "name": "stdout",
     "output_type": "stream",
     "text": [
      "<class 'float'>\n",
      "total time elapsed: 8h 24m 34s , best accuracy: 91.00%, best loss 0.378318\n",
      "epoch  56 with lr=1.00e-06\n"
     ]
    },
    {
     "name": "stderr",
     "output_type": "stream",
     "text": [
      "100%|██████████| 56256/56256 [08:56<00:00, 104.80audios/s, loss=1.43475, acc=47.00%]\n",
      "100%|██████████| 7488/7488 [00:19<00:00, 382.92audios/s, loss=0.43276, acc=90.00%]\n",
      "  0%|          | 0/56256 [00:00<?, ?audios/s]"
     ]
    },
    {
     "name": "stdout",
     "output_type": "stream",
     "text": [
      "<class 'float'>\n",
      "total time elapsed: 8h 33m 50s , best accuracy: 91.00%, best loss 0.378318\n",
      "epoch  57 with lr=1.00e-06\n"
     ]
    },
    {
     "name": "stderr",
     "output_type": "stream",
     "text": [
      "100%|██████████| 56256/56256 [08:54<00:00, 105.27audios/s, loss=1.43382, acc=47.00%]\n",
      "100%|██████████| 7488/7488 [00:19<00:00, 389.61audios/s, loss=0.41425, acc=90.00%]\n",
      "  0%|          | 0/56256 [00:00<?, ?audios/s]"
     ]
    },
    {
     "name": "stdout",
     "output_type": "stream",
     "text": [
      "<class 'float'>\n",
      "total time elapsed: 8h 43m 4s , best accuracy: 91.00%, best loss 0.378318\n",
      "epoch  58 with lr=1.00e-06\n"
     ]
    },
    {
     "name": "stderr",
     "output_type": "stream",
     "text": [
      "100%|██████████| 56256/56256 [08:55<00:00, 105.06audios/s, loss=1.43559, acc=47.00%]\n",
      "100%|██████████| 7488/7488 [00:19<00:00, 384.58audios/s, loss=0.48628, acc=89.00%]\n",
      "  0%|          | 0/56256 [00:00<?, ?audios/s]"
     ]
    },
    {
     "name": "stdout",
     "output_type": "stream",
     "text": [
      "<class 'float'>\n",
      "total time elapsed: 8h 52m 19s , best accuracy: 91.00%, best loss 0.378318\n",
      "epoch  59 with lr=1.00e-06\n"
     ]
    },
    {
     "name": "stderr",
     "output_type": "stream",
     "text": [
      "100%|██████████| 56256/56256 [08:58<00:00, 104.52audios/s, loss=1.43462, acc=47.00%]\n",
      "100%|██████████| 7488/7488 [00:19<00:00, 391.82audios/s, loss=0.45230, acc=89.00%]\n",
      "  0%|          | 0/56256 [00:00<?, ?audios/s]"
     ]
    },
    {
     "name": "stdout",
     "output_type": "stream",
     "text": [
      "<class 'float'>\n",
      "total time elapsed: 9h 1m 36s , best accuracy: 91.00%, best loss 0.378318\n",
      "epoch  60 with lr=1.00e-06\n"
     ]
    },
    {
     "name": "stderr",
     "output_type": "stream",
     "text": [
      "100%|██████████| 56256/56256 [08:55<00:00, 105.09audios/s, loss=1.43998, acc=47.00%]\n",
      "100%|██████████| 7488/7488 [00:19<00:00, 392.91audios/s, loss=0.49924, acc=88.00%]\n",
      "  0%|          | 0/56256 [00:00<?, ?audios/s]"
     ]
    },
    {
     "name": "stdout",
     "output_type": "stream",
     "text": [
      "<class 'float'>\n",
      "total time elapsed: 9h 10m 50s , best accuracy: 91.00%, best loss 0.378318\n",
      "epoch  61 with lr=1.00e-07\n"
     ]
    },
    {
     "name": "stderr",
     "output_type": "stream",
     "text": [
      "100%|██████████| 56256/56256 [08:53<00:00, 105.49audios/s, loss=1.44057, acc=47.00%]\n",
      "100%|██████████| 7488/7488 [00:19<00:00, 392.04audios/s, loss=0.43522, acc=90.00%]\n",
      "  0%|          | 0/56256 [00:00<?, ?audios/s]"
     ]
    },
    {
     "name": "stdout",
     "output_type": "stream",
     "text": [
      "<class 'float'>\n",
      "total time elapsed: 9h 20m 3s , best accuracy: 91.00%, best loss 0.378318\n",
      "epoch  62 with lr=1.00e-07\n"
     ]
    },
    {
     "name": "stderr",
     "output_type": "stream",
     "text": [
      "100%|██████████| 56256/56256 [08:53<00:00, 105.38audios/s, loss=1.43686, acc=47.00%]\n",
      "100%|██████████| 7488/7488 [00:19<00:00, 374.65audios/s, loss=0.49560, acc=88.00%]\n",
      "  0%|          | 0/56256 [00:00<?, ?audios/s]"
     ]
    },
    {
     "name": "stdout",
     "output_type": "stream",
     "text": [
      "<class 'float'>\n",
      "total time elapsed: 9h 29m 17s , best accuracy: 91.00%, best loss 0.378318\n",
      "epoch  63 with lr=1.00e-07\n"
     ]
    },
    {
     "name": "stderr",
     "output_type": "stream",
     "text": [
      "100%|██████████| 56256/56256 [08:53<00:00, 105.46audios/s, loss=1.43668, acc=47.00%]\n",
      "100%|██████████| 7488/7488 [00:19<00:00, 382.99audios/s, loss=0.49941, acc=88.00%]\n",
      "  0%|          | 0/56256 [00:00<?, ?audios/s]"
     ]
    },
    {
     "name": "stdout",
     "output_type": "stream",
     "text": [
      "<class 'float'>\n",
      "total time elapsed: 9h 38m 30s , best accuracy: 91.00%, best loss 0.378318\n",
      "epoch  64 with lr=1.00e-07\n"
     ]
    },
    {
     "name": "stderr",
     "output_type": "stream",
     "text": [
      "100%|██████████| 56256/56256 [08:57<00:00, 104.73audios/s, loss=1.43369, acc=47.00%]\n",
      "100%|██████████| 7488/7488 [00:18<00:00, 400.13audios/s, loss=0.49150, acc=88.00%]\n",
      "  0%|          | 0/56256 [00:00<?, ?audios/s]"
     ]
    },
    {
     "name": "stdout",
     "output_type": "stream",
     "text": [
      "<class 'float'>\n",
      "total time elapsed: 9h 47m 46s , best accuracy: 91.00%, best loss 0.378318\n",
      "epoch  65 with lr=1.00e-07\n"
     ]
    },
    {
     "name": "stderr",
     "output_type": "stream",
     "text": [
      "100%|██████████| 56256/56256 [08:57<00:00, 104.57audios/s, loss=1.43662, acc=47.00%]\n",
      "100%|██████████| 7488/7488 [00:19<00:00, 380.54audios/s, loss=0.43256, acc=90.00%]\n",
      "  0%|          | 0/56256 [00:00<?, ?audios/s]"
     ]
    },
    {
     "name": "stdout",
     "output_type": "stream",
     "text": [
      "<class 'float'>\n",
      "total time elapsed: 9h 57m 3s , best accuracy: 91.00%, best loss 0.378318\n",
      "epoch  66 with lr=1.00e-07\n"
     ]
    },
    {
     "name": "stderr",
     "output_type": "stream",
     "text": [
      "100%|██████████| 56256/56256 [08:55<00:00, 105.12audios/s, loss=1.43402, acc=47.00%]\n",
      "100%|██████████| 7488/7488 [00:19<00:00, 380.89audios/s, loss=0.47167, acc=89.00%]\n",
      "  0%|          | 0/56256 [00:00<?, ?audios/s]"
     ]
    },
    {
     "name": "stdout",
     "output_type": "stream",
     "text": [
      "<class 'float'>\n",
      "total time elapsed: 10h 6m 18s , best accuracy: 91.00%, best loss 0.378318\n",
      "epoch  67 with lr=1.00e-08\n"
     ]
    },
    {
     "name": "stderr",
     "output_type": "stream",
     "text": [
      "100%|██████████| 56256/56256 [08:53<00:00, 105.38audios/s, loss=1.43152, acc=47.00%]\n",
      "100%|██████████| 7488/7488 [00:18<00:00, 403.45audios/s, loss=0.47856, acc=89.00%]\n",
      "  0%|          | 0/56256 [00:00<?, ?audios/s]"
     ]
    },
    {
     "name": "stdout",
     "output_type": "stream",
     "text": [
      "<class 'float'>\n",
      "total time elapsed: 10h 15m 31s , best accuracy: 91.00%, best loss 0.378318\n",
      "epoch  68 with lr=1.00e-08\n"
     ]
    },
    {
     "name": "stderr",
     "output_type": "stream",
     "text": [
      "100%|██████████| 56256/56256 [08:59<00:00, 104.23audios/s, loss=1.43538, acc=47.00%]\n",
      "100%|██████████| 7488/7488 [00:20<00:00, 373.58audios/s, loss=0.47640, acc=89.00%]\n",
      "  0%|          | 0/56256 [00:00<?, ?audios/s]"
     ]
    },
    {
     "name": "stdout",
     "output_type": "stream",
     "text": [
      "<class 'float'>\n",
      "total time elapsed: 10h 24m 50s , best accuracy: 91.00%, best loss 0.378318\n",
      "epoch  69 with lr=1.00e-08\n"
     ]
    },
    {
     "name": "stderr",
     "output_type": "stream",
     "text": [
      "100%|██████████| 56256/56256 [08:50<00:00, 106.02audios/s, loss=1.43804, acc=47.00%]\n",
      "100%|██████████| 7488/7488 [00:17<00:00, 440.19audios/s, loss=0.54096, acc=86.00%]"
     ]
    },
    {
     "name": "stdout",
     "output_type": "stream",
     "text": [
      "<class 'float'>\n",
      "total time elapsed: 10h 33m 58s , best accuracy: 91.00%, best loss 0.378318\n",
      "finished\n"
     ]
    },
    {
     "name": "stderr",
     "output_type": "stream",
     "text": [
      "\n"
     ]
    }
   ],
   "source": [
    "print(\"training %s for Google speech commands...\" % args.model)\n",
    "since = time.time()\n",
    "for epoch in range(start_epoch, args.max_epochs):\n",
    "    if args.lr_scheduler == 'step':\n",
    "        lr_scheduler.step()\n",
    "\n",
    "    train(epoch)\n",
    "    epoch_loss = valid(epoch)\n",
    "\n",
    "    if args.lr_scheduler == 'plateau':\n",
    "        print(type(epoch_loss))\n",
    "        lr_scheduler.step(metrics=epoch_loss)\n",
    "\n",
    "    time_elapsed = time.time() - since\n",
    "    time_str = 'total time elapsed: {:.0f}h {:.0f}m {:.0f}s '.format(time_elapsed // 3600, time_elapsed % 3600 // 60, time_elapsed % 60)\n",
    "    print(\"%s, best accuracy: %.02f%%, best loss %f\" % (time_str, best_accuracy, best_loss))\n",
    "    with open('./train_res18-light-fusionnet.log', 'a+') as f:\n",
    "        f.write(\"%s, epoch: %s, best accuracy: %.02f%%, best loss %f\\n\" % (time_str, epoch,best_accuracy, best_loss))\n",
    "print(\"finished\")"
   ]
  }
 ],
 "metadata": {
  "kernelspec": {
   "display_name": "Python 3",
   "language": "python",
   "name": "python3"
  },
  "language_info": {
   "codemirror_mode": {
    "name": "ipython",
    "version": 3
   },
   "file_extension": ".py",
   "mimetype": "text/x-python",
   "name": "python",
   "nbconvert_exporter": "python",
   "pygments_lexer": "ipython3",
   "version": "3.6.8"
  }
 },
 "nbformat": 4,
 "nbformat_minor": 2
}
