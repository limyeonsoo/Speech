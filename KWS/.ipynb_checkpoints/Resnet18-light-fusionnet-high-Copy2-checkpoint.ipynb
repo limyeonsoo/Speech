{
 "cells": [
  {
   "cell_type": "code",
   "execution_count": 5,
   "metadata": {},
   "outputs": [],
   "source": [
    "#!/usr/bin/env python\n",
    "\"\"\"Train a CNN for Google speech commands.\"\"\"\n",
    "\n",
    "__author__ = 'Yuan Xu, Erdene-Ochir Tuguldur'\n",
    "\n",
    "import argparse\n",
    "import time\n",
    "\n",
    "from tqdm import *\n",
    "\n",
    "import torch\n",
    "from torch.autograd import Variable\n",
    "from torch.utils.data import DataLoader\n",
    "from torch.utils.data.sampler import WeightedRandomSampler\n",
    "\n",
    "import torchvision\n",
    "from torchvision.transforms import *\n",
    "\n",
    "from tensorboardX import SummaryWriter\n",
    "\n",
    "import models\n",
    "from datasets import *\n",
    "from transforms import *\n",
    "from mixup import *"
   ]
  },
  {
   "cell_type": "code",
   "execution_count": 6,
   "metadata": {},
   "outputs": [],
   "source": [
    "import torch.nn as nn\n",
    "import math\n",
    "import torch.utils.model_zoo as model_zoo"
   ]
  },
  {
   "cell_type": "code",
   "execution_count": 7,
   "metadata": {},
   "outputs": [],
   "source": [
    "def conv1x1(in_planes, out_planes, kernel_size, stride=1):\n",
    "    \"\"\"3x3 convolution with padding\"\"\"\n",
    "    return nn.Conv2d(in_planes, out_planes, kernel_size=kernel_size, stride=stride, bias=False, padding=1)\n",
    "\n",
    "class depthwise_separable_conv(nn.Module):\n",
    "    def __init__(self, in_planes, out_planes, kernel_size, stride=1, padding=0, bias=False):\n",
    "        super(depthwise_separable_conv, self).__init__()\n",
    "        self.depthwise = nn.Conv2d(in_planes, in_planes, kernel_size=kernel_size, stride=stride, groups=in_planes, bias=bias, padding=1)\n",
    "        self.bn1 = nn.BatchNorm2d(in_planes)\n",
    "        self.pointwise = nn.Conv2d(in_planes, out_planes, kernel_size=1, stride=1, bias=bias)\n",
    "        self.bn2 = nn.BatchNorm2d(out_planes)\n",
    "\n",
    "    def forward(self, x):\n",
    "        out = self.depthwise(x)\n",
    "        out = self.bn1(out)\n",
    "        out = self.pointwise(out)\n",
    "        out = self.bn2(out)\n",
    "        \n",
    "        return out\n",
    "\n",
    "class BasicBlock(nn.Module):\n",
    "    expansion = 1\n",
    "\n",
    "    def __init__(self, inplanes, planes, stride=1, conv3x1_sample=None, conv1x3_sample=None):\n",
    "        super(BasicBlock, self).__init__()\n",
    "        #self.piece = 4\n",
    "        #adaptive_plane = round((planes-inplanes)/self.piece)\n",
    "        self.conv1 = depthwise_separable_conv(inplanes, planes, 3, stride)\n",
    "        self.bn1 = nn.BatchNorm2d(planes)\n",
    "        self.relu = nn.ReLU(inplace=True)\n",
    "        self.conv2 = depthwise_separable_conv(planes, planes, 3, 1)\n",
    "        self.bn2 = nn.BatchNorm2d(planes)\n",
    "        self.conv3x1_sample = conv3x1_sample\n",
    "        self.conv1x3_sample = conv1x3_sample\n",
    "        #print(self.downsample)\n",
    "        self.stride = stride\n",
    "\n",
    "    def forward(self, x):\n",
    "        #print(x.shape)\n",
    "        residual = x\n",
    "\n",
    "        out = self.conv1(x)\n",
    "        out = self.conv2(out)\n",
    "        #print(\"out {}\".format(out.shape))\n",
    "        if self.conv1x3_sample is not None and self.conv3x1_sample is not None:\n",
    "            vertical = x\n",
    "            horizontal = x\n",
    "            vertical = self.conv1x3_sample(vertical)\n",
    "            horizontal = self.conv3x1_sample(horizontal)\n",
    "            residual = vertical + horizontal\n",
    "        \n",
    "        #print(\"res {}\".format(residual.shape))\n",
    "        out += residual\n",
    "        out = self.relu(out)\n",
    "        \n",
    "        return out\n",
    "\n",
    "class ResNet(nn.Module):\n",
    "\n",
    "    def __init__(self, block, layers, num_classes=1000, in_channels=2):\n",
    "        self.inplanes = 40\n",
    "        super(ResNet, self).__init__()\n",
    "        self.conv1 = nn.Conv2d(in_channels, self.inplanes, kernel_size=3, stride=2, bias=False, padding=3)\n",
    "        self.bn1 = nn.BatchNorm2d(self.inplanes)\n",
    "        self.relu = nn.ReLU(inplace=True)\n",
    "        self.maxpool = nn.MaxPool2d(kernel_size=3, stride=1)\n",
    "        self.layer1 = self._make_layer(block, 40, layers[0], stride=2)\n",
    "        self.layer2 = self._make_layer(block, 40, layers[1], stride=2)\n",
    "        self.layer3 = self._make_layer(block, 40, layers[2], stride=2)\n",
    "        #self.layer4 = self._make_layer(block, 512, layers[3], stride=2)\n",
    "        self.avgpool = nn.AdaptiveAvgPool2d((1, 1))\n",
    "        self.fc = nn.Linear(40, num_classes)\n",
    "\n",
    "        for m in self.modules():\n",
    "            if isinstance(m, nn.Conv2d):\n",
    "                n = m.kernel_size[0] * m.kernel_size[1] * m.out_channels\n",
    "                m.weight.data.normal_(0, math.sqrt(2. / n))\n",
    "            elif isinstance(m, nn.BatchNorm2d):\n",
    "                m.weight.data.fill_(1)\n",
    "                m.bias.data.zero_()\n",
    "\n",
    "    def _make_layer(self, block, planes, blocks, stride=1):\n",
    "        h_sample, v_sample = None, None\n",
    "        if stride != 1 or self.inplanes != planes * block.expansion:\n",
    "            h_sample = nn.Sequential(\n",
    "                nn.Conv2d(self.inplanes, planes * block.expansion,\n",
    "                          kernel_size=(3, 1), stride=1, bias=False, padding=(1,0)),\n",
    "                nn.BatchNorm2d(planes * block.expansion),\n",
    "                nn.ReLU(inplace=True)\n",
    "            )\n",
    "            v_sample = nn.Sequential(\n",
    "                nn.Conv2d(self.inplanes, planes * block.expansion,\n",
    "                          kernel_size=(1, 3), stride=1, bias=False, padding=(0,1)),\n",
    "                nn.BatchNorm2d(planes * block.expansion),\n",
    "                nn.ReLU(inplace=True)\n",
    "            )\n",
    "        #print(downsample)\n",
    "        layers = []\n",
    "        layers.append(block(self.inplanes, planes, stride, h_sample, v_sample))\n",
    "        self.inplanes = planes * block.expansion\n",
    "        for i in range(1, blocks):\n",
    "            layers.append(block(self.inplanes, planes))\n",
    "\n",
    "        return nn.Sequential(*layers)\n",
    "\n",
    "    def forward(self, x):\n",
    "        x = self.conv1(x)\n",
    "        x = self.bn1(x)\n",
    "        x = self.relu(x)\n",
    "        x = self.maxpool(x)\n",
    "        x = self.layer1(x)\n",
    "        x = self.layer2(x)\n",
    "        x = self.layer3(x)\n",
    "        #x = self.layer4(x)\n",
    "        #print(x.shape)\n",
    "        x = self.avgpool(x)\n",
    "        #print(x.shape)\n",
    "        x = x.view(x.size(0), -1)\n",
    "        x = self.fc(x)\n",
    "\n",
    "        return x"
   ]
  },
  {
   "cell_type": "code",
   "execution_count": 4,
   "metadata": {},
   "outputs": [
    {
     "data": {
      "text/plain": [
       "54692"
      ]
     },
     "execution_count": 4,
     "metadata": {},
     "output_type": "execute_result"
    }
   ],
   "source": [
    "model = ResNet(BasicBlock, [2, 2, 2], num_classes=len(CLASSES), in_channels=1)\n",
    "def count_parameters(model):\n",
    "    return sum(p.numel() for p in model.parameters() if p.requires_grad)\n",
    "\n",
    "count_parameters(model)"
   ]
  },
  {
   "cell_type": "code",
   "execution_count": 11,
   "metadata": {},
   "outputs": [],
   "source": [
    "class Arg():\n",
    "    def __init__(self):\n",
    "        self.train_dataset=\"/home/cilab/LabMembers/DJ/sr_dataset/splitted_data/train\"\n",
    "        self.valid_dataset=\"/home/cilab/LabMembers/DJ/sr_dataset/splitted_data/valid\"\n",
    "        self.background_noise=\"/home/cilab/LabMembers/DJ/sr_dataset/splitted_data/train/_background_noise_\"\n",
    "        self.comment=\"\"\n",
    "        self.batch_size=64\n",
    "        self.dataload_workers_nums=6\n",
    "        self.weight_decay=1e-2\n",
    "        self.optim='sgd'\n",
    "        self.learning_rate=0.01\n",
    "        self.lr_scheduler='plateau'\n",
    "        self.lr_scheduler_patience=5\n",
    "        self.lr_scheduler_step_size=50\n",
    "        self.lr_scheduler_gamma=0.1\n",
    "        self.max_epochs=70\n",
    "        self.resume=None\n",
    "        self.model=\"resnet18-light-fusionnet-40\"\n",
    "        self.input=\"mel40\"\n",
    "        self.mixup=True\n",
    "args = Arg()"
   ]
  },
  {
   "cell_type": "code",
   "execution_count": 12,
   "metadata": {},
   "outputs": [
    {
     "name": "stdout",
     "output_type": "stream",
     "text": [
      "use_gpu True\n"
     ]
    }
   ],
   "source": [
    "use_gpu = torch.cuda.is_available()\n",
    "print('use_gpu', use_gpu)\n",
    "if use_gpu:\n",
    "    torch.backends.cudnn.benchmark = True\n",
    "\n",
    "n_mels = 32\n",
    "if args.input == 'mel40':\n",
    "    n_mels = 40\n",
    "\n",
    "data_aug_transform = Compose([ChangeAmplitude(), ChangeSpeedAndPitchAudio(), FixAudioLength(), ToSTFT(), StretchAudioOnSTFT(), TimeshiftAudioOnSTFT(), FixSTFTDimension()])\n",
    "bg_dataset = BackgroundNoiseDataset(args.background_noise, data_aug_transform)\n",
    "add_bg_noise = AddBackgroundNoiseOnSTFT(bg_dataset)\n",
    "train_feature_transform = Compose([ToMelSpectrogramFromSTFT(n_mels=n_mels), DeleteSTFT(), ToTensor('mel_spectrogram', 'input')])\n",
    "train_dataset = SpeechCommandsDataset(args.train_dataset,\n",
    "                                Compose([LoadAudio(),\n",
    "                                         data_aug_transform,\n",
    "                                         add_bg_noise,\n",
    "                                         train_feature_transform]))\n",
    "\n",
    "valid_feature_transform = Compose([ToMelSpectrogram(n_mels=n_mels), ToTensor('mel_spectrogram', 'input')])\n",
    "valid_dataset = SpeechCommandsDataset(args.valid_dataset,\n",
    "                                Compose([LoadAudio(),\n",
    "                                         FixAudioLength(),\n",
    "                                         valid_feature_transform]))\n",
    "\n",
    "weights = train_dataset.make_weights_for_balanced_classes()\n",
    "sampler = WeightedRandomSampler(weights, len(weights))\n",
    "train_dataloader = DataLoader(train_dataset, batch_size=args.batch_size, sampler=sampler,\n",
    "                              pin_memory=use_gpu, num_workers=args.dataload_workers_nums)\n",
    "valid_dataloader = DataLoader(valid_dataset, batch_size=args.batch_size, shuffle=False,\n",
    "                              pin_memory=use_gpu, num_workers=args.dataload_workers_nums)"
   ]
  },
  {
   "cell_type": "code",
   "execution_count": 13,
   "metadata": {
    "scrolled": true
   },
   "outputs": [
    {
     "name": "stdout",
     "output_type": "stream",
     "text": [
      "ResNet(\n",
      "  (conv1): Conv2d(1, 40, kernel_size=(3, 3), stride=(2, 2), padding=(3, 3), bias=False)\n",
      "  (bn1): BatchNorm2d(40, eps=1e-05, momentum=0.1, affine=True, track_running_stats=True)\n",
      "  (relu): ReLU(inplace=True)\n",
      "  (maxpool): MaxPool2d(kernel_size=3, stride=1, padding=0, dilation=1, ceil_mode=False)\n",
      "  (layer1): Sequential(\n",
      "    (0): BasicBlock(\n",
      "      (conv1): depthwise_separable_conv(\n",
      "        (depthwise): Conv2d(40, 40, kernel_size=(3, 3), stride=(1, 1), padding=(1, 1), groups=40, bias=False)\n",
      "        (pointwise): Conv2d(40, 40, kernel_size=(1, 1), stride=(1, 1), bias=False)\n",
      "      )\n",
      "      (bn1): BatchNorm2d(40, eps=1e-05, momentum=0.1, affine=True, track_running_stats=True)\n",
      "      (relu): ReLU(inplace=True)\n",
      "      (conv2): depthwise_separable_conv(\n",
      "        (depthwise): Conv2d(40, 40, kernel_size=(3, 3), stride=(1, 1), padding=(1, 1), groups=40, bias=False)\n",
      "        (pointwise): Conv2d(40, 40, kernel_size=(1, 1), stride=(1, 1), bias=False)\n",
      "      )\n",
      "      (bn2): BatchNorm2d(40, eps=1e-05, momentum=0.1, affine=True, track_running_stats=True)\n",
      "      (conv3x1_sample): Sequential(\n",
      "        (0): Conv2d(40, 40, kernel_size=(3, 1), stride=(1, 1), padding=(1, 0), bias=False)\n",
      "        (1): BatchNorm2d(40, eps=1e-05, momentum=0.1, affine=True, track_running_stats=True)\n",
      "        (2): ReLU(inplace=True)\n",
      "      )\n",
      "      (conv1x3_sample): Sequential(\n",
      "        (0): Conv2d(40, 40, kernel_size=(1, 3), stride=(1, 1), padding=(0, 1), bias=False)\n",
      "        (1): BatchNorm2d(40, eps=1e-05, momentum=0.1, affine=True, track_running_stats=True)\n",
      "        (2): ReLU(inplace=True)\n",
      "      )\n",
      "    )\n",
      "    (1): BasicBlock(\n",
      "      (conv1): depthwise_separable_conv(\n",
      "        (depthwise): Conv2d(40, 40, kernel_size=(3, 3), stride=(1, 1), padding=(1, 1), groups=40, bias=False)\n",
      "        (pointwise): Conv2d(40, 40, kernel_size=(1, 1), stride=(1, 1), bias=False)\n",
      "      )\n",
      "      (bn1): BatchNorm2d(40, eps=1e-05, momentum=0.1, affine=True, track_running_stats=True)\n",
      "      (relu): ReLU(inplace=True)\n",
      "      (conv2): depthwise_separable_conv(\n",
      "        (depthwise): Conv2d(40, 40, kernel_size=(3, 3), stride=(1, 1), padding=(1, 1), groups=40, bias=False)\n",
      "        (pointwise): Conv2d(40, 40, kernel_size=(1, 1), stride=(1, 1), bias=False)\n",
      "      )\n",
      "      (bn2): BatchNorm2d(40, eps=1e-05, momentum=0.1, affine=True, track_running_stats=True)\n",
      "    )\n",
      "  )\n",
      "  (layer2): Sequential(\n",
      "    (0): BasicBlock(\n",
      "      (conv1): depthwise_separable_conv(\n",
      "        (depthwise): Conv2d(40, 40, kernel_size=(3, 3), stride=(1, 1), padding=(1, 1), groups=40, bias=False)\n",
      "        (pointwise): Conv2d(40, 40, kernel_size=(1, 1), stride=(1, 1), bias=False)\n",
      "      )\n",
      "      (bn1): BatchNorm2d(40, eps=1e-05, momentum=0.1, affine=True, track_running_stats=True)\n",
      "      (relu): ReLU(inplace=True)\n",
      "      (conv2): depthwise_separable_conv(\n",
      "        (depthwise): Conv2d(40, 40, kernel_size=(3, 3), stride=(1, 1), padding=(1, 1), groups=40, bias=False)\n",
      "        (pointwise): Conv2d(40, 40, kernel_size=(1, 1), stride=(1, 1), bias=False)\n",
      "      )\n",
      "      (bn2): BatchNorm2d(40, eps=1e-05, momentum=0.1, affine=True, track_running_stats=True)\n",
      "      (conv3x1_sample): Sequential(\n",
      "        (0): Conv2d(40, 40, kernel_size=(3, 1), stride=(1, 1), padding=(1, 0), bias=False)\n",
      "        (1): BatchNorm2d(40, eps=1e-05, momentum=0.1, affine=True, track_running_stats=True)\n",
      "        (2): ReLU(inplace=True)\n",
      "      )\n",
      "      (conv1x3_sample): Sequential(\n",
      "        (0): Conv2d(40, 40, kernel_size=(1, 3), stride=(1, 1), padding=(0, 1), bias=False)\n",
      "        (1): BatchNorm2d(40, eps=1e-05, momentum=0.1, affine=True, track_running_stats=True)\n",
      "        (2): ReLU(inplace=True)\n",
      "      )\n",
      "    )\n",
      "    (1): BasicBlock(\n",
      "      (conv1): depthwise_separable_conv(\n",
      "        (depthwise): Conv2d(40, 40, kernel_size=(3, 3), stride=(1, 1), padding=(1, 1), groups=40, bias=False)\n",
      "        (pointwise): Conv2d(40, 40, kernel_size=(1, 1), stride=(1, 1), bias=False)\n",
      "      )\n",
      "      (bn1): BatchNorm2d(40, eps=1e-05, momentum=0.1, affine=True, track_running_stats=True)\n",
      "      (relu): ReLU(inplace=True)\n",
      "      (conv2): depthwise_separable_conv(\n",
      "        (depthwise): Conv2d(40, 40, kernel_size=(3, 3), stride=(1, 1), padding=(1, 1), groups=40, bias=False)\n",
      "        (pointwise): Conv2d(40, 40, kernel_size=(1, 1), stride=(1, 1), bias=False)\n",
      "      )\n",
      "      (bn2): BatchNorm2d(40, eps=1e-05, momentum=0.1, affine=True, track_running_stats=True)\n",
      "    )\n",
      "  )\n",
      "  (layer3): Sequential(\n",
      "    (0): BasicBlock(\n",
      "      (conv1): depthwise_separable_conv(\n",
      "        (depthwise): Conv2d(40, 40, kernel_size=(3, 3), stride=(1, 1), padding=(1, 1), groups=40, bias=False)\n",
      "        (pointwise): Conv2d(40, 40, kernel_size=(1, 1), stride=(1, 1), bias=False)\n",
      "      )\n",
      "      (bn1): BatchNorm2d(40, eps=1e-05, momentum=0.1, affine=True, track_running_stats=True)\n",
      "      (relu): ReLU(inplace=True)\n",
      "      (conv2): depthwise_separable_conv(\n",
      "        (depthwise): Conv2d(40, 40, kernel_size=(3, 3), stride=(1, 1), padding=(1, 1), groups=40, bias=False)\n",
      "        (pointwise): Conv2d(40, 40, kernel_size=(1, 1), stride=(1, 1), bias=False)\n",
      "      )\n",
      "      (bn2): BatchNorm2d(40, eps=1e-05, momentum=0.1, affine=True, track_running_stats=True)\n",
      "      (conv3x1_sample): Sequential(\n",
      "        (0): Conv2d(40, 40, kernel_size=(3, 1), stride=(1, 1), padding=(1, 0), bias=False)\n",
      "        (1): BatchNorm2d(40, eps=1e-05, momentum=0.1, affine=True, track_running_stats=True)\n",
      "        (2): ReLU(inplace=True)\n",
      "      )\n",
      "      (conv1x3_sample): Sequential(\n",
      "        (0): Conv2d(40, 40, kernel_size=(1, 3), stride=(1, 1), padding=(0, 1), bias=False)\n",
      "        (1): BatchNorm2d(40, eps=1e-05, momentum=0.1, affine=True, track_running_stats=True)\n",
      "        (2): ReLU(inplace=True)\n",
      "      )\n",
      "    )\n",
      "    (1): BasicBlock(\n",
      "      (conv1): depthwise_separable_conv(\n",
      "        (depthwise): Conv2d(40, 40, kernel_size=(3, 3), stride=(1, 1), padding=(1, 1), groups=40, bias=False)\n",
      "        (pointwise): Conv2d(40, 40, kernel_size=(1, 1), stride=(1, 1), bias=False)\n",
      "      )\n",
      "      (bn1): BatchNorm2d(40, eps=1e-05, momentum=0.1, affine=True, track_running_stats=True)\n",
      "      (relu): ReLU(inplace=True)\n",
      "      (conv2): depthwise_separable_conv(\n",
      "        (depthwise): Conv2d(40, 40, kernel_size=(3, 3), stride=(1, 1), padding=(1, 1), groups=40, bias=False)\n",
      "        (pointwise): Conv2d(40, 40, kernel_size=(1, 1), stride=(1, 1), bias=False)\n",
      "      )\n",
      "      (bn2): BatchNorm2d(40, eps=1e-05, momentum=0.1, affine=True, track_running_stats=True)\n",
      "    )\n",
      "  )\n",
      "  (avgpool): AdaptiveAvgPool2d(output_size=(1, 1))\n",
      "  (fc): Linear(in_features=40, out_features=12, bias=True)\n",
      ")\n"
     ]
    }
   ],
   "source": [
    "# a name used to save checkpoints etc.\n",
    "full_name = '%s_%s_%s_bs%d_lr%.1e_wd%.1e' % (args.model, args.optim, args.lr_scheduler, args.batch_size, args.learning_rate, args.weight_decay)\n",
    "if args.comment:\n",
    "    full_name = '%s_%s' % (full_name, args.comment)\n",
    "\n",
    "#model = models.create_model(model_name=args.model, num_classes=len(CLASSES), in_channels=1)\n",
    "model = ResNet(BasicBlock, [2, 2, 2], num_classes=len(CLASSES), in_channels=1)\n",
    "print(model)\n",
    "if use_gpu:\n",
    "    model = torch.nn.DataParallel(model).cuda()\n",
    "\n",
    "criterion = torch.nn.CrossEntropyLoss()\n",
    "\n",
    "if args.optim == 'sgd':\n",
    "    optimizer = torch.optim.SGD(model.parameters(), lr=args.learning_rate, momentum=0.9, weight_decay=args.weight_decay)\n",
    "else:\n",
    "    optimizer = torch.optim.Adam(model.parameters(), lr=args.learning_rate, weight_decay=args.weight_decay)\n",
    "\n",
    "start_timestamp = int(time.time()*1000)\n",
    "start_epoch = 0\n",
    "best_accuracy = 0\n",
    "best_loss = 1e100\n",
    "global_step = 0\n",
    "\n",
    "if args.resume:\n",
    "    print(\"resuming a checkpoint '%s'\" % args.resume)\n",
    "    checkpoint = torch.load(args.resume)\n",
    "    model.load_state_dict(checkpoint['state_dict'])\n",
    "    model.float()\n",
    "    optimizer.load_state_dict(checkpoint['optimizer'])\n",
    "\n",
    "    best_accuracy = checkpoint.get('accuracy', best_accuracy)\n",
    "    best_loss = checkpoint.get('loss', best_loss)\n",
    "    start_epoch = checkpoint.get('epoch', start_epoch)\n",
    "    global_step = checkpoint.get('step', global_step)\n",
    "\n",
    "    del checkpoint  # reduce memory\n",
    "\n",
    "if args.lr_scheduler == 'plateau':\n",
    "    lr_scheduler = torch.optim.lr_scheduler.ReduceLROnPlateau(optimizer, patience=args.lr_scheduler_patience, factor=args.lr_scheduler_gamma)\n",
    "else:\n",
    "    lr_scheduler = torch.optim.lr_scheduler.StepLR(optimizer, step_size=args.lr_scheduler_step_size, gamma=args.lr_scheduler_gamma, last_epoch=start_epoch-1)"
   ]
  },
  {
   "cell_type": "code",
   "execution_count": 14,
   "metadata": {},
   "outputs": [
    {
     "data": {
      "text/plain": [
       "54692"
      ]
     },
     "execution_count": 14,
     "metadata": {},
     "output_type": "execute_result"
    }
   ],
   "source": [
    "def count_parameters(model):\n",
    "    return sum(p.numel() for p in model.parameters() if p.requires_grad)\n",
    "\n",
    "count_parameters(model)"
   ]
  },
  {
   "cell_type": "code",
   "execution_count": 15,
   "metadata": {},
   "outputs": [],
   "source": [
    "def get_lr():\n",
    "    return optimizer.param_groups[0]['lr']\n",
    "\n",
    "writer = SummaryWriter(comment=('_speech_commands_' + full_name))\n",
    "\n",
    "def train(epoch):\n",
    "    global global_step\n",
    "\n",
    "    print(\"epoch %3d with lr=%.02e\" % (epoch, get_lr()))\n",
    "    phase = 'train'\n",
    "    writer.add_scalar('%s/learning_rate' % phase,  get_lr(), epoch)\n",
    "\n",
    "    model.train()  # Set model to training mode\n",
    "\n",
    "    running_loss = 0.0\n",
    "    it = 0\n",
    "    correct = 0\n",
    "    total = 0\n",
    "\n",
    "    pbar = tqdm(train_dataloader, unit=\"audios\", unit_scale=train_dataloader.batch_size)\n",
    "    for batch in pbar:\n",
    "        inputs = batch['input']\n",
    "        inputs = torch.unsqueeze(inputs, 1)\n",
    "        targets = batch['target']\n",
    "\n",
    "        if args.mixup:\n",
    "            inputs, targets = mixup(inputs, targets, num_classes=len(CLASSES))\n",
    "\n",
    "        inputs = Variable(inputs, requires_grad=True)\n",
    "        targets = Variable(targets, requires_grad=False)\n",
    "        if use_gpu:\n",
    "            inputs = inputs.cuda()\n",
    "            targets = targets.cuda(async=True)\n",
    "\n",
    "        # forward/backward\n",
    "        outputs = model(inputs)\n",
    "        if args.mixup:\n",
    "            loss = mixup_cross_entropy_loss(outputs, targets)\n",
    "        else:\n",
    "            loss = criterion(outputs, targets)\n",
    "        optimizer.zero_grad()\n",
    "        loss.backward()\n",
    "        optimizer.step()\n",
    "\n",
    "        # statistics\n",
    "        it += 1\n",
    "        global_step += 1\n",
    "        running_loss += loss.item()\n",
    "        pred = outputs.data.max(1, keepdim=True)[1]\n",
    "        if args.mixup:\n",
    "            targets = batch['target']\n",
    "            targets = Variable(targets, requires_grad=False).cuda(async=True)\n",
    "        correct += pred.eq(targets.data.view_as(pred)).sum()\n",
    "        total += targets.size(0)\n",
    "\n",
    "        writer.add_scalar('%s/loss' % phase, loss.item(), global_step)\n",
    "\n",
    "        # update the progress bar\n",
    "        pbar.set_postfix({\n",
    "            'loss': \"%.05f\" % (running_loss / it),\n",
    "            'acc': \"%.02f%%\" % (100*correct/total)\n",
    "        })\n",
    "\n",
    "    accuracy = correct/total\n",
    "    epoch_loss = running_loss / it\n",
    "    writer.add_scalar('%s/accuracy' % phase, 100*accuracy, epoch)\n",
    "    writer.add_scalar('%s/epoch_loss' % phase, epoch_loss, epoch)"
   ]
  },
  {
   "cell_type": "code",
   "execution_count": 16,
   "metadata": {},
   "outputs": [],
   "source": [
    "def valid(epoch):\n",
    "    global best_accuracy, best_loss, global_step\n",
    "\n",
    "    phase = 'valid'\n",
    "    model.eval()  # Set model to evaluate mode\n",
    "\n",
    "    running_loss = 0.0\n",
    "    it = 0\n",
    "    correct = 0\n",
    "    total = 0\n",
    "\n",
    "    pbar = tqdm(valid_dataloader, unit=\"audios\", unit_scale=valid_dataloader.batch_size)\n",
    "    for batch in pbar:\n",
    "        inputs = batch['input']\n",
    "        inputs = torch.unsqueeze(inputs, 1)\n",
    "        targets = batch['target']\n",
    "\n",
    "        inputs = Variable(inputs, volatile = True)\n",
    "        targets = Variable(targets, requires_grad=False)\n",
    "\n",
    "        if use_gpu:\n",
    "            inputs = inputs.cuda()\n",
    "            targets = targets.cuda(async=True)\n",
    "\n",
    "        # forward\n",
    "        outputs = model(inputs)\n",
    "        loss = criterion(outputs, targets)\n",
    "\n",
    "        # statistics\n",
    "        it += 1\n",
    "        global_step += 1\n",
    "        running_loss += loss.item()\n",
    "        pred = outputs.data.max(1, keepdim=True)[1]\n",
    "        correct += pred.eq(targets.data.view_as(pred)).sum()\n",
    "        total += targets.size(0)\n",
    "\n",
    "        writer.add_scalar('%s/loss' % phase, loss.item(), global_step)\n",
    "\n",
    "        # update the progress bar\n",
    "        pbar.set_postfix({\n",
    "            'loss': \"%.05f\" % (running_loss / it),\n",
    "            'acc': \"%.02f%%\" % (100*correct/total)\n",
    "        })\n",
    "\n",
    "    accuracy = 100*correct/total\n",
    "    epoch_loss = running_loss / it\n",
    "    writer.add_scalar('%s/accuracy' % phase, accuracy, epoch)\n",
    "    writer.add_scalar('%s/epoch_loss' % phase, epoch_loss, epoch)\n",
    "    checkpoint = {\n",
    "        'epoch': epoch,\n",
    "        'step': global_step,\n",
    "        'state_dict': model.state_dict(),\n",
    "        'loss': epoch_loss,\n",
    "        'accuracy': accuracy,\n",
    "        'optimizer' : optimizer.state_dict(),\n",
    "    }\n",
    "    if accuracy > best_accuracy:\n",
    "        best_accuracy = accuracy\n",
    "        torch.save(checkpoint, 'checkpoints/best-acc-%s.pth' % full_name)\n",
    "        torch.save(model, '%d-%s-best-acc.pth' % (start_timestamp, full_name))\n",
    "    if epoch_loss < best_loss:\n",
    "        best_loss = epoch_loss\n",
    "        torch.save(checkpoint, 'checkpoints/best-loss-%s.pth' % full_name)\n",
    "        torch.save(model, '%d-%s-best-loss.pth' % (start_timestamp, full_name))\n",
    "    torch.save(model, './%s.pth'%(full_name))\n",
    "    #torch.save(checkpoint, 'checkpoints/Resnet18.pth')\n",
    "    del checkpoint  # reduce memory\n",
    "\n",
    "    return epoch_loss"
   ]
  },
  {
   "cell_type": "code",
   "execution_count": 17,
   "metadata": {},
   "outputs": [
    {
     "name": "stderr",
     "output_type": "stream",
     "text": [
      "\r",
      "  0%|          | 0/56256 [00:00<?, ?audios/s]"
     ]
    },
    {
     "name": "stdout",
     "output_type": "stream",
     "text": [
      "training resnet18-light-fusionnet-40 for Google speech commands...\n",
      "epoch   0 with lr=1.00e-02\n"
     ]
    },
    {
     "name": "stderr",
     "output_type": "stream",
     "text": [
      "100%|██████████| 56256/56256 [09:10<00:00, 102.21audios/s, loss=2.27411, acc=18.00%]\n",
      "  0%|          | 0/7488 [00:00<?, ?audios/s]/usr/local/lib/python3.6/dist-packages/ipykernel_launcher.py:18: UserWarning: volatile was removed and now has no effect. Use `with torch.no_grad():` instead.\n",
      "100%|██████████| 7488/7488 [00:19<00:00, 377.50audios/s, loss=2.26083, acc=16.00%]\n",
      "/home/cilab/.local/lib/python3.6/site-packages/torch/serialization.py:292: UserWarning: Couldn't retrieve source code for container of type DataParallel. It won't be checked for correctness upon loading.\n",
      "  \"type \" + obj.__name__ + \". It won't be checked \"\n",
      "/home/cilab/.local/lib/python3.6/site-packages/torch/serialization.py:292: UserWarning: Couldn't retrieve source code for container of type ResNet. It won't be checked for correctness upon loading.\n",
      "  \"type \" + obj.__name__ + \". It won't be checked \"\n",
      "/home/cilab/.local/lib/python3.6/site-packages/torch/serialization.py:292: UserWarning: Couldn't retrieve source code for container of type Conv2d. It won't be checked for correctness upon loading.\n",
      "  \"type \" + obj.__name__ + \". It won't be checked \"\n",
      "/home/cilab/.local/lib/python3.6/site-packages/torch/serialization.py:292: UserWarning: Couldn't retrieve source code for container of type BatchNorm2d. It won't be checked for correctness upon loading.\n",
      "  \"type \" + obj.__name__ + \". It won't be checked \"\n",
      "/home/cilab/.local/lib/python3.6/site-packages/torch/serialization.py:292: UserWarning: Couldn't retrieve source code for container of type ReLU. It won't be checked for correctness upon loading.\n",
      "  \"type \" + obj.__name__ + \". It won't be checked \"\n",
      "/home/cilab/.local/lib/python3.6/site-packages/torch/serialization.py:292: UserWarning: Couldn't retrieve source code for container of type MaxPool2d. It won't be checked for correctness upon loading.\n",
      "  \"type \" + obj.__name__ + \". It won't be checked \"\n",
      "/home/cilab/.local/lib/python3.6/site-packages/torch/serialization.py:292: UserWarning: Couldn't retrieve source code for container of type Sequential. It won't be checked for correctness upon loading.\n",
      "  \"type \" + obj.__name__ + \". It won't be checked \"\n",
      "/home/cilab/.local/lib/python3.6/site-packages/torch/serialization.py:292: UserWarning: Couldn't retrieve source code for container of type BasicBlock. It won't be checked for correctness upon loading.\n",
      "  \"type \" + obj.__name__ + \". It won't be checked \"\n",
      "/home/cilab/.local/lib/python3.6/site-packages/torch/serialization.py:292: UserWarning: Couldn't retrieve source code for container of type depthwise_separable_conv. It won't be checked for correctness upon loading.\n",
      "  \"type \" + obj.__name__ + \". It won't be checked \"\n",
      "/home/cilab/.local/lib/python3.6/site-packages/torch/serialization.py:292: UserWarning: Couldn't retrieve source code for container of type AdaptiveAvgPool2d. It won't be checked for correctness upon loading.\n",
      "  \"type \" + obj.__name__ + \". It won't be checked \"\n",
      "/home/cilab/.local/lib/python3.6/site-packages/torch/serialization.py:292: UserWarning: Couldn't retrieve source code for container of type Linear. It won't be checked for correctness upon loading.\n",
      "  \"type \" + obj.__name__ + \". It won't be checked \"\n",
      "  0%|          | 0/56256 [00:00<?, ?audios/s]"
     ]
    },
    {
     "name": "stdout",
     "output_type": "stream",
     "text": [
      "<class 'float'>\n",
      "total time elapsed: 0h 9m 30s , best accuracy: 16.00%, best loss 2.260832\n",
      "epoch   1 with lr=1.00e-02\n"
     ]
    },
    {
     "name": "stderr",
     "output_type": "stream",
     "text": [
      "100%|██████████| 56256/56256 [08:58<00:00, 104.38audios/s, loss=1.93519, acc=31.00%]\n",
      "100%|██████████| 7488/7488 [00:19<00:00, 388.36audios/s, loss=1.78631, acc=32.00%]\n",
      "  0%|          | 0/56256 [00:00<?, ?audios/s]"
     ]
    },
    {
     "name": "stdout",
     "output_type": "stream",
     "text": [
      "<class 'float'>\n",
      "total time elapsed: 0h 18m 49s , best accuracy: 32.00%, best loss 1.786306\n",
      "epoch   2 with lr=1.00e-02\n"
     ]
    },
    {
     "name": "stderr",
     "output_type": "stream",
     "text": [
      "100%|██████████| 56256/56256 [08:57<00:00, 104.73audios/s, loss=1.82274, acc=35.00%]\n",
      "100%|██████████| 7488/7488 [00:19<00:00, 375.69audios/s, loss=2.38690, acc=23.00%]\n",
      "  0%|          | 0/56256 [00:00<?, ?audios/s]"
     ]
    },
    {
     "name": "stdout",
     "output_type": "stream",
     "text": [
      "<class 'float'>\n",
      "total time elapsed: 0h 28m 6s , best accuracy: 32.00%, best loss 1.786306\n",
      "epoch   3 with lr=1.00e-02\n"
     ]
    },
    {
     "name": "stderr",
     "output_type": "stream",
     "text": [
      "100%|██████████| 56256/56256 [08:58<00:00, 104.53audios/s, loss=1.76467, acc=37.00%]\n",
      "100%|██████████| 7488/7488 [00:19<00:00, 377.26audios/s, loss=1.20553, acc=59.00%]\n",
      "  0%|          | 0/56256 [00:00<?, ?audios/s]"
     ]
    },
    {
     "name": "stdout",
     "output_type": "stream",
     "text": [
      "<class 'float'>\n",
      "total time elapsed: 0h 37m 24s , best accuracy: 59.00%, best loss 1.205525\n",
      "epoch   4 with lr=1.00e-02\n"
     ]
    },
    {
     "name": "stderr",
     "output_type": "stream",
     "text": [
      "100%|██████████| 56256/56256 [08:51<00:00, 105.83audios/s, loss=1.73523, acc=38.00%]\n",
      "100%|██████████| 7488/7488 [00:19<00:00, 386.01audios/s, loss=1.46004, acc=45.00%]\n",
      "  0%|          | 0/56256 [00:00<?, ?audios/s]"
     ]
    },
    {
     "name": "stdout",
     "output_type": "stream",
     "text": [
      "<class 'float'>\n",
      "total time elapsed: 0h 46m 35s , best accuracy: 59.00%, best loss 1.205525\n",
      "epoch   5 with lr=1.00e-02\n"
     ]
    },
    {
     "name": "stderr",
     "output_type": "stream",
     "text": [
      "100%|██████████| 56256/56256 [08:57<00:00, 104.60audios/s, loss=1.71729, acc=39.00%]\n",
      "100%|██████████| 7488/7488 [00:19<00:00, 375.97audios/s, loss=2.11823, acc=28.00%]\n",
      "  0%|          | 0/56256 [00:00<?, ?audios/s]"
     ]
    },
    {
     "name": "stdout",
     "output_type": "stream",
     "text": [
      "<class 'float'>\n",
      "total time elapsed: 0h 55m 53s , best accuracy: 59.00%, best loss 1.205525\n",
      "epoch   6 with lr=1.00e-02\n"
     ]
    },
    {
     "name": "stderr",
     "output_type": "stream",
     "text": [
      "100%|██████████| 56256/56256 [08:59<00:00, 104.33audios/s, loss=1.69828, acc=40.00%]\n",
      "100%|██████████| 7488/7488 [00:19<00:00, 384.35audios/s, loss=1.75563, acc=38.00%]\n",
      "  0%|          | 0/56256 [00:00<?, ?audios/s]"
     ]
    },
    {
     "name": "stdout",
     "output_type": "stream",
     "text": [
      "<class 'float'>\n",
      "total time elapsed: 1h 5m 11s , best accuracy: 59.00%, best loss 1.205525\n",
      "epoch   7 with lr=1.00e-02\n"
     ]
    },
    {
     "name": "stderr",
     "output_type": "stream",
     "text": [
      "100%|██████████| 56256/56256 [08:52<00:00, 105.66audios/s, loss=1.69295, acc=40.00%]\n",
      "100%|██████████| 7488/7488 [00:20<00:00, 370.25audios/s, loss=1.46812, acc=47.00%]\n",
      "  0%|          | 0/56256 [00:00<?, ?audios/s]"
     ]
    },
    {
     "name": "stdout",
     "output_type": "stream",
     "text": [
      "<class 'float'>\n",
      "total time elapsed: 1h 14m 24s , best accuracy: 59.00%, best loss 1.205525\n",
      "epoch   8 with lr=1.00e-02\n"
     ]
    },
    {
     "name": "stderr",
     "output_type": "stream",
     "text": [
      "100%|██████████| 56256/56256 [08:57<00:00, 104.71audios/s, loss=1.68369, acc=40.00%]\n",
      "100%|██████████| 7488/7488 [00:19<00:00, 381.36audios/s, loss=1.58332, acc=42.00%]\n",
      "  0%|          | 0/56256 [00:00<?, ?audios/s]"
     ]
    },
    {
     "name": "stdout",
     "output_type": "stream",
     "text": [
      "<class 'float'>\n",
      "total time elapsed: 1h 23m 41s , best accuracy: 59.00%, best loss 1.205525\n",
      "epoch   9 with lr=1.00e-02\n"
     ]
    },
    {
     "name": "stderr",
     "output_type": "stream",
     "text": [
      "100%|██████████| 56256/56256 [08:54<00:00, 105.32audios/s, loss=1.66926, acc=41.00%]\n",
      "100%|██████████| 7488/7488 [00:19<00:00, 393.93audios/s, loss=0.84049, acc=74.00%]\n",
      "  0%|          | 0/56256 [00:00<?, ?audios/s]"
     ]
    },
    {
     "name": "stdout",
     "output_type": "stream",
     "text": [
      "<class 'float'>\n",
      "total time elapsed: 1h 32m 54s , best accuracy: 74.00%, best loss 0.840493\n",
      "epoch  10 with lr=1.00e-02\n"
     ]
    },
    {
     "name": "stderr",
     "output_type": "stream",
     "text": [
      "100%|██████████| 56256/56256 [08:51<00:00, 105.85audios/s, loss=1.67227, acc=41.00%]\n",
      "100%|██████████| 7488/7488 [00:20<00:00, 365.16audios/s, loss=1.51667, acc=47.00%]\n",
      "  0%|          | 0/56256 [00:00<?, ?audios/s]"
     ]
    },
    {
     "name": "stdout",
     "output_type": "stream",
     "text": [
      "<class 'float'>\n",
      "total time elapsed: 1h 42m 6s , best accuracy: 74.00%, best loss 0.840493\n",
      "epoch  11 with lr=1.00e-02\n"
     ]
    },
    {
     "name": "stderr",
     "output_type": "stream",
     "text": [
      "100%|██████████| 56256/56256 [09:05<00:00, 103.04audios/s, loss=1.66386, acc=41.00%]\n",
      "100%|██████████| 7488/7488 [00:19<00:00, 381.64audios/s, loss=0.84895, acc=73.00%]\n",
      "  0%|          | 0/56256 [00:00<?, ?audios/s]"
     ]
    },
    {
     "name": "stdout",
     "output_type": "stream",
     "text": [
      "<class 'float'>\n",
      "total time elapsed: 1h 51m 32s , best accuracy: 74.00%, best loss 0.840493\n",
      "epoch  12 with lr=1.00e-02\n"
     ]
    },
    {
     "name": "stderr",
     "output_type": "stream",
     "text": [
      "100%|██████████| 56256/56256 [09:11<00:00, 101.93audios/s, loss=1.66994, acc=40.00%]\n",
      "100%|██████████| 7488/7488 [00:19<00:00, 384.02audios/s, loss=1.91018, acc=36.00%]\n",
      "  0%|          | 0/56256 [00:00<?, ?audios/s]"
     ]
    },
    {
     "name": "stdout",
     "output_type": "stream",
     "text": [
      "<class 'float'>\n",
      "total time elapsed: 2h 1m 3s , best accuracy: 74.00%, best loss 0.840493\n",
      "epoch  13 with lr=1.00e-02\n"
     ]
    },
    {
     "name": "stderr",
     "output_type": "stream",
     "text": [
      "100%|██████████| 56256/56256 [09:22<00:00, 100.07audios/s, loss=1.66777, acc=41.00%]\n",
      "100%|██████████| 7488/7488 [00:20<00:00, 363.47audios/s, loss=1.15076, acc=61.00%]\n",
      "  0%|          | 0/56256 [00:00<?, ?audios/s]"
     ]
    },
    {
     "name": "stdout",
     "output_type": "stream",
     "text": [
      "<class 'float'>\n",
      "total time elapsed: 2h 10m 46s , best accuracy: 74.00%, best loss 0.840493\n",
      "epoch  14 with lr=1.00e-02\n"
     ]
    },
    {
     "name": "stderr",
     "output_type": "stream",
     "text": [
      "100%|██████████| 56256/56256 [09:24<00:00, 99.65audios/s, loss=1.66700, acc=41.00%] \n",
      "100%|██████████| 7488/7488 [00:20<00:00, 373.43audios/s, loss=1.55963, acc=41.00%]\n",
      "  0%|          | 0/56256 [00:00<?, ?audios/s]"
     ]
    },
    {
     "name": "stdout",
     "output_type": "stream",
     "text": [
      "<class 'float'>\n",
      "total time elapsed: 2h 20m 31s , best accuracy: 74.00%, best loss 0.840493\n",
      "epoch  15 with lr=1.00e-02\n"
     ]
    },
    {
     "name": "stderr",
     "output_type": "stream",
     "text": [
      "100%|██████████| 56256/56256 [09:26<00:00, 99.28audios/s, loss=1.65610, acc=41.00%] \n",
      "100%|██████████| 7488/7488 [00:20<00:00, 365.28audios/s, loss=1.27458, acc=58.00%]\n",
      "  0%|          | 0/56256 [00:00<?, ?audios/s]"
     ]
    },
    {
     "name": "stdout",
     "output_type": "stream",
     "text": [
      "<class 'float'>\n",
      "total time elapsed: 2h 30m 18s , best accuracy: 74.00%, best loss 0.840493\n",
      "epoch  16 with lr=1.00e-03\n"
     ]
    },
    {
     "name": "stderr",
     "output_type": "stream",
     "text": [
      "100%|██████████| 56256/56256 [09:26<00:00, 99.30audios/s, loss=1.53844, acc=44.00%] \n",
      "100%|██████████| 7488/7488 [00:19<00:00, 375.26audios/s, loss=0.78020, acc=75.00%]\n",
      "  0%|          | 0/56256 [00:00<?, ?audios/s]"
     ]
    },
    {
     "name": "stdout",
     "output_type": "stream",
     "text": [
      "<class 'float'>\n",
      "total time elapsed: 2h 40m 5s , best accuracy: 75.00%, best loss 0.780196\n",
      "epoch  17 with lr=1.00e-03\n"
     ]
    },
    {
     "name": "stderr",
     "output_type": "stream",
     "text": [
      "100%|██████████| 56256/56256 [09:26<00:00, 99.37audios/s, loss=1.50580, acc=45.00%] \n",
      "100%|██████████| 7488/7488 [00:20<00:00, 356.60audios/s, loss=0.59257, acc=83.00%]\n",
      "  0%|          | 0/56256 [00:00<?, ?audios/s]"
     ]
    },
    {
     "name": "stdout",
     "output_type": "stream",
     "text": [
      "<class 'float'>\n",
      "total time elapsed: 2h 49m 52s , best accuracy: 83.00%, best loss 0.592565\n",
      "epoch  18 with lr=1.00e-03\n"
     ]
    },
    {
     "name": "stderr",
     "output_type": "stream",
     "text": [
      "100%|██████████| 56256/56256 [09:24<00:00, 99.66audios/s, loss=1.50620, acc=45.00%] \n",
      "100%|██████████| 7488/7488 [00:20<00:00, 364.52audios/s, loss=0.64886, acc=82.00%]\n",
      "  0%|          | 0/56256 [00:00<?, ?audios/s]"
     ]
    },
    {
     "name": "stdout",
     "output_type": "stream",
     "text": [
      "<class 'float'>\n",
      "total time elapsed: 2h 59m 37s , best accuracy: 83.00%, best loss 0.592565\n",
      "epoch  19 with lr=1.00e-03\n"
     ]
    },
    {
     "name": "stderr",
     "output_type": "stream",
     "text": [
      "100%|██████████| 56256/56256 [09:13<00:00, 101.57audios/s, loss=1.49515, acc=46.00%]\n",
      "100%|██████████| 7488/7488 [00:19<00:00, 382.66audios/s, loss=0.54601, acc=86.00%]\n",
      "  0%|          | 0/56256 [00:00<?, ?audios/s]"
     ]
    },
    {
     "name": "stdout",
     "output_type": "stream",
     "text": [
      "<class 'float'>\n",
      "total time elapsed: 3h 9m 10s , best accuracy: 86.00%, best loss 0.546012\n",
      "epoch  20 with lr=1.00e-03\n"
     ]
    },
    {
     "name": "stderr",
     "output_type": "stream",
     "text": [
      "100%|██████████| 56256/56256 [09:01<00:00, 103.87audios/s, loss=1.48459, acc=46.00%]\n",
      "100%|██████████| 7488/7488 [00:19<00:00, 386.17audios/s, loss=0.74618, acc=78.00%]\n",
      "  0%|          | 0/56256 [00:00<?, ?audios/s]"
     ]
    },
    {
     "name": "stdout",
     "output_type": "stream",
     "text": [
      "<class 'float'>\n",
      "total time elapsed: 3h 18m 31s , best accuracy: 86.00%, best loss 0.546012\n",
      "epoch  21 with lr=1.00e-03\n"
     ]
    },
    {
     "name": "stderr",
     "output_type": "stream",
     "text": [
      "100%|██████████| 56256/56256 [08:59<00:00, 104.20audios/s, loss=1.48308, acc=46.00%]\n",
      "100%|██████████| 7488/7488 [00:18<00:00, 396.17audios/s, loss=0.56502, acc=84.00%]\n",
      "  0%|          | 0/56256 [00:00<?, ?audios/s]"
     ]
    },
    {
     "name": "stdout",
     "output_type": "stream",
     "text": [
      "<class 'float'>\n",
      "total time elapsed: 3h 27m 50s , best accuracy: 86.00%, best loss 0.546012\n",
      "epoch  22 with lr=1.00e-03\n"
     ]
    },
    {
     "name": "stderr",
     "output_type": "stream",
     "text": [
      "100%|██████████| 56256/56256 [08:58<00:00, 104.50audios/s, loss=1.47599, acc=46.00%]\n",
      "100%|██████████| 7488/7488 [00:19<00:00, 384.43audios/s, loss=0.63343, acc=80.00%]\n",
      "  0%|          | 0/56256 [00:00<?, ?audios/s]"
     ]
    },
    {
     "name": "stdout",
     "output_type": "stream",
     "text": [
      "<class 'float'>\n",
      "total time elapsed: 3h 37m 8s , best accuracy: 86.00%, best loss 0.546012\n",
      "epoch  23 with lr=1.00e-03\n"
     ]
    },
    {
     "name": "stderr",
     "output_type": "stream",
     "text": [
      "100%|██████████| 56256/56256 [08:57<00:00, 104.72audios/s, loss=1.47234, acc=46.00%]\n",
      "100%|██████████| 7488/7488 [00:20<00:00, 369.05audios/s, loss=0.50845, acc=86.00%]\n",
      "  0%|          | 0/56256 [00:00<?, ?audios/s]"
     ]
    },
    {
     "name": "stdout",
     "output_type": "stream",
     "text": [
      "<class 'float'>\n",
      "total time elapsed: 3h 46m 26s , best accuracy: 86.00%, best loss 0.508451\n",
      "epoch  24 with lr=1.00e-03\n"
     ]
    },
    {
     "name": "stderr",
     "output_type": "stream",
     "text": [
      "100%|██████████| 56256/56256 [08:55<00:00, 104.99audios/s, loss=1.47214, acc=46.00%]\n",
      "100%|██████████| 7488/7488 [00:18<00:00, 396.42audios/s, loss=0.55038, acc=86.00%]\n",
      "  0%|          | 0/56256 [00:00<?, ?audios/s]"
     ]
    },
    {
     "name": "stdout",
     "output_type": "stream",
     "text": [
      "<class 'float'>\n",
      "total time elapsed: 3h 55m 40s , best accuracy: 86.00%, best loss 0.508451\n",
      "epoch  25 with lr=1.00e-03\n"
     ]
    },
    {
     "name": "stderr",
     "output_type": "stream",
     "text": [
      "100%|██████████| 56256/56256 [08:58<00:00, 104.50audios/s, loss=1.47585, acc=46.00%]\n",
      "100%|██████████| 7488/7488 [00:19<00:00, 381.62audios/s, loss=0.33811, acc=92.00%]\n",
      "  0%|          | 0/56256 [00:00<?, ?audios/s]"
     ]
    },
    {
     "name": "stdout",
     "output_type": "stream",
     "text": [
      "<class 'float'>\n",
      "total time elapsed: 4h 4m 58s , best accuracy: 92.00%, best loss 0.338110\n",
      "epoch  26 with lr=1.00e-03\n"
     ]
    },
    {
     "name": "stderr",
     "output_type": "stream",
     "text": [
      "100%|██████████| 56256/56256 [08:56<00:00, 104.83audios/s, loss=1.46601, acc=46.00%]\n",
      "100%|██████████| 7488/7488 [00:19<00:00, 390.36audios/s, loss=0.53485, acc=84.00%]\n",
      "  0%|          | 0/56256 [00:00<?, ?audios/s]"
     ]
    },
    {
     "name": "stdout",
     "output_type": "stream",
     "text": [
      "<class 'float'>\n",
      "total time elapsed: 4h 14m 14s , best accuracy: 92.00%, best loss 0.338110\n",
      "epoch  27 with lr=1.00e-03\n"
     ]
    },
    {
     "name": "stderr",
     "output_type": "stream",
     "text": [
      "100%|██████████| 56256/56256 [08:58<00:00, 104.39audios/s, loss=1.46455, acc=46.00%]\n",
      "100%|██████████| 7488/7488 [00:19<00:00, 380.82audios/s, loss=0.71303, acc=76.00%]\n",
      "  0%|          | 0/56256 [00:00<?, ?audios/s]"
     ]
    },
    {
     "name": "stdout",
     "output_type": "stream",
     "text": [
      "<class 'float'>\n",
      "total time elapsed: 4h 23m 33s , best accuracy: 92.00%, best loss 0.338110\n",
      "epoch  28 with lr=1.00e-03\n"
     ]
    },
    {
     "name": "stderr",
     "output_type": "stream",
     "text": [
      "100%|██████████| 56256/56256 [08:49<00:00, 106.20audios/s, loss=1.46025, acc=46.00%]\n",
      "100%|██████████| 7488/7488 [00:19<00:00, 379.98audios/s, loss=0.29347, acc=92.00%]\n",
      "  0%|          | 0/56256 [00:00<?, ?audios/s]"
     ]
    },
    {
     "name": "stdout",
     "output_type": "stream",
     "text": [
      "<class 'float'>\n",
      "total time elapsed: 4h 32m 42s , best accuracy: 92.00%, best loss 0.293470\n",
      "epoch  29 with lr=1.00e-03\n"
     ]
    },
    {
     "name": "stderr",
     "output_type": "stream",
     "text": [
      "100%|██████████| 56256/56256 [08:59<00:00, 104.37audios/s, loss=1.46406, acc=46.00%]\n",
      "100%|██████████| 7488/7488 [00:19<00:00, 387.17audios/s, loss=0.54296, acc=84.00%]\n",
      "  0%|          | 0/56256 [00:00<?, ?audios/s]"
     ]
    },
    {
     "name": "stdout",
     "output_type": "stream",
     "text": [
      "<class 'float'>\n",
      "total time elapsed: 4h 42m 1s , best accuracy: 92.00%, best loss 0.293470\n",
      "epoch  30 with lr=1.00e-03\n"
     ]
    },
    {
     "name": "stderr",
     "output_type": "stream",
     "text": [
      "100%|██████████| 56256/56256 [08:59<00:00, 104.23audios/s, loss=1.46561, acc=46.00%]\n",
      "100%|██████████| 7488/7488 [00:19<00:00, 390.11audios/s, loss=0.32131, acc=92.00%]\n",
      "  0%|          | 0/56256 [00:00<?, ?audios/s]"
     ]
    },
    {
     "name": "stdout",
     "output_type": "stream",
     "text": [
      "<class 'float'>\n",
      "total time elapsed: 4h 51m 20s , best accuracy: 92.00%, best loss 0.293470\n",
      "epoch  31 with lr=1.00e-03\n"
     ]
    },
    {
     "name": "stderr",
     "output_type": "stream",
     "text": [
      "100%|██████████| 56256/56256 [08:59<00:00, 104.20audios/s, loss=1.45669, acc=46.00%]\n",
      "100%|██████████| 7488/7488 [00:19<00:00, 391.20audios/s, loss=0.37421, acc=91.00%]\n",
      "  0%|          | 0/56256 [00:00<?, ?audios/s]"
     ]
    },
    {
     "name": "stdout",
     "output_type": "stream",
     "text": [
      "<class 'float'>\n",
      "total time elapsed: 5h 0m 39s , best accuracy: 92.00%, best loss 0.293470\n",
      "epoch  32 with lr=1.00e-03\n"
     ]
    },
    {
     "name": "stderr",
     "output_type": "stream",
     "text": [
      "100%|██████████| 56256/56256 [09:04<00:00, 103.37audios/s, loss=1.45147, acc=47.00%]\n",
      "100%|██████████| 7488/7488 [00:18<00:00, 400.65audios/s, loss=0.72075, acc=79.00%]\n",
      "  0%|          | 0/56256 [00:00<?, ?audios/s]"
     ]
    },
    {
     "name": "stdout",
     "output_type": "stream",
     "text": [
      "<class 'float'>\n",
      "total time elapsed: 5h 10m 2s , best accuracy: 92.00%, best loss 0.293470\n",
      "epoch  33 with lr=1.00e-03\n"
     ]
    },
    {
     "name": "stderr",
     "output_type": "stream",
     "text": [
      "100%|██████████| 56256/56256 [09:00<00:00, 104.07audios/s, loss=1.44825, acc=47.00%]\n",
      "100%|██████████| 7488/7488 [00:18<00:00, 408.01audios/s, loss=0.54624, acc=86.00%]\n",
      "  0%|          | 0/56256 [00:00<?, ?audios/s]"
     ]
    },
    {
     "name": "stdout",
     "output_type": "stream",
     "text": [
      "<class 'float'>\n",
      "total time elapsed: 5h 19m 21s , best accuracy: 92.00%, best loss 0.293470\n",
      "epoch  34 with lr=1.00e-03\n"
     ]
    },
    {
     "name": "stderr",
     "output_type": "stream",
     "text": [
      "100%|██████████| 56256/56256 [08:58<00:00, 104.42audios/s, loss=1.45160, acc=46.00%]\n",
      "100%|██████████| 7488/7488 [00:19<00:00, 376.04audios/s, loss=0.35586, acc=92.00%]\n",
      "  0%|          | 0/56256 [00:00<?, ?audios/s]"
     ]
    },
    {
     "name": "stdout",
     "output_type": "stream",
     "text": [
      "<class 'float'>\n",
      "total time elapsed: 5h 28m 39s , best accuracy: 92.00%, best loss 0.293470\n",
      "epoch  35 with lr=1.00e-04\n"
     ]
    },
    {
     "name": "stderr",
     "output_type": "stream",
     "text": [
      "100%|██████████| 56256/56256 [08:56<00:00, 104.79audios/s, loss=1.40743, acc=47.00%]\n",
      "100%|██████████| 7488/7488 [00:19<00:00, 387.63audios/s, loss=0.38866, acc=90.00%]\n",
      "  0%|          | 0/56256 [00:00<?, ?audios/s]"
     ]
    },
    {
     "name": "stdout",
     "output_type": "stream",
     "text": [
      "<class 'float'>\n",
      "total time elapsed: 5h 37m 56s , best accuracy: 92.00%, best loss 0.293470\n",
      "epoch  36 with lr=1.00e-04\n"
     ]
    },
    {
     "name": "stderr",
     "output_type": "stream",
     "text": [
      "100%|██████████| 56256/56256 [08:56<00:00, 104.79audios/s, loss=1.39215, acc=48.00%]\n",
      "100%|██████████| 7488/7488 [00:19<00:00, 376.64audios/s, loss=0.34458, acc=92.00%]\n",
      "  0%|          | 0/56256 [00:00<?, ?audios/s]"
     ]
    },
    {
     "name": "stdout",
     "output_type": "stream",
     "text": [
      "<class 'float'>\n",
      "total time elapsed: 5h 47m 12s , best accuracy: 92.00%, best loss 0.293470\n",
      "epoch  37 with lr=1.00e-04\n"
     ]
    },
    {
     "name": "stderr",
     "output_type": "stream",
     "text": [
      "100%|██████████| 56256/56256 [08:56<00:00, 104.78audios/s, loss=1.39372, acc=48.00%]\n",
      "100%|██████████| 7488/7488 [00:19<00:00, 379.28audios/s, loss=0.36075, acc=91.00%]\n",
      "  0%|          | 0/56256 [00:00<?, ?audios/s]"
     ]
    },
    {
     "name": "stdout",
     "output_type": "stream",
     "text": [
      "<class 'float'>\n",
      "total time elapsed: 5h 56m 29s , best accuracy: 92.00%, best loss 0.293470\n",
      "epoch  38 with lr=1.00e-04\n"
     ]
    },
    {
     "name": "stderr",
     "output_type": "stream",
     "text": [
      "100%|██████████| 56256/56256 [08:53<00:00, 105.39audios/s, loss=1.39486, acc=48.00%]\n",
      "100%|██████████| 7488/7488 [00:19<00:00, 383.98audios/s, loss=0.38620, acc=91.00%]\n",
      "  0%|          | 0/56256 [00:00<?, ?audios/s]"
     ]
    },
    {
     "name": "stdout",
     "output_type": "stream",
     "text": [
      "<class 'float'>\n",
      "total time elapsed: 6h 5m 42s , best accuracy: 92.00%, best loss 0.293470\n",
      "epoch  39 with lr=1.00e-04\n"
     ]
    },
    {
     "name": "stderr",
     "output_type": "stream",
     "text": [
      "100%|██████████| 56256/56256 [08:56<00:00, 104.82audios/s, loss=1.38924, acc=48.00%]\n",
      "100%|██████████| 7488/7488 [00:20<00:00, 373.58audios/s, loss=0.37267, acc=91.00%]\n",
      "  0%|          | 0/56256 [00:00<?, ?audios/s]"
     ]
    },
    {
     "name": "stdout",
     "output_type": "stream",
     "text": [
      "<class 'float'>\n",
      "total time elapsed: 6h 14m 59s , best accuracy: 92.00%, best loss 0.293470\n",
      "epoch  40 with lr=1.00e-04\n"
     ]
    },
    {
     "name": "stderr",
     "output_type": "stream",
     "text": [
      "100%|██████████| 56256/56256 [09:01<00:00, 103.90audios/s, loss=1.39261, acc=48.00%]\n",
      "100%|██████████| 7488/7488 [00:19<00:00, 375.98audios/s, loss=0.50314, acc=87.00%]\n",
      "  0%|          | 0/56256 [00:00<?, ?audios/s]"
     ]
    },
    {
     "name": "stdout",
     "output_type": "stream",
     "text": [
      "<class 'float'>\n",
      "total time elapsed: 6h 24m 21s , best accuracy: 92.00%, best loss 0.293470\n",
      "epoch  41 with lr=1.00e-05\n"
     ]
    },
    {
     "name": "stderr",
     "output_type": "stream",
     "text": [
      "100%|██████████| 56256/56256 [08:58<00:00, 104.50audios/s, loss=1.38505, acc=48.00%]\n",
      "100%|██████████| 7488/7488 [00:19<00:00, 387.95audios/s, loss=0.37249, acc=91.00%]\n",
      "  0%|          | 0/56256 [00:00<?, ?audios/s]"
     ]
    },
    {
     "name": "stdout",
     "output_type": "stream",
     "text": [
      "<class 'float'>\n",
      "total time elapsed: 6h 33m 38s , best accuracy: 92.00%, best loss 0.293470\n",
      "epoch  42 with lr=1.00e-05\n"
     ]
    },
    {
     "name": "stderr",
     "output_type": "stream",
     "text": [
      "100%|██████████| 56256/56256 [08:58<00:00, 104.48audios/s, loss=1.38125, acc=48.00%]\n",
      "100%|██████████| 7488/7488 [00:19<00:00, 374.72audios/s, loss=0.36407, acc=91.00%]\n",
      "  0%|          | 0/56256 [00:00<?, ?audios/s]"
     ]
    },
    {
     "name": "stdout",
     "output_type": "stream",
     "text": [
      "<class 'float'>\n",
      "total time elapsed: 6h 42m 57s , best accuracy: 92.00%, best loss 0.293470\n",
      "epoch  43 with lr=1.00e-05\n"
     ]
    },
    {
     "name": "stderr",
     "output_type": "stream",
     "text": [
      "100%|██████████| 56256/56256 [08:59<00:00, 104.34audios/s, loss=1.38193, acc=48.00%]\n",
      "100%|██████████| 7488/7488 [00:20<00:00, 370.71audios/s, loss=0.39537, acc=90.00%]\n",
      "  0%|          | 0/56256 [00:00<?, ?audios/s]"
     ]
    },
    {
     "name": "stdout",
     "output_type": "stream",
     "text": [
      "<class 'float'>\n",
      "total time elapsed: 6h 52m 16s , best accuracy: 92.00%, best loss 0.293470\n",
      "epoch  44 with lr=1.00e-05\n"
     ]
    },
    {
     "name": "stderr",
     "output_type": "stream",
     "text": [
      "100%|██████████| 56256/56256 [08:57<00:00, 104.59audios/s, loss=1.38191, acc=48.00%]\n",
      "100%|██████████| 7488/7488 [00:19<00:00, 378.77audios/s, loss=0.36997, acc=91.00%]\n",
      "  0%|          | 0/56256 [00:00<?, ?audios/s]"
     ]
    },
    {
     "name": "stdout",
     "output_type": "stream",
     "text": [
      "<class 'float'>\n",
      "total time elapsed: 7h 1m 34s , best accuracy: 92.00%, best loss 0.293470\n",
      "epoch  45 with lr=1.00e-05\n"
     ]
    },
    {
     "name": "stderr",
     "output_type": "stream",
     "text": [
      "100%|██████████| 56256/56256 [08:55<00:00, 104.99audios/s, loss=1.38333, acc=47.00%]\n",
      "100%|██████████| 7488/7488 [00:20<00:00, 369.32audios/s, loss=0.40128, acc=90.00%]\n",
      "  0%|          | 0/56256 [00:00<?, ?audios/s]"
     ]
    },
    {
     "name": "stdout",
     "output_type": "stream",
     "text": [
      "<class 'float'>\n",
      "total time elapsed: 7h 10m 50s , best accuracy: 92.00%, best loss 0.293470\n",
      "epoch  46 with lr=1.00e-05\n"
     ]
    },
    {
     "name": "stderr",
     "output_type": "stream",
     "text": [
      "100%|██████████| 56256/56256 [08:52<00:00, 105.60audios/s, loss=1.38009, acc=48.00%]\n",
      "100%|██████████| 7488/7488 [00:19<00:00, 386.99audios/s, loss=0.38559, acc=91.00%]\n",
      "  0%|          | 0/56256 [00:00<?, ?audios/s]"
     ]
    },
    {
     "name": "stdout",
     "output_type": "stream",
     "text": [
      "<class 'float'>\n",
      "total time elapsed: 7h 20m 2s , best accuracy: 92.00%, best loss 0.293470\n",
      "epoch  47 with lr=1.00e-06\n"
     ]
    },
    {
     "name": "stderr",
     "output_type": "stream",
     "text": [
      "100%|██████████| 56256/56256 [08:54<00:00, 105.28audios/s, loss=1.38149, acc=48.00%]\n",
      "100%|██████████| 7488/7488 [00:19<00:00, 385.38audios/s, loss=0.35120, acc=91.00%]\n",
      "  0%|          | 0/56256 [00:00<?, ?audios/s]"
     ]
    },
    {
     "name": "stdout",
     "output_type": "stream",
     "text": [
      "<class 'float'>\n",
      "total time elapsed: 7h 29m 16s , best accuracy: 92.00%, best loss 0.293470\n",
      "epoch  48 with lr=1.00e-06\n"
     ]
    },
    {
     "name": "stderr",
     "output_type": "stream",
     "text": [
      "100%|██████████| 56256/56256 [08:52<00:00, 105.64audios/s, loss=1.37483, acc=48.00%]\n",
      "100%|██████████| 7488/7488 [00:19<00:00, 386.47audios/s, loss=0.33564, acc=92.00%]\n",
      "  0%|          | 0/56256 [00:00<?, ?audios/s]"
     ]
    },
    {
     "name": "stdout",
     "output_type": "stream",
     "text": [
      "<class 'float'>\n",
      "total time elapsed: 7h 38m 28s , best accuracy: 92.00%, best loss 0.293470\n",
      "epoch  49 with lr=1.00e-06\n"
     ]
    },
    {
     "name": "stderr",
     "output_type": "stream",
     "text": [
      "100%|██████████| 56256/56256 [08:59<00:00, 104.31audios/s, loss=1.38283, acc=48.00%]\n",
      "100%|██████████| 7488/7488 [00:18<00:00, 405.68audios/s, loss=0.36840, acc=91.00%]\n",
      "  0%|          | 0/56256 [00:00<?, ?audios/s]"
     ]
    },
    {
     "name": "stdout",
     "output_type": "stream",
     "text": [
      "<class 'float'>\n",
      "total time elapsed: 7h 47m 46s , best accuracy: 92.00%, best loss 0.293470\n",
      "epoch  50 with lr=1.00e-06\n"
     ]
    },
    {
     "name": "stderr",
     "output_type": "stream",
     "text": [
      "100%|██████████| 56256/56256 [08:58<00:00, 104.44audios/s, loss=1.38832, acc=48.00%]\n",
      "100%|██████████| 7488/7488 [00:19<00:00, 389.09audios/s, loss=0.31002, acc=93.00%]\n",
      "  0%|          | 0/56256 [00:00<?, ?audios/s]"
     ]
    },
    {
     "name": "stdout",
     "output_type": "stream",
     "text": [
      "<class 'float'>\n",
      "total time elapsed: 7h 57m 4s , best accuracy: 93.00%, best loss 0.293470\n",
      "epoch  51 with lr=1.00e-06\n"
     ]
    },
    {
     "name": "stderr",
     "output_type": "stream",
     "text": [
      "100%|██████████| 56256/56256 [08:56<00:00, 104.87audios/s, loss=1.38055, acc=48.00%]\n",
      "100%|██████████| 7488/7488 [00:19<00:00, 381.51audios/s, loss=0.38234, acc=90.00%]\n",
      "  0%|          | 0/56256 [00:00<?, ?audios/s]"
     ]
    },
    {
     "name": "stdout",
     "output_type": "stream",
     "text": [
      "<class 'float'>\n",
      "total time elapsed: 8h 6m 20s , best accuracy: 93.00%, best loss 0.293470\n",
      "epoch  52 with lr=1.00e-06\n"
     ]
    },
    {
     "name": "stderr",
     "output_type": "stream",
     "text": [
      "100%|██████████| 56256/56256 [08:57<00:00, 104.75audios/s, loss=1.37937, acc=48.00%]\n",
      "100%|██████████| 7488/7488 [00:19<00:00, 378.07audios/s, loss=0.35720, acc=91.00%]\n",
      "  0%|          | 0/56256 [00:00<?, ?audios/s]"
     ]
    },
    {
     "name": "stdout",
     "output_type": "stream",
     "text": [
      "<class 'float'>\n",
      "total time elapsed: 8h 15m 37s , best accuracy: 93.00%, best loss 0.293470\n",
      "epoch  53 with lr=1.00e-07\n"
     ]
    },
    {
     "name": "stderr",
     "output_type": "stream",
     "text": [
      "100%|██████████| 56256/56256 [08:54<00:00, 105.28audios/s, loss=1.37775, acc=48.00%]\n",
      "100%|██████████| 7488/7488 [00:19<00:00, 388.12audios/s, loss=0.36541, acc=91.00%]\n",
      "  0%|          | 0/56256 [00:00<?, ?audios/s]"
     ]
    },
    {
     "name": "stdout",
     "output_type": "stream",
     "text": [
      "<class 'float'>\n",
      "total time elapsed: 8h 24m 50s , best accuracy: 93.00%, best loss 0.293470\n",
      "epoch  54 with lr=1.00e-07\n"
     ]
    },
    {
     "name": "stderr",
     "output_type": "stream",
     "text": [
      "100%|██████████| 56256/56256 [08:57<00:00, 104.70audios/s, loss=1.37898, acc=48.00%]\n",
      "100%|██████████| 7488/7488 [00:20<00:00, 373.14audios/s, loss=0.42327, acc=90.00%]\n",
      "  0%|          | 0/56256 [00:00<?, ?audios/s]"
     ]
    },
    {
     "name": "stdout",
     "output_type": "stream",
     "text": [
      "<class 'float'>\n",
      "total time elapsed: 8h 34m 8s , best accuracy: 93.00%, best loss 0.293470\n",
      "epoch  55 with lr=1.00e-07\n"
     ]
    },
    {
     "name": "stderr",
     "output_type": "stream",
     "text": [
      "100%|██████████| 56256/56256 [08:58<00:00, 104.53audios/s, loss=1.38394, acc=48.00%]\n",
      "100%|██████████| 7488/7488 [00:18<00:00, 398.00audios/s, loss=0.33780, acc=92.00%]\n",
      "  0%|          | 0/56256 [00:00<?, ?audios/s]"
     ]
    },
    {
     "name": "stdout",
     "output_type": "stream",
     "text": [
      "<class 'float'>\n",
      "total time elapsed: 8h 43m 25s , best accuracy: 93.00%, best loss 0.293470\n",
      "epoch  56 with lr=1.00e-07\n"
     ]
    },
    {
     "name": "stderr",
     "output_type": "stream",
     "text": [
      "100%|██████████| 56256/56256 [08:55<00:00, 105.12audios/s, loss=1.38090, acc=48.00%]\n",
      "100%|██████████| 7488/7488 [00:19<00:00, 382.47audios/s, loss=0.36157, acc=91.00%]\n",
      "  0%|          | 0/56256 [00:00<?, ?audios/s]"
     ]
    },
    {
     "name": "stdout",
     "output_type": "stream",
     "text": [
      "<class 'float'>\n",
      "total time elapsed: 8h 52m 39s , best accuracy: 93.00%, best loss 0.293470\n",
      "epoch  57 with lr=1.00e-07\n"
     ]
    },
    {
     "name": "stderr",
     "output_type": "stream",
     "text": [
      "100%|██████████| 56256/56256 [08:58<00:00, 104.56audios/s, loss=1.38581, acc=48.00%]\n",
      "100%|██████████| 7488/7488 [00:19<00:00, 374.58audios/s, loss=0.40640, acc=91.00%]\n",
      "  0%|          | 0/56256 [00:00<?, ?audios/s]"
     ]
    },
    {
     "name": "stdout",
     "output_type": "stream",
     "text": [
      "<class 'float'>\n",
      "total time elapsed: 9h 1m 58s , best accuracy: 93.00%, best loss 0.293470\n",
      "epoch  58 with lr=1.00e-07\n"
     ]
    },
    {
     "name": "stderr",
     "output_type": "stream",
     "text": [
      "100%|██████████| 56256/56256 [08:58<00:00, 104.40audios/s, loss=1.37766, acc=48.00%]\n",
      "100%|██████████| 7488/7488 [00:19<00:00, 380.78audios/s, loss=0.38665, acc=91.00%]\n",
      "  0%|          | 0/56256 [00:00<?, ?audios/s]"
     ]
    },
    {
     "name": "stdout",
     "output_type": "stream",
     "text": [
      "<class 'float'>\n",
      "total time elapsed: 9h 11m 16s , best accuracy: 93.00%, best loss 0.293470\n",
      "epoch  59 with lr=1.00e-08\n"
     ]
    },
    {
     "name": "stderr",
     "output_type": "stream",
     "text": [
      "100%|██████████| 56256/56256 [08:57<00:00, 104.66audios/s, loss=1.37761, acc=48.00%]\n",
      "100%|██████████| 7488/7488 [00:20<00:00, 370.31audios/s, loss=0.30268, acc=93.00%]\n",
      "  0%|          | 0/56256 [00:00<?, ?audios/s]"
     ]
    },
    {
     "name": "stdout",
     "output_type": "stream",
     "text": [
      "<class 'float'>\n",
      "total time elapsed: 9h 20m 34s , best accuracy: 93.00%, best loss 0.293470\n",
      "epoch  60 with lr=1.00e-08\n"
     ]
    },
    {
     "name": "stderr",
     "output_type": "stream",
     "text": [
      "100%|██████████| 56256/56256 [08:59<00:00, 104.34audios/s, loss=1.38177, acc=48.00%]\n",
      "100%|██████████| 7488/7488 [00:19<00:00, 382.44audios/s, loss=0.39700, acc=90.00%]\n",
      "  0%|          | 0/56256 [00:00<?, ?audios/s]"
     ]
    },
    {
     "name": "stdout",
     "output_type": "stream",
     "text": [
      "<class 'float'>\n",
      "total time elapsed: 9h 29m 53s , best accuracy: 93.00%, best loss 0.293470\n",
      "epoch  61 with lr=1.00e-08\n"
     ]
    },
    {
     "name": "stderr",
     "output_type": "stream",
     "text": [
      "100%|██████████| 56256/56256 [08:59<00:00, 104.25audios/s, loss=1.38206, acc=48.00%]\n",
      "100%|██████████| 7488/7488 [00:19<00:00, 382.36audios/s, loss=0.35254, acc=91.00%]\n",
      "  0%|          | 0/56256 [00:00<?, ?audios/s]"
     ]
    },
    {
     "name": "stdout",
     "output_type": "stream",
     "text": [
      "<class 'float'>\n",
      "total time elapsed: 9h 39m 12s , best accuracy: 93.00%, best loss 0.293470\n",
      "epoch  62 with lr=1.00e-08\n"
     ]
    },
    {
     "name": "stderr",
     "output_type": "stream",
     "text": [
      "100%|██████████| 56256/56256 [08:53<00:00, 105.41audios/s, loss=1.37927, acc=48.00%]\n",
      "100%|██████████| 7488/7488 [00:19<00:00, 378.78audios/s, loss=0.35758, acc=91.00%]\n",
      "  0%|          | 0/56256 [00:00<?, ?audios/s]"
     ]
    },
    {
     "name": "stdout",
     "output_type": "stream",
     "text": [
      "<class 'float'>\n",
      "total time elapsed: 9h 48m 25s , best accuracy: 93.00%, best loss 0.293470\n",
      "epoch  63 with lr=1.00e-08\n"
     ]
    },
    {
     "name": "stderr",
     "output_type": "stream",
     "text": [
      "100%|██████████| 56256/56256 [07:39<00:00, 122.46audios/s, loss=1.37912, acc=48.00%]\n",
      "100%|██████████| 7488/7488 [00:14<00:00, 530.12audios/s, loss=0.40773, acc=90.00%]\n",
      "  0%|          | 0/56256 [00:00<?, ?audios/s]"
     ]
    },
    {
     "name": "stdout",
     "output_type": "stream",
     "text": [
      "<class 'float'>\n",
      "total time elapsed: 9h 56m 19s , best accuracy: 93.00%, best loss 0.293470\n",
      "epoch  64 with lr=1.00e-08\n"
     ]
    },
    {
     "name": "stderr",
     "output_type": "stream",
     "text": [
      "100%|██████████| 56256/56256 [06:02<00:00, 155.12audios/s, loss=1.37796, acc=48.00%]\n",
      "100%|██████████| 7488/7488 [00:11<00:00, 680.29audios/s, loss=0.36104, acc=91.00%] \n",
      "  0%|          | 0/56256 [00:00<?, ?audios/s]"
     ]
    },
    {
     "name": "stdout",
     "output_type": "stream",
     "text": [
      "<class 'float'>\n",
      "total time elapsed: 10h 2m 33s , best accuracy: 93.00%, best loss 0.293470\n",
      "epoch  65 with lr=1.00e-08\n"
     ]
    },
    {
     "name": "stderr",
     "output_type": "stream",
     "text": [
      "100%|██████████| 56256/56256 [05:11<00:00, 180.70audios/s, loss=1.38132, acc=48.00%]\n",
      "100%|██████████| 7488/7488 [00:11<00:00, 641.20audios/s, loss=0.38603, acc=91.00%] \n",
      "  0%|          | 0/56256 [00:00<?, ?audios/s]"
     ]
    },
    {
     "name": "stdout",
     "output_type": "stream",
     "text": [
      "<class 'float'>\n",
      "total time elapsed: 10h 7m 56s , best accuracy: 93.00%, best loss 0.293470\n",
      "epoch  66 with lr=1.00e-08\n"
     ]
    },
    {
     "name": "stderr",
     "output_type": "stream",
     "text": [
      "100%|██████████| 56256/56256 [05:05<00:00, 183.95audios/s, loss=1.37852, acc=48.00%]\n",
      "100%|██████████| 7488/7488 [00:11<00:00, 631.11audios/s, loss=0.37832, acc=91.00%] \n",
      "  0%|          | 0/56256 [00:00<?, ?audios/s]"
     ]
    },
    {
     "name": "stdout",
     "output_type": "stream",
     "text": [
      "<class 'float'>\n",
      "total time elapsed: 10h 13m 13s , best accuracy: 93.00%, best loss 0.293470\n",
      "epoch  67 with lr=1.00e-08\n"
     ]
    },
    {
     "name": "stderr",
     "output_type": "stream",
     "text": [
      "100%|██████████| 56256/56256 [05:07<00:00, 183.19audios/s, loss=1.38007, acc=48.00%]\n",
      "100%|██████████| 7488/7488 [00:11<00:00, 629.17audios/s, loss=0.34972, acc=91.00%]\n",
      "  0%|          | 0/56256 [00:00<?, ?audios/s]"
     ]
    },
    {
     "name": "stdout",
     "output_type": "stream",
     "text": [
      "<class 'float'>\n",
      "total time elapsed: 10h 18m 32s , best accuracy: 93.00%, best loss 0.293470\n",
      "epoch  68 with lr=1.00e-08\n"
     ]
    },
    {
     "name": "stderr",
     "output_type": "stream",
     "text": [
      "100%|██████████| 56256/56256 [03:44<00:00, 250.86audios/s, loss=1.38406, acc=48.00%]\n",
      "100%|██████████| 7488/7488 [00:07<00:00, 1040.47audios/s, loss=0.35053, acc=91.00%]\n",
      "  0%|          | 0/56256 [00:00<?, ?audios/s]"
     ]
    },
    {
     "name": "stdout",
     "output_type": "stream",
     "text": [
      "<class 'float'>\n",
      "total time elapsed: 10h 22m 24s , best accuracy: 93.00%, best loss 0.293470\n",
      "epoch  69 with lr=1.00e-08\n"
     ]
    },
    {
     "name": "stderr",
     "output_type": "stream",
     "text": [
      "100%|██████████| 56256/56256 [01:52<00:00, 501.79audios/s, loss=1.38162, acc=48.00%] \n",
      "100%|██████████| 7488/7488 [00:04<00:00, 1534.26audios/s, loss=0.36826, acc=91.00%]"
     ]
    },
    {
     "name": "stdout",
     "output_type": "stream",
     "text": [
      "<class 'float'>\n",
      "total time elapsed: 10h 24m 21s , best accuracy: 93.00%, best loss 0.293470\n",
      "finished\n"
     ]
    },
    {
     "name": "stderr",
     "output_type": "stream",
     "text": [
      "\n"
     ]
    }
   ],
   "source": [
    "print(\"training %s for Google speech commands...\" % args.model)\n",
    "since = time.time()\n",
    "for epoch in range(start_epoch, args.max_epochs):\n",
    "    if args.lr_scheduler == 'step':\n",
    "        lr_scheduler.step()\n",
    "\n",
    "    train(epoch)\n",
    "    epoch_loss = valid(epoch)\n",
    "\n",
    "    if args.lr_scheduler == 'plateau':\n",
    "        print(type(epoch_loss))\n",
    "        lr_scheduler.step(metrics=epoch_loss)\n",
    "\n",
    "    time_elapsed = time.time() - since\n",
    "    time_str = 'total time elapsed: {:.0f}h {:.0f}m {:.0f}s '.format(time_elapsed // 3600, time_elapsed % 3600 // 60, time_elapsed % 60)\n",
    "    print(\"%s, best accuracy: %.02f%%, best loss %f\" % (time_str, best_accuracy, best_loss))\n",
    "    with open('./train_res18-light-fusionnet-40.log', 'a+') as f:\n",
    "        f.write(\"%s, epoch: %s, best accuracy: %.02f%%, best loss %f\\n\" % (time_str, epoch,best_accuracy, best_loss))\n",
    "print(\"finished\")"
   ]
  },
  {
   "cell_type": "code",
   "execution_count": null,
   "metadata": {},
   "outputs": [],
   "source": []
  }
 ],
 "metadata": {
  "kernelspec": {
   "display_name": "Python 3",
   "language": "python",
   "name": "python3"
  },
  "language_info": {
   "codemirror_mode": {
    "name": "ipython",
    "version": 3
   },
   "file_extension": ".py",
   "mimetype": "text/x-python",
   "name": "python",
   "nbconvert_exporter": "python",
   "pygments_lexer": "ipython3",
   "version": "3.6.8"
  }
 },
 "nbformat": 4,
 "nbformat_minor": 2
}
