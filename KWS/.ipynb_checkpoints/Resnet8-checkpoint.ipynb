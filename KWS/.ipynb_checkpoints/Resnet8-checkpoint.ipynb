{
 "cells": [
  {
   "cell_type": "code",
   "execution_count": 5,
   "metadata": {},
   "outputs": [],
   "source": [
    "#!/usr/bin/env python\n",
    "\"\"\"Train a CNN for Google speech commands.\"\"\"\n",
    "\n",
    "__author__ = 'Yuan Xu, Erdene-Ochir Tuguldur'\n",
    "\n",
    "import argparse\n",
    "import time\n",
    "\n",
    "from tqdm import *\n",
    "\n",
    "import torch\n",
    "from torch.autograd import Variable\n",
    "from torch.utils.data import DataLoader\n",
    "from torch.utils.data.sampler import WeightedRandomSampler\n",
    "\n",
    "import torchvision\n",
    "from torchvision.transforms import *\n",
    "\n",
    "from tensorboardX import SummaryWriter\n",
    "\n",
    "import models\n",
    "from datasets import *\n",
    "from transforms import *\n",
    "from mixup import *"
   ]
  },
  {
   "cell_type": "code",
   "execution_count": 6,
   "metadata": {},
   "outputs": [],
   "source": [
    "import torch.nn as nn\n",
    "import math\n",
    "import torch.utils.model_zoo as model_zoo"
   ]
  },
  {
   "cell_type": "code",
   "execution_count": 3,
   "metadata": {},
   "outputs": [],
   "source": [
    "class BasicBlock(nn.Module):\n",
    "    expansion = 1\n",
    "\n",
    "    def __init__(self, inplanes, planes, stride=1, downsample=None):\n",
    "        super(BasicBlock, self).__init__()\n",
    "        self.conv1 = conv3x3(inplanes, planes, stride)\n",
    "        self.bn1 = nn.BatchNorm2d(planes)\n",
    "        self.relu = nn.ReLU(inplace=True)\n",
    "        self.conv2 = conv3x3(planes, planes)\n",
    "        self.bn2 = nn.BatchNorm2d(planes)\n",
    "        self.downsample = downsample\n",
    "        self.stride = stride\n",
    "\n",
    "    def forward(self, x):\n",
    "        residual = x\n",
    "\n",
    "        out = self.conv1(x)\n",
    "        out = self.bn1(out)\n",
    "        out = self.relu(out)\n",
    "\n",
    "        out = self.conv2(out)\n",
    "        out = self.bn2(out)\n",
    "\n",
    "        if self.downsample is not None:\n",
    "            residual = self.downsample(x)\n",
    "        #print(\"out {}\".format(out.shape))\n",
    "        #print(\"res {}\".format(residual.shape))\n",
    "        out += residual\n",
    "        out = self.relu(out)\n",
    "        \n",
    "        return out\n",
    "\n",
    "class ResNet(nn.Module):\n",
    "\n",
    "    def __init__(self, block, layers, num_classes=1000, in_channels=2):\n",
    "        self.inplanes = 16\n",
    "        super(ResNet, self).__init__()\n",
    "        self.conv1 = nn.Conv2d(in_channels, self.inplanes, kernel_size=(3, 1), stride=1, bias=False, padding=3)\n",
    "        #self.bn1 = nn.BatchNorm2d(self.inplanes)\n",
    "        #self.relu = nn.ReLU(inplace=True)\n",
    "        self.maxpool = nn.MaxPool2d(kernel_size=(4, 3), stride=1)\n",
    "        self.layer1 = self._make_layer(block, 24, layers[0], stride=1)\n",
    "        self.layer2 = self._make_layer(block, 32, layers[1], stride=1)\n",
    "        self.layer3 = self._make_layer(block, 48, layers[2], stride=1)\n",
    "        #self.layer4 = self._make_layer(block, 512, layers[3], stride=2)\n",
    "        self.avgpool = nn.AdaptiveAvgPool2d((1, 1))\n",
    "        self.fc = nn.Linear(48, num_classes)\n",
    "\n",
    "        for m in self.modules():\n",
    "            if isinstance(m, nn.Conv2d):\n",
    "                n = m.kernel_size[0] * m.kernel_size[1] * m.out_channels\n",
    "                m.weight.data.normal_(0, math.sqrt(2. / n))\n",
    "            elif isinstance(m, nn.BatchNorm2d):\n",
    "                m.weight.data.fill_(1)\n",
    "                m.bias.data.zero_()\n",
    "\n",
    "    def _make_layer(self, block, planes, blocks, stride=1):\n",
    "        downsample = None\n",
    "        if stride != 1 or self.inplanes != planes * block.expansion:\n",
    "            downsample = nn.Sequential(\n",
    "                nn.Conv2d(self.inplanes, planes * block.expansion,\n",
    "                          kernel_size=1, stride=stride, bias=False),\n",
    "            )\n",
    "        #downsample = None\n",
    "        #print(downsample)\n",
    "        layers = []\n",
    "        layers.append(block(self.inplanes, planes, stride, downsample))\n",
    "        self.inplanes = planes * block.expansion\n",
    "        for i in range(1, blocks):\n",
    "            layers.append(block(self.inplanes, planes))\n",
    "\n",
    "        return nn.Sequential(*layers)\n",
    "\n",
    "    def forward(self, x):\n",
    "        x = self.conv1(x)\n",
    "        x = self.bn1(x)\n",
    "        x = self.relu(x)\n",
    "        x = self.maxpool(x)\n",
    "        x = self.layer1(x)\n",
    "        x = self.layer2(x)\n",
    "        x = self.layer3(x)\n",
    "        #x = self.layer4(x)\n",
    "        #print(x.shape)\n",
    "        x = self.avgpool(x)\n",
    "        #print(x.shape)\n",
    "        x = x.view(x.size(0), -1)\n",
    "        x = self.fc(x)\n",
    "\n",
    "        return x"
   ]
  },
  {
   "cell_type": "code",
   "execution_count": 4,
   "metadata": {},
   "outputs": [
    {
     "data": {
      "text/plain": [
       "117465"
      ]
     },
     "execution_count": 4,
     "metadata": {},
     "output_type": "execute_result"
    }
   ],
   "source": [
    "model = ResNet(BasicBlock, [1, 1, 1], num_classes=len(CLASSES), in_channels=1)\n",
    "def count_parameters(model):\n",
    "    return sum(p.numel() for p in model.parameters() if p.requires_grad)\n",
    "\n",
    "count_parameters(model)"
   ]
  },
  {
   "cell_type": "code",
   "execution_count": 5,
   "metadata": {},
   "outputs": [],
   "source": [
    "class Arg():\n",
    "    def __init__(self):\n",
    "        self.train_dataset=\"/home/cilab/LabMembers/DJ/sr_dataset/speech_command/train\"\n",
    "        self.valid_dataset=\"/home/cilab/LabMembers/DJ/sr_dataset/speech_command/valid\"\n",
    "        self.background_noise=\"/home/cilab/LabMembers/DJ/sr_dataset/speech_command/train/_background_noise_\"\n",
    "        self.comment=\"\"\n",
    "        self.batch_size=64\n",
    "        self.dataload_workers_nums=6\n",
    "        self.weight_decay=1e-2\n",
    "        self.optim='sgd'\n",
    "        self.learning_rate=0.01\n",
    "        self.lr_scheduler='plateau'\n",
    "        self.lr_scheduler_patience=5\n",
    "        self.lr_scheduler_step_size=50\n",
    "        self.lr_scheduler_gamma=0.1\n",
    "        self.max_epochs=70\n",
    "        self.resume=None\n",
    "        self.model=\"resnet8.pth\"\n",
    "        self.input=\"mel40\"\n",
    "        self.mixup=True\n",
    "args = Arg()"
   ]
  },
  {
   "cell_type": "code",
   "execution_count": 6,
   "metadata": {},
   "outputs": [
    {
     "name": "stdout",
     "output_type": "stream",
     "text": [
      "use_gpu True\n",
      "[('/home/cilab/LabMembers/DJ/sr_dataset/speech_command/train/eight/c1d39ce8_nohash_5.wav', 0), ('/home/cilab/LabMembers/DJ/sr_dataset/speech_command/train/eight/41777abb_nohash_0.wav', 0), ('/home/cilab/LabMembers/DJ/sr_dataset/speech_command/train/eight/333784b7_nohash_3.wav', 0), ('/home/cilab/LabMembers/DJ/sr_dataset/speech_command/train/eight/8e884ec4_nohash_0.wav', 0), ('/home/cilab/LabMembers/DJ/sr_dataset/speech_command/train/eight/b00c4c53_nohash_1.wav', 0), ('/home/cilab/LabMembers/DJ/sr_dataset/speech_command/train/eight/43f57297_nohash_1.wav', 0), ('/home/cilab/LabMembers/DJ/sr_dataset/speech_command/train/eight/3bfd30e6_nohash_4.wav', 0), ('/home/cilab/LabMembers/DJ/sr_dataset/speech_command/train/eight/748cb308_nohash_0.wav', 0), ('/home/cilab/LabMembers/DJ/sr_dataset/speech_command/train/eight/e1aa22e4_nohash_0.wav', 0), ('/home/cilab/LabMembers/DJ/sr_dataset/speech_command/train/eight/36050ef3_nohash_1.wav', 0)]\n",
      "********************************************************************************\n",
      "[('/home/cilab/LabMembers/DJ/sr_dataset/speech_command/train/eight/c1d39ce8_nohash_5.wav', 0), ('/home/cilab/LabMembers/DJ/sr_dataset/speech_command/train/eight/41777abb_nohash_0.wav', 0), ('/home/cilab/LabMembers/DJ/sr_dataset/speech_command/train/eight/333784b7_nohash_3.wav', 0), ('/home/cilab/LabMembers/DJ/sr_dataset/speech_command/train/eight/8e884ec4_nohash_0.wav', 0), ('/home/cilab/LabMembers/DJ/sr_dataset/speech_command/train/eight/b00c4c53_nohash_1.wav', 0), ('/home/cilab/LabMembers/DJ/sr_dataset/speech_command/train/eight/43f57297_nohash_1.wav', 0), ('/home/cilab/LabMembers/DJ/sr_dataset/speech_command/train/eight/3bfd30e6_nohash_4.wav', 0), ('/home/cilab/LabMembers/DJ/sr_dataset/speech_command/train/eight/748cb308_nohash_0.wav', 0), ('/home/cilab/LabMembers/DJ/sr_dataset/speech_command/train/eight/e1aa22e4_nohash_0.wav', 0), ('/home/cilab/LabMembers/DJ/sr_dataset/speech_command/train/eight/36050ef3_nohash_1.wav', 0)]\n",
      "[('/home/cilab/LabMembers/DJ/sr_dataset/speech_command/valid/eight/97ae8b25_nohash_0.wav', 0), ('/home/cilab/LabMembers/DJ/sr_dataset/speech_command/valid/eight/b5d1e505_nohash_0.wav', 0), ('/home/cilab/LabMembers/DJ/sr_dataset/speech_command/valid/eight/b5d1e505_nohash_3.wav', 0), ('/home/cilab/LabMembers/DJ/sr_dataset/speech_command/valid/eight/b17f5ba0_nohash_0.wav', 0), ('/home/cilab/LabMembers/DJ/sr_dataset/speech_command/valid/eight/f17be97f_nohash_2.wav', 0), ('/home/cilab/LabMembers/DJ/sr_dataset/speech_command/valid/eight/f17be97f_nohash_0.wav', 0), ('/home/cilab/LabMembers/DJ/sr_dataset/speech_command/valid/eight/0e17f595_nohash_0.wav', 0), ('/home/cilab/LabMembers/DJ/sr_dataset/speech_command/valid/eight/439c84f4_nohash_2.wav', 0), ('/home/cilab/LabMembers/DJ/sr_dataset/speech_command/valid/eight/5fadb538_nohash_1.wav', 0), ('/home/cilab/LabMembers/DJ/sr_dataset/speech_command/valid/eight/6071a214_nohash_0.wav', 0)]\n",
      "********************************************************************************\n",
      "[('/home/cilab/LabMembers/DJ/sr_dataset/speech_command/valid/eight/97ae8b25_nohash_0.wav', 0), ('/home/cilab/LabMembers/DJ/sr_dataset/speech_command/valid/eight/b5d1e505_nohash_0.wav', 0), ('/home/cilab/LabMembers/DJ/sr_dataset/speech_command/valid/eight/b5d1e505_nohash_3.wav', 0), ('/home/cilab/LabMembers/DJ/sr_dataset/speech_command/valid/eight/b17f5ba0_nohash_0.wav', 0), ('/home/cilab/LabMembers/DJ/sr_dataset/speech_command/valid/eight/f17be97f_nohash_2.wav', 0), ('/home/cilab/LabMembers/DJ/sr_dataset/speech_command/valid/eight/f17be97f_nohash_0.wav', 0), ('/home/cilab/LabMembers/DJ/sr_dataset/speech_command/valid/eight/0e17f595_nohash_0.wav', 0), ('/home/cilab/LabMembers/DJ/sr_dataset/speech_command/valid/eight/439c84f4_nohash_2.wav', 0), ('/home/cilab/LabMembers/DJ/sr_dataset/speech_command/valid/eight/5fadb538_nohash_1.wav', 0), ('/home/cilab/LabMembers/DJ/sr_dataset/speech_command/valid/eight/6071a214_nohash_0.wav', 0)]\n"
     ]
    }
   ],
   "source": [
    "use_gpu = torch.cuda.is_available()\n",
    "print('use_gpu', use_gpu)\n",
    "if use_gpu:\n",
    "    torch.backends.cudnn.benchmark = True\n",
    "\n",
    "n_mels = 32\n",
    "if args.input == 'mel40':\n",
    "    n_mels = 40\n",
    "\n",
    "data_aug_transform = Compose([ChangeAmplitude(), ChangeSpeedAndPitchAudio(), FixAudioLength(), ToSTFT(), StretchAudioOnSTFT(), TimeshiftAudioOnSTFT(), FixSTFTDimension()])\n",
    "bg_dataset = BackgroundNoiseDataset(args.background_noise, data_aug_transform)\n",
    "add_bg_noise = AddBackgroundNoiseOnSTFT(bg_dataset)\n",
    "train_feature_transform = Compose([ToMelSpectrogramFromSTFT(n_mels=n_mels), DeleteSTFT(), ToTensor('mel_spectrogram', 'input')])\n",
    "train_dataset = SpeechCommandsDataset(args.train_dataset,\n",
    "                                Compose([LoadAudio(),\n",
    "                                         data_aug_transform,\n",
    "                                         add_bg_noise,\n",
    "                                         train_feature_transform]))\n",
    "\n",
    "valid_feature_transform = Compose([ToMelSpectrogram(n_mels=n_mels), ToTensor('mel_spectrogram', 'input')])\n",
    "valid_dataset = SpeechCommandsDataset(args.valid_dataset,\n",
    "                                Compose([LoadAudio(),\n",
    "                                         FixAudioLength(),\n",
    "                                         valid_feature_transform]))\n",
    "\n",
    "weights = train_dataset.make_weights_for_balanced_classes()\n",
    "sampler = WeightedRandomSampler(weights, len(weights))\n",
    "train_dataloader = DataLoader(train_dataset, batch_size=args.batch_size, sampler=sampler,\n",
    "                              pin_memory=use_gpu, num_workers=args.dataload_workers_nums)\n",
    "valid_dataloader = DataLoader(valid_dataset, batch_size=args.batch_size, shuffle=False,\n",
    "                              pin_memory=use_gpu, num_workers=args.dataload_workers_nums)"
   ]
  },
  {
   "cell_type": "code",
   "execution_count": 7,
   "metadata": {
    "scrolled": true
   },
   "outputs": [
    {
     "name": "stdout",
     "output_type": "stream",
     "text": [
      "ResNet(\n",
      "  (conv1): Conv2d(1, 45, kernel_size=(3, 3), stride=(1, 1), padding=(3, 3), bias=False)\n",
      "  (bn1): BatchNorm2d(45, eps=1e-05, momentum=0.1, affine=True, track_running_stats=True)\n",
      "  (relu): ReLU(inplace=True)\n",
      "  (maxpool): MaxPool2d(kernel_size=(4, 3), stride=1, padding=0, dilation=1, ceil_mode=False)\n",
      "  (layer1): Sequential(\n",
      "    (0): BasicBlock(\n",
      "      (conv1): Conv2d(45, 45, kernel_size=(3, 3), stride=(1, 1), padding=(1, 1), bias=False)\n",
      "      (bn1): BatchNorm2d(45, eps=1e-05, momentum=0.1, affine=True, track_running_stats=True)\n",
      "      (relu): ReLU(inplace=True)\n",
      "      (conv2): Conv2d(45, 45, kernel_size=(3, 3), stride=(1, 1), padding=(1, 1), bias=False)\n",
      "      (bn2): BatchNorm2d(45, eps=1e-05, momentum=0.1, affine=True, track_running_stats=True)\n",
      "      (downsample): Sequential(\n",
      "        (0): Conv2d(45, 45, kernel_size=(1, 1), stride=(1, 1), bias=False)\n",
      "        (1): BatchNorm2d(45, eps=1e-05, momentum=0.1, affine=True, track_running_stats=True)\n",
      "        (2): ReLU(inplace=True)\n",
      "      )\n",
      "    )\n",
      "  )\n",
      "  (layer2): Sequential(\n",
      "    (0): BasicBlock(\n",
      "      (conv1): Conv2d(45, 45, kernel_size=(3, 3), stride=(1, 1), padding=(1, 1), bias=False)\n",
      "      (bn1): BatchNorm2d(45, eps=1e-05, momentum=0.1, affine=True, track_running_stats=True)\n",
      "      (relu): ReLU(inplace=True)\n",
      "      (conv2): Conv2d(45, 45, kernel_size=(3, 3), stride=(1, 1), padding=(1, 1), bias=False)\n",
      "      (bn2): BatchNorm2d(45, eps=1e-05, momentum=0.1, affine=True, track_running_stats=True)\n",
      "      (downsample): Sequential(\n",
      "        (0): Conv2d(45, 45, kernel_size=(1, 1), stride=(1, 1), bias=False)\n",
      "        (1): BatchNorm2d(45, eps=1e-05, momentum=0.1, affine=True, track_running_stats=True)\n",
      "        (2): ReLU(inplace=True)\n",
      "      )\n",
      "    )\n",
      "  )\n",
      "  (layer3): Sequential(\n",
      "    (0): BasicBlock(\n",
      "      (conv1): Conv2d(45, 45, kernel_size=(3, 3), stride=(1, 1), padding=(1, 1), bias=False)\n",
      "      (bn1): BatchNorm2d(45, eps=1e-05, momentum=0.1, affine=True, track_running_stats=True)\n",
      "      (relu): ReLU(inplace=True)\n",
      "      (conv2): Conv2d(45, 45, kernel_size=(3, 3), stride=(1, 1), padding=(1, 1), bias=False)\n",
      "      (bn2): BatchNorm2d(45, eps=1e-05, momentum=0.1, affine=True, track_running_stats=True)\n",
      "      (downsample): Sequential(\n",
      "        (0): Conv2d(45, 45, kernel_size=(1, 1), stride=(1, 1), bias=False)\n",
      "        (1): BatchNorm2d(45, eps=1e-05, momentum=0.1, affine=True, track_running_stats=True)\n",
      "        (2): ReLU(inplace=True)\n",
      "      )\n",
      "    )\n",
      "  )\n",
      "  (avgpool): AdaptiveAvgPool2d(output_size=(2, 1))\n",
      "  (fc): Linear(in_features=90, out_features=12, bias=True)\n",
      ")\n"
     ]
    }
   ],
   "source": [
    "# a name used to save checkpoints etc.\n",
    "full_name = '%s_%s_%s_bs%d_lr%.1e_wd%.1e' % (args.model, args.optim, args.lr_scheduler, args.batch_size, args.learning_rate, args.weight_decay)\n",
    "if args.comment:\n",
    "    full_name = '%s_%s' % (full_name, args.comment)\n",
    "\n",
    "#model = models.create_model(model_name=args.model, num_classes=len(CLASSES), in_channels=1)\n",
    "model = ResNet(BasicBlock, [1, 1, 1], num_classes=len(CLASSES), in_channels=1)\n",
    "print(model)\n",
    "if use_gpu:\n",
    "    model = torch.nn.DataParallel(model).cuda()\n",
    "\n",
    "criterion = torch.nn.CrossEntropyLoss()\n",
    "\n",
    "if args.optim == 'sgd':\n",
    "    optimizer = torch.optim.SGD(model.parameters(), lr=args.learning_rate, momentum=0.9, weight_decay=args.weight_decay)\n",
    "else:\n",
    "    optimizer = torch.optim.Adam(model.parameters(), lr=args.learning_rate, weight_decay=args.weight_decay)\n",
    "\n",
    "start_timestamp = int(time.time()*1000)\n",
    "start_epoch = 0\n",
    "best_accuracy = 0\n",
    "best_loss = 1e100\n",
    "global_step = 0\n",
    "\n",
    "if args.resume:\n",
    "    print(\"resuming a checkpoint '%s'\" % args.resume)\n",
    "    checkpoint = torch.load(args.resume)\n",
    "    model.load_state_dict(checkpoint['state_dict'])\n",
    "    model.float()\n",
    "    optimizer.load_state_dict(checkpoint['optimizer'])\n",
    "\n",
    "    best_accuracy = checkpoint.get('accuracy', best_accuracy)\n",
    "    best_loss = checkpoint.get('loss', best_loss)\n",
    "    start_epoch = checkpoint.get('epoch', start_epoch)\n",
    "    global_step = checkpoint.get('step', global_step)\n",
    "\n",
    "    del checkpoint  # reduce memory\n",
    "\n",
    "if args.lr_scheduler == 'plateau':\n",
    "    lr_scheduler = torch.optim.lr_scheduler.ReduceLROnPlateau(optimizer, patience=args.lr_scheduler_patience, factor=args.lr_scheduler_gamma)\n",
    "else:\n",
    "    lr_scheduler = torch.optim.lr_scheduler.StepLR(optimizer, step_size=args.lr_scheduler_step_size, gamma=args.lr_scheduler_gamma, last_epoch=start_epoch-1)"
   ]
  },
  {
   "cell_type": "code",
   "execution_count": 8,
   "metadata": {},
   "outputs": [
    {
     "data": {
      "text/plain": [
       "117822"
      ]
     },
     "execution_count": 8,
     "metadata": {},
     "output_type": "execute_result"
    }
   ],
   "source": [
    "def count_parameters(model):\n",
    "    return sum(p.numel() for p in model.parameters() if p.requires_grad)\n",
    "\n",
    "count_parameters(model)"
   ]
  },
  {
   "cell_type": "code",
   "execution_count": 9,
   "metadata": {},
   "outputs": [],
   "source": [
    "def get_lr():\n",
    "    return optimizer.param_groups[0]['lr']\n",
    "\n",
    "writer = SummaryWriter(comment=('_speech_commands_' + full_name))\n",
    "\n",
    "def train(epoch):\n",
    "    global global_step\n",
    "\n",
    "    print(\"epoch %3d with lr=%.02e\" % (epoch, get_lr()))\n",
    "    phase = 'train'\n",
    "    writer.add_scalar('%s/learning_rate' % phase,  get_lr(), epoch)\n",
    "\n",
    "    model.train()  # Set model to training mode\n",
    "\n",
    "    running_loss = 0.0\n",
    "    it = 0\n",
    "    correct = 0\n",
    "    total = 0\n",
    "\n",
    "    pbar = tqdm(train_dataloader, unit=\"audios\", unit_scale=train_dataloader.batch_size)\n",
    "    for batch in pbar:\n",
    "        inputs = batch['input']\n",
    "        inputs = torch.unsqueeze(inputs, 1)\n",
    "        targets = batch['target']\n",
    "\n",
    "        if args.mixup:\n",
    "            inputs, targets = mixup(inputs, targets, num_classes=len(CLASSES))\n",
    "\n",
    "        inputs = Variable(inputs, requires_grad=True)\n",
    "        targets = Variable(targets, requires_grad=False)\n",
    "        if use_gpu:\n",
    "            inputs = inputs.cuda()\n",
    "            targets = targets.cuda(async=True)\n",
    "\n",
    "        # forward/backward\n",
    "        outputs = model(inputs)\n",
    "        if args.mixup:\n",
    "            loss = mixup_cross_entropy_loss(outputs, targets)\n",
    "        else:\n",
    "            loss = criterion(outputs, targets)\n",
    "        optimizer.zero_grad()\n",
    "        loss.backward()\n",
    "        optimizer.step()\n",
    "\n",
    "        # statistics\n",
    "        it += 1\n",
    "        global_step += 1\n",
    "        running_loss += loss.item()\n",
    "        pred = outputs.data.max(1, keepdim=True)[1]\n",
    "        if args.mixup:\n",
    "            targets = batch['target']\n",
    "            targets = Variable(targets, requires_grad=False).cuda(async=True)\n",
    "        correct += pred.eq(targets.data.view_as(pred)).sum()\n",
    "        total += targets.size(0)\n",
    "\n",
    "        writer.add_scalar('%s/loss' % phase, loss.item(), global_step)\n",
    "\n",
    "        # update the progress bar\n",
    "        pbar.set_postfix({\n",
    "            'loss': \"%.05f\" % (running_loss / it),\n",
    "            'acc': \"%.02f%%\" % (100*correct/total)\n",
    "        })\n",
    "\n",
    "    accuracy = correct/total\n",
    "    epoch_loss = running_loss / it\n",
    "    writer.add_scalar('%s/accuracy' % phase, 100*accuracy, epoch)\n",
    "    writer.add_scalar('%s/epoch_loss' % phase, epoch_loss, epoch)"
   ]
  },
  {
   "cell_type": "code",
   "execution_count": 10,
   "metadata": {},
   "outputs": [],
   "source": [
    "def valid(epoch):\n",
    "    global best_accuracy, best_loss, global_step\n",
    "\n",
    "    phase = 'valid'\n",
    "    model.eval()  # Set model to evaluate mode\n",
    "\n",
    "    running_loss = 0.0\n",
    "    it = 0\n",
    "    correct = 0\n",
    "    total = 0\n",
    "\n",
    "    pbar = tqdm(valid_dataloader, unit=\"audios\", unit_scale=valid_dataloader.batch_size)\n",
    "    for batch in pbar:\n",
    "        inputs = batch['input']\n",
    "        inputs = torch.unsqueeze(inputs, 1)\n",
    "        targets = batch['target']\n",
    "\n",
    "        inputs = Variable(inputs, volatile = True)\n",
    "        targets = Variable(targets, requires_grad=False)\n",
    "\n",
    "        if use_gpu:\n",
    "            inputs = inputs.cuda()\n",
    "            targets = targets.cuda(async=True)\n",
    "\n",
    "        # forward\n",
    "        outputs = model(inputs)\n",
    "        loss = criterion(outputs, targets)\n",
    "\n",
    "        # statistics\n",
    "        it += 1\n",
    "        global_step += 1\n",
    "        running_loss += loss.item()\n",
    "        pred = outputs.data.max(1, keepdim=True)[1]\n",
    "        correct += pred.eq(targets.data.view_as(pred)).sum()\n",
    "        total += targets.size(0)\n",
    "\n",
    "        writer.add_scalar('%s/loss' % phase, loss.item(), global_step)\n",
    "\n",
    "        # update the progress bar\n",
    "        pbar.set_postfix({\n",
    "            'loss': \"%.05f\" % (running_loss / it),\n",
    "            'acc': \"%.02f%%\" % (100*correct/total)\n",
    "        })\n",
    "\n",
    "    accuracy = 100*correct/total\n",
    "    epoch_loss = running_loss / it\n",
    "    writer.add_scalar('%s/accuracy' % phase, accuracy, epoch)\n",
    "    writer.add_scalar('%s/epoch_loss' % phase, epoch_loss, epoch)\n",
    "    checkpoint = {\n",
    "        'epoch': epoch,\n",
    "        'step': global_step,\n",
    "        'state_dict': model.state_dict(),\n",
    "        'loss': epoch_loss,\n",
    "        'accuracy': accuracy,\n",
    "        'optimizer' : optimizer.state_dict(),\n",
    "    }\n",
    "    if accuracy > best_accuracy:\n",
    "        best_accuracy = accuracy\n",
    "        torch.save(checkpoint, 'checkpoints/best-acc-resnet8-%s.pth' % full_name)\n",
    "        torch.save(model, '%d-%s-best-acc.pth' % (start_timestamp, full_name))\n",
    "    if epoch_loss < best_loss:\n",
    "        best_loss = epoch_loss\n",
    "        torch.save(checkpoint, 'checkpoints/best-loss-resnet8-%s.pth' % full_name)\n",
    "        torch.save(model, '%d-%s-best-loss.pth' % (start_timestamp, full_name))\n",
    "    torch.save(model, './res8.pth')\n",
    "    del checkpoint  # reduce memory\n",
    "\n",
    "    return epoch_loss"
   ]
  },
  {
   "cell_type": "code",
   "execution_count": 11,
   "metadata": {},
   "outputs": [
    {
     "name": "stderr",
     "output_type": "stream",
     "text": [
      "\r",
      "  0%|          | 0/56256 [00:00<?, ?audios/s]"
     ]
    },
    {
     "name": "stdout",
     "output_type": "stream",
     "text": [
      "training resnet8.pth for Google speech commands...\n",
      "epoch   0 with lr=1.00e-02\n"
     ]
    },
    {
     "name": "stderr",
     "output_type": "stream",
     "text": [
      "100%|██████████| 56256/56256 [01:38<00:00, 569.22audios/s, loss=2.29673, acc=18.00%] \n",
      "  0%|          | 0/7488 [00:00<?, ?audios/s]/usr/local/lib/python3.6/dist-packages/ipykernel_launcher.py:18: UserWarning: volatile was removed and now has no effect. Use `with torch.no_grad():` instead.\n",
      "100%|██████████| 7488/7488 [00:04<00:00, 1594.73audios/s, loss=3.50261, acc=13.00%]\n",
      "/home/cilab/.local/lib/python3.6/site-packages/torch/serialization.py:292: UserWarning: Couldn't retrieve source code for container of type DataParallel. It won't be checked for correctness upon loading.\n",
      "  \"type \" + obj.__name__ + \". It won't be checked \"\n",
      "/home/cilab/.local/lib/python3.6/site-packages/torch/serialization.py:292: UserWarning: Couldn't retrieve source code for container of type ResNet. It won't be checked for correctness upon loading.\n",
      "  \"type \" + obj.__name__ + \". It won't be checked \"\n",
      "/home/cilab/.local/lib/python3.6/site-packages/torch/serialization.py:292: UserWarning: Couldn't retrieve source code for container of type Conv2d. It won't be checked for correctness upon loading.\n",
      "  \"type \" + obj.__name__ + \". It won't be checked \"\n",
      "/home/cilab/.local/lib/python3.6/site-packages/torch/serialization.py:292: UserWarning: Couldn't retrieve source code for container of type BatchNorm2d. It won't be checked for correctness upon loading.\n",
      "  \"type \" + obj.__name__ + \". It won't be checked \"\n",
      "/home/cilab/.local/lib/python3.6/site-packages/torch/serialization.py:292: UserWarning: Couldn't retrieve source code for container of type ReLU. It won't be checked for correctness upon loading.\n",
      "  \"type \" + obj.__name__ + \". It won't be checked \"\n",
      "/home/cilab/.local/lib/python3.6/site-packages/torch/serialization.py:292: UserWarning: Couldn't retrieve source code for container of type MaxPool2d. It won't be checked for correctness upon loading.\n",
      "  \"type \" + obj.__name__ + \". It won't be checked \"\n",
      "/home/cilab/.local/lib/python3.6/site-packages/torch/serialization.py:292: UserWarning: Couldn't retrieve source code for container of type Sequential. It won't be checked for correctness upon loading.\n",
      "  \"type \" + obj.__name__ + \". It won't be checked \"\n",
      "/home/cilab/.local/lib/python3.6/site-packages/torch/serialization.py:292: UserWarning: Couldn't retrieve source code for container of type BasicBlock. It won't be checked for correctness upon loading.\n",
      "  \"type \" + obj.__name__ + \". It won't be checked \"\n",
      "/home/cilab/.local/lib/python3.6/site-packages/torch/serialization.py:292: UserWarning: Couldn't retrieve source code for container of type AdaptiveAvgPool2d. It won't be checked for correctness upon loading.\n",
      "  \"type \" + obj.__name__ + \". It won't be checked \"\n",
      "/home/cilab/.local/lib/python3.6/site-packages/torch/serialization.py:292: UserWarning: Couldn't retrieve source code for container of type Linear. It won't be checked for correctness upon loading.\n",
      "  \"type \" + obj.__name__ + \". It won't be checked \"\n",
      "  0%|          | 0/56256 [00:00<?, ?audios/s]"
     ]
    },
    {
     "name": "stdout",
     "output_type": "stream",
     "text": [
      "<class 'float'>\n",
      "total time elapsed: 0h 1m 44s , best accuracy: 13.00%, best loss 3.502607\n",
      "epoch   1 with lr=1.00e-02\n"
     ]
    },
    {
     "name": "stderr",
     "output_type": "stream",
     "text": [
      "100%|██████████| 56256/56256 [01:36<00:00, 581.04audios/s, loss=1.99514, acc=30.00%]\n",
      "100%|██████████| 7488/7488 [00:04<00:00, 1561.84audios/s, loss=1.86813, acc=26.00%]\n",
      "  0%|          | 0/56256 [00:00<?, ?audios/s]"
     ]
    },
    {
     "name": "stdout",
     "output_type": "stream",
     "text": [
      "<class 'float'>\n",
      "total time elapsed: 0h 3m 25s , best accuracy: 26.00%, best loss 1.868128\n",
      "epoch   2 with lr=1.00e-02\n"
     ]
    },
    {
     "name": "stderr",
     "output_type": "stream",
     "text": [
      "100%|██████████| 56256/56256 [01:54<00:00, 492.51audios/s, loss=1.84196, acc=35.00%]\n",
      "100%|██████████| 7488/7488 [00:04<00:00, 1522.96audios/s, loss=1.61530, acc=33.00%]\n",
      "  0%|          | 0/56256 [00:00<?, ?audios/s]"
     ]
    },
    {
     "name": "stdout",
     "output_type": "stream",
     "text": [
      "<class 'float'>\n",
      "total time elapsed: 0h 5m 24s , best accuracy: 33.00%, best loss 1.615303\n",
      "epoch   3 with lr=1.00e-02\n"
     ]
    },
    {
     "name": "stderr",
     "output_type": "stream",
     "text": [
      "100%|██████████| 56256/56256 [01:54<00:00, 490.33audios/s, loss=1.77078, acc=37.00%]\n",
      "100%|██████████| 7488/7488 [00:04<00:00, 1548.95audios/s, loss=1.73189, acc=33.00%]\n",
      "  0%|          | 0/56256 [00:00<?, ?audios/s]"
     ]
    },
    {
     "name": "stdout",
     "output_type": "stream",
     "text": [
      "<class 'float'>\n",
      "total time elapsed: 0h 7m 24s , best accuracy: 33.00%, best loss 1.615303\n",
      "epoch   4 with lr=1.00e-02\n"
     ]
    },
    {
     "name": "stderr",
     "output_type": "stream",
     "text": [
      "100%|██████████| 56256/56256 [01:54<00:00, 490.30audios/s, loss=1.73677, acc=39.00%]\n",
      "100%|██████████| 7488/7488 [00:05<00:00, 1493.38audios/s, loss=1.48099, acc=39.00%]\n",
      "  0%|          | 0/56256 [00:00<?, ?audios/s]"
     ]
    },
    {
     "name": "stdout",
     "output_type": "stream",
     "text": [
      "<class 'float'>\n",
      "total time elapsed: 0h 9m 24s , best accuracy: 39.00%, best loss 1.480989\n",
      "epoch   5 with lr=1.00e-02\n"
     ]
    },
    {
     "name": "stderr",
     "output_type": "stream",
     "text": [
      "100%|██████████| 56256/56256 [01:50<00:00, 511.08audios/s, loss=1.71193, acc=40.00%]\n",
      "100%|██████████| 7488/7488 [00:04<00:00, 1502.47audios/s, loss=1.30914, acc=61.00%]\n",
      "  0%|          | 0/56256 [00:00<?, ?audios/s]"
     ]
    },
    {
     "name": "stdout",
     "output_type": "stream",
     "text": [
      "<class 'float'>\n",
      "total time elapsed: 0h 11m 19s , best accuracy: 61.00%, best loss 1.309138\n",
      "epoch   6 with lr=1.00e-02\n"
     ]
    },
    {
     "name": "stderr",
     "output_type": "stream",
     "text": [
      "100%|██████████| 56256/56256 [01:54<00:00, 489.22audios/s, loss=1.69217, acc=40.00%]\n",
      "100%|██████████| 7488/7488 [00:04<00:00, 1508.34audios/s, loss=3.01391, acc=13.00%]\n",
      "  0%|          | 0/56256 [00:00<?, ?audios/s]"
     ]
    },
    {
     "name": "stdout",
     "output_type": "stream",
     "text": [
      "<class 'float'>\n",
      "total time elapsed: 0h 13m 19s , best accuracy: 61.00%, best loss 1.309138\n",
      "epoch   7 with lr=1.00e-02\n"
     ]
    },
    {
     "name": "stderr",
     "output_type": "stream",
     "text": [
      "100%|██████████| 56256/56256 [01:55<00:00, 488.28audios/s, loss=1.68543, acc=41.00%]\n",
      "100%|██████████| 7488/7488 [00:04<00:00, 1514.69audios/s, loss=1.13456, acc=58.00%]\n",
      "  0%|          | 0/56256 [00:00<?, ?audios/s]"
     ]
    },
    {
     "name": "stdout",
     "output_type": "stream",
     "text": [
      "<class 'float'>\n",
      "total time elapsed: 0h 15m 19s , best accuracy: 61.00%, best loss 1.134559\n",
      "epoch   8 with lr=1.00e-02\n"
     ]
    },
    {
     "name": "stderr",
     "output_type": "stream",
     "text": [
      "100%|██████████| 56256/56256 [01:55<00:00, 486.30audios/s, loss=1.67531, acc=41.00%]\n",
      "100%|██████████| 7488/7488 [00:04<00:00, 1578.69audios/s, loss=1.35525, acc=53.00%]\n",
      "  0%|          | 0/56256 [00:00<?, ?audios/s]"
     ]
    },
    {
     "name": "stdout",
     "output_type": "stream",
     "text": [
      "<class 'float'>\n",
      "total time elapsed: 0h 17m 20s , best accuracy: 61.00%, best loss 1.134559\n",
      "epoch   9 with lr=1.00e-02\n"
     ]
    },
    {
     "name": "stderr",
     "output_type": "stream",
     "text": [
      "100%|██████████| 56256/56256 [01:49<00:00, 513.24audios/s, loss=1.67618, acc=41.00%]\n",
      "100%|██████████| 7488/7488 [00:05<00:00, 1490.46audios/s, loss=1.17886, acc=57.00%]\n",
      "  0%|          | 0/56256 [00:00<?, ?audios/s]"
     ]
    },
    {
     "name": "stdout",
     "output_type": "stream",
     "text": [
      "<class 'float'>\n",
      "total time elapsed: 0h 19m 14s , best accuracy: 61.00%, best loss 1.134559\n",
      "epoch  10 with lr=1.00e-02\n"
     ]
    },
    {
     "name": "stderr",
     "output_type": "stream",
     "text": [
      "100%|██████████| 56256/56256 [01:55<00:00, 488.26audios/s, loss=1.67518, acc=41.00%] \n",
      "100%|██████████| 7488/7488 [00:05<00:00, 1494.89audios/s, loss=1.06292, acc=67.00%]\n",
      "  0%|          | 0/56256 [00:00<?, ?audios/s]"
     ]
    },
    {
     "name": "stdout",
     "output_type": "stream",
     "text": [
      "<class 'float'>\n",
      "total time elapsed: 0h 21m 15s , best accuracy: 67.00%, best loss 1.062915\n",
      "epoch  11 with lr=1.00e-02\n"
     ]
    },
    {
     "name": "stderr",
     "output_type": "stream",
     "text": [
      "100%|██████████| 56256/56256 [01:55<00:00, 488.13audios/s, loss=1.66199, acc=41.00%]\n",
      "100%|██████████| 7488/7488 [00:05<00:00, 1486.58audios/s, loss=1.04024, acc=63.00%]\n",
      "  0%|          | 0/56256 [00:00<?, ?audios/s]"
     ]
    },
    {
     "name": "stdout",
     "output_type": "stream",
     "text": [
      "<class 'float'>\n",
      "total time elapsed: 0h 23m 15s , best accuracy: 67.00%, best loss 1.040240\n",
      "epoch  12 with lr=1.00e-02\n"
     ]
    },
    {
     "name": "stderr",
     "output_type": "stream",
     "text": [
      "100%|██████████| 56256/56256 [01:54<00:00, 490.23audios/s, loss=1.65467, acc=42.00%] \n",
      "100%|██████████| 7488/7488 [00:04<00:00, 1623.64audios/s, loss=1.05016, acc=72.00%]\n",
      "  0%|          | 0/56256 [00:00<?, ?audios/s]"
     ]
    },
    {
     "name": "stdout",
     "output_type": "stream",
     "text": [
      "<class 'float'>\n",
      "total time elapsed: 0h 25m 14s , best accuracy: 72.00%, best loss 1.040240\n",
      "epoch  13 with lr=1.00e-02\n"
     ]
    },
    {
     "name": "stderr",
     "output_type": "stream",
     "text": [
      "100%|██████████| 56256/56256 [01:51<00:00, 503.24audios/s, loss=1.67257, acc=41.00%]\n",
      "100%|██████████| 7488/7488 [00:05<00:00, 1491.52audios/s, loss=2.37141, acc=31.00%]\n",
      "  0%|          | 0/56256 [00:00<?, ?audios/s]"
     ]
    },
    {
     "name": "stdout",
     "output_type": "stream",
     "text": [
      "<class 'float'>\n",
      "total time elapsed: 0h 27m 11s , best accuracy: 72.00%, best loss 1.040240\n",
      "epoch  14 with lr=1.00e-02\n"
     ]
    },
    {
     "name": "stderr",
     "output_type": "stream",
     "text": [
      "100%|██████████| 56256/56256 [01:55<00:00, 489.07audios/s, loss=1.66630, acc=41.00%]\n",
      "100%|██████████| 7488/7488 [00:05<00:00, 1460.78audios/s, loss=1.46433, acc=52.00%]\n",
      "  0%|          | 0/56256 [00:00<?, ?audios/s]"
     ]
    },
    {
     "name": "stdout",
     "output_type": "stream",
     "text": [
      "<class 'float'>\n",
      "total time elapsed: 0h 29m 11s , best accuracy: 72.00%, best loss 1.040240\n",
      "epoch  15 with lr=1.00e-02\n"
     ]
    },
    {
     "name": "stderr",
     "output_type": "stream",
     "text": [
      "100%|██████████| 56256/56256 [01:55<00:00, 488.49audios/s, loss=1.65443, acc=41.00%] \n",
      "100%|██████████| 7488/7488 [00:05<00:00, 1492.51audios/s, loss=1.58449, acc=36.00%]\n",
      "  0%|          | 0/56256 [00:00<?, ?audios/s]"
     ]
    },
    {
     "name": "stdout",
     "output_type": "stream",
     "text": [
      "<class 'float'>\n",
      "total time elapsed: 0h 31m 12s , best accuracy: 72.00%, best loss 1.040240\n",
      "epoch  16 with lr=1.00e-02\n"
     ]
    },
    {
     "name": "stderr",
     "output_type": "stream",
     "text": [
      "100%|██████████| 56256/56256 [01:52<00:00, 501.76audios/s, loss=1.65819, acc=42.00%] \n",
      "100%|██████████| 7488/7488 [00:04<00:00, 1567.96audios/s, loss=1.44646, acc=47.00%]\n",
      "  0%|          | 0/56256 [00:00<?, ?audios/s]"
     ]
    },
    {
     "name": "stdout",
     "output_type": "stream",
     "text": [
      "<class 'float'>\n",
      "total time elapsed: 0h 33m 8s , best accuracy: 72.00%, best loss 1.040240\n",
      "epoch  17 with lr=1.00e-02\n"
     ]
    },
    {
     "name": "stderr",
     "output_type": "stream",
     "text": [
      "100%|██████████| 56256/56256 [01:55<00:00, 488.24audios/s, loss=1.65612, acc=42.00%]\n",
      "100%|██████████| 7488/7488 [00:04<00:00, 1507.62audios/s, loss=1.90652, acc=33.00%]\n",
      "  0%|          | 0/56256 [00:00<?, ?audios/s]"
     ]
    },
    {
     "name": "stdout",
     "output_type": "stream",
     "text": [
      "<class 'float'>\n",
      "total time elapsed: 0h 35m 9s , best accuracy: 72.00%, best loss 1.040240\n",
      "epoch  18 with lr=1.00e-03\n"
     ]
    },
    {
     "name": "stderr",
     "output_type": "stream",
     "text": [
      "100%|██████████| 56256/56256 [01:55<00:00, 489.18audios/s, loss=1.54398, acc=45.00%]\n",
      "100%|██████████| 7488/7488 [00:05<00:00, 1469.19audios/s, loss=0.87141, acc=75.00%]\n",
      "  0%|          | 0/56256 [00:00<?, ?audios/s]"
     ]
    },
    {
     "name": "stdout",
     "output_type": "stream",
     "text": [
      "<class 'float'>\n",
      "total time elapsed: 0h 37m 9s , best accuracy: 75.00%, best loss 0.871405\n",
      "epoch  19 with lr=1.00e-03\n"
     ]
    },
    {
     "name": "stderr",
     "output_type": "stream",
     "text": [
      "100%|██████████| 56256/56256 [01:55<00:00, 486.68audios/s, loss=1.52571, acc=45.00%] \n",
      "100%|██████████| 7488/7488 [00:04<00:00, 1542.44audios/s, loss=0.91619, acc=71.00%]\n",
      "  0%|          | 0/56256 [00:00<?, ?audios/s]"
     ]
    },
    {
     "name": "stdout",
     "output_type": "stream",
     "text": [
      "<class 'float'>\n",
      "total time elapsed: 0h 39m 9s , best accuracy: 75.00%, best loss 0.871405\n",
      "epoch  20 with lr=1.00e-03\n"
     ]
    },
    {
     "name": "stderr",
     "output_type": "stream",
     "text": [
      "100%|██████████| 56256/56256 [01:50<00:00, 509.58audios/s, loss=1.52158, acc=45.00%] \n",
      "100%|██████████| 7488/7488 [00:04<00:00, 1531.11audios/s, loss=0.71451, acc=83.00%]\n",
      "  0%|          | 0/56256 [00:00<?, ?audios/s]"
     ]
    },
    {
     "name": "stdout",
     "output_type": "stream",
     "text": [
      "<class 'float'>\n",
      "total time elapsed: 0h 41m 5s , best accuracy: 83.00%, best loss 0.714506\n",
      "epoch  21 with lr=1.00e-03\n"
     ]
    },
    {
     "name": "stderr",
     "output_type": "stream",
     "text": [
      "100%|██████████| 56256/56256 [01:55<00:00, 486.45audios/s, loss=1.51629, acc=45.00%]\n",
      "100%|██████████| 7488/7488 [00:04<00:00, 1516.85audios/s, loss=0.89355, acc=73.00%]\n",
      "  0%|          | 0/56256 [00:00<?, ?audios/s]"
     ]
    },
    {
     "name": "stdout",
     "output_type": "stream",
     "text": [
      "<class 'float'>\n",
      "total time elapsed: 0h 43m 5s , best accuracy: 83.00%, best loss 0.714506\n",
      "epoch  22 with lr=1.00e-03\n"
     ]
    },
    {
     "name": "stderr",
     "output_type": "stream",
     "text": [
      "100%|██████████| 56256/56256 [01:55<00:00, 487.71audios/s, loss=1.51041, acc=45.00%]\n",
      "100%|██████████| 7488/7488 [00:04<00:00, 1529.98audios/s, loss=0.86232, acc=72.00%]\n",
      "  0%|          | 0/56256 [00:00<?, ?audios/s]"
     ]
    },
    {
     "name": "stdout",
     "output_type": "stream",
     "text": [
      "<class 'float'>\n",
      "total time elapsed: 0h 45m 6s , best accuracy: 83.00%, best loss 0.714506\n",
      "epoch  23 with lr=1.00e-03\n"
     ]
    },
    {
     "name": "stderr",
     "output_type": "stream",
     "text": [
      "100%|██████████| 56256/56256 [01:54<00:00, 489.25audios/s, loss=1.51529, acc=45.00%]\n",
      "100%|██████████| 7488/7488 [00:05<00:00, 1478.09audios/s, loss=0.69505, acc=83.00%]\n",
      "  0%|          | 0/56256 [00:00<?, ?audios/s]"
     ]
    },
    {
     "name": "stdout",
     "output_type": "stream",
     "text": [
      "<class 'float'>\n",
      "total time elapsed: 0h 47m 6s , best accuracy: 83.00%, best loss 0.695054\n",
      "epoch  24 with lr=1.00e-03\n"
     ]
    },
    {
     "name": "stderr",
     "output_type": "stream",
     "text": [
      "100%|██████████| 56256/56256 [01:49<00:00, 513.35audios/s, loss=1.51417, acc=45.00%]\n",
      "100%|██████████| 7488/7488 [00:05<00:00, 1436.50audios/s, loss=1.01764, acc=70.00%]\n",
      "  0%|          | 0/56256 [00:00<?, ?audios/s]"
     ]
    },
    {
     "name": "stdout",
     "output_type": "stream",
     "text": [
      "<class 'float'>\n",
      "total time elapsed: 0h 49m 1s , best accuracy: 83.00%, best loss 0.695054\n",
      "epoch  25 with lr=1.00e-03\n"
     ]
    },
    {
     "name": "stderr",
     "output_type": "stream",
     "text": [
      "100%|██████████| 56256/56256 [01:55<00:00, 486.83audios/s, loss=1.50753, acc=46.00%]\n",
      "100%|██████████| 7488/7488 [00:04<00:00, 1562.49audios/s, loss=0.79319, acc=77.00%]\n",
      "  0%|          | 0/56256 [00:00<?, ?audios/s]"
     ]
    },
    {
     "name": "stdout",
     "output_type": "stream",
     "text": [
      "<class 'float'>\n",
      "total time elapsed: 0h 51m 1s , best accuracy: 83.00%, best loss 0.695054\n",
      "epoch  26 with lr=1.00e-03\n"
     ]
    },
    {
     "name": "stderr",
     "output_type": "stream",
     "text": [
      "100%|██████████| 56256/56256 [01:55<00:00, 485.61audios/s, loss=1.50756, acc=46.00%]\n",
      "100%|██████████| 7488/7488 [00:04<00:00, 1538.70audios/s, loss=0.83833, acc=77.00%]\n",
      "  0%|          | 0/56256 [00:00<?, ?audios/s]"
     ]
    },
    {
     "name": "stdout",
     "output_type": "stream",
     "text": [
      "<class 'float'>\n",
      "total time elapsed: 0h 53m 2s , best accuracy: 83.00%, best loss 0.695054\n",
      "epoch  27 with lr=1.00e-03\n"
     ]
    },
    {
     "name": "stderr",
     "output_type": "stream",
     "text": [
      "100%|██████████| 56256/56256 [01:55<00:00, 487.47audios/s, loss=1.50267, acc=46.00%] \n",
      "100%|██████████| 7488/7488 [00:04<00:00, 1510.66audios/s, loss=0.76069, acc=79.00%]\n",
      "  0%|          | 0/56256 [00:00<?, ?audios/s]"
     ]
    },
    {
     "name": "stdout",
     "output_type": "stream",
     "text": [
      "<class 'float'>\n",
      "total time elapsed: 0h 55m 2s , best accuracy: 83.00%, best loss 0.695054\n",
      "epoch  28 with lr=1.00e-03\n"
     ]
    },
    {
     "name": "stderr",
     "output_type": "stream",
     "text": [
      "100%|██████████| 56256/56256 [01:49<00:00, 511.46audios/s, loss=1.50402, acc=46.00%]\n",
      "100%|██████████| 7488/7488 [00:04<00:00, 1508.28audios/s, loss=1.21677, acc=58.00%]\n",
      "  0%|          | 0/56256 [00:00<?, ?audios/s]"
     ]
    },
    {
     "name": "stdout",
     "output_type": "stream",
     "text": [
      "<class 'float'>\n",
      "total time elapsed: 0h 56m 57s , best accuracy: 83.00%, best loss 0.695054\n",
      "epoch  29 with lr=1.00e-03\n"
     ]
    },
    {
     "name": "stderr",
     "output_type": "stream",
     "text": [
      "100%|██████████| 56256/56256 [01:55<00:00, 489.15audios/s, loss=1.50997, acc=45.00%]\n",
      "100%|██████████| 7488/7488 [00:04<00:00, 1501.52audios/s, loss=0.76389, acc=78.00%]\n",
      "  0%|          | 0/56256 [00:00<?, ?audios/s]"
     ]
    },
    {
     "name": "stdout",
     "output_type": "stream",
     "text": [
      "<class 'float'>\n",
      "total time elapsed: 0h 58m 57s , best accuracy: 83.00%, best loss 0.695054\n",
      "epoch  30 with lr=1.00e-04\n"
     ]
    },
    {
     "name": "stderr",
     "output_type": "stream",
     "text": [
      "100%|██████████| 56256/56256 [01:55<00:00, 487.57audios/s, loss=1.46467, acc=47.00%] \n",
      "100%|██████████| 7488/7488 [00:05<00:00, 1479.27audios/s, loss=0.68704, acc=81.00%]\n",
      "  0%|          | 0/56256 [00:00<?, ?audios/s]"
     ]
    },
    {
     "name": "stdout",
     "output_type": "stream",
     "text": [
      "<class 'float'>\n",
      "total time elapsed: 1h 0m 58s , best accuracy: 83.00%, best loss 0.687044\n",
      "epoch  31 with lr=1.00e-04\n"
     ]
    },
    {
     "name": "stderr",
     "output_type": "stream",
     "text": [
      "100%|██████████| 56256/56256 [01:55<00:00, 486.00audios/s, loss=1.45337, acc=47.00%]\n",
      "100%|██████████| 7488/7488 [00:04<00:00, 1543.80audios/s, loss=0.61761, acc=84.00%]\n",
      "  0%|          | 0/56256 [00:00<?, ?audios/s]"
     ]
    },
    {
     "name": "stdout",
     "output_type": "stream",
     "text": [
      "<class 'float'>\n",
      "total time elapsed: 1h 2m 58s , best accuracy: 84.00%, best loss 0.617614\n",
      "epoch  32 with lr=1.00e-04\n"
     ]
    },
    {
     "name": "stderr",
     "output_type": "stream",
     "text": [
      "100%|██████████| 56256/56256 [01:50<00:00, 511.25audios/s, loss=1.45364, acc=47.00%]\n",
      "100%|██████████| 7488/7488 [00:05<00:00, 1478.83audios/s, loss=0.67503, acc=82.00%]\n",
      "  0%|          | 0/56256 [00:00<?, ?audios/s]"
     ]
    },
    {
     "name": "stdout",
     "output_type": "stream",
     "text": [
      "<class 'float'>\n",
      "total time elapsed: 1h 4m 53s , best accuracy: 84.00%, best loss 0.617614\n",
      "epoch  33 with lr=1.00e-04\n"
     ]
    },
    {
     "name": "stderr",
     "output_type": "stream",
     "text": [
      "100%|██████████| 56256/56256 [01:55<00:00, 487.57audios/s, loss=1.44902, acc=47.00%]\n",
      "100%|██████████| 7488/7488 [00:04<00:00, 1504.65audios/s, loss=0.62418, acc=84.00%]\n",
      "  0%|          | 0/56256 [00:00<?, ?audios/s]"
     ]
    },
    {
     "name": "stdout",
     "output_type": "stream",
     "text": [
      "<class 'float'>\n",
      "total time elapsed: 1h 6m 54s , best accuracy: 84.00%, best loss 0.617614\n",
      "epoch  34 with lr=1.00e-04\n"
     ]
    },
    {
     "name": "stderr",
     "output_type": "stream",
     "text": [
      "100%|██████████| 56256/56256 [01:56<00:00, 484.40audios/s, loss=1.44544, acc=47.00%]\n",
      "100%|██████████| 7488/7488 [00:04<00:00, 1506.97audios/s, loss=0.56761, acc=86.00%]\n",
      "  0%|          | 0/56256 [00:00<?, ?audios/s]"
     ]
    },
    {
     "name": "stdout",
     "output_type": "stream",
     "text": [
      "<class 'float'>\n",
      "total time elapsed: 1h 8m 55s , best accuracy: 86.00%, best loss 0.567605\n",
      "epoch  35 with lr=1.00e-04\n"
     ]
    },
    {
     "name": "stderr",
     "output_type": "stream",
     "text": [
      "100%|██████████| 56256/56256 [01:53<00:00, 497.40audios/s, loss=1.44330, acc=47.00%]\n",
      "100%|██████████| 7488/7488 [00:04<00:00, 1581.52audios/s, loss=0.61344, acc=85.00%]\n",
      "  0%|          | 0/56256 [00:00<?, ?audios/s]"
     ]
    },
    {
     "name": "stdout",
     "output_type": "stream",
     "text": [
      "<class 'float'>\n",
      "total time elapsed: 1h 10m 53s , best accuracy: 86.00%, best loss 0.567605\n",
      "epoch  36 with lr=1.00e-04\n"
     ]
    },
    {
     "name": "stderr",
     "output_type": "stream",
     "text": [
      "100%|██████████| 56256/56256 [01:52<00:00, 499.12audios/s, loss=1.43954, acc=47.00%]\n",
      "100%|██████████| 7488/7488 [00:05<00:00, 1487.49audios/s, loss=0.57864, acc=85.00%]\n",
      "  0%|          | 0/56256 [00:00<?, ?audios/s]"
     ]
    },
    {
     "name": "stdout",
     "output_type": "stream",
     "text": [
      "<class 'float'>\n",
      "total time elapsed: 1h 12m 51s , best accuracy: 86.00%, best loss 0.567605\n",
      "epoch  37 with lr=1.00e-04\n"
     ]
    },
    {
     "name": "stderr",
     "output_type": "stream",
     "text": [
      "100%|██████████| 56256/56256 [01:55<00:00, 485.69audios/s, loss=1.43661, acc=47.00%]\n",
      "100%|██████████| 7488/7488 [00:04<00:00, 1572.41audios/s, loss=0.57825, acc=86.00%]\n",
      "  0%|          | 0/56256 [00:00<?, ?audios/s]"
     ]
    },
    {
     "name": "stdout",
     "output_type": "stream",
     "text": [
      "<class 'float'>\n",
      "total time elapsed: 1h 14m 51s , best accuracy: 86.00%, best loss 0.567605\n",
      "epoch  38 with lr=1.00e-04\n"
     ]
    },
    {
     "name": "stderr",
     "output_type": "stream",
     "text": [
      "100%|██████████| 56256/56256 [01:54<00:00, 489.84audios/s, loss=1.43783, acc=47.00%]\n",
      "100%|██████████| 7488/7488 [00:04<00:00, 1522.73audios/s, loss=0.59827, acc=85.00%]\n",
      "  0%|          | 0/56256 [00:00<?, ?audios/s]"
     ]
    },
    {
     "name": "stdout",
     "output_type": "stream",
     "text": [
      "<class 'float'>\n",
      "total time elapsed: 1h 16m 51s , best accuracy: 86.00%, best loss 0.567605\n",
      "epoch  39 with lr=1.00e-04\n"
     ]
    },
    {
     "name": "stderr",
     "output_type": "stream",
     "text": [
      "100%|██████████| 56256/56256 [01:49<00:00, 514.45audios/s, loss=1.43588, acc=47.00%] \n",
      "100%|██████████| 7488/7488 [00:04<00:00, 1648.24audios/s, loss=0.59361, acc=86.00%]\n",
      "  0%|          | 0/56256 [00:00<?, ?audios/s]"
     ]
    },
    {
     "name": "stdout",
     "output_type": "stream",
     "text": [
      "<class 'float'>\n",
      "total time elapsed: 1h 18m 45s , best accuracy: 86.00%, best loss 0.567605\n",
      "epoch  40 with lr=1.00e-04\n"
     ]
    },
    {
     "name": "stderr",
     "output_type": "stream",
     "text": [
      "100%|██████████| 56256/56256 [01:29<00:00, 628.55audios/s, loss=1.43932, acc=47.00%] \n",
      "100%|██████████| 7488/7488 [00:04<00:00, 1606.77audios/s, loss=0.61647, acc=84.00%]\n",
      "  0%|          | 0/56256 [00:00<?, ?audios/s]"
     ]
    },
    {
     "name": "stdout",
     "output_type": "stream",
     "text": [
      "<class 'float'>\n",
      "total time elapsed: 1h 20m 19s , best accuracy: 86.00%, best loss 0.567605\n",
      "epoch  41 with lr=1.00e-05\n"
     ]
    },
    {
     "name": "stderr",
     "output_type": "stream",
     "text": [
      "100%|██████████| 56256/56256 [01:29<00:00, 626.51audios/s, loss=1.43006, acc=47.00%]\n",
      "100%|██████████| 7488/7488 [00:04<00:00, 1650.71audios/s, loss=0.56719, acc=87.00%]\n",
      "  0%|          | 0/56256 [00:00<?, ?audios/s]"
     ]
    },
    {
     "name": "stdout",
     "output_type": "stream",
     "text": [
      "<class 'float'>\n",
      "total time elapsed: 1h 21m 53s , best accuracy: 87.00%, best loss 0.567193\n",
      "epoch  42 with lr=1.00e-05\n"
     ]
    },
    {
     "name": "stderr",
     "output_type": "stream",
     "text": [
      "100%|██████████| 56256/56256 [01:29<00:00, 630.64audios/s, loss=1.43327, acc=48.00%] \n",
      "100%|██████████| 7488/7488 [00:04<00:00, 1630.25audios/s, loss=0.57491, acc=86.00%]\n",
      "  0%|          | 0/56256 [00:00<?, ?audios/s]"
     ]
    },
    {
     "name": "stdout",
     "output_type": "stream",
     "text": [
      "<class 'float'>\n",
      "total time elapsed: 1h 23m 27s , best accuracy: 87.00%, best loss 0.567193\n",
      "epoch  43 with lr=1.00e-05\n"
     ]
    },
    {
     "name": "stderr",
     "output_type": "stream",
     "text": [
      "100%|██████████| 56256/56256 [01:29<00:00, 632.06audios/s, loss=1.43211, acc=47.00%]\n",
      "100%|██████████| 7488/7488 [00:04<00:00, 1699.22audios/s, loss=0.60809, acc=85.00%]\n",
      "  0%|          | 0/56256 [00:00<?, ?audios/s]"
     ]
    },
    {
     "name": "stdout",
     "output_type": "stream",
     "text": [
      "<class 'float'>\n",
      "total time elapsed: 1h 25m 1s , best accuracy: 87.00%, best loss 0.567193\n",
      "epoch  44 with lr=1.00e-05\n"
     ]
    },
    {
     "name": "stderr",
     "output_type": "stream",
     "text": [
      "100%|██████████| 56256/56256 [01:29<00:00, 627.58audios/s, loss=1.42481, acc=47.00%] \n",
      "100%|██████████| 7488/7488 [00:04<00:00, 1694.17audios/s, loss=0.53922, acc=87.00%]\n",
      "  0%|          | 0/56256 [00:00<?, ?audios/s]"
     ]
    },
    {
     "name": "stdout",
     "output_type": "stream",
     "text": [
      "<class 'float'>\n",
      "total time elapsed: 1h 26m 35s , best accuracy: 87.00%, best loss 0.539219\n",
      "epoch  45 with lr=1.00e-05\n"
     ]
    },
    {
     "name": "stderr",
     "output_type": "stream",
     "text": [
      "100%|██████████| 56256/56256 [01:29<00:00, 630.77audios/s, loss=1.42855, acc=47.00%]\n",
      "100%|██████████| 7488/7488 [00:04<00:00, 1585.52audios/s, loss=0.57364, acc=86.00%]\n",
      "  0%|          | 0/56256 [00:00<?, ?audios/s]"
     ]
    },
    {
     "name": "stdout",
     "output_type": "stream",
     "text": [
      "<class 'float'>\n",
      "total time elapsed: 1h 28m 9s , best accuracy: 87.00%, best loss 0.539219\n",
      "epoch  46 with lr=1.00e-05\n"
     ]
    },
    {
     "name": "stderr",
     "output_type": "stream",
     "text": [
      "100%|██████████| 56256/56256 [01:29<00:00, 627.43audios/s, loss=1.43253, acc=48.00%] \n",
      "100%|██████████| 7488/7488 [00:04<00:00, 1626.60audios/s, loss=0.53791, acc=87.00%]\n",
      "  0%|          | 0/56256 [00:00<?, ?audios/s]"
     ]
    },
    {
     "name": "stdout",
     "output_type": "stream",
     "text": [
      "<class 'float'>\n",
      "total time elapsed: 1h 29m 43s , best accuracy: 87.00%, best loss 0.537909\n",
      "epoch  47 with lr=1.00e-05\n"
     ]
    },
    {
     "name": "stderr",
     "output_type": "stream",
     "text": [
      "100%|██████████| 56256/56256 [01:29<00:00, 629.27audios/s, loss=1.42647, acc=48.00%]\n",
      "100%|██████████| 7488/7488 [00:04<00:00, 1637.84audios/s, loss=0.57620, acc=86.00%]\n",
      "  0%|          | 0/56256 [00:00<?, ?audios/s]"
     ]
    },
    {
     "name": "stdout",
     "output_type": "stream",
     "text": [
      "<class 'float'>\n",
      "total time elapsed: 1h 31m 17s , best accuracy: 87.00%, best loss 0.537909\n",
      "epoch  48 with lr=1.00e-05\n"
     ]
    },
    {
     "name": "stderr",
     "output_type": "stream",
     "text": [
      "100%|██████████| 56256/56256 [01:28<00:00, 634.32audios/s, loss=1.42676, acc=48.00%] \n",
      "100%|██████████| 7488/7488 [00:04<00:00, 1615.20audios/s, loss=0.53662, acc=87.00%]\n",
      "  0%|          | 0/56256 [00:00<?, ?audios/s]"
     ]
    },
    {
     "name": "stdout",
     "output_type": "stream",
     "text": [
      "<class 'float'>\n",
      "total time elapsed: 1h 32m 50s , best accuracy: 87.00%, best loss 0.536616\n",
      "epoch  49 with lr=1.00e-05\n"
     ]
    },
    {
     "name": "stderr",
     "output_type": "stream",
     "text": [
      "100%|██████████| 56256/56256 [01:29<00:00, 625.99audios/s, loss=1.42640, acc=48.00%] \n",
      "100%|██████████| 7488/7488 [00:04<00:00, 1598.70audios/s, loss=0.58854, acc=86.00%]\n",
      "  0%|          | 0/56256 [00:00<?, ?audios/s]"
     ]
    },
    {
     "name": "stdout",
     "output_type": "stream",
     "text": [
      "<class 'float'>\n",
      "total time elapsed: 1h 34m 25s , best accuracy: 87.00%, best loss 0.536616\n",
      "epoch  50 with lr=1.00e-05\n"
     ]
    },
    {
     "name": "stderr",
     "output_type": "stream",
     "text": [
      "100%|██████████| 56256/56256 [01:29<00:00, 628.72audios/s, loss=1.42436, acc=48.00%] \n",
      "100%|██████████| 7488/7488 [00:04<00:00, 1630.95audios/s, loss=0.58134, acc=86.00%]\n",
      "  0%|          | 0/56256 [00:00<?, ?audios/s]"
     ]
    },
    {
     "name": "stdout",
     "output_type": "stream",
     "text": [
      "<class 'float'>\n",
      "total time elapsed: 1h 35m 59s , best accuracy: 87.00%, best loss 0.536616\n",
      "epoch  51 with lr=1.00e-05\n"
     ]
    },
    {
     "name": "stderr",
     "output_type": "stream",
     "text": [
      "100%|██████████| 56256/56256 [01:29<00:00, 630.22audios/s, loss=1.43080, acc=47.00%] \n",
      "100%|██████████| 7488/7488 [00:04<00:00, 1591.14audios/s, loss=0.53550, acc=88.00%]\n",
      "  0%|          | 0/56256 [00:00<?, ?audios/s]"
     ]
    },
    {
     "name": "stdout",
     "output_type": "stream",
     "text": [
      "<class 'float'>\n",
      "total time elapsed: 1h 37m 33s , best accuracy: 88.00%, best loss 0.535497\n",
      "epoch  52 with lr=1.00e-05\n"
     ]
    },
    {
     "name": "stderr",
     "output_type": "stream",
     "text": [
      "100%|██████████| 56256/56256 [01:29<00:00, 627.22audios/s, loss=1.42692, acc=47.00%]\n",
      "100%|██████████| 7488/7488 [00:04<00:00, 1628.01audios/s, loss=0.56187, acc=86.00%]\n",
      "  0%|          | 0/56256 [00:00<?, ?audios/s]"
     ]
    },
    {
     "name": "stdout",
     "output_type": "stream",
     "text": [
      "<class 'float'>\n",
      "total time elapsed: 1h 39m 7s , best accuracy: 88.00%, best loss 0.535497\n",
      "epoch  53 with lr=1.00e-05\n"
     ]
    },
    {
     "name": "stderr",
     "output_type": "stream",
     "text": [
      "100%|██████████| 56256/56256 [01:29<00:00, 628.76audios/s, loss=1.42245, acc=48.00%] \n",
      "100%|██████████| 7488/7488 [00:04<00:00, 1631.61audios/s, loss=0.58036, acc=86.00%]\n",
      "  0%|          | 0/56256 [00:00<?, ?audios/s]"
     ]
    },
    {
     "name": "stdout",
     "output_type": "stream",
     "text": [
      "<class 'float'>\n",
      "total time elapsed: 1h 40m 42s , best accuracy: 88.00%, best loss 0.535497\n",
      "epoch  54 with lr=1.00e-05\n"
     ]
    },
    {
     "name": "stderr",
     "output_type": "stream",
     "text": [
      "100%|██████████| 56256/56256 [01:29<00:00, 629.47audios/s, loss=1.42636, acc=48.00%]\n",
      "100%|██████████| 7488/7488 [00:04<00:00, 1622.22audios/s, loss=0.59938, acc=86.00%]\n",
      "  0%|          | 0/56256 [00:00<?, ?audios/s]"
     ]
    },
    {
     "name": "stdout",
     "output_type": "stream",
     "text": [
      "<class 'float'>\n",
      "total time elapsed: 1h 42m 16s , best accuracy: 88.00%, best loss 0.535497\n",
      "epoch  55 with lr=1.00e-05\n"
     ]
    },
    {
     "name": "stderr",
     "output_type": "stream",
     "text": [
      "100%|██████████| 56256/56256 [01:29<00:00, 631.37audios/s, loss=1.42044, acc=48.00%] \n",
      "100%|██████████| 7488/7488 [00:04<00:00, 1667.09audios/s, loss=0.61234, acc=85.00%]\n",
      "  0%|          | 0/56256 [00:00<?, ?audios/s]"
     ]
    },
    {
     "name": "stdout",
     "output_type": "stream",
     "text": [
      "<class 'float'>\n",
      "total time elapsed: 1h 43m 49s , best accuracy: 88.00%, best loss 0.535497\n",
      "epoch  56 with lr=1.00e-05\n"
     ]
    },
    {
     "name": "stderr",
     "output_type": "stream",
     "text": [
      "100%|██████████| 56256/56256 [01:29<00:00, 625.69audios/s, loss=1.42626, acc=48.00%] \n",
      "100%|██████████| 7488/7488 [00:04<00:00, 1686.29audios/s, loss=0.56051, acc=87.00%]\n",
      "  0%|          | 0/56256 [00:00<?, ?audios/s]"
     ]
    },
    {
     "name": "stdout",
     "output_type": "stream",
     "text": [
      "<class 'float'>\n",
      "total time elapsed: 1h 45m 24s , best accuracy: 88.00%, best loss 0.535497\n",
      "epoch  57 with lr=1.00e-05\n"
     ]
    },
    {
     "name": "stderr",
     "output_type": "stream",
     "text": [
      "100%|██████████| 56256/56256 [01:29<00:00, 630.79audios/s, loss=1.42333, acc=47.00%] \n",
      "100%|██████████| 7488/7488 [00:04<00:00, 1629.40audios/s, loss=0.61134, acc=85.00%]\n",
      "  0%|          | 0/56256 [00:00<?, ?audios/s]"
     ]
    },
    {
     "name": "stdout",
     "output_type": "stream",
     "text": [
      "<class 'float'>\n",
      "total time elapsed: 1h 46m 57s , best accuracy: 88.00%, best loss 0.535497\n",
      "epoch  58 with lr=1.00e-06\n"
     ]
    },
    {
     "name": "stderr",
     "output_type": "stream",
     "text": [
      "100%|██████████| 56256/56256 [01:29<00:00, 627.49audios/s, loss=1.42190, acc=47.00%] \n",
      "100%|██████████| 7488/7488 [00:04<00:00, 1592.45audios/s, loss=0.60689, acc=85.00%]\n",
      "  0%|          | 0/56256 [00:00<?, ?audios/s]"
     ]
    },
    {
     "name": "stdout",
     "output_type": "stream",
     "text": [
      "<class 'float'>\n",
      "total time elapsed: 1h 48m 32s , best accuracy: 88.00%, best loss 0.535497\n",
      "epoch  59 with lr=1.00e-06\n"
     ]
    },
    {
     "name": "stderr",
     "output_type": "stream",
     "text": [
      "100%|██████████| 56256/56256 [01:29<00:00, 629.67audios/s, loss=1.42160, acc=47.00%] \n",
      "100%|██████████| 7488/7488 [00:04<00:00, 1685.29audios/s, loss=0.51006, acc=88.00%]\n",
      "  0%|          | 0/56256 [00:00<?, ?audios/s]"
     ]
    },
    {
     "name": "stdout",
     "output_type": "stream",
     "text": [
      "<class 'float'>\n",
      "total time elapsed: 1h 50m 6s , best accuracy: 88.00%, best loss 0.510058\n",
      "epoch  60 with lr=1.00e-06\n"
     ]
    },
    {
     "name": "stderr",
     "output_type": "stream",
     "text": [
      "100%|██████████| 56256/56256 [01:29<00:00, 629.69audios/s, loss=1.42486, acc=47.00%] \n",
      "100%|██████████| 7488/7488 [00:04<00:00, 1544.88audios/s, loss=0.59998, acc=85.00%]\n",
      "  0%|          | 0/56256 [00:00<?, ?audios/s]"
     ]
    },
    {
     "name": "stdout",
     "output_type": "stream",
     "text": [
      "<class 'float'>\n",
      "total time elapsed: 1h 51m 40s , best accuracy: 88.00%, best loss 0.510058\n",
      "epoch  61 with lr=1.00e-06\n"
     ]
    },
    {
     "name": "stderr",
     "output_type": "stream",
     "text": [
      "100%|██████████| 56256/56256 [01:29<00:00, 628.24audios/s, loss=1.42388, acc=47.00%] \n",
      "100%|██████████| 7488/7488 [00:04<00:00, 1560.53audios/s, loss=0.57495, acc=87.00%]\n",
      "  0%|          | 0/56256 [00:00<?, ?audios/s]"
     ]
    },
    {
     "name": "stdout",
     "output_type": "stream",
     "text": [
      "<class 'float'>\n",
      "total time elapsed: 1h 53m 14s , best accuracy: 88.00%, best loss 0.510058\n",
      "epoch  62 with lr=1.00e-06\n"
     ]
    },
    {
     "name": "stderr",
     "output_type": "stream",
     "text": [
      "100%|██████████| 56256/56256 [01:29<00:00, 629.82audios/s, loss=1.42636, acc=48.00%]\n",
      "100%|██████████| 7488/7488 [00:04<00:00, 1533.07audios/s, loss=0.52661, acc=88.00%]\n",
      "  0%|          | 0/56256 [00:00<?, ?audios/s]"
     ]
    },
    {
     "name": "stdout",
     "output_type": "stream",
     "text": [
      "<class 'float'>\n",
      "total time elapsed: 1h 54m 48s , best accuracy: 88.00%, best loss 0.510058\n",
      "epoch  63 with lr=1.00e-06\n"
     ]
    },
    {
     "name": "stderr",
     "output_type": "stream",
     "text": [
      "100%|██████████| 56256/56256 [01:29<00:00, 628.43audios/s, loss=1.42599, acc=48.00%] \n",
      "100%|██████████| 7488/7488 [00:04<00:00, 1621.91audios/s, loss=0.59409, acc=85.00%]\n",
      "  0%|          | 0/56256 [00:00<?, ?audios/s]"
     ]
    },
    {
     "name": "stdout",
     "output_type": "stream",
     "text": [
      "<class 'float'>\n",
      "total time elapsed: 1h 56m 23s , best accuracy: 88.00%, best loss 0.510058\n",
      "epoch  64 with lr=1.00e-06\n"
     ]
    },
    {
     "name": "stderr",
     "output_type": "stream",
     "text": [
      "100%|██████████| 56256/56256 [01:29<00:00, 632.09audios/s, loss=1.42536, acc=47.00%]\n",
      "100%|██████████| 7488/7488 [00:04<00:00, 1625.94audios/s, loss=0.59535, acc=85.00%]\n",
      "  0%|          | 0/56256 [00:00<?, ?audios/s]"
     ]
    },
    {
     "name": "stdout",
     "output_type": "stream",
     "text": [
      "<class 'float'>\n",
      "total time elapsed: 1h 57m 56s , best accuracy: 88.00%, best loss 0.510058\n",
      "epoch  65 with lr=1.00e-06\n"
     ]
    },
    {
     "name": "stderr",
     "output_type": "stream",
     "text": [
      "100%|██████████| 56256/56256 [01:29<00:00, 626.65audios/s, loss=1.42763, acc=48.00%]\n",
      "100%|██████████| 7488/7488 [00:04<00:00, 1521.22audios/s, loss=0.57580, acc=86.00%]\n",
      "  0%|          | 0/56256 [00:00<?, ?audios/s]"
     ]
    },
    {
     "name": "stdout",
     "output_type": "stream",
     "text": [
      "<class 'float'>\n",
      "total time elapsed: 1h 59m 31s , best accuracy: 88.00%, best loss 0.510058\n",
      "epoch  66 with lr=1.00e-07\n"
     ]
    },
    {
     "name": "stderr",
     "output_type": "stream",
     "text": [
      "100%|██████████| 56256/56256 [01:29<00:00, 626.85audios/s, loss=1.42330, acc=48.00%] \n",
      "100%|██████████| 7488/7488 [00:04<00:00, 1590.07audios/s, loss=0.57294, acc=86.00%]\n",
      "  0%|          | 0/56256 [00:00<?, ?audios/s]"
     ]
    },
    {
     "name": "stdout",
     "output_type": "stream",
     "text": [
      "<class 'float'>\n",
      "total time elapsed: 2h 1m 5s , best accuracy: 88.00%, best loss 0.510058\n",
      "epoch  67 with lr=1.00e-07\n"
     ]
    },
    {
     "name": "stderr",
     "output_type": "stream",
     "text": [
      "100%|██████████| 56256/56256 [01:28<00:00, 632.58audios/s, loss=1.42451, acc=47.00%] \n",
      "100%|██████████| 7488/7488 [00:04<00:00, 1670.02audios/s, loss=0.58008, acc=86.00%]\n",
      "  0%|          | 0/56256 [00:00<?, ?audios/s]"
     ]
    },
    {
     "name": "stdout",
     "output_type": "stream",
     "text": [
      "<class 'float'>\n",
      "total time elapsed: 2h 2m 39s , best accuracy: 88.00%, best loss 0.510058\n",
      "epoch  68 with lr=1.00e-07\n"
     ]
    },
    {
     "name": "stderr",
     "output_type": "stream",
     "text": [
      "100%|██████████| 56256/56256 [01:29<00:00, 629.52audios/s, loss=1.42297, acc=47.00%]\n",
      "100%|██████████| 7488/7488 [00:04<00:00, 1664.51audios/s, loss=0.55520, acc=86.00%]\n",
      "  0%|          | 0/56256 [00:00<?, ?audios/s]"
     ]
    },
    {
     "name": "stdout",
     "output_type": "stream",
     "text": [
      "<class 'float'>\n",
      "total time elapsed: 2h 4m 13s , best accuracy: 88.00%, best loss 0.510058\n",
      "epoch  69 with lr=1.00e-07\n"
     ]
    },
    {
     "name": "stderr",
     "output_type": "stream",
     "text": [
      "100%|██████████| 56256/56256 [01:29<00:00, 630.91audios/s, loss=1.42263, acc=48.00%] \n",
      "100%|██████████| 7488/7488 [00:04<00:00, 1574.47audios/s, loss=0.55770, acc=87.00%]\n"
     ]
    },
    {
     "name": "stdout",
     "output_type": "stream",
     "text": [
      "<class 'float'>\n",
      "total time elapsed: 2h 5m 47s , best accuracy: 88.00%, best loss 0.510058\n",
      "finished\n"
     ]
    }
   ],
   "source": [
    "print(\"training %s for Google speech commands...\" % args.model)\n",
    "since = time.time()\n",
    "for epoch in range(start_epoch, args.max_epochs):\n",
    "    if args.lr_scheduler == 'step':\n",
    "        lr_scheduler.step()\n",
    "\n",
    "    train(epoch)\n",
    "    epoch_loss = valid(epoch)\n",
    "\n",
    "    if args.lr_scheduler == 'plateau':\n",
    "        print(type(epoch_loss))\n",
    "        lr_scheduler.step(metrics=epoch_loss)\n",
    "\n",
    "    time_elapsed = time.time() - since\n",
    "    time_str = 'total time elapsed: {:.0f}h {:.0f}m {:.0f}s '.format(time_elapsed // 3600, time_elapsed % 3600 // 60, time_elapsed % 60)\n",
    "    print(\"%s, best accuracy: %.02f%%, best loss %f\" % (time_str, best_accuracy, best_loss))\n",
    "    with open('./train_res8.log', 'a+') as f:\n",
    "        f.write(\"%s, epoch: %s, best accuracy: %.02f%%, best loss %f\\n\" % (time_str, epoch,best_accuracy, best_loss))\n",
    "print(\"finished\")"
   ]
  },
  {
   "cell_type": "code",
   "execution_count": null,
   "metadata": {},
   "outputs": [],
   "source": []
  }
 ],
 "metadata": {
  "kernelspec": {
   "display_name": "Python 3",
   "language": "python",
   "name": "python3"
  },
  "language_info": {
   "codemirror_mode": {
    "name": "ipython",
    "version": 3
   },
   "file_extension": ".py",
   "mimetype": "text/x-python",
   "name": "python",
   "nbconvert_exporter": "python",
   "pygments_lexer": "ipython3",
   "version": "3.6.8"
  }
 },
 "nbformat": 4,
 "nbformat_minor": 2
}
