{
 "cells": [
  {
   "cell_type": "code",
   "execution_count": 1,
   "metadata": {},
   "outputs": [],
   "source": [
    "#!/usr/bin/env python\n",
    "\"\"\"Train a CNN for Google speech commands.\"\"\"\n",
    "\n",
    "__author__ = 'Yuan Xu, Erdene-Ochir Tuguldur'\n",
    "\n",
    "import argparse\n",
    "import time\n",
    "\n",
    "from tqdm import *\n",
    "\n",
    "import torch\n",
    "from torch.autograd import Variable\n",
    "from torch.utils.data import DataLoader\n",
    "from torch.utils.data.sampler import WeightedRandomSampler\n",
    "\n",
    "import torchvision\n",
    "from torchvision.transforms import *\n",
    "\n",
    "from tensorboardX import SummaryWriter\n",
    "\n",
    "import models\n",
    "from datasets import *\n",
    "from transforms import *\n",
    "from mixup import *"
   ]
  },
  {
   "cell_type": "code",
   "execution_count": 2,
   "metadata": {},
   "outputs": [],
   "source": [
    "import torch.nn as nn\n",
    "import math\n",
    "import torch.utils.model_zoo as model_zoo"
   ]
  },
  {
   "cell_type": "code",
   "execution_count": 12,
   "metadata": {},
   "outputs": [],
   "source": [
    "class VGG(nn.Module):\n",
    "\n",
    "    def __init__(self, features, num_classes=1000, init_weights=True):\n",
    "        super(VGG, self).__init__()\n",
    "        self.features = features\n",
    "        self.classifier = nn.Sequential(\n",
    "            nn.Linear(128 * 1 * 1, 64),\n",
    "            nn.ReLU(True),\n",
    "            nn.Dropout(),\n",
    "            nn.Linear(64, 32),\n",
    "            nn.ReLU(True),\n",
    "            nn.Dropout(),\n",
    "            nn.Linear(32, num_classes),\n",
    "        )\n",
    "        if init_weights:\n",
    "            self._initialize_weights()\n",
    "\n",
    "    def forward(self, x):\n",
    "        x = self.features(x)\n",
    "        x = x.view(x.size(0), -1)\n",
    "        x = self.classifier(x)\n",
    "        return x\n",
    "\n",
    "    def _initialize_weights(self):\n",
    "        for m in self.modules():\n",
    "            if isinstance(m, nn.Conv2d):\n",
    "                n = m.kernel_size[0] * m.kernel_size[1] * m.out_channels\n",
    "                m.weight.data.normal_(0, math.sqrt(2. / n))\n",
    "                if m.bias is not None:\n",
    "                    m.bias.data.zero_()\n",
    "            elif isinstance(m, nn.BatchNorm2d):\n",
    "                m.weight.data.fill_(1)\n",
    "                m.bias.data.zero_()\n",
    "            elif isinstance(m, nn.Linear):\n",
    "                m.weight.data.normal_(0, 0.01)\n",
    "                m.bias.data.zero_()\n",
    "\n",
    "\n",
    "def make_layers(cfg, batch_norm=False, in_channels = 3):\n",
    "    layers = []\n",
    "    for v in cfg:\n",
    "        if v == 'M':\n",
    "            layers += [nn.MaxPool2d(kernel_size=2, stride=2, padding=1)]\n",
    "        elif v == 'L':\n",
    "            layers += [nn.AdaptiveMaxPool2d((1,1))]\n",
    "        else:\n",
    "            conv2d = nn.Conv2d(in_channels, v, kernel_size=3, padding=3)\n",
    "            if batch_norm:\n",
    "                layers += [conv2d, nn.ReLU(inplace=True)]\n",
    "            in_channels = v\n",
    "    return nn.Sequential(*layers)\n",
    "\n",
    "\n",
    "cfg = {\n",
    "    'A': [64, 'M', 128, 'M', 256, 256, 'M', 512, 512, 'M', 512, 512, 'M'],\n",
    "    'B': [64, 64, 'M', 128, 128, 'M', 256, 256, 'M', 512, 512, 'M', 512, 512, 'M'],\n",
    "    'D': [64, 64, 'M', 128, 128, 'M', 256, 256, 256, 'M', 512, 512, 512, 'M', 512, 512, 512, 'M'],\n",
    "    'E': [16, 16, 'M', 32, 32, 'M', 64, 64, 64, 64, 'M', 128, 128, 128, 128, 'M', 128, 128, 128, 128, 'L'],\n",
    "}\n"
   ]
  },
  {
   "cell_type": "code",
   "execution_count": 13,
   "metadata": {},
   "outputs": [
    {
     "data": {
      "text/plain": [
       "1263456"
      ]
     },
     "execution_count": 13,
     "metadata": {},
     "output_type": "execute_result"
    }
   ],
   "source": [
    "model = VGG(make_layers(cfg['E'], batch_norm=True, in_channels=1), num_classes=len(CLASSES))\n",
    "def count_parameters(model):\n",
    "    return sum(p.numel() for p in model.parameters() if p.requires_grad)\n",
    "\n",
    "count_parameters(model)"
   ]
  },
  {
   "cell_type": "code",
   "execution_count": 5,
   "metadata": {},
   "outputs": [],
   "source": [
    "class Arg():\n",
    "    def __init__(self):\n",
    "        self.train_dataset=\"/home/cilab/LabMembers/YS/Speech/health1/experiments/train\"\n",
    "        self.valid_dataset=\"/home/cilab/LabMembers/YS/Speech/health1/experiments/valid\"\n",
    "        self.background_noise=\"/home/cilab/LabMembers/YS/Speech/_background_noise_\"\n",
    "        self.comment=\"\"\n",
    "        self.batch_size=64\n",
    "        self.dataload_workers_nums=6\n",
    "        self.weight_decay=1e-2\n",
    "        self.optim='sgd'\n",
    "        self.learning_rate=0.01\n",
    "        self.lr_scheduler='plateau'\n",
    "        self.lr_scheduler_patience=5\n",
    "        self.lr_scheduler_step_size=50\n",
    "        self.lr_scheduler_gamma=0.1\n",
    "        self.max_epochs=70\n",
    "        self.resume=None\n",
    "        self.model=\"vgg19_bn\"\n",
    "        self.input=\"mel40\"\n",
    "        self.mixup=True\n",
    "args = Arg()"
   ]
  },
  {
   "cell_type": "code",
   "execution_count": 6,
   "metadata": {},
   "outputs": [
    {
     "name": "stdout",
     "output_type": "stream",
     "text": [
      "use_gpu True\n",
      "all :  ['갑자기', '마그네슘', '진통제', '타이레놀', '바이러스', '내시경', '비타민', '고혈압', '단백질', '스트레스', '카페인', '다이어트', '부작용', '에너지', '아스피린']\n",
      "all :  ['갑자기', '마그네슘', '진통제', '타이레놀', '바이러스', '내시경', '비타민', '고혈압', '단백질', '스트레스', '카페인', '다이어트', '부작용', '에너지', '아스피린']\n"
     ]
    },
    {
     "name": "stderr",
     "output_type": "stream",
     "text": [
      "/home/cilab/LabMembers/YS/Speech/pytorch-speech-commands/datasets/speech_commands_dataset.py:70: RuntimeWarning: divide by zero encountered in true_divide\n",
      "  weight_per_class = N / count\n"
     ]
    }
   ],
   "source": [
    "use_gpu = torch.cuda.is_available()\n",
    "print('use_gpu', use_gpu)\n",
    "if use_gpu:\n",
    "    torch.backends.cudnn.benchmark = True\n",
    "\n",
    "n_mels = 32\n",
    "if args.input == 'mel40':\n",
    "    n_mels = 40\n",
    "\n",
    "data_aug_transform = Compose([ChangeAmplitude(), ChangeSpeedAndPitchAudio(), FixAudioLength()])\n",
    "bg_dataset = BackgroundNoiseDataset(args.background_noise, data_aug_transform)\n",
    "add_bg_noise = AddBackgroundNoiseOnSTFT(bg_dataset)\n",
    "train_feature_transform = Compose([ToMfcc(n_mels=n_mels), ToTensor('mfcc', 'input')])\n",
    "train_dataset = SpeechCommandsDataset(args.train_dataset,\n",
    "                                Compose([LoadAudio(),\n",
    "                                         data_aug_transform,\n",
    "                                         train_feature_transform]), silence_percentage=0)\n",
    "\n",
    "valid_feature_transform = Compose([ToMfcc(n_mels=n_mels), ToTensor('mfcc', 'input')])\n",
    "valid_dataset = SpeechCommandsDataset(args.valid_dataset,\n",
    "                                Compose([LoadAudio(),\n",
    "                                         data_aug_transform,\n",
    "                                         valid_feature_transform]), silence_percentage=0)\n",
    "\n",
    "weights = train_dataset.make_weights_for_balanced_classes()\n",
    "sampler = WeightedRandomSampler(weights, len(weights))\n",
    "train_dataloader = DataLoader(train_dataset, batch_size=args.batch_size, sampler=sampler,\n",
    "                              pin_memory=use_gpu, num_workers=args.dataload_workers_nums)\n",
    "valid_dataloader = DataLoader(valid_dataset, batch_size=args.batch_size, shuffle=False,\n",
    "                              pin_memory=use_gpu, num_workers=args.dataload_workers_nums)"
   ]
  },
  {
   "cell_type": "code",
   "execution_count": 7,
   "metadata": {
    "scrolled": true
   },
   "outputs": [
    {
     "name": "stdout",
     "output_type": "stream",
     "text": [
      "VGG(\n",
      "  (features): Sequential(\n",
      "    (0): Conv2d(1, 16, kernel_size=(3, 3), stride=(1, 1), padding=(3, 3))\n",
      "    (1): ReLU(inplace=True)\n",
      "    (2): Conv2d(16, 16, kernel_size=(3, 3), stride=(1, 1), padding=(3, 3))\n",
      "    (3): ReLU(inplace=True)\n",
      "    (4): MaxPool2d(kernel_size=2, stride=2, padding=1, dilation=1, ceil_mode=False)\n",
      "    (5): Conv2d(16, 32, kernel_size=(3, 3), stride=(1, 1), padding=(3, 3))\n",
      "    (6): ReLU(inplace=True)\n",
      "    (7): Conv2d(32, 32, kernel_size=(3, 3), stride=(1, 1), padding=(3, 3))\n",
      "    (8): ReLU(inplace=True)\n",
      "    (9): MaxPool2d(kernel_size=2, stride=2, padding=1, dilation=1, ceil_mode=False)\n",
      "    (10): Conv2d(32, 64, kernel_size=(3, 3), stride=(1, 1), padding=(3, 3))\n",
      "    (11): ReLU(inplace=True)\n",
      "    (12): Conv2d(64, 64, kernel_size=(3, 3), stride=(1, 1), padding=(3, 3))\n",
      "    (13): ReLU(inplace=True)\n",
      "    (14): Conv2d(64, 64, kernel_size=(3, 3), stride=(1, 1), padding=(3, 3))\n",
      "    (15): ReLU(inplace=True)\n",
      "    (16): Conv2d(64, 64, kernel_size=(3, 3), stride=(1, 1), padding=(3, 3))\n",
      "    (17): ReLU(inplace=True)\n",
      "    (18): MaxPool2d(kernel_size=2, stride=2, padding=1, dilation=1, ceil_mode=False)\n",
      "    (19): Conv2d(64, 128, kernel_size=(3, 3), stride=(1, 1), padding=(3, 3))\n",
      "    (20): ReLU(inplace=True)\n",
      "    (21): Conv2d(128, 128, kernel_size=(3, 3), stride=(1, 1), padding=(3, 3))\n",
      "    (22): ReLU(inplace=True)\n",
      "    (23): Conv2d(128, 128, kernel_size=(3, 3), stride=(1, 1), padding=(3, 3))\n",
      "    (24): ReLU(inplace=True)\n",
      "    (25): Conv2d(128, 128, kernel_size=(3, 3), stride=(1, 1), padding=(3, 3))\n",
      "    (26): ReLU(inplace=True)\n",
      "    (27): MaxPool2d(kernel_size=2, stride=2, padding=1, dilation=1, ceil_mode=False)\n",
      "    (28): Conv2d(128, 128, kernel_size=(3, 3), stride=(1, 1), padding=(3, 3))\n",
      "    (29): ReLU(inplace=True)\n",
      "    (30): Conv2d(128, 128, kernel_size=(3, 3), stride=(1, 1), padding=(3, 3))\n",
      "    (31): ReLU(inplace=True)\n",
      "    (32): Conv2d(128, 128, kernel_size=(3, 3), stride=(1, 1), padding=(3, 3))\n",
      "    (33): ReLU(inplace=True)\n",
      "    (34): Conv2d(128, 128, kernel_size=(3, 3), stride=(1, 1), padding=(3, 3))\n",
      "    (35): ReLU(inplace=True)\n",
      "    (36): AdaptiveMaxPool2d(output_size=(1, 1))\n",
      "  )\n",
      "  (classifier): Sequential(\n",
      "    (0): Linear(in_features=128, out_features=4096, bias=True)\n",
      "    (1): ReLU(inplace=True)\n",
      "    (2): Dropout(p=0.5, inplace=False)\n",
      "    (3): Linear(in_features=4096, out_features=4096, bias=True)\n",
      "    (4): ReLU(inplace=True)\n",
      "    (5): Dropout(p=0.5, inplace=False)\n",
      "    (6): Linear(in_features=4096, out_features=16, bias=True)\n",
      "  )\n",
      ")\n"
     ]
    }
   ],
   "source": [
    "# a name used to save checkpoints etc.\n",
    "full_name = '%s_%s_%s_bs%d_lr%.1e_wd%.1e' % (args.model, args.optim, args.lr_scheduler, args.batch_size, args.learning_rate, args.weight_decay)\n",
    "if args.comment:\n",
    "    full_name = '%s_%s' % (full_name, args.comment)\n",
    "\n",
    "model = VGG(make_layers(cfg['E'], batch_norm=True, in_channels=1), num_classes=len(CLASSES))\n",
    "#model = ResNet(BasicBlock, [2, 2, 2], num_classes=len(CLASSES), in_channels=1)\n",
    "print(model)\n",
    "if use_gpu:\n",
    "    model = torch.nn.DataParallel(model).cuda()\n",
    "\n",
    "criterion = torch.nn.CrossEntropyLoss()\n",
    "\n",
    "if args.optim == 'sgd':\n",
    "    optimizer = torch.optim.SGD(model.parameters(), lr=args.learning_rate, momentum=0.9, weight_decay=args.weight_decay)\n",
    "else:\n",
    "    optimizer = torch.optim.Adam(model.parameters(), lr=args.learning_rate, weight_decay=args.weight_decay)\n",
    "\n",
    "start_timestamp = int(time.time()*1000)\n",
    "start_epoch = 0\n",
    "best_accuracy = 0\n",
    "best_loss = 1e100\n",
    "global_step = 0\n",
    "\n",
    "if args.resume:\n",
    "    print(\"resuming a checkpoint '%s'\" % args.resume)\n",
    "    checkpoint = torch.load(args.resume)\n",
    "    model.load_state_dict(checkpoint['state_dict'])\n",
    "    model.float()\n",
    "    optimizer.load_state_dict(checkpoint['optimizer'])\n",
    "\n",
    "    best_accuracy = checkpoint.get('accuracy', best_accuracy)\n",
    "    best_loss = checkpoint.get('loss', best_loss)\n",
    "    start_epoch = checkpoint.get('epoch', start_epoch)\n",
    "    global_step = checkpoint.get('step', global_step)\n",
    "\n",
    "    del checkpoint  # reduce memory\n",
    "\n",
    "if args.lr_scheduler == 'plateau':\n",
    "    lr_scheduler = torch.optim.lr_scheduler.ReduceLROnPlateau(optimizer, patience=args.lr_scheduler_patience, factor=args.lr_scheduler_gamma)\n",
    "else:\n",
    "    lr_scheduler = torch.optim.lr_scheduler.StepLR(optimizer, step_size=args.lr_scheduler_step_size, gamma=args.lr_scheduler_gamma, last_epoch=start_epoch-1)"
   ]
  },
  {
   "cell_type": "code",
   "execution_count": 8,
   "metadata": {},
   "outputs": [
    {
     "data": {
      "text/plain": [
       "18627840"
      ]
     },
     "execution_count": 8,
     "metadata": {},
     "output_type": "execute_result"
    }
   ],
   "source": [
    "def count_parameters(model):\n",
    "    return sum(p.numel() for p in model.parameters() if p.requires_grad)\n",
    "\n",
    "count_parameters(model)"
   ]
  },
  {
   "cell_type": "code",
   "execution_count": 9,
   "metadata": {},
   "outputs": [],
   "source": [
    "def get_lr():\n",
    "    return optimizer.param_groups[0]['lr']\n",
    "\n",
    "writer = SummaryWriter(comment=('_speech_commands_' + full_name))\n",
    "\n",
    "def train(epoch):\n",
    "    global global_step\n",
    "\n",
    "    print(\"epoch %3d with lr=%.02e\" % (epoch, get_lr()))\n",
    "    phase = 'train'\n",
    "    writer.add_scalar('%s/learning_rate' % phase,  get_lr(), epoch)\n",
    "\n",
    "    model.train()  # Set model to training mode\n",
    "\n",
    "    running_loss = 0.0\n",
    "    it = 0\n",
    "    correct = 0\n",
    "    total = 0\n",
    "\n",
    "    pbar = tqdm(train_dataloader, unit=\"audios\", unit_scale=train_dataloader.batch_size)\n",
    "    for batch in pbar:\n",
    "        inputs = batch['input']\n",
    "        inputs = torch.unsqueeze(inputs, 1)\n",
    "        targets = batch['target']\n",
    "        #print(inputs.shape)\n",
    "        if args.mixup:\n",
    "            inputs, targets = mixup(inputs, targets, num_classes=len(CLASSES))\n",
    "\n",
    "        inputs = Variable(inputs, requires_grad=True)\n",
    "        targets = Variable(targets, requires_grad=False)\n",
    "        if use_gpu:\n",
    "            inputs = inputs.cuda()\n",
    "            targets = targets.cuda(async=True)\n",
    "\n",
    "        # forward/backward\n",
    "        outputs = model(inputs)\n",
    "        if args.mixup:\n",
    "            loss = mixup_cross_entropy_loss(outputs, targets)\n",
    "        else:\n",
    "            loss = criterion(outputs, targets)\n",
    "        optimizer.zero_grad()\n",
    "        loss.backward()\n",
    "        optimizer.step()\n",
    "\n",
    "        # statistics\n",
    "        it += 1\n",
    "        global_step += 1\n",
    "        running_loss += loss.item()\n",
    "        pred = outputs.data.max(1, keepdim=True)[1]\n",
    "        if args.mixup:\n",
    "            targets = batch['target']\n",
    "            targets = Variable(targets, requires_grad=False).cuda(async=True)\n",
    "        correct += pred.eq(targets.data.view_as(pred)).sum()\n",
    "        total += targets.size(0)\n",
    "\n",
    "        writer.add_scalar('%s/loss' % phase, loss.item(), global_step)\n",
    "\n",
    "        # update the progress bar\n",
    "        pbar.set_postfix({\n",
    "            'loss': \"%.05f\" % (running_loss / it),\n",
    "            'acc': \"%.02f%%\" % (100*correct/total)\n",
    "        })\n",
    "\n",
    "    accuracy = correct/total\n",
    "    epoch_loss = running_loss / it\n",
    "    writer.add_scalar('%s/accuracy' % phase, 100*accuracy, epoch)\n",
    "    writer.add_scalar('%s/epoch_loss' % phase, epoch_loss, epoch)"
   ]
  },
  {
   "cell_type": "code",
   "execution_count": 10,
   "metadata": {},
   "outputs": [],
   "source": [
    "def valid(epoch):\n",
    "    global best_accuracy, best_loss, global_step\n",
    "\n",
    "    phase = 'valid'\n",
    "    model.eval()  # Set model to evaluate mode\n",
    "\n",
    "    running_loss = 0.0\n",
    "    it = 0\n",
    "    correct = 0\n",
    "    total = 0\n",
    "\n",
    "    pbar = tqdm(valid_dataloader, unit=\"audios\", unit_scale=valid_dataloader.batch_size)\n",
    "    for batch in pbar:\n",
    "        inputs = batch['input']\n",
    "        inputs = torch.unsqueeze(inputs, 1)\n",
    "        targets = batch['target']\n",
    "\n",
    "        inputs = Variable(inputs, volatile = True)\n",
    "        targets = Variable(targets, requires_grad=False)\n",
    "\n",
    "        if use_gpu:\n",
    "            inputs = inputs.cuda()\n",
    "            targets = targets.cuda(async=True)\n",
    "\n",
    "        # forward\n",
    "        outputs = model(inputs)\n",
    "        loss = criterion(outputs, targets)\n",
    "\n",
    "        # statistics\n",
    "        it += 1\n",
    "        global_step += 1\n",
    "        running_loss += loss.item()\n",
    "        pred = outputs.data.max(1, keepdim=True)[1]\n",
    "        correct += pred.eq(targets.data.view_as(pred)).sum()\n",
    "        total += targets.size(0)\n",
    "\n",
    "        writer.add_scalar('%s/loss' % phase, loss.item(), global_step)\n",
    "\n",
    "        # update the progress bar\n",
    "        pbar.set_postfix({\n",
    "            'loss': \"%.05f\" % (running_loss / it),\n",
    "            'acc': \"%.02f%%\" % (100*correct/total)\n",
    "        })\n",
    "\n",
    "    accuracy = 100*correct/total\n",
    "    epoch_loss = running_loss / it\n",
    "    writer.add_scalar('%s/accuracy' % phase, accuracy, epoch)\n",
    "    writer.add_scalar('%s/epoch_loss' % phase, epoch_loss, epoch)\n",
    "    checkpoint = {\n",
    "        'epoch': epoch,\n",
    "        'step': global_step,\n",
    "        'state_dict': model.state_dict(),\n",
    "        'loss': epoch_loss,\n",
    "        'accuracy': accuracy,\n",
    "        'optimizer' : optimizer.state_dict(),\n",
    "    }\n",
    "    if accuracy > best_accuracy:\n",
    "        best_accuracy = accuracy\n",
    "        torch.save(checkpoint, 'checkpoints/best-acc-resnet18-%s.pth' % full_name)\n",
    "        torch.save(model, '%d-%s-best-loss.pth' % (start_timestamp, full_name))\n",
    "    if epoch_loss < best_loss:\n",
    "        best_loss = epoch_loss\n",
    "        torch.save(checkpoint, 'checkpoints/best-loss-resnet18-%s.pth' % full_name)\n",
    "        torch.save(model, '%d-%s-best-acc.pth' % (start_timestamp, full_name))\n",
    "    torch.save(model, './res18.pth')\n",
    "    #torch.save(checkpoint, 'checkpoints/Resnet18.pth')\n",
    "    del checkpoint  # reduce memory\n",
    "\n",
    "    return epoch_loss"
   ]
  },
  {
   "cell_type": "code",
   "execution_count": 11,
   "metadata": {
    "scrolled": true
   },
   "outputs": [
    {
     "name": "stderr",
     "output_type": "stream",
     "text": [
      "\r",
      "  0%|          | 0/448 [00:00<?, ?audios/s]"
     ]
    },
    {
     "name": "stdout",
     "output_type": "stream",
     "text": [
      "training vgg19_bn for Google speech commands...\n",
      "epoch   0 with lr=1.00e-02\n"
     ]
    },
    {
     "name": "stderr",
     "output_type": "stream",
     "text": [
      "100%|██████████| 448/448 [00:10<00:00, 42.39audios/s, loss=2.80148, acc=5.00%]\n",
      "  0%|          | 0/128 [00:00<?, ?audios/s]/usr/local/lib/python3.6/dist-packages/ipykernel_launcher.py:18: UserWarning: volatile was removed and now has no effect. Use `with torch.no_grad():` instead.\n",
      "100%|██████████| 128/128 [00:01<00:00, 123.89audios/s, loss=2.86410, acc=5.00%]\n",
      "/home/cilab/.local/lib/python3.6/site-packages/torch/serialization.py:292: UserWarning: Couldn't retrieve source code for container of type DataParallel. It won't be checked for correctness upon loading.\n",
      "  \"type \" + obj.__name__ + \". It won't be checked \"\n",
      "/home/cilab/.local/lib/python3.6/site-packages/torch/serialization.py:292: UserWarning: Couldn't retrieve source code for container of type VGG. It won't be checked for correctness upon loading.\n",
      "  \"type \" + obj.__name__ + \". It won't be checked \"\n",
      "/home/cilab/.local/lib/python3.6/site-packages/torch/serialization.py:292: UserWarning: Couldn't retrieve source code for container of type Sequential. It won't be checked for correctness upon loading.\n",
      "  \"type \" + obj.__name__ + \". It won't be checked \"\n",
      "/home/cilab/.local/lib/python3.6/site-packages/torch/serialization.py:292: UserWarning: Couldn't retrieve source code for container of type Conv2d. It won't be checked for correctness upon loading.\n",
      "  \"type \" + obj.__name__ + \". It won't be checked \"\n",
      "/home/cilab/.local/lib/python3.6/site-packages/torch/serialization.py:292: UserWarning: Couldn't retrieve source code for container of type ReLU. It won't be checked for correctness upon loading.\n",
      "  \"type \" + obj.__name__ + \". It won't be checked \"\n",
      "/home/cilab/.local/lib/python3.6/site-packages/torch/serialization.py:292: UserWarning: Couldn't retrieve source code for container of type MaxPool2d. It won't be checked for correctness upon loading.\n",
      "  \"type \" + obj.__name__ + \". It won't be checked \"\n",
      "/home/cilab/.local/lib/python3.6/site-packages/torch/serialization.py:292: UserWarning: Couldn't retrieve source code for container of type AdaptiveMaxPool2d. It won't be checked for correctness upon loading.\n",
      "  \"type \" + obj.__name__ + \". It won't be checked \"\n",
      "/home/cilab/.local/lib/python3.6/site-packages/torch/serialization.py:292: UserWarning: Couldn't retrieve source code for container of type Linear. It won't be checked for correctness upon loading.\n",
      "  \"type \" + obj.__name__ + \". It won't be checked \"\n",
      "/home/cilab/.local/lib/python3.6/site-packages/torch/serialization.py:292: UserWarning: Couldn't retrieve source code for container of type Dropout. It won't be checked for correctness upon loading.\n",
      "  \"type \" + obj.__name__ + \". It won't be checked \"\n",
      "  0%|          | 0/448 [00:00<?, ?audios/s]"
     ]
    },
    {
     "name": "stdout",
     "output_type": "stream",
     "text": [
      "<class 'float'>\n",
      "total time elapsed: 0h 0m 12s , best accuracy: 5.00%, best loss 2.864096\n",
      "epoch   1 with lr=1.00e-02\n"
     ]
    },
    {
     "name": "stderr",
     "output_type": "stream",
     "text": [
      "100%|██████████| 448/448 [00:01<00:00, 292.13audios/s, loss=2.75073, acc=7.00%]\n",
      "100%|██████████| 128/128 [00:00<00:00, 144.65audios/s, loss=2.75795, acc=7.00%]\n",
      "  0%|          | 0/448 [00:00<?, ?audios/s]"
     ]
    },
    {
     "name": "stdout",
     "output_type": "stream",
     "text": [
      "<class 'float'>\n",
      "total time elapsed: 0h 0m 16s , best accuracy: 7.00%, best loss 2.757949\n",
      "epoch   2 with lr=1.00e-02\n"
     ]
    },
    {
     "name": "stderr",
     "output_type": "stream",
     "text": [
      "100%|██████████| 448/448 [00:01<00:00, 278.15audios/s, loss=2.74714, acc=7.00%]\n",
      "100%|██████████| 128/128 [00:00<00:00, 138.61audios/s, loss=2.72787, acc=7.00%]\n",
      "  0%|          | 0/448 [00:00<?, ?audios/s]"
     ]
    },
    {
     "name": "stdout",
     "output_type": "stream",
     "text": [
      "<class 'float'>\n",
      "total time elapsed: 0h 0m 19s , best accuracy: 7.00%, best loss 2.727865\n",
      "epoch   3 with lr=1.00e-02\n"
     ]
    },
    {
     "name": "stderr",
     "output_type": "stream",
     "text": [
      "100%|██████████| 448/448 [00:01<00:00, 279.19audios/s, loss=2.73867, acc=6.00%]\n",
      "100%|██████████| 128/128 [00:00<00:00, 136.24audios/s, loss=2.76415, acc=7.00%]\n",
      "  0%|          | 0/448 [00:00<?, ?audios/s]"
     ]
    },
    {
     "name": "stdout",
     "output_type": "stream",
     "text": [
      "<class 'float'>\n",
      "total time elapsed: 0h 0m 21s , best accuracy: 7.00%, best loss 2.727865\n",
      "epoch   4 with lr=1.00e-02\n"
     ]
    },
    {
     "name": "stderr",
     "output_type": "stream",
     "text": [
      "100%|██████████| 448/448 [00:01<00:00, 298.55audios/s, loss=2.74152, acc=3.00%]\n",
      "100%|██████████| 128/128 [00:00<00:00, 139.20audios/s, loss=2.76880, acc=5.00%]\n",
      "  0%|          | 0/448 [00:00<?, ?audios/s]"
     ]
    },
    {
     "name": "stdout",
     "output_type": "stream",
     "text": [
      "<class 'float'>\n",
      "total time elapsed: 0h 0m 24s , best accuracy: 7.00%, best loss 2.727865\n",
      "epoch   5 with lr=1.00e-02\n"
     ]
    },
    {
     "name": "stderr",
     "output_type": "stream",
     "text": [
      "100%|██████████| 448/448 [00:01<00:00, 293.96audios/s, loss=2.72750, acc=5.00%]\n",
      "100%|██████████| 128/128 [00:00<00:00, 138.41audios/s, loss=2.80621, acc=4.00%]\n",
      "  0%|          | 0/448 [00:00<?, ?audios/s]"
     ]
    },
    {
     "name": "stdout",
     "output_type": "stream",
     "text": [
      "<class 'float'>\n",
      "total time elapsed: 0h 0m 26s , best accuracy: 7.00%, best loss 2.727865\n",
      "epoch   6 with lr=1.00e-02\n"
     ]
    },
    {
     "name": "stderr",
     "output_type": "stream",
     "text": [
      "100%|██████████| 448/448 [00:01<00:00, 301.03audios/s, loss=2.71543, acc=5.00%]\n",
      "100%|██████████| 128/128 [00:00<00:00, 137.58audios/s, loss=2.84442, acc=4.00%]\n",
      "  0%|          | 0/448 [00:00<?, ?audios/s]"
     ]
    },
    {
     "name": "stdout",
     "output_type": "stream",
     "text": [
      "<class 'float'>\n",
      "total time elapsed: 0h 0m 29s , best accuracy: 7.00%, best loss 2.727865\n",
      "epoch   7 with lr=1.00e-02\n"
     ]
    },
    {
     "name": "stderr",
     "output_type": "stream",
     "text": [
      "100%|██████████| 448/448 [00:01<00:00, 282.88audios/s, loss=2.72489, acc=7.00%]\n",
      "100%|██████████| 128/128 [00:00<00:00, 137.07audios/s, loss=2.81969, acc=4.00%]\n",
      "  0%|          | 0/448 [00:00<?, ?audios/s]"
     ]
    },
    {
     "name": "stdout",
     "output_type": "stream",
     "text": [
      "<class 'float'>\n",
      "total time elapsed: 0h 0m 32s , best accuracy: 7.00%, best loss 2.727865\n",
      "epoch   8 with lr=1.00e-02\n"
     ]
    },
    {
     "name": "stderr",
     "output_type": "stream",
     "text": [
      "100%|██████████| 448/448 [00:01<00:00, 290.28audios/s, loss=2.72544, acc=6.00%]\n",
      "100%|██████████| 128/128 [00:00<00:00, 138.38audios/s, loss=2.82445, acc=4.00%]\n",
      "  0%|          | 0/448 [00:00<?, ?audios/s]"
     ]
    },
    {
     "name": "stdout",
     "output_type": "stream",
     "text": [
      "<class 'float'>\n",
      "total time elapsed: 0h 0m 34s , best accuracy: 7.00%, best loss 2.727865\n",
      "epoch   9 with lr=1.00e-03\n"
     ]
    },
    {
     "name": "stderr",
     "output_type": "stream",
     "text": [
      "100%|██████████| 448/448 [00:01<00:00, 293.80audios/s, loss=2.72296, acc=7.00%]\n",
      "100%|██████████| 128/128 [00:00<00:00, 136.48audios/s, loss=2.82960, acc=4.00%]\n",
      "  0%|          | 0/448 [00:00<?, ?audios/s]"
     ]
    },
    {
     "name": "stdout",
     "output_type": "stream",
     "text": [
      "<class 'float'>\n",
      "total time elapsed: 0h 0m 37s , best accuracy: 7.00%, best loss 2.727865\n",
      "epoch  10 with lr=1.00e-03\n"
     ]
    },
    {
     "name": "stderr",
     "output_type": "stream",
     "text": [
      "100%|██████████| 448/448 [00:01<00:00, 279.01audios/s, loss=2.71797, acc=8.00%]\n",
      "100%|██████████| 128/128 [00:00<00:00, 138.88audios/s, loss=2.81942, acc=4.00%]\n",
      "  0%|          | 0/448 [00:00<?, ?audios/s]"
     ]
    },
    {
     "name": "stdout",
     "output_type": "stream",
     "text": [
      "<class 'float'>\n",
      "total time elapsed: 0h 0m 39s , best accuracy: 7.00%, best loss 2.727865\n",
      "epoch  11 with lr=1.00e-03\n"
     ]
    },
    {
     "name": "stderr",
     "output_type": "stream",
     "text": [
      "100%|██████████| 448/448 [00:01<00:00, 295.10audios/s, loss=2.71691, acc=9.00%]\n",
      "100%|██████████| 128/128 [00:00<00:00, 138.01audios/s, loss=2.83210, acc=4.00%]\n",
      "  0%|          | 0/448 [00:00<?, ?audios/s]"
     ]
    },
    {
     "name": "stdout",
     "output_type": "stream",
     "text": [
      "<class 'float'>\n",
      "total time elapsed: 0h 0m 42s , best accuracy: 7.00%, best loss 2.727865\n",
      "epoch  12 with lr=1.00e-03\n"
     ]
    },
    {
     "name": "stderr",
     "output_type": "stream",
     "text": [
      "100%|██████████| 448/448 [00:01<00:00, 301.10audios/s, loss=2.72616, acc=7.00%]\n",
      "100%|██████████| 128/128 [00:00<00:00, 138.40audios/s, loss=2.82319, acc=4.00%]\n",
      "  0%|          | 0/448 [00:00<?, ?audios/s]"
     ]
    },
    {
     "name": "stdout",
     "output_type": "stream",
     "text": [
      "<class 'float'>\n",
      "total time elapsed: 0h 0m 44s , best accuracy: 7.00%, best loss 2.727865\n",
      "epoch  13 with lr=1.00e-03\n"
     ]
    },
    {
     "name": "stderr",
     "output_type": "stream",
     "text": [
      "100%|██████████| 448/448 [00:01<00:00, 276.77audios/s, loss=2.73567, acc=6.00%]\n",
      "100%|██████████| 128/128 [00:00<00:00, 138.16audios/s, loss=2.81237, acc=4.00%]\n",
      "  0%|          | 0/448 [00:00<?, ?audios/s]"
     ]
    },
    {
     "name": "stdout",
     "output_type": "stream",
     "text": [
      "<class 'float'>\n",
      "total time elapsed: 0h 0m 47s , best accuracy: 7.00%, best loss 2.727865\n",
      "epoch  14 with lr=1.00e-03\n"
     ]
    },
    {
     "name": "stderr",
     "output_type": "stream",
     "text": [
      "100%|██████████| 448/448 [00:01<00:00, 296.17audios/s, loss=2.71844, acc=7.00%]\n",
      "100%|██████████| 128/128 [00:00<00:00, 139.68audios/s, loss=2.80785, acc=4.00%]\n",
      "  0%|          | 0/448 [00:00<?, ?audios/s]"
     ]
    },
    {
     "name": "stdout",
     "output_type": "stream",
     "text": [
      "<class 'float'>\n",
      "total time elapsed: 0h 0m 50s , best accuracy: 7.00%, best loss 2.727865\n",
      "epoch  15 with lr=1.00e-04\n"
     ]
    },
    {
     "name": "stderr",
     "output_type": "stream",
     "text": [
      "100%|██████████| 448/448 [00:01<00:00, 301.92audios/s, loss=2.71710, acc=6.00%]\n",
      "100%|██████████| 128/128 [00:00<00:00, 137.74audios/s, loss=2.80374, acc=4.00%]\n",
      "  0%|          | 0/448 [00:00<?, ?audios/s]"
     ]
    },
    {
     "name": "stdout",
     "output_type": "stream",
     "text": [
      "<class 'float'>\n",
      "total time elapsed: 0h 0m 52s , best accuracy: 7.00%, best loss 2.727865\n",
      "epoch  16 with lr=1.00e-04\n"
     ]
    },
    {
     "name": "stderr",
     "output_type": "stream",
     "text": [
      "100%|██████████| 448/448 [00:01<00:00, 296.19audios/s, loss=2.71809, acc=5.00%]\n",
      "100%|██████████| 128/128 [00:00<00:00, 141.17audios/s, loss=2.79746, acc=4.00%]\n",
      "  0%|          | 0/448 [00:00<?, ?audios/s]"
     ]
    },
    {
     "name": "stdout",
     "output_type": "stream",
     "text": [
      "<class 'float'>\n",
      "total time elapsed: 0h 0m 55s , best accuracy: 7.00%, best loss 2.727865\n",
      "epoch  17 with lr=1.00e-04\n"
     ]
    },
    {
     "name": "stderr",
     "output_type": "stream",
     "text": [
      "100%|██████████| 448/448 [00:01<00:00, 290.50audios/s, loss=2.71940, acc=5.00%]\n",
      "100%|██████████| 128/128 [00:00<00:00, 139.94audios/s, loss=2.80948, acc=4.00%]\n",
      "  0%|          | 0/448 [00:00<?, ?audios/s]"
     ]
    },
    {
     "name": "stdout",
     "output_type": "stream",
     "text": [
      "<class 'float'>\n",
      "total time elapsed: 0h 0m 57s , best accuracy: 7.00%, best loss 2.727865\n",
      "epoch  18 with lr=1.00e-04\n"
     ]
    },
    {
     "name": "stderr",
     "output_type": "stream",
     "text": [
      "100%|██████████| 448/448 [00:01<00:00, 294.02audios/s, loss=2.72752, acc=6.00%]\n",
      "100%|██████████| 128/128 [00:00<00:00, 138.24audios/s, loss=2.80228, acc=4.00%]\n",
      "  0%|          | 0/448 [00:00<?, ?audios/s]"
     ]
    },
    {
     "name": "stdout",
     "output_type": "stream",
     "text": [
      "<class 'float'>\n",
      "total time elapsed: 0h 0m 60s , best accuracy: 7.00%, best loss 2.727865\n",
      "epoch  19 with lr=1.00e-04\n"
     ]
    },
    {
     "name": "stderr",
     "output_type": "stream",
     "text": [
      "100%|██████████| 448/448 [00:01<00:00, 292.14audios/s, loss=2.72212, acc=5.00%]\n",
      "100%|██████████| 128/128 [00:00<00:00, 138.58audios/s, loss=2.79807, acc=4.00%]\n",
      "  0%|          | 0/448 [00:00<?, ?audios/s]"
     ]
    },
    {
     "name": "stdout",
     "output_type": "stream",
     "text": [
      "<class 'float'>\n",
      "total time elapsed: 0h 1m 2s , best accuracy: 7.00%, best loss 2.727865\n",
      "epoch  20 with lr=1.00e-04\n"
     ]
    },
    {
     "name": "stderr",
     "output_type": "stream",
     "text": [
      "100%|██████████| 448/448 [00:01<00:00, 295.53audios/s, loss=2.71222, acc=8.00%]\n",
      "100%|██████████| 128/128 [00:00<00:00, 139.26audios/s, loss=2.80743, acc=4.00%]\n",
      "  0%|          | 0/448 [00:00<?, ?audios/s]"
     ]
    },
    {
     "name": "stdout",
     "output_type": "stream",
     "text": [
      "<class 'float'>\n",
      "total time elapsed: 0h 1m 5s , best accuracy: 7.00%, best loss 2.727865\n",
      "epoch  21 with lr=1.00e-05\n"
     ]
    },
    {
     "name": "stderr",
     "output_type": "stream",
     "text": [
      "100%|██████████| 448/448 [00:01<00:00, 290.36audios/s, loss=2.72044, acc=7.00%]\n",
      "100%|██████████| 128/128 [00:00<00:00, 139.79audios/s, loss=2.80854, acc=4.00%]\n",
      "  0%|          | 0/448 [00:00<?, ?audios/s]"
     ]
    },
    {
     "name": "stdout",
     "output_type": "stream",
     "text": [
      "<class 'float'>\n",
      "total time elapsed: 0h 1m 7s , best accuracy: 7.00%, best loss 2.727865\n",
      "epoch  22 with lr=1.00e-05\n"
     ]
    },
    {
     "name": "stderr",
     "output_type": "stream",
     "text": [
      "100%|██████████| 448/448 [00:01<00:00, 295.62audios/s, loss=2.72248, acc=4.00%]\n",
      "100%|██████████| 128/128 [00:00<00:00, 138.72audios/s, loss=2.80272, acc=4.00%]\n",
      "  0%|          | 0/448 [00:00<?, ?audios/s]"
     ]
    },
    {
     "name": "stdout",
     "output_type": "stream",
     "text": [
      "<class 'float'>\n",
      "total time elapsed: 0h 1m 10s , best accuracy: 7.00%, best loss 2.727865\n",
      "epoch  23 with lr=1.00e-05\n"
     ]
    },
    {
     "name": "stderr",
     "output_type": "stream",
     "text": [
      "100%|██████████| 448/448 [00:01<00:00, 300.20audios/s, loss=2.71560, acc=8.00%]\n",
      "100%|██████████| 128/128 [00:00<00:00, 138.65audios/s, loss=2.79820, acc=4.00%]\n",
      "  0%|          | 0/448 [00:00<?, ?audios/s]"
     ]
    },
    {
     "name": "stdout",
     "output_type": "stream",
     "text": [
      "<class 'float'>\n",
      "total time elapsed: 0h 1m 13s , best accuracy: 7.00%, best loss 2.727865\n",
      "epoch  24 with lr=1.00e-05\n"
     ]
    },
    {
     "name": "stderr",
     "output_type": "stream",
     "text": [
      "100%|██████████| 448/448 [00:01<00:00, 298.28audios/s, loss=2.72576, acc=5.00%]\n",
      "100%|██████████| 128/128 [00:00<00:00, 133.75audios/s, loss=2.80147, acc=4.00%]\n",
      "  0%|          | 0/448 [00:00<?, ?audios/s]"
     ]
    },
    {
     "name": "stdout",
     "output_type": "stream",
     "text": [
      "<class 'float'>\n",
      "total time elapsed: 0h 1m 15s , best accuracy: 7.00%, best loss 2.727865\n",
      "epoch  25 with lr=1.00e-05\n"
     ]
    },
    {
     "name": "stderr",
     "output_type": "stream",
     "text": [
      "100%|██████████| 448/448 [00:01<00:00, 282.17audios/s, loss=2.71822, acc=8.00%]\n",
      "100%|██████████| 128/128 [00:00<00:00, 141.95audios/s, loss=2.80060, acc=4.00%]\n",
      "  0%|          | 0/448 [00:00<?, ?audios/s]"
     ]
    },
    {
     "name": "stdout",
     "output_type": "stream",
     "text": [
      "<class 'float'>\n",
      "total time elapsed: 0h 1m 18s , best accuracy: 7.00%, best loss 2.727865\n",
      "epoch  26 with lr=1.00e-05\n"
     ]
    },
    {
     "name": "stderr",
     "output_type": "stream",
     "text": [
      "100%|██████████| 448/448 [00:01<00:00, 287.47audios/s, loss=2.70948, acc=7.00%]\n",
      "100%|██████████| 128/128 [00:00<00:00, 134.93audios/s, loss=2.80190, acc=4.00%]\n",
      "  0%|          | 0/448 [00:00<?, ?audios/s]"
     ]
    },
    {
     "name": "stdout",
     "output_type": "stream",
     "text": [
      "<class 'float'>\n",
      "total time elapsed: 0h 1m 20s , best accuracy: 7.00%, best loss 2.727865\n",
      "epoch  27 with lr=1.00e-06\n"
     ]
    },
    {
     "name": "stderr",
     "output_type": "stream",
     "text": [
      "100%|██████████| 448/448 [00:01<00:00, 293.84audios/s, loss=2.71904, acc=6.00%]\n",
      "100%|██████████| 128/128 [00:00<00:00, 137.46audios/s, loss=2.79672, acc=4.00%]\n",
      "  0%|          | 0/448 [00:00<?, ?audios/s]"
     ]
    },
    {
     "name": "stdout",
     "output_type": "stream",
     "text": [
      "<class 'float'>\n",
      "total time elapsed: 0h 1m 23s , best accuracy: 7.00%, best loss 2.727865\n",
      "epoch  28 with lr=1.00e-06\n"
     ]
    },
    {
     "name": "stderr",
     "output_type": "stream",
     "text": [
      "100%|██████████| 448/448 [00:01<00:00, 302.13audios/s, loss=2.71846, acc=6.00%]\n",
      "100%|██████████| 128/128 [00:00<00:00, 140.72audios/s, loss=2.80136, acc=4.00%]\n",
      "  0%|          | 0/448 [00:00<?, ?audios/s]"
     ]
    },
    {
     "name": "stdout",
     "output_type": "stream",
     "text": [
      "<class 'float'>\n",
      "total time elapsed: 0h 1m 25s , best accuracy: 7.00%, best loss 2.727865\n",
      "epoch  29 with lr=1.00e-06\n"
     ]
    },
    {
     "name": "stderr",
     "output_type": "stream",
     "text": [
      "100%|██████████| 448/448 [00:01<00:00, 288.10audios/s, loss=2.72854, acc=5.00%]\n",
      "100%|██████████| 128/128 [00:00<00:00, 134.85audios/s, loss=2.80046, acc=4.00%]\n",
      "  0%|          | 0/448 [00:00<?, ?audios/s]"
     ]
    },
    {
     "name": "stdout",
     "output_type": "stream",
     "text": [
      "<class 'float'>\n",
      "total time elapsed: 0h 1m 28s , best accuracy: 7.00%, best loss 2.727865\n",
      "epoch  30 with lr=1.00e-06\n"
     ]
    },
    {
     "name": "stderr",
     "output_type": "stream",
     "text": [
      "100%|██████████| 448/448 [00:01<00:00, 298.54audios/s, loss=2.72561, acc=6.00%]\n",
      "100%|██████████| 128/128 [00:00<00:00, 133.49audios/s, loss=2.80037, acc=4.00%]\n",
      "  0%|          | 0/448 [00:00<?, ?audios/s]"
     ]
    },
    {
     "name": "stdout",
     "output_type": "stream",
     "text": [
      "<class 'float'>\n",
      "total time elapsed: 0h 1m 31s , best accuracy: 7.00%, best loss 2.727865\n",
      "epoch  31 with lr=1.00e-06\n"
     ]
    },
    {
     "name": "stderr",
     "output_type": "stream",
     "text": [
      "100%|██████████| 448/448 [00:01<00:00, 281.54audios/s, loss=2.72565, acc=5.00%]\n",
      "100%|██████████| 128/128 [00:00<00:00, 137.80audios/s, loss=2.80156, acc=4.00%]\n",
      "  0%|          | 0/448 [00:00<?, ?audios/s]"
     ]
    },
    {
     "name": "stdout",
     "output_type": "stream",
     "text": [
      "<class 'float'>\n",
      "total time elapsed: 0h 1m 33s , best accuracy: 7.00%, best loss 2.727865\n",
      "epoch  32 with lr=1.00e-06\n"
     ]
    },
    {
     "name": "stderr",
     "output_type": "stream",
     "text": [
      "100%|██████████| 448/448 [00:01<00:00, 302.64audios/s, loss=2.71625, acc=6.00%]\n",
      "100%|██████████| 128/128 [00:00<00:00, 140.27audios/s, loss=2.80085, acc=4.00%]\n",
      "  0%|          | 0/448 [00:00<?, ?audios/s]"
     ]
    },
    {
     "name": "stdout",
     "output_type": "stream",
     "text": [
      "<class 'float'>\n",
      "total time elapsed: 0h 1m 36s , best accuracy: 7.00%, best loss 2.727865\n",
      "epoch  33 with lr=1.00e-07\n"
     ]
    },
    {
     "name": "stderr",
     "output_type": "stream",
     "text": [
      "100%|██████████| 448/448 [00:01<00:00, 290.55audios/s, loss=2.72315, acc=8.00%] \n",
      "100%|██████████| 128/128 [00:00<00:00, 138.54audios/s, loss=2.79517, acc=4.00%]\n",
      "  0%|          | 0/448 [00:00<?, ?audios/s]"
     ]
    },
    {
     "name": "stdout",
     "output_type": "stream",
     "text": [
      "<class 'float'>\n",
      "total time elapsed: 0h 1m 38s , best accuracy: 7.00%, best loss 2.727865\n",
      "epoch  34 with lr=1.00e-07\n"
     ]
    },
    {
     "name": "stderr",
     "output_type": "stream",
     "text": [
      "100%|██████████| 448/448 [00:01<00:00, 292.77audios/s, loss=2.71391, acc=9.00%] \n",
      "100%|██████████| 128/128 [00:00<00:00, 136.95audios/s, loss=2.79703, acc=4.00%]\n",
      "  0%|          | 0/448 [00:00<?, ?audios/s]"
     ]
    },
    {
     "name": "stdout",
     "output_type": "stream",
     "text": [
      "<class 'float'>\n",
      "total time elapsed: 0h 1m 41s , best accuracy: 7.00%, best loss 2.727865\n",
      "epoch  35 with lr=1.00e-07\n"
     ]
    },
    {
     "name": "stderr",
     "output_type": "stream",
     "text": [
      "100%|██████████| 448/448 [00:01<00:00, 295.07audios/s, loss=2.72137, acc=4.00%]\n",
      "100%|██████████| 128/128 [00:00<00:00, 140.25audios/s, loss=2.80215, acc=4.00%]\n",
      "  0%|          | 0/448 [00:00<?, ?audios/s]"
     ]
    },
    {
     "name": "stdout",
     "output_type": "stream",
     "text": [
      "<class 'float'>\n",
      "total time elapsed: 0h 1m 43s , best accuracy: 7.00%, best loss 2.727865\n",
      "epoch  36 with lr=1.00e-07\n"
     ]
    },
    {
     "name": "stderr",
     "output_type": "stream",
     "text": [
      "100%|██████████| 448/448 [00:01<00:00, 286.67audios/s, loss=2.71879, acc=6.00%]\n",
      "100%|██████████| 128/128 [00:00<00:00, 137.32audios/s, loss=2.80080, acc=4.00%]\n",
      "  0%|          | 0/448 [00:00<?, ?audios/s]"
     ]
    },
    {
     "name": "stdout",
     "output_type": "stream",
     "text": [
      "<class 'float'>\n",
      "total time elapsed: 0h 1m 46s , best accuracy: 7.00%, best loss 2.727865\n",
      "epoch  37 with lr=1.00e-07\n"
     ]
    },
    {
     "name": "stderr",
     "output_type": "stream",
     "text": [
      "100%|██████████| 448/448 [00:01<00:00, 284.99audios/s, loss=2.72602, acc=5.00%]\n",
      "100%|██████████| 128/128 [00:00<00:00, 144.58audios/s, loss=2.80493, acc=4.00%]\n",
      "  0%|          | 0/448 [00:00<?, ?audios/s]"
     ]
    },
    {
     "name": "stdout",
     "output_type": "stream",
     "text": [
      "<class 'float'>\n",
      "total time elapsed: 0h 1m 49s , best accuracy: 7.00%, best loss 2.727865\n",
      "epoch  38 with lr=1.00e-07\n"
     ]
    },
    {
     "name": "stderr",
     "output_type": "stream",
     "text": [
      "100%|██████████| 448/448 [00:01<00:00, 297.25audios/s, loss=2.71611, acc=8.00%]\n",
      "100%|██████████| 128/128 [00:00<00:00, 139.30audios/s, loss=2.80150, acc=4.00%]\n",
      "  0%|          | 0/448 [00:00<?, ?audios/s]"
     ]
    },
    {
     "name": "stdout",
     "output_type": "stream",
     "text": [
      "<class 'float'>\n",
      "total time elapsed: 0h 1m 51s , best accuracy: 7.00%, best loss 2.727865\n",
      "epoch  39 with lr=1.00e-08\n"
     ]
    },
    {
     "name": "stderr",
     "output_type": "stream",
     "text": [
      "100%|██████████| 448/448 [00:01<00:00, 292.69audios/s, loss=2.72504, acc=6.00%]\n",
      "100%|██████████| 128/128 [00:00<00:00, 141.20audios/s, loss=2.80083, acc=4.00%]\n",
      "  0%|          | 0/448 [00:00<?, ?audios/s]"
     ]
    },
    {
     "name": "stdout",
     "output_type": "stream",
     "text": [
      "<class 'float'>\n",
      "total time elapsed: 0h 1m 54s , best accuracy: 7.00%, best loss 2.727865\n",
      "epoch  40 with lr=1.00e-08\n"
     ]
    },
    {
     "name": "stderr",
     "output_type": "stream",
     "text": [
      "100%|██████████| 448/448 [00:01<00:00, 288.02audios/s, loss=2.71892, acc=4.00%]\n",
      "100%|██████████| 128/128 [00:00<00:00, 138.67audios/s, loss=2.80184, acc=4.00%]\n",
      "  0%|          | 0/448 [00:00<?, ?audios/s]"
     ]
    },
    {
     "name": "stdout",
     "output_type": "stream",
     "text": [
      "<class 'float'>\n",
      "total time elapsed: 0h 1m 56s , best accuracy: 7.00%, best loss 2.727865\n",
      "epoch  41 with lr=1.00e-08\n"
     ]
    },
    {
     "name": "stderr",
     "output_type": "stream",
     "text": [
      "100%|██████████| 448/448 [00:01<00:00, 290.95audios/s, loss=2.71537, acc=6.00%]\n",
      "100%|██████████| 128/128 [00:00<00:00, 139.80audios/s, loss=2.79880, acc=4.00%]\n",
      "  0%|          | 0/448 [00:00<?, ?audios/s]"
     ]
    },
    {
     "name": "stdout",
     "output_type": "stream",
     "text": [
      "<class 'float'>\n",
      "total time elapsed: 0h 1m 59s , best accuracy: 7.00%, best loss 2.727865\n",
      "epoch  42 with lr=1.00e-08\n"
     ]
    },
    {
     "name": "stderr",
     "output_type": "stream",
     "text": [
      "100%|██████████| 448/448 [00:01<00:00, 286.74audios/s, loss=2.71988, acc=7.00%]\n",
      "100%|██████████| 128/128 [00:00<00:00, 133.79audios/s, loss=2.80392, acc=4.00%]\n",
      "  0%|          | 0/448 [00:00<?, ?audios/s]"
     ]
    },
    {
     "name": "stdout",
     "output_type": "stream",
     "text": [
      "<class 'float'>\n",
      "total time elapsed: 0h 2m 1s , best accuracy: 7.00%, best loss 2.727865\n",
      "epoch  43 with lr=1.00e-08\n"
     ]
    },
    {
     "name": "stderr",
     "output_type": "stream",
     "text": [
      "100%|██████████| 448/448 [00:01<00:00, 284.31audios/s, loss=2.71663, acc=5.00%]\n",
      "100%|██████████| 128/128 [00:00<00:00, 139.79audios/s, loss=2.80399, acc=4.00%]\n",
      "  0%|          | 0/448 [00:00<?, ?audios/s]"
     ]
    },
    {
     "name": "stdout",
     "output_type": "stream",
     "text": [
      "<class 'float'>\n",
      "total time elapsed: 0h 2m 4s , best accuracy: 7.00%, best loss 2.727865\n",
      "epoch  44 with lr=1.00e-08\n"
     ]
    },
    {
     "name": "stderr",
     "output_type": "stream",
     "text": [
      "100%|██████████| 448/448 [00:01<00:00, 278.25audios/s, loss=2.72701, acc=8.00%]\n",
      "100%|██████████| 128/128 [00:00<00:00, 140.21audios/s, loss=2.80043, acc=4.00%]\n",
      "  0%|          | 0/448 [00:00<?, ?audios/s]"
     ]
    },
    {
     "name": "stdout",
     "output_type": "stream",
     "text": [
      "<class 'float'>\n",
      "total time elapsed: 0h 2m 7s , best accuracy: 7.00%, best loss 2.727865\n",
      "epoch  45 with lr=1.00e-08\n"
     ]
    },
    {
     "name": "stderr",
     "output_type": "stream",
     "text": [
      "100%|██████████| 448/448 [00:01<00:00, 288.16audios/s, loss=2.71376, acc=6.00%]\n",
      "100%|██████████| 128/128 [00:00<00:00, 137.82audios/s, loss=2.80160, acc=4.00%]\n",
      "  0%|          | 0/448 [00:00<?, ?audios/s]"
     ]
    },
    {
     "name": "stdout",
     "output_type": "stream",
     "text": [
      "<class 'float'>\n",
      "total time elapsed: 0h 2m 9s , best accuracy: 7.00%, best loss 2.727865\n",
      "epoch  46 with lr=1.00e-08\n"
     ]
    },
    {
     "name": "stderr",
     "output_type": "stream",
     "text": [
      "100%|██████████| 448/448 [00:01<00:00, 302.65audios/s, loss=2.72366, acc=8.00%]\n",
      "100%|██████████| 128/128 [00:00<00:00, 139.79audios/s, loss=2.80177, acc=4.00%]\n",
      "  0%|          | 0/448 [00:00<?, ?audios/s]"
     ]
    },
    {
     "name": "stdout",
     "output_type": "stream",
     "text": [
      "<class 'float'>\n",
      "total time elapsed: 0h 2m 12s , best accuracy: 7.00%, best loss 2.727865\n",
      "epoch  47 with lr=1.00e-08\n"
     ]
    },
    {
     "name": "stderr",
     "output_type": "stream",
     "text": [
      "100%|██████████| 448/448 [00:01<00:00, 297.07audios/s, loss=2.71655, acc=7.00%]\n",
      "100%|██████████| 128/128 [00:00<00:00, 143.63audios/s, loss=2.80205, acc=4.00%]\n",
      "  0%|          | 0/448 [00:00<?, ?audios/s]"
     ]
    },
    {
     "name": "stdout",
     "output_type": "stream",
     "text": [
      "<class 'float'>\n",
      "total time elapsed: 0h 2m 14s , best accuracy: 7.00%, best loss 2.727865\n",
      "epoch  48 with lr=1.00e-08\n"
     ]
    },
    {
     "name": "stderr",
     "output_type": "stream",
     "text": [
      "100%|██████████| 448/448 [00:01<00:00, 292.19audios/s, loss=2.72267, acc=6.00%]\n",
      "100%|██████████| 128/128 [00:00<00:00, 141.66audios/s, loss=2.80282, acc=4.00%]\n",
      "  0%|          | 0/448 [00:00<?, ?audios/s]"
     ]
    },
    {
     "name": "stdout",
     "output_type": "stream",
     "text": [
      "<class 'float'>\n",
      "total time elapsed: 0h 2m 17s , best accuracy: 7.00%, best loss 2.727865\n",
      "epoch  49 with lr=1.00e-08\n"
     ]
    },
    {
     "name": "stderr",
     "output_type": "stream",
     "text": [
      "100%|██████████| 448/448 [00:01<00:00, 298.67audios/s, loss=2.71975, acc=4.00%]\n",
      "100%|██████████| 128/128 [00:00<00:00, 143.43audios/s, loss=2.80312, acc=4.00%]\n",
      "  0%|          | 0/448 [00:00<?, ?audios/s]"
     ]
    },
    {
     "name": "stdout",
     "output_type": "stream",
     "text": [
      "<class 'float'>\n",
      "total time elapsed: 0h 2m 19s , best accuracy: 7.00%, best loss 2.727865\n",
      "epoch  50 with lr=1.00e-08\n"
     ]
    },
    {
     "name": "stderr",
     "output_type": "stream",
     "text": [
      "100%|██████████| 448/448 [00:01<00:00, 286.60audios/s, loss=2.73188, acc=5.00%]\n",
      "100%|██████████| 128/128 [00:00<00:00, 138.21audios/s, loss=2.79895, acc=4.00%]\n",
      "  0%|          | 0/448 [00:00<?, ?audios/s]"
     ]
    },
    {
     "name": "stdout",
     "output_type": "stream",
     "text": [
      "<class 'float'>\n",
      "total time elapsed: 0h 2m 22s , best accuracy: 7.00%, best loss 2.727865\n",
      "epoch  51 with lr=1.00e-08\n"
     ]
    },
    {
     "name": "stderr",
     "output_type": "stream",
     "text": [
      "100%|██████████| 448/448 [00:01<00:00, 299.46audios/s, loss=2.71313, acc=9.00%]\n",
      "100%|██████████| 128/128 [00:00<00:00, 141.01audios/s, loss=2.80075, acc=4.00%]\n",
      "  0%|          | 0/448 [00:00<?, ?audios/s]"
     ]
    },
    {
     "name": "stdout",
     "output_type": "stream",
     "text": [
      "<class 'float'>\n",
      "total time elapsed: 0h 2m 24s , best accuracy: 7.00%, best loss 2.727865\n",
      "epoch  52 with lr=1.00e-08\n"
     ]
    },
    {
     "name": "stderr",
     "output_type": "stream",
     "text": [
      "100%|██████████| 448/448 [00:01<00:00, 294.00audios/s, loss=2.72256, acc=6.00%]\n",
      "100%|██████████| 128/128 [00:00<00:00, 138.58audios/s, loss=2.80218, acc=4.00%]\n",
      "  0%|          | 0/448 [00:00<?, ?audios/s]"
     ]
    },
    {
     "name": "stdout",
     "output_type": "stream",
     "text": [
      "<class 'float'>\n",
      "total time elapsed: 0h 2m 27s , best accuracy: 7.00%, best loss 2.727865\n",
      "epoch  53 with lr=1.00e-08\n"
     ]
    },
    {
     "name": "stderr",
     "output_type": "stream",
     "text": [
      "100%|██████████| 448/448 [00:01<00:00, 294.07audios/s, loss=2.72401, acc=3.00%]\n",
      "100%|██████████| 128/128 [00:00<00:00, 141.19audios/s, loss=2.80148, acc=4.00%]\n",
      "  0%|          | 0/448 [00:00<?, ?audios/s]"
     ]
    },
    {
     "name": "stdout",
     "output_type": "stream",
     "text": [
      "<class 'float'>\n",
      "total time elapsed: 0h 2m 30s , best accuracy: 7.00%, best loss 2.727865\n",
      "epoch  54 with lr=1.00e-08\n"
     ]
    },
    {
     "name": "stderr",
     "output_type": "stream",
     "text": [
      "100%|██████████| 448/448 [00:01<00:00, 288.14audios/s, loss=2.72175, acc=7.00%]\n",
      "100%|██████████| 128/128 [00:00<00:00, 129.43audios/s, loss=2.80228, acc=4.00%]\n",
      "  0%|          | 0/448 [00:00<?, ?audios/s]"
     ]
    },
    {
     "name": "stdout",
     "output_type": "stream",
     "text": [
      "<class 'float'>\n",
      "total time elapsed: 0h 2m 32s , best accuracy: 7.00%, best loss 2.727865\n",
      "epoch  55 with lr=1.00e-08\n"
     ]
    },
    {
     "name": "stderr",
     "output_type": "stream",
     "text": [
      "100%|██████████| 448/448 [00:01<00:00, 274.55audios/s, loss=2.72898, acc=5.00%]\n",
      "100%|██████████| 128/128 [00:00<00:00, 136.83audios/s, loss=2.79489, acc=4.00%]\n",
      "  0%|          | 0/448 [00:00<?, ?audios/s]"
     ]
    },
    {
     "name": "stdout",
     "output_type": "stream",
     "text": [
      "<class 'float'>\n",
      "total time elapsed: 0h 2m 35s , best accuracy: 7.00%, best loss 2.727865\n",
      "epoch  56 with lr=1.00e-08\n"
     ]
    },
    {
     "name": "stderr",
     "output_type": "stream",
     "text": [
      "100%|██████████| 448/448 [00:01<00:00, 293.75audios/s, loss=2.71844, acc=7.00%]\n",
      "100%|██████████| 128/128 [00:00<00:00, 138.70audios/s, loss=2.80526, acc=4.00%]\n",
      "  0%|          | 0/448 [00:00<?, ?audios/s]"
     ]
    },
    {
     "name": "stdout",
     "output_type": "stream",
     "text": [
      "<class 'float'>\n",
      "total time elapsed: 0h 2m 37s , best accuracy: 7.00%, best loss 2.727865\n",
      "epoch  57 with lr=1.00e-08\n"
     ]
    },
    {
     "name": "stderr",
     "output_type": "stream",
     "text": [
      "100%|██████████| 448/448 [00:01<00:00, 283.15audios/s, loss=2.71443, acc=6.00%]\n",
      "100%|██████████| 128/128 [00:00<00:00, 137.63audios/s, loss=2.80005, acc=4.00%]\n",
      "  0%|          | 0/448 [00:00<?, ?audios/s]"
     ]
    },
    {
     "name": "stdout",
     "output_type": "stream",
     "text": [
      "<class 'float'>\n",
      "total time elapsed: 0h 2m 40s , best accuracy: 7.00%, best loss 2.727865\n",
      "epoch  58 with lr=1.00e-08\n"
     ]
    },
    {
     "name": "stderr",
     "output_type": "stream",
     "text": [
      "100%|██████████| 448/448 [00:01<00:00, 300.20audios/s, loss=2.72055, acc=4.00%]\n",
      "100%|██████████| 128/128 [00:00<00:00, 134.18audios/s, loss=2.80318, acc=4.00%]\n",
      "  0%|          | 0/448 [00:00<?, ?audios/s]"
     ]
    },
    {
     "name": "stdout",
     "output_type": "stream",
     "text": [
      "<class 'float'>\n",
      "total time elapsed: 0h 2m 43s , best accuracy: 7.00%, best loss 2.727865\n",
      "epoch  59 with lr=1.00e-08\n"
     ]
    },
    {
     "name": "stderr",
     "output_type": "stream",
     "text": [
      "100%|██████████| 448/448 [00:01<00:00, 284.33audios/s, loss=2.71564, acc=7.00%]\n",
      "100%|██████████| 128/128 [00:00<00:00, 135.36audios/s, loss=2.79804, acc=4.00%]\n",
      "  0%|          | 0/448 [00:00<?, ?audios/s]"
     ]
    },
    {
     "name": "stdout",
     "output_type": "stream",
     "text": [
      "<class 'float'>\n",
      "total time elapsed: 0h 2m 45s , best accuracy: 7.00%, best loss 2.727865\n",
      "epoch  60 with lr=1.00e-08\n"
     ]
    },
    {
     "name": "stderr",
     "output_type": "stream",
     "text": [
      "100%|██████████| 448/448 [00:01<00:00, 290.27audios/s, loss=2.72509, acc=7.00%]\n",
      "100%|██████████| 128/128 [00:00<00:00, 134.65audios/s, loss=2.80144, acc=4.00%]\n",
      "  0%|          | 0/448 [00:00<?, ?audios/s]"
     ]
    },
    {
     "name": "stdout",
     "output_type": "stream",
     "text": [
      "<class 'float'>\n",
      "total time elapsed: 0h 2m 48s , best accuracy: 7.00%, best loss 2.727865\n",
      "epoch  61 with lr=1.00e-08\n"
     ]
    },
    {
     "name": "stderr",
     "output_type": "stream",
     "text": [
      "100%|██████████| 448/448 [00:01<00:00, 298.83audios/s, loss=2.71402, acc=8.00%]\n",
      "100%|██████████| 128/128 [00:00<00:00, 134.87audios/s, loss=2.80494, acc=4.00%]\n",
      "  0%|          | 0/448 [00:00<?, ?audios/s]"
     ]
    },
    {
     "name": "stdout",
     "output_type": "stream",
     "text": [
      "<class 'float'>\n",
      "total time elapsed: 0h 2m 50s , best accuracy: 7.00%, best loss 2.727865\n",
      "epoch  62 with lr=1.00e-08\n"
     ]
    },
    {
     "name": "stderr",
     "output_type": "stream",
     "text": [
      "100%|██████████| 448/448 [00:01<00:00, 282.34audios/s, loss=2.72303, acc=4.00%]\n",
      "100%|██████████| 128/128 [00:00<00:00, 136.19audios/s, loss=2.80231, acc=4.00%]\n",
      "  0%|          | 0/448 [00:00<?, ?audios/s]"
     ]
    },
    {
     "name": "stdout",
     "output_type": "stream",
     "text": [
      "<class 'float'>\n",
      "total time elapsed: 0h 2m 53s , best accuracy: 7.00%, best loss 2.727865\n",
      "epoch  63 with lr=1.00e-08\n"
     ]
    },
    {
     "name": "stderr",
     "output_type": "stream",
     "text": [
      "100%|██████████| 448/448 [00:01<00:00, 284.03audios/s, loss=2.71981, acc=6.00%]\n",
      "100%|██████████| 128/128 [00:00<00:00, 139.42audios/s, loss=2.80595, acc=4.00%]\n",
      "  0%|          | 0/448 [00:00<?, ?audios/s]"
     ]
    },
    {
     "name": "stdout",
     "output_type": "stream",
     "text": [
      "<class 'float'>\n",
      "total time elapsed: 0h 2m 56s , best accuracy: 7.00%, best loss 2.727865\n",
      "epoch  64 with lr=1.00e-08\n"
     ]
    },
    {
     "name": "stderr",
     "output_type": "stream",
     "text": [
      "100%|██████████| 448/448 [00:01<00:00, 278.31audios/s, loss=2.72125, acc=4.00%]\n",
      "100%|██████████| 128/128 [00:00<00:00, 137.32audios/s, loss=2.80677, acc=4.00%]\n",
      "  0%|          | 0/448 [00:00<?, ?audios/s]"
     ]
    },
    {
     "name": "stdout",
     "output_type": "stream",
     "text": [
      "<class 'float'>\n",
      "total time elapsed: 0h 2m 58s , best accuracy: 7.00%, best loss 2.727865\n",
      "epoch  65 with lr=1.00e-08\n"
     ]
    },
    {
     "name": "stderr",
     "output_type": "stream",
     "text": [
      "100%|██████████| 448/448 [00:01<00:00, 295.48audios/s, loss=2.71359, acc=6.00%]\n",
      "100%|██████████| 128/128 [00:00<00:00, 139.07audios/s, loss=2.80220, acc=4.00%]\n",
      "  0%|          | 0/448 [00:00<?, ?audios/s]"
     ]
    },
    {
     "name": "stdout",
     "output_type": "stream",
     "text": [
      "<class 'float'>\n",
      "total time elapsed: 0h 3m 1s , best accuracy: 7.00%, best loss 2.727865\n",
      "epoch  66 with lr=1.00e-08\n"
     ]
    },
    {
     "name": "stderr",
     "output_type": "stream",
     "text": [
      "100%|██████████| 448/448 [00:01<00:00, 292.56audios/s, loss=2.72621, acc=5.00%]\n",
      "100%|██████████| 128/128 [00:00<00:00, 142.39audios/s, loss=2.79727, acc=4.00%]\n",
      "  0%|          | 0/448 [00:00<?, ?audios/s]"
     ]
    },
    {
     "name": "stdout",
     "output_type": "stream",
     "text": [
      "<class 'float'>\n",
      "total time elapsed: 0h 3m 3s , best accuracy: 7.00%, best loss 2.727865\n",
      "epoch  67 with lr=1.00e-08\n"
     ]
    },
    {
     "name": "stderr",
     "output_type": "stream",
     "text": [
      "100%|██████████| 448/448 [00:01<00:00, 304.29audios/s, loss=2.71623, acc=6.00%]\n",
      "100%|██████████| 128/128 [00:00<00:00, 134.01audios/s, loss=2.80015, acc=4.00%]\n",
      "  0%|          | 0/448 [00:00<?, ?audios/s]"
     ]
    },
    {
     "name": "stdout",
     "output_type": "stream",
     "text": [
      "<class 'float'>\n",
      "total time elapsed: 0h 3m 6s , best accuracy: 7.00%, best loss 2.727865\n",
      "epoch  68 with lr=1.00e-08\n"
     ]
    },
    {
     "name": "stderr",
     "output_type": "stream",
     "text": [
      "100%|██████████| 448/448 [00:01<00:00, 299.31audios/s, loss=2.71596, acc=6.00%]\n",
      "100%|██████████| 128/128 [00:00<00:00, 135.60audios/s, loss=2.79941, acc=4.00%]\n",
      "  0%|          | 0/448 [00:00<?, ?audios/s]"
     ]
    },
    {
     "name": "stdout",
     "output_type": "stream",
     "text": [
      "<class 'float'>\n",
      "total time elapsed: 0h 3m 8s , best accuracy: 7.00%, best loss 2.727865\n",
      "epoch  69 with lr=1.00e-08\n"
     ]
    },
    {
     "name": "stderr",
     "output_type": "stream",
     "text": [
      "100%|██████████| 448/448 [00:01<00:00, 286.55audios/s, loss=2.73044, acc=5.00%]\n",
      "100%|██████████| 128/128 [00:00<00:00, 136.37audios/s, loss=2.80753, acc=4.00%]\n"
     ]
    },
    {
     "name": "stdout",
     "output_type": "stream",
     "text": [
      "<class 'float'>\n",
      "total time elapsed: 0h 3m 11s , best accuracy: 7.00%, best loss 2.727865\n",
      "finished\n"
     ]
    }
   ],
   "source": [
    "print(\"training %s for Google speech commands...\" % args.model)\n",
    "since = time.time()\n",
    "for epoch in range(start_epoch, args.max_epochs):\n",
    "    if args.lr_scheduler == 'step':\n",
    "        lr_scheduler.step()\n",
    "\n",
    "    train(epoch)\n",
    "    epoch_loss = valid(epoch)\n",
    "\n",
    "    if args.lr_scheduler == 'plateau':\n",
    "        print(type(epoch_loss))\n",
    "        lr_scheduler.step(metrics=epoch_loss)\n",
    "\n",
    "    time_elapsed = time.time() - since\n",
    "    time_str = 'total time elapsed: {:.0f}h {:.0f}m {:.0f}s '.format(time_elapsed // 3600, time_elapsed % 3600 // 60, time_elapsed % 60)\n",
    "    print(\"%s, best accuracy: %.02f%%, best loss %f\" % (time_str, best_accuracy, best_loss))\n",
    "    with open('./train_res18.log', 'a+') as f:\n",
    "        f.write(\"%s, epoch: %s, best accuracy: %.02f%%, best loss %f\\n\" % (time_str, epoch,best_accuracy, best_loss))\n",
    "print(\"finished\")"
   ]
  },
  {
   "cell_type": "code",
   "execution_count": null,
   "metadata": {},
   "outputs": [],
   "source": []
  },
  {
   "cell_type": "code",
   "execution_count": null,
   "metadata": {},
   "outputs": [],
   "source": []
  }
 ],
 "metadata": {
  "kernelspec": {
   "display_name": "Python 3",
   "language": "python",
   "name": "python3"
  },
  "language_info": {
   "codemirror_mode": {
    "name": "ipython",
    "version": 3
   },
   "file_extension": ".py",
   "mimetype": "text/x-python",
   "name": "python",
   "nbconvert_exporter": "python",
   "pygments_lexer": "ipython3",
   "version": "3.6.8"
  }
 },
 "nbformat": 4,
 "nbformat_minor": 2
}
