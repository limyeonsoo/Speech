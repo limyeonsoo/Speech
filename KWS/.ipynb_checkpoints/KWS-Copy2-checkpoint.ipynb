{
 "cells": [
  {
   "cell_type": "code",
   "execution_count": 1,
   "metadata": {},
   "outputs": [],
   "source": [
    "#!/usr/bin/env python\n",
    "\"\"\"Train a CNN for Google speech commands.\"\"\"\n",
    "\n",
    "__author__ = 'Yuan Xu, Erdene-Ochir Tuguldur'\n",
    "\n",
    "import argparse\n",
    "import time\n",
    "\n",
    "from tqdm import *\n",
    "\n",
    "import torch\n",
    "from torch.autograd import Variable\n",
    "from torch.utils.data import DataLoader\n",
    "from torch.utils.data.sampler import WeightedRandomSampler\n",
    "\n",
    "import torchvision\n",
    "from torchvision.transforms import *\n",
    "\n",
    "from tensorboardX import SummaryWriter\n",
    "import torch.nn.functional as F\n",
    "\n",
    "import models\n",
    "from datasets import *\n",
    "from transforms import *\n",
    "from mixup import *"
   ]
  },
  {
   "cell_type": "code",
   "execution_count": 2,
   "metadata": {},
   "outputs": [],
   "source": [
    "import torch.nn as nn\n",
    "import math\n",
    "import torch.utils.model_zoo as model_zoo"
   ]
  },
  {
   "cell_type": "code",
   "execution_count": 3,
   "metadata": {},
   "outputs": [],
   "source": [
    "def truncated_normal(tensor, std_dev=0.01):\n",
    "    tensor.zero_()\n",
    "    tensor.normal_(std=std_dev)\n",
    "    while torch.sum(torch.abs(tensor) > 2 * std_dev) > 0:\n",
    "        t = tensor[torch.abs(tensor) > 2 * std_dev]\n",
    "        t.zero_()\n",
    "        tensor[torch.abs(tensor) > 2 * std_dev] = torch.normal(t, std=std_dev)\n",
    "\n",
    "class KWS(nn.Module):\n",
    "    def __init__(self, config):\n",
    "        super().__init__()\n",
    "        n_labels = config[\"n_labels\"]\n",
    "        n_featmaps1 = config[\"n_feature_maps1\"]\n",
    "\n",
    "        conv1_size = config[\"conv1_size\"] # (time, frequency)\n",
    "        conv1_pool = config[\"conv1_pool\"]\n",
    "        conv1_stride = tuple(config[\"conv1_stride\"])\n",
    "        dropout_prob = config[\"dropout_prob\"]\n",
    "        width = config[\"width\"]\n",
    "        height = config[\"height\"]\n",
    "        self.conv1 = nn.Conv2d(1, n_featmaps1, conv1_size, stride=conv1_stride, padding=(6,0))\n",
    "        tf_variant = config.get(\"tf_variant\")\n",
    "        self.tf_variant = tf_variant\n",
    "        if tf_variant:\n",
    "            truncated_normal(self.conv1.weight.data)\n",
    "            self.conv1.bias.data.zero_()\n",
    "        self.pool1 = nn.MaxPool2d(conv1_pool)\n",
    "\n",
    "        x = Variable(torch.zeros(1, 1, height, width), volatile=True)\n",
    "        x = self.pool1(self.conv1(x))\n",
    "        conv_net_size = x.view(1, -1).size(1)\n",
    "        last_size = conv_net_size\n",
    "\n",
    "        if \"conv2_size\" in config:\n",
    "            conv2_size = config[\"conv2_size\"]\n",
    "            conv2_pool = config[\"conv2_pool\"]\n",
    "            conv2_stride = tuple(config[\"conv2_stride\"])\n",
    "            n_featmaps2 = config[\"n_feature_maps2\"]\n",
    "            self.conv2 = nn.Conv2d(n_featmaps1, n_featmaps2, conv2_size, stride=conv2_stride, padding=(4,0))\n",
    "            if tf_variant:\n",
    "                truncated_normal(self.conv2.weight.data)\n",
    "                self.conv2.bias.data.zero_()\n",
    "            self.pool2 = nn.AdaptiveMaxPool2d((1,1))\n",
    "            x = self.pool2(self.conv2(x))\n",
    "            conv_net_size = x.view(1, -1).size(1)\n",
    "            last_size = conv_net_size\n",
    "        if not tf_variant:\n",
    "            self.lin = nn.Linear(conv_net_size, 32)\n",
    "\n",
    "        if \"dnn1_size\" in config:\n",
    "            dnn1_size = config[\"dnn1_size\"]\n",
    "            last_size = dnn1_size\n",
    "            if tf_variant:\n",
    "                self.dnn1 = nn.Linear(conv_net_size, dnn1_size)\n",
    "                truncated_normal(self.dnn1.weight.data)\n",
    "                self.dnn1.bias.data.zero_()\n",
    "            else:\n",
    "                self.dnn1 = nn.Linear(32, dnn1_size)\n",
    "            if \"dnn2_size\" in config:\n",
    "                dnn2_size = config[\"dnn2_size\"]\n",
    "                last_size = dnn2_size\n",
    "                self.dnn2 = nn.Linear(dnn1_size, dnn2_size)\n",
    "                if tf_variant:\n",
    "                    truncated_normal(self.dnn2.weight.data)\n",
    "                    self.dnn2.bias.data.zero_()\n",
    "        self.output = nn.Linear(last_size, n_labels)\n",
    "        if tf_variant:\n",
    "            truncated_normal(self.output.weight.data)\n",
    "            self.output.bias.data.zero_()\n",
    "        self.dropout = nn.Dropout(dropout_prob)\n",
    "        self.softmax = nn.Softmax(dim=1)\n",
    "\n",
    "    def forward(self, x):\n",
    "        x = F.relu(self.conv1(x)) # shape: (batch, channels, i1, o1)\n",
    "        x = self.dropout(x)\n",
    "        x = self.pool1(x)\n",
    "        if hasattr(self, \"conv2\"):\n",
    "            x = F.relu(self.conv2(x)) # shape: (batch, o1, i2, o2)\n",
    "            x = self.dropout(x)\n",
    "            x = self.pool2(x)\n",
    "        x = x.view(x.size(0), -1) # shape: (batch, o3)\n",
    "        if hasattr(self, \"lin\"):\n",
    "            x = self.lin(x)\n",
    "        if hasattr(self, \"dnn1\"):\n",
    "            x = self.dnn1(x)\n",
    "            if not self.tf_variant:\n",
    "                x = F.relu(x)\n",
    "            x = self.dropout(x)\n",
    "        if hasattr(self, \"dnn2\"):\n",
    "            x = self.dnn2(x)\n",
    "            x = self.dropout(x)\n",
    "        return self.softmax(self.output(x))"
   ]
  },
  {
   "cell_type": "code",
   "execution_count": 4,
   "metadata": {},
   "outputs": [],
   "source": [
    "from enum import Enum\n",
    "class ConfigType(Enum):\n",
    "    CNN_TRAD_POOL2 = \"cnn-trad-pool2\" # default full model (TF variant)\n",
    "    CNN_ONE_STRIDE1 = \"cnn-one-stride1\" # default compact model (TF variant)\n",
    "    CNN_ONE_FPOOL3 = \"cnn-one-fpool3\"\n",
    "    CNN_ONE_FSTRIDE4 = \"cnn-one-fstride4\"\n",
    "    CNN_ONE_FSTRIDE8 = \"cnn-one-fstride8\"\n",
    "    CNN_TPOOL2 = \"cnn-tpool2\"\n",
    "    CNN_TPOOL3 = \"cnn-tpool3\"\n",
    "    CNN_TSTRIDE2 = \"cnn-tstride2\"\n",
    "    CNN_TSTRIDE4 = \"cnn-tstride4\"\n",
    "    CNN_TSTRIDE8 = \"cnn-tstride8\"\n",
    "    RES15 = \"res15\"\n",
    "    RES26 = \"res26\"\n",
    "    RES8 = \"res8\"\n",
    "    RES15_NARROW = \"res15-narrow\"\n",
    "    RES8_NARROW = \"res8-narrow\"\n",
    "    RES26_NARROW = \"res26-narrow\"\n",
    "\n",
    "_configs = {\n",
    "    ConfigType.CNN_TRAD_POOL2.value: dict(dropout_prob=0.5, height=101, width=40, n_labels=4, n_feature_maps1=64,\n",
    "        n_feature_maps2=64, conv1_size=(20, 8), conv2_size=(10, 4), conv1_pool=(2, 2), conv1_stride=(1, 1),\n",
    "        conv2_stride=(1, 1), conv2_pool=(1, 1), tf_variant=True),\n",
    "    ConfigType.CNN_ONE_STRIDE1.value: dict(dropout_prob=0.5, height=101, width=40, n_labels=4, n_feature_maps1=186,\n",
    "        conv1_size=(101, 8), conv1_pool=(1, 1), conv1_stride=(1, 1), dnn1_size=128, dnn2_size=128, tf_variant=True),\n",
    "    ConfigType.CNN_TSTRIDE2.value: dict(dropout_prob=0.5, height=101, width=40, n_labels=4, n_feature_maps1=78,\n",
    "        n_feature_maps2=78, conv1_size=(16, 8), conv2_size=(9, 4), conv1_pool=(1, 3), conv1_stride=(2, 1),\n",
    "        conv2_stride=(1, 1), conv2_pool=(1, 1), dnn1_size=128, dnn2_size=128),\n",
    "    ConfigType.CNN_TSTRIDE4.value: dict(dropout_prob=0.5, height=101, width=40, n_labels=4, n_feature_maps1=100,\n",
    "        n_feature_maps2=78, conv1_size=(16, 8), conv2_size=(5, 4), conv1_pool=(1, 3), conv1_stride=(4, 1),\n",
    "        conv2_stride=(1, 1), conv2_pool=(1, 1), dnn1_size=128, dnn2_size=128),\n",
    "    ConfigType.CNN_TSTRIDE8.value: dict(dropout_prob=0.5, height=101, width=40, n_labels=4, n_feature_maps1=126,\n",
    "        n_feature_maps2=78, conv1_size=(16, 8), conv2_size=(5, 4), conv1_pool=(1, 3), conv1_stride=(8, 1),\n",
    "        conv2_stride=(1, 1), conv2_pool=(1, 1), dnn1_size=128, dnn2_size=128),\n",
    "    ConfigType.CNN_TPOOL2.value: dict(dropout_prob=0.5, height=101, width=40, n_labels=4, n_feature_maps1=64,\n",
    "        n_feature_maps2=64, conv1_size=(21, 8), conv2_size=(6, 4), conv1_pool=(2, 3), conv1_stride=(1, 1),\n",
    "        conv2_stride=(1, 1), conv2_pool=(1, 1), dnn1_size=128, dnn2_size=128),\n",
    "    ConfigType.CNN_TPOOL3.value: dict(dropout_prob=0.5, height=101, width=40, n_labels=len(CLASSES), n_feature_maps1=64,\n",
    "        n_feature_maps2=64, conv1_size=(20, 8), conv2_size=(10, 4), conv1_pool=(3, 3), conv1_stride=(1, 1),\n",
    "        conv2_stride=(1, 1), conv2_pool=(1, 1), dnn1_size=128),\n",
    "    ConfigType.CNN_ONE_FPOOL3.value: dict(dropout_prob=0.5, height=101, width=40, n_labels=4, n_feature_maps1=54,\n",
    "        conv1_size=(101, 8), conv1_pool=(1, 3), conv1_stride=(1, 1), dnn1_size=128, dnn2_size=128),\n",
    "    ConfigType.CNN_ONE_FSTRIDE4.value: dict(dropout_prob=0.5, height=101, width=40, n_labels=4, n_feature_maps1=186,\n",
    "        conv1_size=(101, 8), conv1_pool=(1, 1), conv1_stride=(1, 4), dnn1_size=128, dnn2_size=128),\n",
    "    ConfigType.CNN_ONE_FSTRIDE8.value: dict(dropout_prob=0.5, height=101, width=40, n_labels=4, n_feature_maps1=336,\n",
    "        conv1_size=(101, 8), conv1_pool=(1, 1), conv1_stride=(1, 8), dnn1_size=128),\n",
    "    ConfigType.RES15.value: dict(n_labels=12, use_dilation=True, n_layers=13, n_feature_maps=45),\n",
    "    ConfigType.RES8.value: dict(n_labels=12, n_layers=6, n_feature_maps=45, res_pool=(4, 3), use_dilation=False),\n",
    "    ConfigType.RES26.value: dict(n_labels=12, n_layers=24, n_feature_maps=45, res_pool=(2, 2), use_dilation=False),\n",
    "    ConfigType.RES15_NARROW.value: dict(n_labels=12, use_dilation=True, n_layers=13, n_feature_maps=19),\n",
    "    ConfigType.RES8_NARROW.value: dict(n_labels=12, n_layers=6, n_feature_maps=19, res_pool=(4, 3), use_dilation=False),\n",
    "    ConfigType.RES26_NARROW.value: dict(n_labels=12, n_layers=24, n_feature_maps=19, res_pool=(2, 2), use_dilation=False)\n",
    "}"
   ]
  },
  {
   "cell_type": "code",
   "execution_count": 5,
   "metadata": {},
   "outputs": [
    {
     "data": {
      "text/plain": [
       "{'dropout_prob': 0.5,\n",
       " 'height': 101,\n",
       " 'width': 40,\n",
       " 'n_labels': 16,\n",
       " 'n_feature_maps1': 64,\n",
       " 'n_feature_maps2': 64,\n",
       " 'conv1_size': (20, 8),\n",
       " 'conv2_size': (10, 4),\n",
       " 'conv1_pool': (3, 3),\n",
       " 'conv1_stride': (1, 1),\n",
       " 'conv2_stride': (1, 1),\n",
       " 'conv2_pool': (1, 1),\n",
       " 'dnn1_size': 128}"
      ]
     },
     "execution_count": 5,
     "metadata": {},
     "output_type": "execute_result"
    }
   ],
   "source": [
    "_configs[\"cnn-tpool3\"]"
   ]
  },
  {
   "cell_type": "code",
   "execution_count": 6,
   "metadata": {},
   "outputs": [
    {
     "name": "stderr",
     "output_type": "stream",
     "text": [
      "/usr/local/lib/python3.6/dist-packages/ipykernel_launcher.py:29: UserWarning: volatile was removed and now has no effect. Use `with torch.no_grad():` instead.\n"
     ]
    },
    {
     "data": {
      "text/plain": [
       "182576"
      ]
     },
     "execution_count": 6,
     "metadata": {},
     "output_type": "execute_result"
    }
   ],
   "source": [
    "model = KWS(_configs[\"cnn-tpool3\"])\n",
    "def count_parameters(model):\n",
    "    return sum(p.numel() for p in model.parameters() if p.requires_grad)\n",
    "\n",
    "count_parameters(model)"
   ]
  },
  {
   "cell_type": "code",
   "execution_count": 7,
   "metadata": {},
   "outputs": [
    {
     "data": {
      "text/plain": [
       "KWS(\n",
       "  (conv1): Conv2d(1, 64, kernel_size=(20, 8), stride=(1, 1), padding=(6, 0))\n",
       "  (pool1): MaxPool2d(kernel_size=(3, 3), stride=(3, 3), padding=0, dilation=1, ceil_mode=False)\n",
       "  (conv2): Conv2d(64, 64, kernel_size=(10, 4), stride=(1, 1), padding=(4, 0))\n",
       "  (pool2): AdaptiveMaxPool2d(output_size=(1, 1))\n",
       "  (lin): Linear(in_features=64, out_features=32, bias=True)\n",
       "  (dnn1): Linear(in_features=32, out_features=128, bias=True)\n",
       "  (output): Linear(in_features=128, out_features=16, bias=True)\n",
       "  (dropout): Dropout(p=0.5, inplace=False)\n",
       "  (softmax): Softmax(dim=1)\n",
       ")"
      ]
     },
     "execution_count": 7,
     "metadata": {},
     "output_type": "execute_result"
    }
   ],
   "source": [
    "model"
   ]
  },
  {
   "cell_type": "code",
   "execution_count": 8,
   "metadata": {},
   "outputs": [],
   "source": [
    "class Arg():\n",
    "    def __init__(self):\n",
    "        self.train_dataset=\"/home/cilab/LabMembers/YS/Speech/life/experiments/train\"\n",
    "        self.valid_dataset=\"/home/cilab/LabMembers/YS/Speech/life/experiments/valid\"\n",
    "        self.background_noise=\"/home/cilab/LabMembers/YS/Speech/_background_noise_\"\n",
    "        self.comment=\"\"\n",
    "        self.batch_size=64\n",
    "        self.dataload_workers_nums=6\n",
    "        self.weight_decay=1e-2\n",
    "        self.optim='adam'\n",
    "        self.learning_rate=0.0001\n",
    "        self.lr_scheduler='step'\n",
    "        self.lr_scheduler_patience=5\n",
    "        self.lr_scheduler_step_size=50\n",
    "        self.lr_scheduler_gamma=0.1\n",
    "        self.max_epochs=70\n",
    "        self.resume=None\n",
    "        self.model=\"kws-nomixup-mfcc40\"\n",
    "        self.input=\"mel40\"\n",
    "        self.mixup=False\n",
    "args = Arg()"
   ]
  },
  {
   "cell_type": "code",
   "execution_count": 9,
   "metadata": {},
   "outputs": [
    {
     "name": "stdout",
     "output_type": "stream",
     "text": [
      "use_gpu True\n",
      "all :  ['갑자기', '마그네슘', '진통제', '타이레놀', '바이러스', '내시경', '비타민', '고혈압', '단백질', '스트레스', '카페인', '다이어트', '부작용', '에너지', '아스피린']\n",
      "all :  ['갑자기', '마그네슘', '진통제', '타이레놀', '바이러스', '내시경', '비타민', '고혈압', '단백질', '스트레스', '카페인', '다이어트', '부작용', '에너지', '아스피린']\n"
     ]
    },
    {
     "name": "stderr",
     "output_type": "stream",
     "text": [
      "/home/cilab/LabMembers/YS/Speech/pytorch-speech-commands/datasets/speech_commands_dataset.py:70: RuntimeWarning: divide by zero encountered in true_divide\n",
      "  weight_per_class = N / count\n"
     ]
    }
   ],
   "source": [
    "use_gpu = torch.cuda.is_available()\n",
    "print('use_gpu', use_gpu)\n",
    "if use_gpu:\n",
    "    torch.backends.cudnn.benchmark = True\n",
    "\n",
    "n_mels = 32\n",
    "if args.input == 'mel40':\n",
    "    n_mels = 40\n",
    "\n",
    "data_aug_transform = Compose([ChangeAmplitude(), ChangeSpeedAndPitchAudio(), FixAudioLength()])\n",
    "bg_dataset = BackgroundNoiseDataset(args.background_noise, data_aug_transform)\n",
    "add_bg_noise = AddBackgroundNoiseOnSTFT(bg_dataset)\n",
    "train_feature_transform = Compose([ToMfcc(n_mels=n_mels), ToTensor('mfcc', 'input')])\n",
    "train_dataset = SpeechCommandsDataset(args.train_dataset,\n",
    "                                Compose([LoadAudio(),\n",
    "                                         data_aug_transform,\n",
    "                                         train_feature_transform]), silence_percentage=0)\n",
    "\n",
    "valid_feature_transform = Compose([ToMfcc(n_mels=n_mels), ToTensor('mfcc', 'input')])\n",
    "valid_dataset = SpeechCommandsDataset(args.valid_dataset,\n",
    "                                Compose([LoadAudio(),\n",
    "                                         data_aug_transform,\n",
    "                                         valid_feature_transform]), silence_percentage=0)\n",
    "\n",
    "weights = train_dataset.make_weights_for_balanced_classes()\n",
    "sampler = WeightedRandomSampler(weights, len(weights))\n",
    "train_dataloader = DataLoader(train_dataset, batch_size=args.batch_size, sampler=sampler,\n",
    "                              pin_memory=use_gpu, num_workers=args.dataload_workers_nums)\n",
    "valid_dataloader = DataLoader(valid_dataset, batch_size=args.batch_size, shuffle=False,\n",
    "                              pin_memory=use_gpu, num_workers=args.dataload_workers_nums)"
   ]
  },
  {
   "cell_type": "code",
   "execution_count": 10,
   "metadata": {
    "scrolled": true
   },
   "outputs": [
    {
     "name": "stdout",
     "output_type": "stream",
     "text": [
      "KWS(\n",
      "  (conv1): Conv2d(1, 64, kernel_size=(20, 8), stride=(1, 1), padding=(6, 0))\n",
      "  (pool1): MaxPool2d(kernel_size=(3, 3), stride=(3, 3), padding=0, dilation=1, ceil_mode=False)\n",
      "  (conv2): Conv2d(64, 64, kernel_size=(10, 4), stride=(1, 1), padding=(4, 0))\n",
      "  (pool2): AdaptiveMaxPool2d(output_size=(1, 1))\n",
      "  (lin): Linear(in_features=64, out_features=32, bias=True)\n",
      "  (dnn1): Linear(in_features=32, out_features=128, bias=True)\n",
      "  (output): Linear(in_features=128, out_features=16, bias=True)\n",
      "  (dropout): Dropout(p=0.5, inplace=False)\n",
      "  (softmax): Softmax(dim=1)\n",
      ")\n"
     ]
    },
    {
     "name": "stderr",
     "output_type": "stream",
     "text": [
      "/usr/local/lib/python3.6/dist-packages/ipykernel_launcher.py:29: UserWarning: volatile was removed and now has no effect. Use `with torch.no_grad():` instead.\n"
     ]
    }
   ],
   "source": [
    "# a name used to save checkpoints etc.\n",
    "full_name = '%s_%s_%s_bs%d_lr%.1e_wd%.1e' % (args.model, args.optim, args.lr_scheduler, args.batch_size, args.learning_rate, args.weight_decay)\n",
    "if args.comment:\n",
    "    full_name = '%s_%s' % (full_name, args.comment)\n",
    "\n",
    "#model = models.create_model(model_name=args.model, num_classes=len(CLASSES), in_channels=1)\n",
    "model = KWS(_configs[\"cnn-tpool3\"])\n",
    "print(model)\n",
    "if use_gpu:\n",
    "    model = torch.nn.DataParallel(model).cuda()\n",
    "\n",
    "criterion = torch.nn.CrossEntropyLoss()\n",
    "\n",
    "if args.optim == 'sgd':\n",
    "    optimizer = torch.optim.SGD(model.parameters(), lr=args.learning_rate, weight_decay=args.weight_decay)\n",
    "else:\n",
    "    optimizer = torch.optim.Adam(model.parameters(), lr=args.learning_rate, weight_decay=args.weight_decay)\n",
    "\n",
    "start_timestamp = int(time.time()*1000)\n",
    "start_epoch = 0\n",
    "best_accuracy = 0\n",
    "best_loss = 1e100\n",
    "global_step = 0\n",
    "\n",
    "if args.resume:\n",
    "    print(\"resuming a checkpoint '%s'\" % args.resume)\n",
    "    checkpoint = torch.load(args.resume)\n",
    "    model.load_state_dict(checkpoint['state_dict'])\n",
    "    model.float()\n",
    "    optimizer.load_state_dict(checkpoint['optimizer'])\n",
    "\n",
    "    best_accuracy = checkpoint.get('accuracy', best_accuracy)\n",
    "    best_loss = checkpoint.get('loss', best_loss)\n",
    "    start_epoch = checkpoint.get('epoch', start_epoch)\n",
    "    global_step = checkpoint.get('step', global_step)\n",
    "\n",
    "    del checkpoint  # reduce memory\n",
    "\n",
    "if args.lr_scheduler == 'plateau':\n",
    "    lr_scheduler = torch.optim.lr_scheduler.ReduceLROnPlateau(optimizer, patience=args.lr_scheduler_patience, factor=args.lr_scheduler_gamma)\n",
    "else:\n",
    "    lr_scheduler = torch.optim.lr_scheduler.StepLR(optimizer, step_size=args.lr_scheduler_step_size, gamma=args.lr_scheduler_gamma, last_epoch=start_epoch-1)"
   ]
  },
  {
   "cell_type": "code",
   "execution_count": 11,
   "metadata": {},
   "outputs": [
    {
     "data": {
      "text/plain": [
       "182576"
      ]
     },
     "execution_count": 11,
     "metadata": {},
     "output_type": "execute_result"
    }
   ],
   "source": [
    "def count_parameters(model):\n",
    "    return sum(p.numel() for p in model.parameters() if p.requires_grad)\n",
    "\n",
    "count_parameters(model)"
   ]
  },
  {
   "cell_type": "code",
   "execution_count": 12,
   "metadata": {},
   "outputs": [],
   "source": [
    "def get_lr():\n",
    "    return optimizer.param_groups[0]['lr']\n",
    "\n",
    "writer = SummaryWriter(comment=('_speech_commands_' + full_name))\n",
    "\n",
    "def train(epoch):\n",
    "    global global_step\n",
    "\n",
    "    print(\"epoch %3d with lr=%.02e\" % (epoch, get_lr()))\n",
    "    phase = 'train'\n",
    "    writer.add_scalar('%s/learning_rate' % phase,  get_lr(), epoch)\n",
    "\n",
    "    model.train()  # Set model to training mode\n",
    "\n",
    "    running_loss = 0.0\n",
    "    it = 0\n",
    "    correct = 0\n",
    "    total = 0\n",
    "\n",
    "    pbar = tqdm(train_dataloader, unit=\"audios\", unit_scale=train_dataloader.batch_size)\n",
    "    for batch in pbar:\n",
    "        inputs = batch['input']\n",
    "        inputs = torch.unsqueeze(inputs, 1)\n",
    "        targets = batch['target']\n",
    "        #print(inputs.shape)\n",
    "        if args.mixup:\n",
    "            inputs, targets = mixup(inputs, targets, num_classes=len(CLASSES))\n",
    "\n",
    "        inputs = Variable(inputs, requires_grad=True)\n",
    "        targets = Variable(targets, requires_grad=False)\n",
    "        if use_gpu:\n",
    "            inputs = inputs.cuda()\n",
    "            targets = targets.cuda(async=True)\n",
    "\n",
    "        # forward/backward\n",
    "        outputs = model(inputs)\n",
    "        #print(outputs.shape)\n",
    "        if args.mixup:\n",
    "            loss = mixup_cross_entropy_loss(outputs, targets)\n",
    "        else:\n",
    "            loss = criterion(outputs, targets)\n",
    "        optimizer.zero_grad()\n",
    "        loss.backward()\n",
    "        optimizer.step()\n",
    "\n",
    "        # statistics\n",
    "        it += 1\n",
    "        global_step += 1\n",
    "        running_loss += loss.item()\n",
    "        pred = outputs.data.max(1, keepdim=True)[1]\n",
    "        if args.mixup:\n",
    "            targets = batch['target']\n",
    "            targets = Variable(targets, requires_grad=False).cuda(async=True)\n",
    "        correct += pred.eq(targets.data.view_as(pred)).sum()\n",
    "        total += targets.size(0)\n",
    "\n",
    "        writer.add_scalar('%s/loss' % phase, loss.item(), global_step)\n",
    "\n",
    "        # update the progress bar\n",
    "        pbar.set_postfix({\n",
    "            'loss': \"%.05f\" % (running_loss / it),\n",
    "            'acc': \"%.02f%%\" % (100*correct/total)\n",
    "        })\n",
    "\n",
    "    accuracy = correct/total\n",
    "    epoch_loss = running_loss / it\n",
    "    writer.add_scalar('%s/accuracy' % phase, 100*accuracy, epoch)\n",
    "    writer.add_scalar('%s/epoch_loss' % phase, epoch_loss, epoch)"
   ]
  },
  {
   "cell_type": "code",
   "execution_count": 13,
   "metadata": {},
   "outputs": [],
   "source": [
    "def valid(epoch):\n",
    "    global best_accuracy, best_loss, global_step\n",
    "\n",
    "    phase = 'valid'\n",
    "    model.eval()  # Set model to evaluate mode\n",
    "\n",
    "    running_loss = 0.0\n",
    "    it = 0\n",
    "    correct = 0\n",
    "    total = 0\n",
    "\n",
    "    pbar = tqdm(valid_dataloader, unit=\"audios\", unit_scale=valid_dataloader.batch_size)\n",
    "    for batch in pbar:\n",
    "        inputs = batch['input']\n",
    "        inputs = torch.unsqueeze(inputs, 1)\n",
    "        targets = batch['target']\n",
    "\n",
    "        inputs = Variable(inputs, volatile = True)\n",
    "        targets = Variable(targets, requires_grad=False)\n",
    "\n",
    "        if use_gpu:\n",
    "            inputs = inputs.cuda()\n",
    "            targets = targets.cuda(async=True)\n",
    "\n",
    "        # forward\n",
    "        outputs = model(inputs)\n",
    "        loss = criterion(outputs, targets)\n",
    "\n",
    "        # statistics\n",
    "        it += 1\n",
    "        global_step += 1\n",
    "        running_loss += loss.item()\n",
    "        pred = outputs.data.max(1, keepdim=True)[1]\n",
    "        correct += pred.eq(targets.data.view_as(pred)).sum()\n",
    "        total += targets.size(0)\n",
    "\n",
    "        writer.add_scalar('%s/loss' % phase, loss.item(), global_step)\n",
    "\n",
    "        # update the progress bar\n",
    "        pbar.set_postfix({\n",
    "            'loss': \"%.05f\" % (running_loss / it),\n",
    "            'acc': \"%.02f%%\" % (100*correct/total)\n",
    "        })\n",
    "\n",
    "    accuracy = 100*correct/total\n",
    "    epoch_loss = running_loss / it\n",
    "    writer.add_scalar('%s/accuracy' % phase, accuracy, epoch)\n",
    "    writer.add_scalar('%s/epoch_loss' % phase, epoch_loss, epoch)\n",
    "    checkpoint = {\n",
    "        'epoch': epoch,\n",
    "        'step': global_step,\n",
    "        'state_dict': model.state_dict(),\n",
    "        'loss': epoch_loss,\n",
    "        'accuracy': accuracy,\n",
    "        'optimizer' : optimizer.state_dict(),\n",
    "    }\n",
    "    if accuracy > best_accuracy:\n",
    "        best_accuracy = accuracy\n",
    "        torch.save(checkpoint, 'checkpoints/best-acc-resnet18-%s.pth' % full_name)\n",
    "        torch.save(model, '%d-%s-best-loss.pth' % (start_timestamp, full_name))\n",
    "    if epoch_loss < best_loss:\n",
    "        best_loss = epoch_loss\n",
    "        torch.save(checkpoint, 'checkpoints/best-loss-resnet18-%s.pth' % full_name)\n",
    "        torch.save(model, '%d-%s-best-acc.pth' % (start_timestamp, full_name))\n",
    "    torch.save(model, './res18.pth')\n",
    "    #torch.save(checkpoint, 'checkpoints/Resnet18.pth')\n",
    "    del checkpoint  # reduce memory\n",
    "\n",
    "    return epoch_loss"
   ]
  },
  {
   "cell_type": "code",
   "execution_count": 14,
   "metadata": {
    "scrolled": true
   },
   "outputs": [
    {
     "name": "stderr",
     "output_type": "stream",
     "text": [
      "/home/cilab/.local/lib/python3.6/site-packages/torch/optim/lr_scheduler.py:100: UserWarning: Detected call of `lr_scheduler.step()` before `optimizer.step()`. In PyTorch 1.1.0 and later, you should call them in the opposite order: `optimizer.step()` before `lr_scheduler.step()`.  Failure to do this will result in PyTorch skipping the first value of the learning rate schedule.See more details at https://pytorch.org/docs/stable/optim.html#how-to-adjust-learning-rate\n",
      "  \"https://pytorch.org/docs/stable/optim.html#how-to-adjust-learning-rate\", UserWarning)\n",
      "\r",
      "  0%|          | 0/448 [00:00<?, ?audios/s]"
     ]
    },
    {
     "name": "stdout",
     "output_type": "stream",
     "text": [
      "training kws-nomixup-mfcc40 for Google speech commands...\n",
      "epoch   0 with lr=1.00e-04\n"
     ]
    },
    {
     "name": "stderr",
     "output_type": "stream",
     "text": [
      "100%|██████████| 448/448 [00:09<00:00, 48.36audios/s, loss=2.79059, acc=6.00%]\n",
      "  0%|          | 0/128 [00:00<?, ?audios/s]/usr/local/lib/python3.6/dist-packages/ipykernel_launcher.py:18: UserWarning: volatile was removed and now has no effect. Use `with torch.no_grad():` instead.\n",
      "100%|██████████| 128/128 [00:00<00:00, 181.30audios/s, loss=2.80250, acc=2.00%]\n",
      "/home/cilab/.local/lib/python3.6/site-packages/torch/serialization.py:292: UserWarning: Couldn't retrieve source code for container of type DataParallel. It won't be checked for correctness upon loading.\n",
      "  \"type \" + obj.__name__ + \". It won't be checked \"\n",
      "/home/cilab/.local/lib/python3.6/site-packages/torch/serialization.py:292: UserWarning: Couldn't retrieve source code for container of type KWS. It won't be checked for correctness upon loading.\n",
      "  \"type \" + obj.__name__ + \". It won't be checked \"\n",
      "/home/cilab/.local/lib/python3.6/site-packages/torch/serialization.py:292: UserWarning: Couldn't retrieve source code for container of type Conv2d. It won't be checked for correctness upon loading.\n",
      "  \"type \" + obj.__name__ + \". It won't be checked \"\n",
      "/home/cilab/.local/lib/python3.6/site-packages/torch/serialization.py:292: UserWarning: Couldn't retrieve source code for container of type MaxPool2d. It won't be checked for correctness upon loading.\n",
      "  \"type \" + obj.__name__ + \". It won't be checked \"\n",
      "/home/cilab/.local/lib/python3.6/site-packages/torch/serialization.py:292: UserWarning: Couldn't retrieve source code for container of type AdaptiveMaxPool2d. It won't be checked for correctness upon loading.\n",
      "  \"type \" + obj.__name__ + \". It won't be checked \"\n",
      "/home/cilab/.local/lib/python3.6/site-packages/torch/serialization.py:292: UserWarning: Couldn't retrieve source code for container of type Linear. It won't be checked for correctness upon loading.\n",
      "  \"type \" + obj.__name__ + \". It won't be checked \"\n",
      "/home/cilab/.local/lib/python3.6/site-packages/torch/serialization.py:292: UserWarning: Couldn't retrieve source code for container of type Dropout. It won't be checked for correctness upon loading.\n",
      "  \"type \" + obj.__name__ + \". It won't be checked \"\n",
      "/home/cilab/.local/lib/python3.6/site-packages/torch/serialization.py:292: UserWarning: Couldn't retrieve source code for container of type Softmax. It won't be checked for correctness upon loading.\n",
      "  \"type \" + obj.__name__ + \". It won't be checked \"\n",
      "  0%|          | 0/448 [00:00<?, ?audios/s]"
     ]
    },
    {
     "name": "stdout",
     "output_type": "stream",
     "text": [
      "total time elapsed: 0h 0m 10s , best accuracy: 2.00%, best loss 2.802500\n",
      "epoch   1 with lr=1.00e-04\n"
     ]
    },
    {
     "name": "stderr",
     "output_type": "stream",
     "text": [
      "100%|██████████| 448/448 [00:00<00:00, 523.95audios/s, loss=2.79814, acc=6.00%]\n",
      "100%|██████████| 128/128 [00:00<00:00, 182.99audios/s, loss=2.82209, acc=2.00%]\n",
      "  0%|          | 0/448 [00:00<?, ?audios/s]"
     ]
    },
    {
     "name": "stdout",
     "output_type": "stream",
     "text": [
      "total time elapsed: 0h 0m 12s , best accuracy: 2.00%, best loss 2.802500\n",
      "epoch   2 with lr=1.00e-04\n"
     ]
    },
    {
     "name": "stderr",
     "output_type": "stream",
     "text": [
      "100%|██████████| 448/448 [00:00<00:00, 511.58audios/s, loss=2.79701, acc=6.00%]\n",
      "100%|██████████| 128/128 [00:00<00:00, 173.23audios/s, loss=2.81192, acc=2.00%]\n",
      "  0%|          | 0/448 [00:00<?, ?audios/s]"
     ]
    },
    {
     "name": "stdout",
     "output_type": "stream",
     "text": [
      "total time elapsed: 0h 0m 13s , best accuracy: 2.00%, best loss 2.802500\n",
      "epoch   3 with lr=1.00e-04\n"
     ]
    },
    {
     "name": "stderr",
     "output_type": "stream",
     "text": [
      "100%|██████████| 448/448 [00:00<00:00, 503.62audios/s, loss=2.82727, acc=3.00%]\n",
      "100%|██████████| 128/128 [00:00<00:00, 183.35audios/s, loss=2.80467, acc=2.00%]\n",
      "  0%|          | 0/448 [00:00<?, ?audios/s]"
     ]
    },
    {
     "name": "stdout",
     "output_type": "stream",
     "text": [
      "total time elapsed: 0h 0m 15s , best accuracy: 2.00%, best loss 2.802500\n",
      "epoch   4 with lr=1.00e-04\n"
     ]
    },
    {
     "name": "stderr",
     "output_type": "stream",
     "text": [
      "100%|██████████| 448/448 [00:00<00:00, 518.41audios/s, loss=2.77838, acc=8.00%] \n",
      "100%|██████████| 128/128 [00:00<00:00, 184.24audios/s, loss=2.80463, acc=2.00%]\n",
      "  0%|          | 0/448 [00:00<?, ?audios/s]"
     ]
    },
    {
     "name": "stdout",
     "output_type": "stream",
     "text": [
      "total time elapsed: 0h 0m 16s , best accuracy: 2.00%, best loss 2.802500\n",
      "epoch   5 with lr=1.00e-04\n"
     ]
    },
    {
     "name": "stderr",
     "output_type": "stream",
     "text": [
      "100%|██████████| 448/448 [00:00<00:00, 472.79audios/s, loss=2.80860, acc=4.00%]\n",
      "100%|██████████| 128/128 [00:00<00:00, 178.33audios/s, loss=2.80683, acc=7.00%]\n",
      "  0%|          | 0/448 [00:00<?, ?audios/s]"
     ]
    },
    {
     "name": "stdout",
     "output_type": "stream",
     "text": [
      "total time elapsed: 0h 0m 18s , best accuracy: 7.00%, best loss 2.802500\n",
      "epoch   6 with lr=1.00e-04\n"
     ]
    },
    {
     "name": "stderr",
     "output_type": "stream",
     "text": [
      "100%|██████████| 448/448 [00:00<00:00, 499.77audios/s, loss=2.80235, acc=6.00%]\n",
      "100%|██████████| 128/128 [00:00<00:00, 181.31audios/s, loss=2.80173, acc=5.00%]\n",
      "  0%|          | 0/448 [00:00<?, ?audios/s]"
     ]
    },
    {
     "name": "stdout",
     "output_type": "stream",
     "text": [
      "total time elapsed: 0h 0m 20s , best accuracy: 7.00%, best loss 2.801730\n",
      "epoch   7 with lr=1.00e-04\n"
     ]
    },
    {
     "name": "stderr",
     "output_type": "stream",
     "text": [
      "100%|██████████| 448/448 [00:00<00:00, 515.54audios/s, loss=2.78630, acc=8.00%]\n",
      "100%|██████████| 128/128 [00:00<00:00, 182.15audios/s, loss=2.80756, acc=5.00%]\n",
      "  0%|          | 0/448 [00:00<?, ?audios/s]"
     ]
    },
    {
     "name": "stdout",
     "output_type": "stream",
     "text": [
      "total time elapsed: 0h 0m 21s , best accuracy: 7.00%, best loss 2.801730\n",
      "epoch   8 with lr=1.00e-04\n"
     ]
    },
    {
     "name": "stderr",
     "output_type": "stream",
     "text": [
      "100%|██████████| 448/448 [00:00<00:00, 513.02audios/s, loss=2.77719, acc=8.00%]\n",
      "100%|██████████| 128/128 [00:00<00:00, 177.82audios/s, loss=2.81079, acc=4.00%]\n",
      "  0%|          | 0/448 [00:00<?, ?audios/s]"
     ]
    },
    {
     "name": "stdout",
     "output_type": "stream",
     "text": [
      "total time elapsed: 0h 0m 23s , best accuracy: 7.00%, best loss 2.801730\n",
      "epoch   9 with lr=1.00e-04\n"
     ]
    },
    {
     "name": "stderr",
     "output_type": "stream",
     "text": [
      "100%|██████████| 448/448 [00:00<00:00, 520.05audios/s, loss=2.81588, acc=4.00%]\n",
      "100%|██████████| 128/128 [00:00<00:00, 174.36audios/s, loss=2.81205, acc=4.00%]\n",
      "  0%|          | 0/448 [00:00<?, ?audios/s]"
     ]
    },
    {
     "name": "stdout",
     "output_type": "stream",
     "text": [
      "total time elapsed: 0h 0m 25s , best accuracy: 7.00%, best loss 2.801730\n",
      "epoch  10 with lr=1.00e-04\n"
     ]
    },
    {
     "name": "stderr",
     "output_type": "stream",
     "text": [
      "100%|██████████| 448/448 [00:00<00:00, 522.66audios/s, loss=2.79293, acc=7.00%]\n",
      "100%|██████████| 128/128 [00:00<00:00, 182.05audios/s, loss=2.79605, acc=5.00%]\n",
      "  0%|          | 0/448 [00:00<?, ?audios/s]"
     ]
    },
    {
     "name": "stdout",
     "output_type": "stream",
     "text": [
      "total time elapsed: 0h 0m 26s , best accuracy: 7.00%, best loss 2.796047\n",
      "epoch  11 with lr=1.00e-04\n"
     ]
    },
    {
     "name": "stderr",
     "output_type": "stream",
     "text": [
      "100%|██████████| 448/448 [00:00<00:00, 476.93audios/s, loss=2.80375, acc=6.00%]\n",
      "100%|██████████| 128/128 [00:00<00:00, 177.34audios/s, loss=2.77467, acc=19.00%]\n",
      "  0%|          | 0/448 [00:00<?, ?audios/s]"
     ]
    },
    {
     "name": "stdout",
     "output_type": "stream",
     "text": [
      "total time elapsed: 0h 0m 28s , best accuracy: 19.00%, best loss 2.774667\n",
      "epoch  12 with lr=1.00e-04\n"
     ]
    },
    {
     "name": "stderr",
     "output_type": "stream",
     "text": [
      "100%|██████████| 448/448 [00:00<00:00, 485.12audios/s, loss=2.78692, acc=8.00%]\n",
      "100%|██████████| 128/128 [00:00<00:00, 177.51audios/s, loss=2.77163, acc=19.00%]\n",
      "  0%|          | 0/448 [00:00<?, ?audios/s]"
     ]
    },
    {
     "name": "stdout",
     "output_type": "stream",
     "text": [
      "total time elapsed: 0h 0m 30s , best accuracy: 19.00%, best loss 2.771628\n",
      "epoch  13 with lr=1.00e-04\n"
     ]
    },
    {
     "name": "stderr",
     "output_type": "stream",
     "text": [
      "100%|██████████| 448/448 [00:00<00:00, 493.09audios/s, loss=2.79997, acc=6.00%]\n",
      "100%|██████████| 128/128 [00:00<00:00, 174.32audios/s, loss=2.76566, acc=22.00%]\n",
      "  0%|          | 0/448 [00:00<?, ?audios/s]"
     ]
    },
    {
     "name": "stdout",
     "output_type": "stream",
     "text": [
      "total time elapsed: 0h 0m 31s , best accuracy: 22.00%, best loss 2.765665\n",
      "epoch  14 with lr=1.00e-04\n"
     ]
    },
    {
     "name": "stderr",
     "output_type": "stream",
     "text": [
      "100%|██████████| 448/448 [00:00<00:00, 506.35audios/s, loss=2.80083, acc=6.00%]\n",
      "100%|██████████| 128/128 [00:00<00:00, 171.30audios/s, loss=2.78288, acc=19.00%]\n",
      "  0%|          | 0/448 [00:00<?, ?audios/s]"
     ]
    },
    {
     "name": "stdout",
     "output_type": "stream",
     "text": [
      "total time elapsed: 0h 0m 33s , best accuracy: 22.00%, best loss 2.765665\n",
      "epoch  15 with lr=1.00e-04\n"
     ]
    },
    {
     "name": "stderr",
     "output_type": "stream",
     "text": [
      "100%|██████████| 448/448 [00:00<00:00, 506.37audios/s, loss=2.78589, acc=8.00%]\n",
      "100%|██████████| 128/128 [00:00<00:00, 172.16audios/s, loss=2.80137, acc=7.00%]\n",
      "  0%|          | 0/448 [00:00<?, ?audios/s]"
     ]
    },
    {
     "name": "stdout",
     "output_type": "stream",
     "text": [
      "total time elapsed: 0h 0m 35s , best accuracy: 22.00%, best loss 2.765665\n",
      "epoch  16 with lr=1.00e-04\n"
     ]
    },
    {
     "name": "stderr",
     "output_type": "stream",
     "text": [
      "100%|██████████| 448/448 [00:00<00:00, 489.79audios/s, loss=2.78781, acc=8.00%]\n",
      "100%|██████████| 128/128 [00:00<00:00, 177.33audios/s, loss=2.81344, acc=7.00%]\n",
      "  0%|          | 0/448 [00:00<?, ?audios/s]"
     ]
    },
    {
     "name": "stdout",
     "output_type": "stream",
     "text": [
      "total time elapsed: 0h 0m 36s , best accuracy: 22.00%, best loss 2.765665\n",
      "epoch  17 with lr=1.00e-04\n"
     ]
    },
    {
     "name": "stderr",
     "output_type": "stream",
     "text": [
      "100%|██████████| 448/448 [00:00<00:00, 484.88audios/s, loss=2.81028, acc=5.00%]\n",
      "100%|██████████| 128/128 [00:00<00:00, 180.22audios/s, loss=2.81396, acc=7.00%]\n",
      "  0%|          | 0/448 [00:00<?, ?audios/s]"
     ]
    },
    {
     "name": "stdout",
     "output_type": "stream",
     "text": [
      "total time elapsed: 0h 0m 38s , best accuracy: 22.00%, best loss 2.765665\n",
      "epoch  18 with lr=1.00e-04\n"
     ]
    },
    {
     "name": "stderr",
     "output_type": "stream",
     "text": [
      "100%|██████████| 448/448 [00:00<00:00, 550.15audios/s, loss=2.79909, acc=6.00%]\n",
      "100%|██████████| 128/128 [00:00<00:00, 187.30audios/s, loss=2.81522, acc=7.00%]\n",
      "  0%|          | 0/448 [00:00<?, ?audios/s]"
     ]
    },
    {
     "name": "stdout",
     "output_type": "stream",
     "text": [
      "total time elapsed: 0h 0m 39s , best accuracy: 22.00%, best loss 2.765665\n",
      "epoch  19 with lr=1.00e-04\n"
     ]
    },
    {
     "name": "stderr",
     "output_type": "stream",
     "text": [
      "100%|██████████| 448/448 [00:00<00:00, 490.13audios/s, loss=2.78480, acc=8.00%]\n",
      "100%|██████████| 128/128 [00:00<00:00, 180.78audios/s, loss=2.82003, acc=7.00%]\n",
      "  0%|          | 0/448 [00:00<?, ?audios/s]"
     ]
    },
    {
     "name": "stdout",
     "output_type": "stream",
     "text": [
      "total time elapsed: 0h 0m 41s , best accuracy: 22.00%, best loss 2.765665\n",
      "epoch  20 with lr=1.00e-04\n"
     ]
    },
    {
     "name": "stderr",
     "output_type": "stream",
     "text": [
      "100%|██████████| 448/448 [00:00<00:00, 530.98audios/s, loss=2.77634, acc=9.00%]\n",
      "100%|██████████| 128/128 [00:00<00:00, 173.46audios/s, loss=2.82591, acc=7.00%]\n",
      "  0%|          | 0/448 [00:00<?, ?audios/s]"
     ]
    },
    {
     "name": "stdout",
     "output_type": "stream",
     "text": [
      "total time elapsed: 0h 0m 43s , best accuracy: 22.00%, best loss 2.765665\n",
      "epoch  21 with lr=1.00e-04\n"
     ]
    },
    {
     "name": "stderr",
     "output_type": "stream",
     "text": [
      "100%|██████████| 448/448 [00:00<00:00, 470.99audios/s, loss=2.78579, acc=8.00%]\n",
      "100%|██████████| 128/128 [00:00<00:00, 188.90audios/s, loss=2.83010, acc=7.00%]\n",
      "  0%|          | 0/448 [00:00<?, ?audios/s]"
     ]
    },
    {
     "name": "stdout",
     "output_type": "stream",
     "text": [
      "total time elapsed: 0h 0m 44s , best accuracy: 22.00%, best loss 2.765665\n",
      "epoch  22 with lr=1.00e-04\n"
     ]
    },
    {
     "name": "stderr",
     "output_type": "stream",
     "text": [
      "100%|██████████| 448/448 [00:00<00:00, 519.12audios/s, loss=2.79400, acc=7.00%]\n",
      "100%|██████████| 128/128 [00:00<00:00, 178.66audios/s, loss=2.83047, acc=7.00%]\n",
      "  0%|          | 0/448 [00:00<?, ?audios/s]"
     ]
    },
    {
     "name": "stdout",
     "output_type": "stream",
     "text": [
      "total time elapsed: 0h 0m 46s , best accuracy: 22.00%, best loss 2.765665\n",
      "epoch  23 with lr=1.00e-04\n"
     ]
    },
    {
     "name": "stderr",
     "output_type": "stream",
     "text": [
      "100%|██████████| 448/448 [00:00<00:00, 485.80audios/s, loss=2.79706, acc=7.00%]\n",
      "100%|██████████| 128/128 [00:00<00:00, 173.06audios/s, loss=2.82955, acc=7.00%]\n",
      "  0%|          | 0/448 [00:00<?, ?audios/s]"
     ]
    },
    {
     "name": "stdout",
     "output_type": "stream",
     "text": [
      "total time elapsed: 0h 0m 48s , best accuracy: 22.00%, best loss 2.765665\n",
      "epoch  24 with lr=1.00e-04\n"
     ]
    },
    {
     "name": "stderr",
     "output_type": "stream",
     "text": [
      "100%|██████████| 448/448 [00:00<00:00, 495.16audios/s, loss=2.80824, acc=5.00%]\n",
      "100%|██████████| 128/128 [00:00<00:00, 177.82audios/s, loss=2.82658, acc=7.00%]\n",
      "  0%|          | 0/448 [00:00<?, ?audios/s]"
     ]
    },
    {
     "name": "stdout",
     "output_type": "stream",
     "text": [
      "total time elapsed: 0h 0m 49s , best accuracy: 22.00%, best loss 2.765665\n",
      "epoch  25 with lr=1.00e-04\n"
     ]
    },
    {
     "name": "stderr",
     "output_type": "stream",
     "text": [
      "100%|██████████| 448/448 [00:00<00:00, 500.87audios/s, loss=2.79461, acc=7.00%]\n",
      "100%|██████████| 128/128 [00:00<00:00, 177.02audios/s, loss=2.82064, acc=7.00%]\n",
      "  0%|          | 0/448 [00:00<?, ?audios/s]"
     ]
    },
    {
     "name": "stdout",
     "output_type": "stream",
     "text": [
      "total time elapsed: 0h 0m 51s , best accuracy: 22.00%, best loss 2.765665\n",
      "epoch  26 with lr=1.00e-04\n"
     ]
    },
    {
     "name": "stderr",
     "output_type": "stream",
     "text": [
      "100%|██████████| 448/448 [00:00<00:00, 483.34audios/s, loss=2.79901, acc=6.00%]\n",
      "100%|██████████| 128/128 [00:00<00:00, 182.03audios/s, loss=2.81713, acc=7.00%]\n",
      "  0%|          | 0/448 [00:00<?, ?audios/s]"
     ]
    },
    {
     "name": "stdout",
     "output_type": "stream",
     "text": [
      "total time elapsed: 0h 0m 53s , best accuracy: 22.00%, best loss 2.765665\n",
      "epoch  27 with lr=1.00e-04\n"
     ]
    },
    {
     "name": "stderr",
     "output_type": "stream",
     "text": [
      "100%|██████████| 448/448 [00:00<00:00, 486.20audios/s, loss=2.76987, acc=9.00%] \n",
      "100%|██████████| 128/128 [00:00<00:00, 174.89audios/s, loss=2.81367, acc=4.00%]\n",
      "  0%|          | 0/448 [00:00<?, ?audios/s]"
     ]
    },
    {
     "name": "stdout",
     "output_type": "stream",
     "text": [
      "total time elapsed: 0h 0m 54s , best accuracy: 22.00%, best loss 2.765665\n",
      "epoch  28 with lr=1.00e-04\n"
     ]
    },
    {
     "name": "stderr",
     "output_type": "stream",
     "text": [
      "100%|██████████| 448/448 [00:00<00:00, 457.45audios/s, loss=2.78858, acc=7.00%]\n",
      "100%|██████████| 128/128 [00:00<00:00, 179.24audios/s, loss=2.81398, acc=4.00%]\n",
      "  0%|          | 0/448 [00:00<?, ?audios/s]"
     ]
    },
    {
     "name": "stdout",
     "output_type": "stream",
     "text": [
      "total time elapsed: 0h 0m 56s , best accuracy: 22.00%, best loss 2.765665\n",
      "epoch  29 with lr=1.00e-04\n"
     ]
    },
    {
     "name": "stderr",
     "output_type": "stream",
     "text": [
      "100%|██████████| 448/448 [00:00<00:00, 487.75audios/s, loss=2.78926, acc=7.00%]\n",
      "100%|██████████| 128/128 [00:00<00:00, 166.27audios/s, loss=2.81092, acc=4.00%]\n",
      "  0%|          | 0/448 [00:00<?, ?audios/s]"
     ]
    },
    {
     "name": "stdout",
     "output_type": "stream",
     "text": [
      "total time elapsed: 0h 0m 58s , best accuracy: 22.00%, best loss 2.765665\n",
      "epoch  30 with lr=1.00e-04\n"
     ]
    },
    {
     "name": "stderr",
     "output_type": "stream",
     "text": [
      "100%|██████████| 448/448 [00:01<00:00, 411.81audios/s, loss=2.74720, acc=12.00%]\n",
      "100%|██████████| 128/128 [00:00<00:00, 168.39audios/s, loss=2.82906, acc=4.00%]\n",
      "  0%|          | 0/448 [00:00<?, ?audios/s]"
     ]
    },
    {
     "name": "stdout",
     "output_type": "stream",
     "text": [
      "total time elapsed: 0h 0m 60s , best accuracy: 22.00%, best loss 2.765665\n",
      "epoch  31 with lr=1.00e-04\n"
     ]
    },
    {
     "name": "stderr",
     "output_type": "stream",
     "text": [
      "100%|██████████| 448/448 [00:00<00:00, 470.85audios/s, loss=2.78570, acc=8.00%]\n",
      "100%|██████████| 128/128 [00:00<00:00, 174.32audios/s, loss=2.83460, acc=4.00%]\n",
      "  0%|          | 0/448 [00:00<?, ?audios/s]"
     ]
    },
    {
     "name": "stdout",
     "output_type": "stream",
     "text": [
      "total time elapsed: 0h 1m 1s , best accuracy: 22.00%, best loss 2.765665\n",
      "epoch  32 with lr=1.00e-04\n"
     ]
    },
    {
     "name": "stderr",
     "output_type": "stream",
     "text": [
      "100%|██████████| 448/448 [00:00<00:00, 477.56audios/s, loss=2.76892, acc=9.00%]\n",
      "100%|██████████| 128/128 [00:00<00:00, 163.47audios/s, loss=2.82330, acc=4.00%]\n",
      "  0%|          | 0/448 [00:00<?, ?audios/s]"
     ]
    },
    {
     "name": "stdout",
     "output_type": "stream",
     "text": [
      "total time elapsed: 0h 1m 3s , best accuracy: 22.00%, best loss 2.765665\n",
      "epoch  33 with lr=1.00e-04\n"
     ]
    },
    {
     "name": "stderr",
     "output_type": "stream",
     "text": [
      "100%|██████████| 448/448 [00:01<00:00, 425.03audios/s, loss=2.77161, acc=8.00%]\n",
      "100%|██████████| 128/128 [00:00<00:00, 166.75audios/s, loss=2.80412, acc=5.00%]\n",
      "  0%|          | 0/448 [00:00<?, ?audios/s]"
     ]
    },
    {
     "name": "stdout",
     "output_type": "stream",
     "text": [
      "total time elapsed: 0h 1m 5s , best accuracy: 22.00%, best loss 2.765665\n",
      "epoch  34 with lr=1.00e-04\n"
     ]
    },
    {
     "name": "stderr",
     "output_type": "stream",
     "text": [
      "100%|██████████| 448/448 [00:01<00:00, 422.86audios/s, loss=2.76700, acc=10.00%]\n",
      "100%|██████████| 128/128 [00:00<00:00, 167.59audios/s, loss=2.80477, acc=5.00%]\n",
      "  0%|          | 0/448 [00:00<?, ?audios/s]"
     ]
    },
    {
     "name": "stdout",
     "output_type": "stream",
     "text": [
      "total time elapsed: 0h 1m 7s , best accuracy: 22.00%, best loss 2.765665\n",
      "epoch  35 with lr=1.00e-04\n"
     ]
    },
    {
     "name": "stderr",
     "output_type": "stream",
     "text": [
      "100%|██████████| 448/448 [00:00<00:00, 464.14audios/s, loss=2.77322, acc=8.00%]\n",
      "100%|██████████| 128/128 [00:00<00:00, 166.97audios/s, loss=2.80723, acc=7.00%]\n",
      "  0%|          | 0/448 [00:00<?, ?audios/s]"
     ]
    },
    {
     "name": "stdout",
     "output_type": "stream",
     "text": [
      "total time elapsed: 0h 1m 8s , best accuracy: 22.00%, best loss 2.765665\n",
      "epoch  36 with lr=1.00e-04\n"
     ]
    },
    {
     "name": "stderr",
     "output_type": "stream",
     "text": [
      "100%|██████████| 448/448 [00:00<00:00, 457.94audios/s, loss=2.77191, acc=9.00%]\n",
      "100%|██████████| 128/128 [00:00<00:00, 156.39audios/s, loss=2.81373, acc=8.00%]\n",
      "  0%|          | 0/448 [00:00<?, ?audios/s]"
     ]
    },
    {
     "name": "stdout",
     "output_type": "stream",
     "text": [
      "total time elapsed: 0h 1m 10s , best accuracy: 22.00%, best loss 2.765665\n",
      "epoch  37 with lr=1.00e-04\n"
     ]
    },
    {
     "name": "stderr",
     "output_type": "stream",
     "text": [
      "100%|██████████| 448/448 [00:01<00:00, 445.57audios/s, loss=2.78005, acc=8.00%]\n",
      "100%|██████████| 128/128 [00:00<00:00, 163.10audios/s, loss=2.83043, acc=4.00%]\n",
      "  0%|          | 0/448 [00:00<?, ?audios/s]"
     ]
    },
    {
     "name": "stdout",
     "output_type": "stream",
     "text": [
      "total time elapsed: 0h 1m 12s , best accuracy: 22.00%, best loss 2.765665\n",
      "epoch  38 with lr=1.00e-04\n"
     ]
    },
    {
     "name": "stderr",
     "output_type": "stream",
     "text": [
      "100%|██████████| 448/448 [00:00<00:00, 450.36audios/s, loss=2.79933, acc=6.00%]\n",
      "100%|██████████| 128/128 [00:00<00:00, 160.14audios/s, loss=2.84330, acc=4.00%]\n",
      "  0%|          | 0/448 [00:00<?, ?audios/s]"
     ]
    },
    {
     "name": "stdout",
     "output_type": "stream",
     "text": [
      "total time elapsed: 0h 1m 14s , best accuracy: 22.00%, best loss 2.765665\n",
      "epoch  39 with lr=1.00e-04\n"
     ]
    },
    {
     "name": "stderr",
     "output_type": "stream",
     "text": [
      "100%|██████████| 448/448 [00:01<00:00, 446.93audios/s, loss=2.79859, acc=6.00%]\n",
      "100%|██████████| 128/128 [00:00<00:00, 165.57audios/s, loss=2.84476, acc=4.00%]\n",
      "  0%|          | 0/448 [00:00<?, ?audios/s]"
     ]
    },
    {
     "name": "stdout",
     "output_type": "stream",
     "text": [
      "total time elapsed: 0h 1m 16s , best accuracy: 22.00%, best loss 2.765665\n",
      "epoch  40 with lr=1.00e-04\n"
     ]
    },
    {
     "name": "stderr",
     "output_type": "stream",
     "text": [
      "100%|██████████| 448/448 [00:00<00:00, 465.89audios/s, loss=2.78906, acc=8.00%]\n",
      "100%|██████████| 128/128 [00:00<00:00, 170.05audios/s, loss=2.83547, acc=4.00%]\n",
      "  0%|          | 0/448 [00:00<?, ?audios/s]"
     ]
    },
    {
     "name": "stdout",
     "output_type": "stream",
     "text": [
      "total time elapsed: 0h 1m 17s , best accuracy: 22.00%, best loss 2.765665\n",
      "epoch  41 with lr=1.00e-04\n"
     ]
    },
    {
     "name": "stderr",
     "output_type": "stream",
     "text": [
      "100%|██████████| 448/448 [00:00<00:00, 471.56audios/s, loss=2.76564, acc=10.00%]\n",
      "100%|██████████| 128/128 [00:00<00:00, 165.49audios/s, loss=2.80667, acc=5.00%]\n",
      "  0%|          | 0/448 [00:00<?, ?audios/s]"
     ]
    },
    {
     "name": "stdout",
     "output_type": "stream",
     "text": [
      "total time elapsed: 0h 1m 19s , best accuracy: 22.00%, best loss 2.765665\n",
      "epoch  42 with lr=1.00e-04\n"
     ]
    },
    {
     "name": "stderr",
     "output_type": "stream",
     "text": [
      "100%|██████████| 448/448 [00:01<00:00, 414.64audios/s, loss=2.75022, acc=11.00%]\n",
      "100%|██████████| 128/128 [00:00<00:00, 171.25audios/s, loss=2.79934, acc=5.00%]\n",
      "  0%|          | 0/448 [00:00<?, ?audios/s]"
     ]
    },
    {
     "name": "stdout",
     "output_type": "stream",
     "text": [
      "total time elapsed: 0h 1m 21s , best accuracy: 22.00%, best loss 2.765665\n",
      "epoch  43 with lr=1.00e-04\n"
     ]
    },
    {
     "name": "stderr",
     "output_type": "stream",
     "text": [
      "100%|██████████| 448/448 [00:01<00:00, 420.50audios/s, loss=2.76546, acc=9.00%]\n",
      "100%|██████████| 128/128 [00:00<00:00, 163.90audios/s, loss=2.80948, acc=4.00%]\n",
      "  0%|          | 0/448 [00:00<?, ?audios/s]"
     ]
    },
    {
     "name": "stdout",
     "output_type": "stream",
     "text": [
      "total time elapsed: 0h 1m 23s , best accuracy: 22.00%, best loss 2.765665\n",
      "epoch  44 with lr=1.00e-04\n"
     ]
    },
    {
     "name": "stderr",
     "output_type": "stream",
     "text": [
      "100%|██████████| 448/448 [00:01<00:00, 429.95audios/s, loss=2.76108, acc=10.00%]\n",
      "100%|██████████| 128/128 [00:00<00:00, 178.22audios/s, loss=2.80566, acc=7.00%]\n",
      "  0%|          | 0/448 [00:00<?, ?audios/s]"
     ]
    },
    {
     "name": "stdout",
     "output_type": "stream",
     "text": [
      "total time elapsed: 0h 1m 25s , best accuracy: 22.00%, best loss 2.765665\n",
      "epoch  45 with lr=1.00e-04\n"
     ]
    },
    {
     "name": "stderr",
     "output_type": "stream",
     "text": [
      "100%|██████████| 448/448 [00:00<00:00, 453.70audios/s, loss=2.74589, acc=11.00%]\n",
      "100%|██████████| 128/128 [00:00<00:00, 167.24audios/s, loss=2.80868, acc=4.00%]\n",
      "  0%|          | 0/448 [00:00<?, ?audios/s]"
     ]
    },
    {
     "name": "stdout",
     "output_type": "stream",
     "text": [
      "total time elapsed: 0h 1m 26s , best accuracy: 22.00%, best loss 2.765665\n",
      "epoch  46 with lr=1.00e-04\n"
     ]
    },
    {
     "name": "stderr",
     "output_type": "stream",
     "text": [
      "100%|██████████| 448/448 [00:00<00:00, 462.63audios/s, loss=2.77681, acc=9.00%]\n",
      "100%|██████████| 128/128 [00:00<00:00, 153.81audios/s, loss=2.79732, acc=5.00%]\n",
      "  0%|          | 0/448 [00:00<?, ?audios/s]"
     ]
    },
    {
     "name": "stdout",
     "output_type": "stream",
     "text": [
      "total time elapsed: 0h 1m 28s , best accuracy: 22.00%, best loss 2.765665\n",
      "epoch  47 with lr=1.00e-04\n"
     ]
    },
    {
     "name": "stderr",
     "output_type": "stream",
     "text": [
      "100%|██████████| 448/448 [00:00<00:00, 455.24audios/s, loss=2.75242, acc=11.00%]\n",
      "100%|██████████| 128/128 [00:00<00:00, 159.91audios/s, loss=2.79474, acc=7.00%]\n",
      "  0%|          | 0/448 [00:00<?, ?audios/s]"
     ]
    },
    {
     "name": "stdout",
     "output_type": "stream",
     "text": [
      "total time elapsed: 0h 1m 30s , best accuracy: 22.00%, best loss 2.765665\n",
      "epoch  48 with lr=1.00e-04\n"
     ]
    },
    {
     "name": "stderr",
     "output_type": "stream",
     "text": [
      "100%|██████████| 448/448 [00:01<00:00, 437.78audios/s, loss=2.77031, acc=9.00%]\n",
      "100%|██████████| 128/128 [00:00<00:00, 160.66audios/s, loss=2.80052, acc=8.00%]\n",
      "  0%|          | 0/448 [00:00<?, ?audios/s]"
     ]
    },
    {
     "name": "stdout",
     "output_type": "stream",
     "text": [
      "total time elapsed: 0h 1m 32s , best accuracy: 22.00%, best loss 2.765665\n",
      "epoch  49 with lr=1.00e-05\n"
     ]
    },
    {
     "name": "stderr",
     "output_type": "stream",
     "text": [
      "100%|██████████| 448/448 [00:01<00:00, 428.02audios/s, loss=2.76134, acc=9.00%]\n",
      "100%|██████████| 128/128 [00:00<00:00, 169.40audios/s, loss=2.79495, acc=8.00%]\n",
      "  0%|          | 0/448 [00:00<?, ?audios/s]"
     ]
    },
    {
     "name": "stdout",
     "output_type": "stream",
     "text": [
      "total time elapsed: 0h 1m 34s , best accuracy: 22.00%, best loss 2.765665\n",
      "epoch  50 with lr=1.00e-05\n"
     ]
    },
    {
     "name": "stderr",
     "output_type": "stream",
     "text": [
      "100%|██████████| 448/448 [00:00<00:00, 472.76audios/s, loss=2.72887, acc=13.00%]\n",
      "100%|██████████| 128/128 [00:00<00:00, 170.18audios/s, loss=2.79190, acc=10.00%]\n",
      "  0%|          | 0/448 [00:00<?, ?audios/s]"
     ]
    },
    {
     "name": "stdout",
     "output_type": "stream",
     "text": [
      "total time elapsed: 0h 1m 35s , best accuracy: 22.00%, best loss 2.765665\n",
      "epoch  51 with lr=1.00e-05\n"
     ]
    },
    {
     "name": "stderr",
     "output_type": "stream",
     "text": [
      "100%|██████████| 448/448 [00:00<00:00, 449.76audios/s, loss=2.74678, acc=12.00%]\n",
      "100%|██████████| 128/128 [00:00<00:00, 160.60audios/s, loss=2.79231, acc=11.00%]\n",
      "  0%|          | 0/448 [00:00<?, ?audios/s]"
     ]
    },
    {
     "name": "stdout",
     "output_type": "stream",
     "text": [
      "total time elapsed: 0h 1m 37s , best accuracy: 22.00%, best loss 2.765665\n",
      "epoch  52 with lr=1.00e-05\n"
     ]
    },
    {
     "name": "stderr",
     "output_type": "stream",
     "text": [
      "100%|██████████| 448/448 [00:01<00:00, 393.27audios/s, loss=2.72116, acc=14.00%]\n",
      "100%|██████████| 128/128 [00:00<00:00, 156.52audios/s, loss=2.79233, acc=8.00%]\n",
      "  0%|          | 0/448 [00:00<?, ?audios/s]"
     ]
    },
    {
     "name": "stdout",
     "output_type": "stream",
     "text": [
      "total time elapsed: 0h 1m 39s , best accuracy: 22.00%, best loss 2.765665\n",
      "epoch  53 with lr=1.00e-05\n"
     ]
    },
    {
     "name": "stderr",
     "output_type": "stream",
     "text": [
      "100%|██████████| 448/448 [00:01<00:00, 439.44audios/s, loss=2.75908, acc=11.00%]\n",
      "100%|██████████| 128/128 [00:00<00:00, 173.16audios/s, loss=2.79022, acc=8.00%]\n",
      "  0%|          | 0/448 [00:00<?, ?audios/s]"
     ]
    },
    {
     "name": "stdout",
     "output_type": "stream",
     "text": [
      "total time elapsed: 0h 1m 41s , best accuracy: 22.00%, best loss 2.765665\n",
      "epoch  54 with lr=1.00e-05\n"
     ]
    },
    {
     "name": "stderr",
     "output_type": "stream",
     "text": [
      "100%|██████████| 448/448 [00:00<00:00, 474.73audios/s, loss=2.75329, acc=11.00%]\n",
      "100%|██████████| 128/128 [00:00<00:00, 162.88audios/s, loss=2.79074, acc=8.00%]\n",
      "  0%|          | 0/448 [00:00<?, ?audios/s]"
     ]
    },
    {
     "name": "stdout",
     "output_type": "stream",
     "text": [
      "total time elapsed: 0h 1m 43s , best accuracy: 22.00%, best loss 2.765665\n",
      "epoch  55 with lr=1.00e-05\n"
     ]
    },
    {
     "name": "stderr",
     "output_type": "stream",
     "text": [
      "100%|██████████| 448/448 [00:00<00:00, 505.21audios/s, loss=2.75784, acc=10.00%]\n",
      "100%|██████████| 128/128 [00:00<00:00, 176.39audios/s, loss=2.78994, acc=7.00%]\n",
      "  0%|          | 0/448 [00:00<?, ?audios/s]"
     ]
    },
    {
     "name": "stdout",
     "output_type": "stream",
     "text": [
      "total time elapsed: 0h 1m 44s , best accuracy: 22.00%, best loss 2.765665\n",
      "epoch  56 with lr=1.00e-05\n"
     ]
    },
    {
     "name": "stderr",
     "output_type": "stream",
     "text": [
      "100%|██████████| 448/448 [00:00<00:00, 477.32audios/s, loss=2.74183, acc=11.00%]\n",
      "100%|██████████| 128/128 [00:00<00:00, 175.92audios/s, loss=2.79505, acc=7.00%]\n",
      "  0%|          | 0/448 [00:00<?, ?audios/s]"
     ]
    },
    {
     "name": "stdout",
     "output_type": "stream",
     "text": [
      "total time elapsed: 0h 1m 46s , best accuracy: 22.00%, best loss 2.765665\n",
      "epoch  57 with lr=1.00e-05\n"
     ]
    },
    {
     "name": "stderr",
     "output_type": "stream",
     "text": [
      "100%|██████████| 448/448 [00:00<00:00, 495.60audios/s, loss=2.76713, acc=9.00%]\n",
      "100%|██████████| 128/128 [00:00<00:00, 174.68audios/s, loss=2.79194, acc=8.00%]\n",
      "  0%|          | 0/448 [00:00<?, ?audios/s]"
     ]
    },
    {
     "name": "stdout",
     "output_type": "stream",
     "text": [
      "total time elapsed: 0h 1m 48s , best accuracy: 22.00%, best loss 2.765665\n",
      "epoch  58 with lr=1.00e-05\n"
     ]
    },
    {
     "name": "stderr",
     "output_type": "stream",
     "text": [
      "100%|██████████| 448/448 [00:00<00:00, 490.77audios/s, loss=2.72560, acc=13.00%]\n",
      "100%|██████████| 128/128 [00:00<00:00, 171.24audios/s, loss=2.79453, acc=8.00%]\n",
      "  0%|          | 0/448 [00:00<?, ?audios/s]"
     ]
    },
    {
     "name": "stdout",
     "output_type": "stream",
     "text": [
      "total time elapsed: 0h 1m 49s , best accuracy: 22.00%, best loss 2.765665\n",
      "epoch  59 with lr=1.00e-05\n"
     ]
    },
    {
     "name": "stderr",
     "output_type": "stream",
     "text": [
      "100%|██████████| 448/448 [00:00<00:00, 516.42audios/s, loss=2.75119, acc=11.00%]\n",
      "100%|██████████| 128/128 [00:00<00:00, 182.69audios/s, loss=2.79841, acc=5.00%]\n",
      "  0%|          | 0/448 [00:00<?, ?audios/s]"
     ]
    },
    {
     "name": "stdout",
     "output_type": "stream",
     "text": [
      "total time elapsed: 0h 1m 51s , best accuracy: 22.00%, best loss 2.765665\n",
      "epoch  60 with lr=1.00e-05\n"
     ]
    },
    {
     "name": "stderr",
     "output_type": "stream",
     "text": [
      "100%|██████████| 448/448 [00:00<00:00, 480.07audios/s, loss=2.74544, acc=11.00%]\n",
      "100%|██████████| 128/128 [00:00<00:00, 173.10audios/s, loss=2.79696, acc=5.00%]\n",
      "  0%|          | 0/448 [00:00<?, ?audios/s]"
     ]
    },
    {
     "name": "stdout",
     "output_type": "stream",
     "text": [
      "total time elapsed: 0h 1m 53s , best accuracy: 22.00%, best loss 2.765665\n",
      "epoch  61 with lr=1.00e-05\n"
     ]
    },
    {
     "name": "stderr",
     "output_type": "stream",
     "text": [
      "100%|██████████| 448/448 [00:00<00:00, 520.40audios/s, loss=2.73700, acc=12.00%]\n",
      "100%|██████████| 128/128 [00:00<00:00, 179.08audios/s, loss=2.79999, acc=4.00%]\n",
      "  0%|          | 0/448 [00:00<?, ?audios/s]"
     ]
    },
    {
     "name": "stdout",
     "output_type": "stream",
     "text": [
      "total time elapsed: 0h 1m 54s , best accuracy: 22.00%, best loss 2.765665\n",
      "epoch  62 with lr=1.00e-05\n"
     ]
    },
    {
     "name": "stderr",
     "output_type": "stream",
     "text": [
      "100%|██████████| 448/448 [00:01<00:00, 425.89audios/s, loss=2.75468, acc=10.00%]\n",
      "100%|██████████| 128/128 [00:00<00:00, 170.37audios/s, loss=2.79212, acc=8.00%]\n",
      "  0%|          | 0/448 [00:00<?, ?audios/s]"
     ]
    },
    {
     "name": "stdout",
     "output_type": "stream",
     "text": [
      "total time elapsed: 0h 1m 56s , best accuracy: 22.00%, best loss 2.765665\n",
      "epoch  63 with lr=1.00e-05\n"
     ]
    },
    {
     "name": "stderr",
     "output_type": "stream",
     "text": [
      "100%|██████████| 448/448 [00:01<00:00, 438.36audios/s, loss=2.73882, acc=12.00%]\n",
      "100%|██████████| 128/128 [00:00<00:00, 165.31audios/s, loss=2.79139, acc=7.00%]\n",
      "  0%|          | 0/448 [00:00<?, ?audios/s]"
     ]
    },
    {
     "name": "stdout",
     "output_type": "stream",
     "text": [
      "total time elapsed: 0h 1m 58s , best accuracy: 22.00%, best loss 2.765665\n",
      "epoch  64 with lr=1.00e-05\n"
     ]
    },
    {
     "name": "stderr",
     "output_type": "stream",
     "text": [
      "100%|██████████| 448/448 [00:01<00:00, 422.51audios/s, loss=2.73765, acc=12.00%]\n",
      "100%|██████████| 128/128 [00:00<00:00, 170.77audios/s, loss=2.79085, acc=11.00%]\n",
      "  0%|          | 0/448 [00:00<?, ?audios/s]"
     ]
    },
    {
     "name": "stdout",
     "output_type": "stream",
     "text": [
      "total time elapsed: 0h 1m 60s , best accuracy: 22.00%, best loss 2.765665\n",
      "epoch  65 with lr=1.00e-05\n"
     ]
    },
    {
     "name": "stderr",
     "output_type": "stream",
     "text": [
      "100%|██████████| 448/448 [00:00<00:00, 467.77audios/s, loss=2.74924, acc=11.00%]\n",
      "100%|██████████| 128/128 [00:00<00:00, 165.30audios/s, loss=2.78879, acc=7.00%]\n",
      "  0%|          | 0/448 [00:00<?, ?audios/s]"
     ]
    },
    {
     "name": "stdout",
     "output_type": "stream",
     "text": [
      "total time elapsed: 0h 2m 2s , best accuracy: 22.00%, best loss 2.765665\n",
      "epoch  66 with lr=1.00e-05\n"
     ]
    },
    {
     "name": "stderr",
     "output_type": "stream",
     "text": [
      "100%|██████████| 448/448 [00:01<00:00, 440.22audios/s, loss=2.73228, acc=13.00%]\n",
      "100%|██████████| 128/128 [00:00<00:00, 157.92audios/s, loss=2.79003, acc=7.00%]\n",
      "  0%|          | 0/448 [00:00<?, ?audios/s]"
     ]
    },
    {
     "name": "stdout",
     "output_type": "stream",
     "text": [
      "total time elapsed: 0h 2m 3s , best accuracy: 22.00%, best loss 2.765665\n",
      "epoch  67 with lr=1.00e-05\n"
     ]
    },
    {
     "name": "stderr",
     "output_type": "stream",
     "text": [
      "100%|██████████| 448/448 [00:00<00:00, 469.38audios/s, loss=2.73408, acc=12.00%]\n",
      "100%|██████████| 128/128 [00:00<00:00, 156.15audios/s, loss=2.78596, acc=7.00%]\n",
      "  0%|          | 0/448 [00:00<?, ?audios/s]"
     ]
    },
    {
     "name": "stdout",
     "output_type": "stream",
     "text": [
      "total time elapsed: 0h 2m 5s , best accuracy: 22.00%, best loss 2.765665\n",
      "epoch  68 with lr=1.00e-05\n"
     ]
    },
    {
     "name": "stderr",
     "output_type": "stream",
     "text": [
      "100%|██████████| 448/448 [00:00<00:00, 465.96audios/s, loss=2.73291, acc=13.00%]\n",
      "100%|██████████| 128/128 [00:00<00:00, 164.68audios/s, loss=2.79001, acc=7.00%]\n",
      "  0%|          | 0/448 [00:00<?, ?audios/s]"
     ]
    },
    {
     "name": "stdout",
     "output_type": "stream",
     "text": [
      "total time elapsed: 0h 2m 7s , best accuracy: 22.00%, best loss 2.765665\n",
      "epoch  69 with lr=1.00e-05\n"
     ]
    },
    {
     "name": "stderr",
     "output_type": "stream",
     "text": [
      "100%|██████████| 448/448 [00:00<00:00, 448.11audios/s, loss=2.74119, acc=12.00%]\n",
      "100%|██████████| 128/128 [00:00<00:00, 166.55audios/s, loss=2.79441, acc=8.00%]"
     ]
    },
    {
     "name": "stdout",
     "output_type": "stream",
     "text": [
      "total time elapsed: 0h 2m 9s , best accuracy: 22.00%, best loss 2.765665\n",
      "finished\n"
     ]
    },
    {
     "name": "stderr",
     "output_type": "stream",
     "text": [
      "\n"
     ]
    }
   ],
   "source": [
    "print(\"training %s for Google speech commands...\" % args.model)\n",
    "since = time.time()\n",
    "for epoch in range(start_epoch, args.max_epochs):\n",
    "    if args.lr_scheduler == 'step':\n",
    "        lr_scheduler.step()\n",
    "\n",
    "    train(epoch)\n",
    "    epoch_loss = valid(epoch)\n",
    "\n",
    "    if args.lr_scheduler == 'plateau':\n",
    "        print(type(epoch_loss))\n",
    "        lr_scheduler.step(metrics=epoch_loss)\n",
    "\n",
    "    time_elapsed = time.time() - since\n",
    "    time_str = 'total time elapsed: {:.0f}h {:.0f}m {:.0f}s '.format(time_elapsed // 3600, time_elapsed % 3600 // 60, time_elapsed % 60)\n",
    "    print(\"%s, best accuracy: %.02f%%, best loss %f\" % (time_str, best_accuracy, best_loss))\n",
    "    with open('./train_res18.log', 'a+') as f:\n",
    "        f.write(\"%s, epoch: %s, best accuracy: %.02f%%, best loss %f\\n\" % (time_str, epoch,best_accuracy, best_loss))\n",
    "print(\"finished\")"
   ]
  },
  {
   "cell_type": "code",
   "execution_count": null,
   "metadata": {},
   "outputs": [],
   "source": []
  },
  {
   "cell_type": "code",
   "execution_count": null,
   "metadata": {},
   "outputs": [],
   "source": []
  }
 ],
 "metadata": {
  "kernelspec": {
   "display_name": "Python 3",
   "language": "python",
   "name": "python3"
  },
  "language_info": {
   "codemirror_mode": {
    "name": "ipython",
    "version": 3
   },
   "file_extension": ".py",
   "mimetype": "text/x-python",
   "name": "python",
   "nbconvert_exporter": "python",
   "pygments_lexer": "ipython3",
   "version": "3.6.8"
  }
 },
 "nbformat": 4,
 "nbformat_minor": 2
}
