{
 "cells": [
  {
   "cell_type": "code",
   "execution_count": 1,
   "metadata": {},
   "outputs": [],
   "source": [
    "#!/usr/bin/env python\n",
    "\"\"\"Train a CNN for Google speech commands.\"\"\"\n",
    "\n",
    "__author__ = 'Yuan Xu, Erdene-Ochir Tuguldur'\n",
    "\n",
    "import argparse\n",
    "import time\n",
    "\n",
    "from tqdm import *\n",
    "\n",
    "import torch\n",
    "from torch.autograd import Variable\n",
    "from torch.utils.data import DataLoader\n",
    "from torch.utils.data.sampler import WeightedRandomSampler\n",
    "\n",
    "import torchvision\n",
    "from torchvision.transforms import *\n",
    "\n",
    "from tensorboardX import SummaryWriter\n",
    "\n",
    "import models\n",
    "from datasets import *\n",
    "from transforms import *\n",
    "from mixup import *"
   ]
  },
  {
   "cell_type": "code",
   "execution_count": 2,
   "metadata": {},
   "outputs": [],
   "source": [
    "import torch.nn as nn\n",
    "import math\n",
    "import torch.utils.model_zoo as model_zoo"
   ]
  },
  {
   "cell_type": "code",
   "execution_count": 3,
   "metadata": {},
   "outputs": [],
   "source": [
    "class VGG(nn.Module):\n",
    "\n",
    "    def __init__(self, features, num_classes=1000, init_weights=True):\n",
    "        super(VGG, self).__init__()\n",
    "        self.features = features\n",
    "        self.classifier = nn.Sequential(\n",
    "            nn.Linear(512 * 1 * 1, 4096),\n",
    "            nn.ReLU(True),\n",
    "            nn.Dropout(),\n",
    "            nn.Linear(4096, 4096),\n",
    "            nn.ReLU(True),\n",
    "            nn.Dropout(),\n",
    "            nn.Linear(4096, num_classes),\n",
    "        )\n",
    "        if init_weights:\n",
    "            self._initialize_weights()\n",
    "\n",
    "    def forward(self, x):\n",
    "        x = self.features(x)\n",
    "        x = x.view(x.size(0), -1)\n",
    "        x = self.classifier(x)\n",
    "        return x\n",
    "\n",
    "    def _initialize_weights(self):\n",
    "        for m in self.modules():\n",
    "            if isinstance(m, nn.Conv2d):\n",
    "                n = m.kernel_size[0] * m.kernel_size[1] * m.out_channels\n",
    "                m.weight.data.normal_(0, math.sqrt(2. / n))\n",
    "                if m.bias is not None:\n",
    "                    m.bias.data.zero_()\n",
    "            elif isinstance(m, nn.BatchNorm2d):\n",
    "                m.weight.data.fill_(1)\n",
    "                m.bias.data.zero_()\n",
    "            elif isinstance(m, nn.Linear):\n",
    "                m.weight.data.normal_(0, 0.01)\n",
    "                m.bias.data.zero_()\n",
    "\n",
    "\n",
    "def make_layers(cfg, batch_norm=False, in_channels = 3):\n",
    "    layers = []\n",
    "    for v in cfg:\n",
    "        if v == 'M':\n",
    "            layers += [nn.MaxPool2d(kernel_size=2, stride=2, padding=1)]\n",
    "        elif v == 'L':\n",
    "            layers += [nn.AdaptiveMaxPool2d((1,1))]\n",
    "        else:\n",
    "            conv2d = nn.Conv2d(in_channels, v, kernel_size=3, padding=3)\n",
    "            if batch_norm:\n",
    "                layers += [conv2d, nn.BatchNorm2d(v), nn.ReLU(inplace=True)]\n",
    "            else:\n",
    "                layers += [conv2d, nn.ReLU(inplace=True)]\n",
    "            in_channels = v\n",
    "    return nn.Sequential(*layers)\n",
    "\n",
    "\n",
    "cfg = {\n",
    "    'A': [64, 'M', 128, 'M', 256, 256, 'M', 512, 512, 'M', 512, 512, 'M'],\n",
    "    'B': [64, 64, 'M', 128, 128, 'M', 256, 256, 'M', 512, 512, 'M', 512, 512, 'M'],\n",
    "    'D': [64, 64, 'M', 128, 128, 'M', 256, 256, 256, 'M', 512, 512, 512, 'M', 512, 512, 512, 'M'],\n",
    "    'E': [64, 64, 'M', 128, 128, 'M', 256, 256, 256, 256, 'M', 512, 512, 512, 512, 'M', 512, 512, 512, 512, 'L'],\n",
    "}\n"
   ]
  },
  {
   "cell_type": "code",
   "execution_count": 4,
   "metadata": {},
   "outputs": [
    {
     "data": {
      "text/plain": [
       "38982352"
      ]
     },
     "execution_count": 4,
     "metadata": {},
     "output_type": "execute_result"
    }
   ],
   "source": [
    "model = VGG(make_layers(cfg['E'], batch_norm=True, in_channels=1), num_classes=len(CLASSES))\n",
    "def count_parameters(model):\n",
    "    return sum(p.numel() for p in model.parameters() if p.requires_grad)\n",
    "\n",
    "count_parameters(model)"
   ]
  },
  {
   "cell_type": "code",
   "execution_count": 5,
   "metadata": {},
   "outputs": [],
   "source": [
    "class Arg():\n",
    "    def __init__(self):\n",
    "        self.train_dataset=\"/home/cilab/LabMembers/YS/Speech/health1/experiments/train\"\n",
    "        self.valid_dataset=\"/home/cilab/LabMembers/YS/Speech/health1/experiments/valid\"\n",
    "        self.background_noise=\"/home/cilab/LabMembers/YS/Speech/_background_noise_\"\n",
    "        self.comment=\"\"\n",
    "        self.batch_size=64\n",
    "        self.dataload_workers_nums=6\n",
    "        self.weight_decay=1e-2\n",
    "        self.optim='sgd'\n",
    "        self.learning_rate=0.01\n",
    "        self.lr_scheduler='plateau'\n",
    "        self.lr_scheduler_patience=5\n",
    "        self.lr_scheduler_step_size=50\n",
    "        self.lr_scheduler_gamma=0.1\n",
    "        self.max_epochs=70\n",
    "        self.resume=None\n",
    "        self.model=\"vgg19_bn-nomixup\"\n",
    "        self.input=\"mel40\"\n",
    "        self.mixup=False\n",
    "args = Arg()"
   ]
  },
  {
   "cell_type": "code",
   "execution_count": 6,
   "metadata": {},
   "outputs": [
    {
     "name": "stdout",
     "output_type": "stream",
     "text": [
      "use_gpu True\n",
      "all :  ['갑자기', '마그네슘', '진통제', '타이레놀', '바이러스', '내시경', '비타민', '고혈압', '단백질', '스트레스', '카페인', '다이어트', '부작용', '에너지', '아스피린']\n",
      "all :  ['갑자기', '마그네슘', '진통제', '타이레놀', '바이러스', '내시경', '비타민', '고혈압', '단백질', '스트레스', '카페인', '다이어트', '부작용', '에너지', '아스피린']\n"
     ]
    },
    {
     "name": "stderr",
     "output_type": "stream",
     "text": [
      "/home/cilab/LabMembers/YS/Speech/pytorch-speech-commands/datasets/speech_commands_dataset.py:70: RuntimeWarning: divide by zero encountered in true_divide\n",
      "  weight_per_class = N / count\n"
     ]
    }
   ],
   "source": [
    "use_gpu = torch.cuda.is_available()\n",
    "print('use_gpu', use_gpu)\n",
    "if use_gpu:\n",
    "    torch.backends.cudnn.benchmark = True\n",
    "\n",
    "n_mels = 32\n",
    "if args.input == 'mel40':\n",
    "    n_mels = 40\n",
    "\n",
    "data_aug_transform = Compose([ChangeAmplitude(), ChangeSpeedAndPitchAudio(), FixAudioLength()])\n",
    "bg_dataset = BackgroundNoiseDataset(args.background_noise, data_aug_transform)\n",
    "add_bg_noise = AddBackgroundNoiseOnSTFT(bg_dataset)\n",
    "train_feature_transform = Compose([ToMfcc(n_mels=n_mels), ToTensor('mfcc', 'input')])\n",
    "train_dataset = SpeechCommandsDataset(args.train_dataset,\n",
    "                                Compose([LoadAudio(),\n",
    "                                         data_aug_transform,\n",
    "                                         train_feature_transform]), silence_percentage=0)\n",
    "\n",
    "valid_feature_transform = Compose([ToMfcc(n_mels=n_mels), ToTensor('mfcc', 'input')])\n",
    "valid_dataset = SpeechCommandsDataset(args.valid_dataset,\n",
    "                                Compose([LoadAudio(),\n",
    "                                         data_aug_transform,\n",
    "                                         valid_feature_transform]), silence_percentage=0)\n",
    "\n",
    "weights = train_dataset.make_weights_for_balanced_classes()\n",
    "sampler = WeightedRandomSampler(weights, len(weights))\n",
    "train_dataloader = DataLoader(train_dataset, batch_size=args.batch_size, sampler=sampler,\n",
    "                              pin_memory=use_gpu, num_workers=args.dataload_workers_nums)\n",
    "valid_dataloader = DataLoader(valid_dataset, batch_size=args.batch_size, shuffle=False,\n",
    "                              pin_memory=use_gpu, num_workers=args.dataload_workers_nums)"
   ]
  },
  {
   "cell_type": "code",
   "execution_count": 7,
   "metadata": {
    "scrolled": true
   },
   "outputs": [
    {
     "name": "stdout",
     "output_type": "stream",
     "text": [
      "VGG(\n",
      "  (features): Sequential(\n",
      "    (0): Conv2d(1, 64, kernel_size=(3, 3), stride=(1, 1), padding=(3, 3))\n",
      "    (1): BatchNorm2d(64, eps=1e-05, momentum=0.1, affine=True, track_running_stats=True)\n",
      "    (2): ReLU(inplace=True)\n",
      "    (3): Conv2d(64, 64, kernel_size=(3, 3), stride=(1, 1), padding=(3, 3))\n",
      "    (4): BatchNorm2d(64, eps=1e-05, momentum=0.1, affine=True, track_running_stats=True)\n",
      "    (5): ReLU(inplace=True)\n",
      "    (6): MaxPool2d(kernel_size=2, stride=2, padding=1, dilation=1, ceil_mode=False)\n",
      "    (7): Conv2d(64, 128, kernel_size=(3, 3), stride=(1, 1), padding=(3, 3))\n",
      "    (8): BatchNorm2d(128, eps=1e-05, momentum=0.1, affine=True, track_running_stats=True)\n",
      "    (9): ReLU(inplace=True)\n",
      "    (10): Conv2d(128, 128, kernel_size=(3, 3), stride=(1, 1), padding=(3, 3))\n",
      "    (11): BatchNorm2d(128, eps=1e-05, momentum=0.1, affine=True, track_running_stats=True)\n",
      "    (12): ReLU(inplace=True)\n",
      "    (13): MaxPool2d(kernel_size=2, stride=2, padding=1, dilation=1, ceil_mode=False)\n",
      "    (14): Conv2d(128, 256, kernel_size=(3, 3), stride=(1, 1), padding=(3, 3))\n",
      "    (15): BatchNorm2d(256, eps=1e-05, momentum=0.1, affine=True, track_running_stats=True)\n",
      "    (16): ReLU(inplace=True)\n",
      "    (17): Conv2d(256, 256, kernel_size=(3, 3), stride=(1, 1), padding=(3, 3))\n",
      "    (18): BatchNorm2d(256, eps=1e-05, momentum=0.1, affine=True, track_running_stats=True)\n",
      "    (19): ReLU(inplace=True)\n",
      "    (20): Conv2d(256, 256, kernel_size=(3, 3), stride=(1, 1), padding=(3, 3))\n",
      "    (21): BatchNorm2d(256, eps=1e-05, momentum=0.1, affine=True, track_running_stats=True)\n",
      "    (22): ReLU(inplace=True)\n",
      "    (23): Conv2d(256, 256, kernel_size=(3, 3), stride=(1, 1), padding=(3, 3))\n",
      "    (24): BatchNorm2d(256, eps=1e-05, momentum=0.1, affine=True, track_running_stats=True)\n",
      "    (25): ReLU(inplace=True)\n",
      "    (26): MaxPool2d(kernel_size=2, stride=2, padding=1, dilation=1, ceil_mode=False)\n",
      "    (27): Conv2d(256, 512, kernel_size=(3, 3), stride=(1, 1), padding=(3, 3))\n",
      "    (28): BatchNorm2d(512, eps=1e-05, momentum=0.1, affine=True, track_running_stats=True)\n",
      "    (29): ReLU(inplace=True)\n",
      "    (30): Conv2d(512, 512, kernel_size=(3, 3), stride=(1, 1), padding=(3, 3))\n",
      "    (31): BatchNorm2d(512, eps=1e-05, momentum=0.1, affine=True, track_running_stats=True)\n",
      "    (32): ReLU(inplace=True)\n",
      "    (33): Conv2d(512, 512, kernel_size=(3, 3), stride=(1, 1), padding=(3, 3))\n",
      "    (34): BatchNorm2d(512, eps=1e-05, momentum=0.1, affine=True, track_running_stats=True)\n",
      "    (35): ReLU(inplace=True)\n",
      "    (36): Conv2d(512, 512, kernel_size=(3, 3), stride=(1, 1), padding=(3, 3))\n",
      "    (37): BatchNorm2d(512, eps=1e-05, momentum=0.1, affine=True, track_running_stats=True)\n",
      "    (38): ReLU(inplace=True)\n",
      "    (39): MaxPool2d(kernel_size=2, stride=2, padding=1, dilation=1, ceil_mode=False)\n",
      "    (40): Conv2d(512, 512, kernel_size=(3, 3), stride=(1, 1), padding=(3, 3))\n",
      "    (41): BatchNorm2d(512, eps=1e-05, momentum=0.1, affine=True, track_running_stats=True)\n",
      "    (42): ReLU(inplace=True)\n",
      "    (43): Conv2d(512, 512, kernel_size=(3, 3), stride=(1, 1), padding=(3, 3))\n",
      "    (44): BatchNorm2d(512, eps=1e-05, momentum=0.1, affine=True, track_running_stats=True)\n",
      "    (45): ReLU(inplace=True)\n",
      "    (46): Conv2d(512, 512, kernel_size=(3, 3), stride=(1, 1), padding=(3, 3))\n",
      "    (47): BatchNorm2d(512, eps=1e-05, momentum=0.1, affine=True, track_running_stats=True)\n",
      "    (48): ReLU(inplace=True)\n",
      "    (49): Conv2d(512, 512, kernel_size=(3, 3), stride=(1, 1), padding=(3, 3))\n",
      "    (50): BatchNorm2d(512, eps=1e-05, momentum=0.1, affine=True, track_running_stats=True)\n",
      "    (51): ReLU(inplace=True)\n",
      "    (52): AdaptiveMaxPool2d(output_size=(1, 1))\n",
      "  )\n",
      "  (classifier): Sequential(\n",
      "    (0): Linear(in_features=512, out_features=4096, bias=True)\n",
      "    (1): ReLU(inplace=True)\n",
      "    (2): Dropout(p=0.5, inplace=False)\n",
      "    (3): Linear(in_features=4096, out_features=4096, bias=True)\n",
      "    (4): ReLU(inplace=True)\n",
      "    (5): Dropout(p=0.5, inplace=False)\n",
      "    (6): Linear(in_features=4096, out_features=16, bias=True)\n",
      "  )\n",
      ")\n"
     ]
    }
   ],
   "source": [
    "# a name used to save checkpoints etc.\n",
    "full_name = '%s_%s_%s_bs%d_lr%.1e_wd%.1e' % (args.model, args.optim, args.lr_scheduler, args.batch_size, args.learning_rate, args.weight_decay)\n",
    "if args.comment:\n",
    "    full_name = '%s_%s' % (full_name, args.comment)\n",
    "\n",
    "model = VGG(make_layers(cfg['E'], batch_norm=True, in_channels=1), num_classes=len(CLASSES))\n",
    "#model = ResNet(BasicBlock, [2, 2, 2], num_classes=len(CLASSES), in_channels=1)\n",
    "print(model)\n",
    "if use_gpu:\n",
    "    model = torch.nn.DataParallel(model).cuda()\n",
    "\n",
    "criterion = torch.nn.CrossEntropyLoss()\n",
    "\n",
    "if args.optim == 'sgd':\n",
    "    optimizer = torch.optim.SGD(model.parameters(), lr=args.learning_rate, momentum=0.9, weight_decay=args.weight_decay)\n",
    "else:\n",
    "    optimizer = torch.optim.Adam(model.parameters(), lr=args.learning_rate, weight_decay=args.weight_decay)\n",
    "\n",
    "start_timestamp = int(time.time()*1000)\n",
    "start_epoch = 0\n",
    "best_accuracy = 0\n",
    "best_loss = 1e100\n",
    "global_step = 0\n",
    "\n",
    "if args.resume:\n",
    "    print(\"resuming a checkpoint '%s'\" % args.resume)\n",
    "    checkpoint = torch.load(args.resume)\n",
    "    model.load_state_dict(checkpoint['state_dict'])\n",
    "    model.float()\n",
    "    optimizer.load_state_dict(checkpoint['optimizer'])\n",
    "\n",
    "    best_accuracy = checkpoint.get('accuracy', best_accuracy)\n",
    "    best_loss = checkpoint.get('loss', best_loss)\n",
    "    start_epoch = checkpoint.get('epoch', start_epoch)\n",
    "    global_step = checkpoint.get('step', global_step)\n",
    "\n",
    "    del checkpoint  # reduce memory\n",
    "\n",
    "if args.lr_scheduler == 'plateau':\n",
    "    lr_scheduler = torch.optim.lr_scheduler.ReduceLROnPlateau(optimizer, patience=args.lr_scheduler_patience, factor=args.lr_scheduler_gamma)\n",
    "else:\n",
    "    lr_scheduler = torch.optim.lr_scheduler.StepLR(optimizer, step_size=args.lr_scheduler_step_size, gamma=args.lr_scheduler_gamma, last_epoch=start_epoch-1)"
   ]
  },
  {
   "cell_type": "code",
   "execution_count": 8,
   "metadata": {},
   "outputs": [
    {
     "data": {
      "text/plain": [
       "38982352"
      ]
     },
     "execution_count": 8,
     "metadata": {},
     "output_type": "execute_result"
    }
   ],
   "source": [
    "def count_parameters(model):\n",
    "    return sum(p.numel() for p in model.parameters() if p.requires_grad)\n",
    "\n",
    "count_parameters(model)"
   ]
  },
  {
   "cell_type": "code",
   "execution_count": 9,
   "metadata": {},
   "outputs": [],
   "source": [
    "def get_lr():\n",
    "    return optimizer.param_groups[0]['lr']\n",
    "\n",
    "writer = SummaryWriter(comment=('_speech_commands_' + full_name))\n",
    "\n",
    "def train(epoch):\n",
    "    global global_step\n",
    "\n",
    "    print(\"epoch %3d with lr=%.02e\" % (epoch, get_lr()))\n",
    "    phase = 'train'\n",
    "    writer.add_scalar('%s/learning_rate' % phase,  get_lr(), epoch)\n",
    "\n",
    "    model.train()  # Set model to training mode\n",
    "\n",
    "    running_loss = 0.0\n",
    "    it = 0\n",
    "    correct = 0\n",
    "    total = 0\n",
    "\n",
    "    pbar = tqdm(train_dataloader, unit=\"audios\", unit_scale=train_dataloader.batch_size)\n",
    "    for batch in pbar:\n",
    "        inputs = batch['input']\n",
    "        inputs = torch.unsqueeze(inputs, 1)\n",
    "        targets = batch['target']\n",
    "        #print(inputs.shape)\n",
    "        if args.mixup:\n",
    "            inputs, targets = mixup(inputs, targets, num_classes=len(CLASSES))\n",
    "\n",
    "        inputs = Variable(inputs, requires_grad=True)\n",
    "        targets = Variable(targets, requires_grad=False)\n",
    "        if use_gpu:\n",
    "            inputs = inputs.cuda()\n",
    "            targets = targets.cuda(async=True)\n",
    "\n",
    "        # forward/backward\n",
    "        outputs = model(inputs)\n",
    "        if args.mixup:\n",
    "            loss = mixup_cross_entropy_loss(outputs, targets)\n",
    "        else:\n",
    "            loss = criterion(outputs, targets)\n",
    "        optimizer.zero_grad()\n",
    "        loss.backward()\n",
    "        optimizer.step()\n",
    "\n",
    "        # statistics\n",
    "        it += 1\n",
    "        global_step += 1\n",
    "        running_loss += loss.item()\n",
    "        pred = outputs.data.max(1, keepdim=True)[1]\n",
    "        if args.mixup:\n",
    "            targets = batch['target']\n",
    "            targets = Variable(targets, requires_grad=False).cuda(async=True)\n",
    "        correct += pred.eq(targets.data.view_as(pred)).sum()\n",
    "        total += targets.size(0)\n",
    "\n",
    "        writer.add_scalar('%s/loss' % phase, loss.item(), global_step)\n",
    "\n",
    "        # update the progress bar\n",
    "        pbar.set_postfix({\n",
    "            'loss': \"%.05f\" % (running_loss / it),\n",
    "            'acc': \"%.02f%%\" % (100*correct/total)\n",
    "        })\n",
    "\n",
    "    accuracy = correct/total\n",
    "    epoch_loss = running_loss / it\n",
    "    writer.add_scalar('%s/accuracy' % phase, 100*accuracy, epoch)\n",
    "    writer.add_scalar('%s/epoch_loss' % phase, epoch_loss, epoch)"
   ]
  },
  {
   "cell_type": "code",
   "execution_count": 10,
   "metadata": {},
   "outputs": [],
   "source": [
    "def valid(epoch):\n",
    "    global best_accuracy, best_loss, global_step\n",
    "\n",
    "    phase = 'valid'\n",
    "    model.eval()  # Set model to evaluate mode\n",
    "\n",
    "    running_loss = 0.0\n",
    "    it = 0\n",
    "    correct = 0\n",
    "    total = 0\n",
    "\n",
    "    pbar = tqdm(valid_dataloader, unit=\"audios\", unit_scale=valid_dataloader.batch_size)\n",
    "    for batch in pbar:\n",
    "        inputs = batch['input']\n",
    "        inputs = torch.unsqueeze(inputs, 1)\n",
    "        targets = batch['target']\n",
    "\n",
    "        inputs = Variable(inputs, volatile = True)\n",
    "        targets = Variable(targets, requires_grad=False)\n",
    "\n",
    "        if use_gpu:\n",
    "            inputs = inputs.cuda()\n",
    "            targets = targets.cuda(async=True)\n",
    "\n",
    "        # forward\n",
    "        outputs = model(inputs)\n",
    "        loss = criterion(outputs, targets)\n",
    "\n",
    "        # statistics\n",
    "        it += 1\n",
    "        global_step += 1\n",
    "        running_loss += loss.item()\n",
    "        pred = outputs.data.max(1, keepdim=True)[1]\n",
    "        correct += pred.eq(targets.data.view_as(pred)).sum()\n",
    "        total += targets.size(0)\n",
    "\n",
    "        writer.add_scalar('%s/loss' % phase, loss.item(), global_step)\n",
    "\n",
    "        # update the progress bar\n",
    "        pbar.set_postfix({\n",
    "            'loss': \"%.05f\" % (running_loss / it),\n",
    "            'acc': \"%.02f%%\" % (100*correct/total)\n",
    "        })\n",
    "\n",
    "    accuracy = 100*correct/total\n",
    "    epoch_loss = running_loss / it\n",
    "    writer.add_scalar('%s/accuracy' % phase, accuracy, epoch)\n",
    "    writer.add_scalar('%s/epoch_loss' % phase, epoch_loss, epoch)\n",
    "    checkpoint = {\n",
    "        'epoch': epoch,\n",
    "        'step': global_step,\n",
    "        'state_dict': model.state_dict(),\n",
    "        'loss': epoch_loss,\n",
    "        'accuracy': accuracy,\n",
    "        'optimizer' : optimizer.state_dict(),\n",
    "    }\n",
    "    if accuracy > best_accuracy:\n",
    "        best_accuracy = accuracy\n",
    "        torch.save(checkpoint, 'checkpoints/best-acc-resnet18-%s.pth' % full_name)\n",
    "        torch.save(model, '%d-%s-best-loss.pth' % (start_timestamp, full_name))\n",
    "    if epoch_loss < best_loss:\n",
    "        best_loss = epoch_loss\n",
    "        torch.save(checkpoint, 'checkpoints/best-loss-resnet18-%s.pth' % full_name)\n",
    "        torch.save(model, '%d-%s-best-acc.pth' % (start_timestamp, full_name))\n",
    "    torch.save(model, './res18.pth')\n",
    "    #torch.save(checkpoint, 'checkpoints/Resnet18.pth')\n",
    "    del checkpoint  # reduce memory\n",
    "\n",
    "    return epoch_loss"
   ]
  },
  {
   "cell_type": "code",
   "execution_count": 11,
   "metadata": {},
   "outputs": [
    {
     "name": "stderr",
     "output_type": "stream",
     "text": [
      "\r",
      "  0%|          | 0/448 [00:00<?, ?audios/s]"
     ]
    },
    {
     "name": "stdout",
     "output_type": "stream",
     "text": [
      "training vgg19_bn-nomixup for Google speech commands...\n",
      "epoch   0 with lr=1.00e-02\n"
     ]
    },
    {
     "name": "stderr",
     "output_type": "stream",
     "text": [
      "100%|██████████| 448/448 [00:16<00:00, 26.38audios/s, loss=3.84304, acc=5.00%]\n",
      "  0%|          | 0/128 [00:00<?, ?audios/s]/usr/local/lib/python3.6/dist-packages/ipykernel_launcher.py:18: UserWarning: volatile was removed and now has no effect. Use `with torch.no_grad():` instead.\n",
      "100%|██████████| 128/128 [00:01<00:00, 74.32audios/s, loss=3.05999, acc=5.00%]\n",
      "/home/cilab/.local/lib/python3.6/site-packages/torch/serialization.py:292: UserWarning: Couldn't retrieve source code for container of type DataParallel. It won't be checked for correctness upon loading.\n",
      "  \"type \" + obj.__name__ + \". It won't be checked \"\n",
      "/home/cilab/.local/lib/python3.6/site-packages/torch/serialization.py:292: UserWarning: Couldn't retrieve source code for container of type VGG. It won't be checked for correctness upon loading.\n",
      "  \"type \" + obj.__name__ + \". It won't be checked \"\n",
      "/home/cilab/.local/lib/python3.6/site-packages/torch/serialization.py:292: UserWarning: Couldn't retrieve source code for container of type Sequential. It won't be checked for correctness upon loading.\n",
      "  \"type \" + obj.__name__ + \". It won't be checked \"\n",
      "/home/cilab/.local/lib/python3.6/site-packages/torch/serialization.py:292: UserWarning: Couldn't retrieve source code for container of type Conv2d. It won't be checked for correctness upon loading.\n",
      "  \"type \" + obj.__name__ + \". It won't be checked \"\n",
      "/home/cilab/.local/lib/python3.6/site-packages/torch/serialization.py:292: UserWarning: Couldn't retrieve source code for container of type BatchNorm2d. It won't be checked for correctness upon loading.\n",
      "  \"type \" + obj.__name__ + \". It won't be checked \"\n",
      "/home/cilab/.local/lib/python3.6/site-packages/torch/serialization.py:292: UserWarning: Couldn't retrieve source code for container of type ReLU. It won't be checked for correctness upon loading.\n",
      "  \"type \" + obj.__name__ + \". It won't be checked \"\n",
      "/home/cilab/.local/lib/python3.6/site-packages/torch/serialization.py:292: UserWarning: Couldn't retrieve source code for container of type MaxPool2d. It won't be checked for correctness upon loading.\n",
      "  \"type \" + obj.__name__ + \". It won't be checked \"\n",
      "/home/cilab/.local/lib/python3.6/site-packages/torch/serialization.py:292: UserWarning: Couldn't retrieve source code for container of type AdaptiveMaxPool2d. It won't be checked for correctness upon loading.\n",
      "  \"type \" + obj.__name__ + \". It won't be checked \"\n",
      "/home/cilab/.local/lib/python3.6/site-packages/torch/serialization.py:292: UserWarning: Couldn't retrieve source code for container of type Linear. It won't be checked for correctness upon loading.\n",
      "  \"type \" + obj.__name__ + \". It won't be checked \"\n",
      "/home/cilab/.local/lib/python3.6/site-packages/torch/serialization.py:292: UserWarning: Couldn't retrieve source code for container of type Dropout. It won't be checked for correctness upon loading.\n",
      "  \"type \" + obj.__name__ + \". It won't be checked \"\n",
      "  0%|          | 0/448 [00:00<?, ?audios/s]"
     ]
    },
    {
     "name": "stdout",
     "output_type": "stream",
     "text": [
      "<class 'float'>\n",
      "total time elapsed: 0h 0m 20s , best accuracy: 5.00%, best loss 3.059989\n",
      "epoch   1 with lr=1.00e-02\n"
     ]
    },
    {
     "name": "stderr",
     "output_type": "stream",
     "text": [
      "100%|██████████| 448/448 [00:02<00:00, 149.82audios/s, loss=2.90005, acc=6.00%]\n",
      "100%|██████████| 128/128 [00:01<00:00, 89.53audios/s, loss=4.02304, acc=4.00%]\n",
      "  0%|          | 0/448 [00:00<?, ?audios/s]"
     ]
    },
    {
     "name": "stdout",
     "output_type": "stream",
     "text": [
      "<class 'float'>\n",
      "total time elapsed: 0h 0m 24s , best accuracy: 5.00%, best loss 3.059989\n",
      "epoch   2 with lr=1.00e-02\n"
     ]
    },
    {
     "name": "stderr",
     "output_type": "stream",
     "text": [
      "100%|██████████| 448/448 [00:03<00:00, 122.56audios/s, loss=2.80043, acc=7.00%]\n",
      "100%|██████████| 128/128 [00:01<00:00, 87.55audios/s, loss=2.93063, acc=2.00%]\n",
      "  0%|          | 0/448 [00:00<?, ?audios/s]"
     ]
    },
    {
     "name": "stdout",
     "output_type": "stream",
     "text": [
      "<class 'float'>\n",
      "total time elapsed: 0h 0m 31s , best accuracy: 5.00%, best loss 2.930629\n",
      "epoch   3 with lr=1.00e-02\n"
     ]
    },
    {
     "name": "stderr",
     "output_type": "stream",
     "text": [
      "100%|██████████| 448/448 [00:02<00:00, 159.63audios/s, loss=2.76311, acc=8.00%]\n",
      "100%|██████████| 128/128 [00:01<00:00, 78.90audios/s, loss=3.23423, acc=10.00%]\n",
      "  0%|          | 0/448 [00:00<?, ?audios/s]"
     ]
    },
    {
     "name": "stdout",
     "output_type": "stream",
     "text": [
      "<class 'float'>\n",
      "total time elapsed: 0h 0m 36s , best accuracy: 10.00%, best loss 2.930629\n",
      "epoch   4 with lr=1.00e-02\n"
     ]
    },
    {
     "name": "stderr",
     "output_type": "stream",
     "text": [
      "100%|██████████| 448/448 [00:03<00:00, 123.88audios/s, loss=2.81264, acc=4.00%]\n",
      "100%|██████████| 128/128 [00:01<00:00, 91.36audios/s, loss=2.95958, acc=4.00%]\n",
      "  0%|          | 0/448 [00:00<?, ?audios/s]"
     ]
    },
    {
     "name": "stdout",
     "output_type": "stream",
     "text": [
      "<class 'float'>\n",
      "total time elapsed: 0h 0m 42s , best accuracy: 10.00%, best loss 2.930629\n",
      "epoch   5 with lr=1.00e-02\n"
     ]
    },
    {
     "name": "stderr",
     "output_type": "stream",
     "text": [
      "100%|██████████| 448/448 [00:03<00:00, 136.93audios/s, loss=2.75518, acc=6.00%]\n",
      "100%|██████████| 128/128 [00:01<00:00, 78.29audios/s, loss=2.75634, acc=11.00%]\n",
      "  0%|          | 0/448 [00:00<?, ?audios/s]"
     ]
    },
    {
     "name": "stdout",
     "output_type": "stream",
     "text": [
      "<class 'float'>\n",
      "total time elapsed: 0h 0m 49s , best accuracy: 11.00%, best loss 2.756341\n",
      "epoch   6 with lr=1.00e-02\n"
     ]
    },
    {
     "name": "stderr",
     "output_type": "stream",
     "text": [
      "100%|██████████| 448/448 [00:03<00:00, 124.31audios/s, loss=2.75221, acc=5.00%]\n",
      "100%|██████████| 128/128 [00:01<00:00, 91.71audios/s, loss=2.66969, acc=4.00%]\n",
      "  0%|          | 0/448 [00:00<?, ?audios/s]"
     ]
    },
    {
     "name": "stdout",
     "output_type": "stream",
     "text": [
      "<class 'float'>\n",
      "total time elapsed: 0h 0m 55s , best accuracy: 11.00%, best loss 2.669687\n",
      "epoch   7 with lr=1.00e-02\n"
     ]
    },
    {
     "name": "stderr",
     "output_type": "stream",
     "text": [
      "100%|██████████| 448/448 [00:02<00:00, 154.97audios/s, loss=2.74584, acc=6.00%]\n",
      "100%|██████████| 128/128 [00:01<00:00, 77.04audios/s, loss=2.67770, acc=4.00%]\n",
      "  0%|          | 0/448 [00:00<?, ?audios/s]"
     ]
    },
    {
     "name": "stdout",
     "output_type": "stream",
     "text": [
      "<class 'float'>\n",
      "total time elapsed: 0h 0m 60s , best accuracy: 11.00%, best loss 2.669687\n",
      "epoch   8 with lr=1.00e-02\n"
     ]
    },
    {
     "name": "stderr",
     "output_type": "stream",
     "text": [
      "100%|██████████| 448/448 [00:03<00:00, 140.99audios/s, loss=2.72478, acc=8.00%]\n",
      "100%|██████████| 128/128 [00:01<00:00, 89.94audios/s, loss=2.66742, acc=2.00%]\n",
      "  0%|          | 0/448 [00:00<?, ?audios/s]"
     ]
    },
    {
     "name": "stdout",
     "output_type": "stream",
     "text": [
      "<class 'float'>\n",
      "total time elapsed: 0h 1m 6s , best accuracy: 11.00%, best loss 2.667422\n",
      "epoch   9 with lr=1.00e-02\n"
     ]
    },
    {
     "name": "stderr",
     "output_type": "stream",
     "text": [
      "100%|██████████| 448/448 [00:03<00:00, 137.70audios/s, loss=2.74404, acc=7.00%]\n",
      "100%|██████████| 128/128 [00:01<00:00, 84.51audios/s, loss=2.77552, acc=8.00%]\n",
      "  0%|          | 0/448 [00:00<?, ?audios/s]"
     ]
    },
    {
     "name": "stdout",
     "output_type": "stream",
     "text": [
      "<class 'float'>\n",
      "total time elapsed: 0h 1m 11s , best accuracy: 11.00%, best loss 2.667422\n",
      "epoch  10 with lr=1.00e-02\n"
     ]
    },
    {
     "name": "stderr",
     "output_type": "stream",
     "text": [
      "100%|██████████| 448/448 [00:02<00:00, 156.07audios/s, loss=2.70951, acc=7.00%]\n",
      "100%|██████████| 128/128 [00:01<00:00, 82.12audios/s, loss=2.87136, acc=10.00%]\n",
      "  0%|          | 0/448 [00:00<?, ?audios/s]"
     ]
    },
    {
     "name": "stdout",
     "output_type": "stream",
     "text": [
      "<class 'float'>\n",
      "total time elapsed: 0h 1m 16s , best accuracy: 11.00%, best loss 2.667422\n",
      "epoch  11 with lr=1.00e-02\n"
     ]
    },
    {
     "name": "stderr",
     "output_type": "stream",
     "text": [
      "100%|██████████| 448/448 [00:03<00:00, 141.11audios/s, loss=2.72246, acc=7.00%]\n",
      "100%|██████████| 128/128 [00:01<00:00, 91.81audios/s, loss=2.79223, acc=22.00%]\n",
      "  0%|          | 0/448 [00:00<?, ?audios/s]"
     ]
    },
    {
     "name": "stdout",
     "output_type": "stream",
     "text": [
      "<class 'float'>\n",
      "total time elapsed: 0h 1m 22s , best accuracy: 22.00%, best loss 2.667422\n",
      "epoch  12 with lr=1.00e-02\n"
     ]
    },
    {
     "name": "stderr",
     "output_type": "stream",
     "text": [
      "100%|██████████| 448/448 [00:03<00:00, 138.14audios/s, loss=2.70862, acc=5.00%]\n",
      "100%|██████████| 128/128 [00:01<00:00, 81.09audios/s, loss=2.75655, acc=14.00%]\n",
      "  0%|          | 0/448 [00:00<?, ?audios/s]"
     ]
    },
    {
     "name": "stdout",
     "output_type": "stream",
     "text": [
      "<class 'float'>\n",
      "total time elapsed: 0h 1m 27s , best accuracy: 22.00%, best loss 2.667422\n",
      "epoch  13 with lr=1.00e-02\n"
     ]
    },
    {
     "name": "stderr",
     "output_type": "stream",
     "text": [
      "100%|██████████| 448/448 [00:02<00:00, 156.33audios/s, loss=2.70539, acc=8.00%]\n",
      "100%|██████████| 128/128 [00:01<00:00, 81.58audios/s, loss=2.73665, acc=22.00%]\n",
      "  0%|          | 0/448 [00:00<?, ?audios/s]"
     ]
    },
    {
     "name": "stdout",
     "output_type": "stream",
     "text": [
      "<class 'float'>\n",
      "total time elapsed: 0h 1m 32s , best accuracy: 22.00%, best loss 2.667422\n",
      "epoch  14 with lr=1.00e-02\n"
     ]
    },
    {
     "name": "stderr",
     "output_type": "stream",
     "text": [
      "100%|██████████| 448/448 [00:03<00:00, 145.80audios/s, loss=2.70405, acc=5.00%]\n",
      "100%|██████████| 128/128 [00:01<00:00, 91.04audios/s, loss=2.71294, acc=8.00%]\n",
      "  0%|          | 0/448 [00:00<?, ?audios/s]"
     ]
    },
    {
     "name": "stdout",
     "output_type": "stream",
     "text": [
      "<class 'float'>\n",
      "total time elapsed: 0h 1m 37s , best accuracy: 22.00%, best loss 2.667422\n",
      "epoch  15 with lr=1.00e-03\n"
     ]
    },
    {
     "name": "stderr",
     "output_type": "stream",
     "text": [
      "100%|██████████| 448/448 [00:03<00:00, 122.45audios/s, loss=2.70444, acc=7.00%]\n",
      "100%|██████████| 128/128 [00:01<00:00, 89.12audios/s, loss=2.72983, acc=10.00%]\n",
      "  0%|          | 0/448 [00:00<?, ?audios/s]"
     ]
    },
    {
     "name": "stdout",
     "output_type": "stream",
     "text": [
      "<class 'float'>\n",
      "total time elapsed: 0h 1m 42s , best accuracy: 22.00%, best loss 2.667422\n",
      "epoch  16 with lr=1.00e-03\n"
     ]
    },
    {
     "name": "stderr",
     "output_type": "stream",
     "text": [
      "100%|██████████| 448/448 [00:03<00:00, 138.13audios/s, loss=2.69110, acc=7.00%]\n",
      "100%|██████████| 128/128 [00:01<00:00, 83.08audios/s, loss=2.74802, acc=8.00%]\n",
      "  0%|          | 0/448 [00:00<?, ?audios/s]"
     ]
    },
    {
     "name": "stdout",
     "output_type": "stream",
     "text": [
      "<class 'float'>\n",
      "total time elapsed: 0h 1m 47s , best accuracy: 22.00%, best loss 2.667422\n",
      "epoch  17 with lr=1.00e-03\n"
     ]
    },
    {
     "name": "stderr",
     "output_type": "stream",
     "text": [
      "100%|██████████| 448/448 [00:02<00:00, 155.34audios/s, loss=2.69707, acc=9.00%] \n",
      "100%|██████████| 128/128 [00:01<00:00, 82.76audios/s, loss=2.77510, acc=8.00%]\n",
      "  0%|          | 0/448 [00:00<?, ?audios/s]"
     ]
    },
    {
     "name": "stdout",
     "output_type": "stream",
     "text": [
      "<class 'float'>\n",
      "total time elapsed: 0h 1m 52s , best accuracy: 22.00%, best loss 2.667422\n",
      "epoch  18 with lr=1.00e-03\n"
     ]
    },
    {
     "name": "stderr",
     "output_type": "stream",
     "text": [
      "100%|██████████| 448/448 [00:03<00:00, 145.91audios/s, loss=2.69385, acc=8.00%]\n",
      "100%|██████████| 128/128 [00:01<00:00, 88.76audios/s, loss=2.77305, acc=8.00%]\n",
      "  0%|          | 0/448 [00:00<?, ?audios/s]"
     ]
    },
    {
     "name": "stdout",
     "output_type": "stream",
     "text": [
      "<class 'float'>\n",
      "total time elapsed: 0h 1m 57s , best accuracy: 22.00%, best loss 2.667422\n",
      "epoch  19 with lr=1.00e-03\n"
     ]
    },
    {
     "name": "stderr",
     "output_type": "stream",
     "text": [
      "100%|██████████| 448/448 [00:03<00:00, 131.60audios/s, loss=2.69991, acc=10.00%]\n",
      "100%|██████████| 128/128 [00:01<00:00, 84.76audios/s, loss=2.75819, acc=8.00%]\n",
      "  0%|          | 0/448 [00:00<?, ?audios/s]"
     ]
    },
    {
     "name": "stdout",
     "output_type": "stream",
     "text": [
      "<class 'float'>\n",
      "total time elapsed: 0h 2m 2s , best accuracy: 22.00%, best loss 2.667422\n",
      "epoch  20 with lr=1.00e-03\n"
     ]
    },
    {
     "name": "stderr",
     "output_type": "stream",
     "text": [
      "100%|██████████| 448/448 [00:03<00:00, 126.19audios/s, loss=2.68398, acc=9.00%] \n",
      "100%|██████████| 128/128 [00:01<00:00, 90.06audios/s, loss=2.78326, acc=10.00%]\n",
      "  0%|          | 0/448 [00:00<?, ?audios/s]"
     ]
    },
    {
     "name": "stdout",
     "output_type": "stream",
     "text": [
      "<class 'float'>\n",
      "total time elapsed: 0h 2m 7s , best accuracy: 22.00%, best loss 2.667422\n",
      "epoch  21 with lr=1.00e-04\n"
     ]
    },
    {
     "name": "stderr",
     "output_type": "stream",
     "text": [
      "100%|██████████| 448/448 [00:02<00:00, 150.84audios/s, loss=2.66526, acc=10.00%]\n",
      "100%|██████████| 128/128 [00:01<00:00, 80.65audios/s, loss=2.76596, acc=7.00%]\n",
      "  0%|          | 0/448 [00:00<?, ?audios/s]"
     ]
    },
    {
     "name": "stdout",
     "output_type": "stream",
     "text": [
      "<class 'float'>\n",
      "total time elapsed: 0h 2m 12s , best accuracy: 22.00%, best loss 2.667422\n",
      "epoch  22 with lr=1.00e-04\n"
     ]
    },
    {
     "name": "stderr",
     "output_type": "stream",
     "text": [
      "100%|██████████| 448/448 [00:02<00:00, 158.00audios/s, loss=2.68405, acc=8.00%]\n",
      "100%|██████████| 128/128 [00:01<00:00, 82.43audios/s, loss=2.77799, acc=8.00%]\n",
      "  0%|          | 0/448 [00:00<?, ?audios/s]"
     ]
    },
    {
     "name": "stdout",
     "output_type": "stream",
     "text": [
      "<class 'float'>\n",
      "total time elapsed: 0h 2m 17s , best accuracy: 22.00%, best loss 2.667422\n",
      "epoch  23 with lr=1.00e-04\n"
     ]
    },
    {
     "name": "stderr",
     "output_type": "stream",
     "text": [
      "100%|██████████| 448/448 [00:03<00:00, 137.34audios/s, loss=2.69492, acc=8.00%]\n",
      "100%|██████████| 128/128 [00:01<00:00, 91.09audios/s, loss=2.80520, acc=5.00%]\n",
      "  0%|          | 0/448 [00:00<?, ?audios/s]"
     ]
    },
    {
     "name": "stdout",
     "output_type": "stream",
     "text": [
      "<class 'float'>\n",
      "total time elapsed: 0h 2m 21s , best accuracy: 22.00%, best loss 2.667422\n",
      "epoch  24 with lr=1.00e-04\n"
     ]
    },
    {
     "name": "stderr",
     "output_type": "stream",
     "text": [
      "100%|██████████| 448/448 [00:03<00:00, 119.40audios/s, loss=2.67683, acc=9.00%]\n",
      "100%|██████████| 128/128 [00:01<00:00, 89.86audios/s, loss=2.78619, acc=7.00%]\n",
      "  0%|          | 0/448 [00:00<?, ?audios/s]"
     ]
    },
    {
     "name": "stdout",
     "output_type": "stream",
     "text": [
      "<class 'float'>\n",
      "total time elapsed: 0h 2m 27s , best accuracy: 22.00%, best loss 2.667422\n",
      "epoch  25 with lr=1.00e-04\n"
     ]
    },
    {
     "name": "stderr",
     "output_type": "stream",
     "text": [
      "100%|██████████| 448/448 [00:03<00:00, 142.27audios/s, loss=2.70863, acc=7.00%]\n",
      "100%|██████████| 128/128 [00:01<00:00, 79.58audios/s, loss=2.78356, acc=5.00%]\n",
      "  0%|          | 0/448 [00:00<?, ?audios/s]"
     ]
    },
    {
     "name": "stdout",
     "output_type": "stream",
     "text": [
      "<class 'float'>\n",
      "total time elapsed: 0h 2m 32s , best accuracy: 22.00%, best loss 2.667422\n",
      "epoch  26 with lr=1.00e-04\n"
     ]
    },
    {
     "name": "stderr",
     "output_type": "stream",
     "text": [
      "100%|██████████| 448/448 [00:02<00:00, 157.11audios/s, loss=2.69228, acc=7.00%]\n",
      "100%|██████████| 128/128 [00:01<00:00, 82.19audios/s, loss=2.76088, acc=4.00%]\n",
      "  0%|          | 0/448 [00:00<?, ?audios/s]"
     ]
    },
    {
     "name": "stdout",
     "output_type": "stream",
     "text": [
      "<class 'float'>\n",
      "total time elapsed: 0h 2m 37s , best accuracy: 22.00%, best loss 2.667422\n",
      "epoch  27 with lr=1.00e-05\n"
     ]
    },
    {
     "name": "stderr",
     "output_type": "stream",
     "text": [
      "100%|██████████| 448/448 [00:03<00:00, 143.82audios/s, loss=2.67831, acc=10.00%]\n",
      "100%|██████████| 128/128 [00:01<00:00, 93.05audios/s, loss=2.79575, acc=5.00%]\n",
      "  0%|          | 0/448 [00:00<?, ?audios/s]"
     ]
    },
    {
     "name": "stdout",
     "output_type": "stream",
     "text": [
      "<class 'float'>\n",
      "total time elapsed: 0h 2m 41s , best accuracy: 22.00%, best loss 2.667422\n",
      "epoch  28 with lr=1.00e-05\n"
     ]
    },
    {
     "name": "stderr",
     "output_type": "stream",
     "text": [
      "100%|██████████| 448/448 [00:03<00:00, 123.32audios/s, loss=2.67655, acc=10.00%]\n",
      "100%|██████████| 128/128 [00:01<00:00, 93.24audios/s, loss=2.76400, acc=8.00%]\n",
      "  0%|          | 0/448 [00:00<?, ?audios/s]"
     ]
    },
    {
     "name": "stdout",
     "output_type": "stream",
     "text": [
      "<class 'float'>\n",
      "total time elapsed: 0h 2m 47s , best accuracy: 22.00%, best loss 2.667422\n",
      "epoch  29 with lr=1.00e-05\n"
     ]
    },
    {
     "name": "stderr",
     "output_type": "stream",
     "text": [
      "100%|██████████| 448/448 [00:03<00:00, 139.39audios/s, loss=2.68381, acc=8.00%]\n",
      "100%|██████████| 128/128 [00:01<00:00, 80.93audios/s, loss=2.79654, acc=5.00%]\n",
      "  0%|          | 0/448 [00:00<?, ?audios/s]"
     ]
    },
    {
     "name": "stdout",
     "output_type": "stream",
     "text": [
      "<class 'float'>\n",
      "total time elapsed: 0h 2m 52s , best accuracy: 22.00%, best loss 2.667422\n",
      "epoch  30 with lr=1.00e-05\n"
     ]
    },
    {
     "name": "stderr",
     "output_type": "stream",
     "text": [
      "100%|██████████| 448/448 [00:02<00:00, 164.20audios/s, loss=2.70669, acc=9.00%]\n",
      "100%|██████████| 128/128 [00:01<00:00, 78.95audios/s, loss=2.77157, acc=5.00%]\n",
      "  0%|          | 0/448 [00:00<?, ?audios/s]"
     ]
    },
    {
     "name": "stdout",
     "output_type": "stream",
     "text": [
      "<class 'float'>\n",
      "total time elapsed: 0h 2m 56s , best accuracy: 22.00%, best loss 2.667422\n",
      "epoch  31 with lr=1.00e-05\n"
     ]
    },
    {
     "name": "stderr",
     "output_type": "stream",
     "text": [
      "100%|██████████| 448/448 [00:03<00:00, 148.26audios/s, loss=2.69171, acc=7.00%]\n",
      "100%|██████████| 128/128 [00:01<00:00, 91.21audios/s, loss=2.81313, acc=7.00%]\n",
      "  0%|          | 0/448 [00:00<?, ?audios/s]"
     ]
    },
    {
     "name": "stdout",
     "output_type": "stream",
     "text": [
      "<class 'float'>\n",
      "total time elapsed: 0h 3m 1s , best accuracy: 22.00%, best loss 2.667422\n",
      "epoch  32 with lr=1.00e-05\n"
     ]
    },
    {
     "name": "stderr",
     "output_type": "stream",
     "text": [
      "100%|██████████| 448/448 [00:03<00:00, 121.50audios/s, loss=2.69336, acc=7.00%] \n",
      "100%|██████████| 128/128 [00:01<00:00, 91.91audios/s, loss=2.80104, acc=8.00%]\n",
      "  0%|          | 0/448 [00:00<?, ?audios/s]"
     ]
    },
    {
     "name": "stdout",
     "output_type": "stream",
     "text": [
      "<class 'float'>\n",
      "total time elapsed: 0h 3m 7s , best accuracy: 22.00%, best loss 2.667422\n",
      "epoch  33 with lr=1.00e-06\n"
     ]
    },
    {
     "name": "stderr",
     "output_type": "stream",
     "text": [
      "100%|██████████| 448/448 [00:03<00:00, 138.98audios/s, loss=2.68057, acc=10.00%]\n",
      "100%|██████████| 128/128 [00:01<00:00, 81.00audios/s, loss=2.78610, acc=8.00%]\n",
      "  0%|          | 0/448 [00:00<?, ?audios/s]"
     ]
    },
    {
     "name": "stdout",
     "output_type": "stream",
     "text": [
      "<class 'float'>\n",
      "total time elapsed: 0h 3m 12s , best accuracy: 22.00%, best loss 2.667422\n",
      "epoch  34 with lr=1.00e-06\n"
     ]
    },
    {
     "name": "stderr",
     "output_type": "stream",
     "text": [
      "100%|██████████| 448/448 [00:02<00:00, 163.42audios/s, loss=2.69134, acc=10.00%]\n",
      "100%|██████████| 128/128 [00:01<00:00, 78.92audios/s, loss=2.80816, acc=8.00%]\n",
      "  0%|          | 0/448 [00:00<?, ?audios/s]"
     ]
    },
    {
     "name": "stdout",
     "output_type": "stream",
     "text": [
      "<class 'float'>\n",
      "total time elapsed: 0h 3m 16s , best accuracy: 22.00%, best loss 2.667422\n",
      "epoch  35 with lr=1.00e-06\n"
     ]
    },
    {
     "name": "stderr",
     "output_type": "stream",
     "text": [
      "100%|██████████| 448/448 [00:03<00:00, 133.65audios/s, loss=2.67267, acc=9.00%] \n",
      "100%|██████████| 128/128 [00:01<00:00, 90.03audios/s, loss=2.77174, acc=7.00%]\n",
      "  0%|          | 0/448 [00:00<?, ?audios/s]"
     ]
    },
    {
     "name": "stdout",
     "output_type": "stream",
     "text": [
      "<class 'float'>\n",
      "total time elapsed: 0h 3m 21s , best accuracy: 22.00%, best loss 2.667422\n",
      "epoch  36 with lr=1.00e-06\n"
     ]
    },
    {
     "name": "stderr",
     "output_type": "stream",
     "text": [
      "100%|██████████| 448/448 [00:03<00:00, 117.70audios/s, loss=2.68891, acc=11.00%]\n",
      "100%|██████████| 128/128 [00:01<00:00, 86.81audios/s, loss=2.79042, acc=5.00%]\n",
      "  0%|          | 0/448 [00:00<?, ?audios/s]"
     ]
    },
    {
     "name": "stdout",
     "output_type": "stream",
     "text": [
      "<class 'float'>\n",
      "total time elapsed: 0h 3m 27s , best accuracy: 22.00%, best loss 2.667422\n",
      "epoch  37 with lr=1.00e-06\n"
     ]
    },
    {
     "name": "stderr",
     "output_type": "stream",
     "text": [
      "100%|██████████| 448/448 [00:03<00:00, 138.36audios/s, loss=2.68573, acc=7.00%]\n",
      "100%|██████████| 128/128 [00:01<00:00, 80.50audios/s, loss=2.79577, acc=8.00%]\n",
      "  0%|          | 0/448 [00:00<?, ?audios/s]"
     ]
    },
    {
     "name": "stdout",
     "output_type": "stream",
     "text": [
      "<class 'float'>\n",
      "total time elapsed: 0h 3m 32s , best accuracy: 22.00%, best loss 2.667422\n",
      "epoch  38 with lr=1.00e-06\n"
     ]
    },
    {
     "name": "stderr",
     "output_type": "stream",
     "text": [
      "100%|██████████| 448/448 [00:02<00:00, 150.51audios/s, loss=2.70079, acc=7.00%]\n",
      "100%|██████████| 128/128 [00:01<00:00, 80.48audios/s, loss=2.81823, acc=5.00%]\n",
      "  0%|          | 0/448 [00:00<?, ?audios/s]"
     ]
    },
    {
     "name": "stdout",
     "output_type": "stream",
     "text": [
      "<class 'float'>\n",
      "total time elapsed: 0h 3m 37s , best accuracy: 22.00%, best loss 2.667422\n",
      "epoch  39 with lr=1.00e-07\n"
     ]
    },
    {
     "name": "stderr",
     "output_type": "stream",
     "text": [
      "100%|██████████| 448/448 [00:03<00:00, 145.16audios/s, loss=2.72229, acc=6.00%]\n",
      "100%|██████████| 128/128 [00:01<00:00, 90.62audios/s, loss=2.80164, acc=5.00%]\n",
      "  0%|          | 0/448 [00:00<?, ?audios/s]"
     ]
    },
    {
     "name": "stdout",
     "output_type": "stream",
     "text": [
      "<class 'float'>\n",
      "total time elapsed: 0h 3m 42s , best accuracy: 22.00%, best loss 2.667422\n",
      "epoch  40 with lr=1.00e-07\n"
     ]
    },
    {
     "name": "stderr",
     "output_type": "stream",
     "text": [
      "100%|██████████| 448/448 [00:03<00:00, 122.34audios/s, loss=2.69535, acc=8.00%]\n",
      "100%|██████████| 128/128 [00:01<00:00, 89.59audios/s, loss=2.79784, acc=4.00%]\n",
      "  0%|          | 0/448 [00:00<?, ?audios/s]"
     ]
    },
    {
     "name": "stdout",
     "output_type": "stream",
     "text": [
      "<class 'float'>\n",
      "total time elapsed: 0h 3m 47s , best accuracy: 22.00%, best loss 2.667422\n",
      "epoch  41 with lr=1.00e-07\n"
     ]
    },
    {
     "name": "stderr",
     "output_type": "stream",
     "text": [
      "100%|██████████| 448/448 [00:03<00:00, 137.91audios/s, loss=2.69183, acc=9.00%]\n",
      "100%|██████████| 128/128 [00:01<00:00, 82.20audios/s, loss=2.78324, acc=7.00%]\n",
      "  0%|          | 0/448 [00:00<?, ?audios/s]"
     ]
    },
    {
     "name": "stdout",
     "output_type": "stream",
     "text": [
      "<class 'float'>\n",
      "total time elapsed: 0h 3m 52s , best accuracy: 22.00%, best loss 2.667422\n",
      "epoch  42 with lr=1.00e-07\n"
     ]
    },
    {
     "name": "stderr",
     "output_type": "stream",
     "text": [
      "100%|██████████| 448/448 [00:02<00:00, 162.73audios/s, loss=2.68605, acc=10.00%]\n",
      "100%|██████████| 128/128 [00:01<00:00, 80.13audios/s, loss=2.78459, acc=5.00%]\n",
      "  0%|          | 0/448 [00:00<?, ?audios/s]"
     ]
    },
    {
     "name": "stdout",
     "output_type": "stream",
     "text": [
      "<class 'float'>\n",
      "total time elapsed: 0h 3m 57s , best accuracy: 22.00%, best loss 2.667422\n",
      "epoch  43 with lr=1.00e-07\n"
     ]
    },
    {
     "name": "stderr",
     "output_type": "stream",
     "text": [
      "100%|██████████| 448/448 [00:03<00:00, 143.39audios/s, loss=2.66213, acc=10.00%]\n",
      "100%|██████████| 128/128 [00:01<00:00, 91.18audios/s, loss=2.76844, acc=8.00%]\n",
      "  0%|          | 0/448 [00:00<?, ?audios/s]"
     ]
    },
    {
     "name": "stdout",
     "output_type": "stream",
     "text": [
      "<class 'float'>\n",
      "total time elapsed: 0h 4m 2s , best accuracy: 22.00%, best loss 2.667422\n",
      "epoch  44 with lr=1.00e-07\n"
     ]
    },
    {
     "name": "stderr",
     "output_type": "stream",
     "text": [
      "100%|██████████| 448/448 [00:03<00:00, 127.15audios/s, loss=2.67839, acc=8.00%]\n",
      "100%|██████████| 128/128 [00:01<00:00, 85.29audios/s, loss=2.78303, acc=8.00%]\n",
      "  0%|          | 0/448 [00:00<?, ?audios/s]"
     ]
    },
    {
     "name": "stdout",
     "output_type": "stream",
     "text": [
      "<class 'float'>\n",
      "total time elapsed: 0h 4m 7s , best accuracy: 22.00%, best loss 2.667422\n",
      "epoch  45 with lr=1.00e-08\n"
     ]
    },
    {
     "name": "stderr",
     "output_type": "stream",
     "text": [
      "100%|██████████| 448/448 [00:03<00:00, 137.31audios/s, loss=2.69515, acc=9.00%]\n",
      "100%|██████████| 128/128 [00:01<00:00, 96.99audios/s, loss=2.78259, acc=5.00%]\n",
      "  0%|          | 0/448 [00:00<?, ?audios/s]"
     ]
    },
    {
     "name": "stdout",
     "output_type": "stream",
     "text": [
      "<class 'float'>\n",
      "total time elapsed: 0h 4m 12s , best accuracy: 22.00%, best loss 2.667422\n",
      "epoch  46 with lr=1.00e-08\n"
     ]
    },
    {
     "name": "stderr",
     "output_type": "stream",
     "text": [
      "100%|██████████| 448/448 [00:02<00:00, 164.69audios/s, loss=2.67754, acc=13.00%]\n",
      "100%|██████████| 128/128 [00:01<00:00, 94.18audios/s, loss=2.77810, acc=5.00%]\n",
      "  0%|          | 0/448 [00:00<?, ?audios/s]"
     ]
    },
    {
     "name": "stdout",
     "output_type": "stream",
     "text": [
      "<class 'float'>\n",
      "total time elapsed: 0h 4m 16s , best accuracy: 22.00%, best loss 2.667422\n",
      "epoch  47 with lr=1.00e-08\n"
     ]
    },
    {
     "name": "stderr",
     "output_type": "stream",
     "text": [
      "100%|██████████| 448/448 [00:02<00:00, 163.10audios/s, loss=2.69380, acc=8.00%]\n",
      "100%|██████████| 128/128 [00:01<00:00, 99.09audios/s, loss=2.79155, acc=5.00%]\n",
      "  0%|          | 0/448 [00:00<?, ?audios/s]"
     ]
    },
    {
     "name": "stdout",
     "output_type": "stream",
     "text": [
      "<class 'float'>\n",
      "total time elapsed: 0h 4m 21s , best accuracy: 22.00%, best loss 2.667422\n",
      "epoch  48 with lr=1.00e-08\n"
     ]
    },
    {
     "name": "stderr",
     "output_type": "stream",
     "text": [
      "100%|██████████| 448/448 [00:02<00:00, 165.47audios/s, loss=2.68736, acc=8.00%]\n",
      "100%|██████████| 128/128 [00:01<00:00, 96.52audios/s, loss=2.79003, acc=7.00%]\n",
      "  0%|          | 0/448 [00:00<?, ?audios/s]"
     ]
    },
    {
     "name": "stdout",
     "output_type": "stream",
     "text": [
      "<class 'float'>\n",
      "total time elapsed: 0h 4m 25s , best accuracy: 22.00%, best loss 2.667422\n",
      "epoch  49 with lr=1.00e-08\n"
     ]
    },
    {
     "name": "stderr",
     "output_type": "stream",
     "text": [
      "100%|██████████| 448/448 [00:02<00:00, 161.53audios/s, loss=2.66670, acc=10.00%]\n",
      "100%|██████████| 128/128 [00:01<00:00, 96.11audios/s, loss=2.78476, acc=4.00%]\n",
      "  0%|          | 0/448 [00:00<?, ?audios/s]"
     ]
    },
    {
     "name": "stdout",
     "output_type": "stream",
     "text": [
      "<class 'float'>\n",
      "total time elapsed: 0h 4m 29s , best accuracy: 22.00%, best loss 2.667422\n",
      "epoch  50 with lr=1.00e-08\n"
     ]
    },
    {
     "name": "stderr",
     "output_type": "stream",
     "text": [
      "100%|██████████| 448/448 [00:02<00:00, 161.04audios/s, loss=2.69481, acc=8.00%] \n",
      "100%|██████████| 128/128 [00:01<00:00, 96.89audios/s, loss=2.76724, acc=5.00%]\n",
      "  0%|          | 0/448 [00:00<?, ?audios/s]"
     ]
    },
    {
     "name": "stdout",
     "output_type": "stream",
     "text": [
      "<class 'float'>\n",
      "total time elapsed: 0h 4m 34s , best accuracy: 22.00%, best loss 2.667422\n",
      "epoch  51 with lr=1.00e-08\n"
     ]
    },
    {
     "name": "stderr",
     "output_type": "stream",
     "text": [
      "100%|██████████| 448/448 [00:02<00:00, 168.16audios/s, loss=2.67766, acc=11.00%]\n",
      "100%|██████████| 128/128 [00:01<00:00, 94.03audios/s, loss=2.77070, acc=7.00%]\n",
      "  0%|          | 0/448 [00:00<?, ?audios/s]"
     ]
    },
    {
     "name": "stdout",
     "output_type": "stream",
     "text": [
      "<class 'float'>\n",
      "total time elapsed: 0h 4m 38s , best accuracy: 22.00%, best loss 2.667422\n",
      "epoch  52 with lr=1.00e-08\n"
     ]
    },
    {
     "name": "stderr",
     "output_type": "stream",
     "text": [
      "100%|██████████| 448/448 [00:02<00:00, 163.28audios/s, loss=2.69162, acc=8.00%]\n",
      "100%|██████████| 128/128 [00:01<00:00, 98.10audios/s, loss=2.78799, acc=5.00%]\n",
      "  0%|          | 0/448 [00:00<?, ?audios/s]"
     ]
    },
    {
     "name": "stdout",
     "output_type": "stream",
     "text": [
      "<class 'float'>\n",
      "total time elapsed: 0h 4m 42s , best accuracy: 22.00%, best loss 2.667422\n",
      "epoch  53 with lr=1.00e-08\n"
     ]
    },
    {
     "name": "stderr",
     "output_type": "stream",
     "text": [
      "100%|██████████| 448/448 [00:02<00:00, 167.13audios/s, loss=2.67644, acc=11.00%]\n",
      "100%|██████████| 128/128 [00:01<00:00, 93.40audios/s, loss=2.78612, acc=7.00%]\n",
      "  0%|          | 0/448 [00:00<?, ?audios/s]"
     ]
    },
    {
     "name": "stdout",
     "output_type": "stream",
     "text": [
      "<class 'float'>\n",
      "total time elapsed: 0h 4m 47s , best accuracy: 22.00%, best loss 2.667422\n",
      "epoch  54 with lr=1.00e-08\n"
     ]
    },
    {
     "name": "stderr",
     "output_type": "stream",
     "text": [
      "100%|██████████| 448/448 [00:02<00:00, 163.53audios/s, loss=2.69028, acc=9.00%]\n",
      "100%|██████████| 128/128 [00:01<00:00, 95.96audios/s, loss=2.79077, acc=5.00%]\n",
      "  0%|          | 0/448 [00:00<?, ?audios/s]"
     ]
    },
    {
     "name": "stdout",
     "output_type": "stream",
     "text": [
      "<class 'float'>\n",
      "total time elapsed: 0h 4m 51s , best accuracy: 22.00%, best loss 2.667422\n",
      "epoch  55 with lr=1.00e-08\n"
     ]
    },
    {
     "name": "stderr",
     "output_type": "stream",
     "text": [
      "100%|██████████| 448/448 [00:02<00:00, 161.47audios/s, loss=2.66335, acc=10.00%]\n",
      "100%|██████████| 128/128 [00:01<00:00, 96.05audios/s, loss=2.80511, acc=4.00%]\n",
      "  0%|          | 0/448 [00:00<?, ?audios/s]"
     ]
    },
    {
     "name": "stdout",
     "output_type": "stream",
     "text": [
      "<class 'float'>\n",
      "total time elapsed: 0h 4m 55s , best accuracy: 22.00%, best loss 2.667422\n",
      "epoch  56 with lr=1.00e-08\n"
     ]
    },
    {
     "name": "stderr",
     "output_type": "stream",
     "text": [
      "100%|██████████| 448/448 [00:02<00:00, 164.97audios/s, loss=2.69769, acc=8.00%]\n",
      "100%|██████████| 128/128 [00:01<00:00, 95.52audios/s, loss=2.79196, acc=4.00%]\n",
      "  0%|          | 0/448 [00:00<?, ?audios/s]"
     ]
    },
    {
     "name": "stdout",
     "output_type": "stream",
     "text": [
      "<class 'float'>\n",
      "total time elapsed: 0h 4m 60s , best accuracy: 22.00%, best loss 2.667422\n",
      "epoch  57 with lr=1.00e-08\n"
     ]
    },
    {
     "name": "stderr",
     "output_type": "stream",
     "text": [
      "100%|██████████| 448/448 [00:02<00:00, 165.40audios/s, loss=2.71090, acc=8.00%]\n",
      "100%|██████████| 128/128 [00:01<00:00, 96.16audios/s, loss=2.79579, acc=4.00%]\n",
      "  0%|          | 0/448 [00:00<?, ?audios/s]"
     ]
    },
    {
     "name": "stdout",
     "output_type": "stream",
     "text": [
      "<class 'float'>\n",
      "total time elapsed: 0h 5m 4s , best accuracy: 22.00%, best loss 2.667422\n",
      "epoch  58 with lr=1.00e-08\n"
     ]
    },
    {
     "name": "stderr",
     "output_type": "stream",
     "text": [
      "100%|██████████| 448/448 [00:02<00:00, 166.01audios/s, loss=2.68138, acc=6.00%]\n",
      "100%|██████████| 128/128 [00:01<00:00, 96.51audios/s, loss=2.79703, acc=10.00%]\n",
      "  0%|          | 0/448 [00:00<?, ?audios/s]"
     ]
    },
    {
     "name": "stdout",
     "output_type": "stream",
     "text": [
      "<class 'float'>\n",
      "total time elapsed: 0h 5m 8s , best accuracy: 22.00%, best loss 2.667422\n",
      "epoch  59 with lr=1.00e-08\n"
     ]
    },
    {
     "name": "stderr",
     "output_type": "stream",
     "text": [
      "100%|██████████| 448/448 [00:02<00:00, 159.46audios/s, loss=2.69177, acc=8.00%] \n",
      "100%|██████████| 128/128 [00:01<00:00, 95.41audios/s, loss=2.79224, acc=5.00%]\n",
      "  0%|          | 0/448 [00:00<?, ?audios/s]"
     ]
    },
    {
     "name": "stdout",
     "output_type": "stream",
     "text": [
      "<class 'float'>\n",
      "total time elapsed: 0h 5m 13s , best accuracy: 22.00%, best loss 2.667422\n",
      "epoch  60 with lr=1.00e-08\n"
     ]
    },
    {
     "name": "stderr",
     "output_type": "stream",
     "text": [
      "100%|██████████| 448/448 [00:02<00:00, 158.45audios/s, loss=2.69182, acc=9.00%] \n",
      "100%|██████████| 128/128 [00:01<00:00, 97.57audios/s, loss=2.80890, acc=7.00%]\n",
      "  0%|          | 0/448 [00:00<?, ?audios/s]"
     ]
    },
    {
     "name": "stdout",
     "output_type": "stream",
     "text": [
      "<class 'float'>\n",
      "total time elapsed: 0h 5m 17s , best accuracy: 22.00%, best loss 2.667422\n",
      "epoch  61 with lr=1.00e-08\n"
     ]
    },
    {
     "name": "stderr",
     "output_type": "stream",
     "text": [
      "100%|██████████| 448/448 [00:02<00:00, 159.35audios/s, loss=2.68394, acc=9.00%] \n",
      "100%|██████████| 128/128 [00:01<00:00, 99.14audios/s, loss=2.76296, acc=8.00%]\n",
      "  0%|          | 0/448 [00:00<?, ?audios/s]"
     ]
    },
    {
     "name": "stdout",
     "output_type": "stream",
     "text": [
      "<class 'float'>\n",
      "total time elapsed: 0h 5m 21s , best accuracy: 22.00%, best loss 2.667422\n",
      "epoch  62 with lr=1.00e-08\n"
     ]
    },
    {
     "name": "stderr",
     "output_type": "stream",
     "text": [
      "100%|██████████| 448/448 [00:02<00:00, 162.19audios/s, loss=2.69087, acc=9.00%]\n",
      "100%|██████████| 128/128 [00:01<00:00, 96.48audios/s, loss=2.80565, acc=5.00%]\n",
      "  0%|          | 0/448 [00:00<?, ?audios/s]"
     ]
    },
    {
     "name": "stdout",
     "output_type": "stream",
     "text": [
      "<class 'float'>\n",
      "total time elapsed: 0h 5m 26s , best accuracy: 22.00%, best loss 2.667422\n",
      "epoch  63 with lr=1.00e-08\n"
     ]
    },
    {
     "name": "stderr",
     "output_type": "stream",
     "text": [
      "100%|██████████| 448/448 [00:02<00:00, 164.68audios/s, loss=2.69573, acc=8.00%]\n",
      "100%|██████████| 128/128 [00:01<00:00, 96.29audios/s, loss=2.78892, acc=7.00%]\n",
      "  0%|          | 0/448 [00:00<?, ?audios/s]"
     ]
    },
    {
     "name": "stdout",
     "output_type": "stream",
     "text": [
      "<class 'float'>\n",
      "total time elapsed: 0h 5m 30s , best accuracy: 22.00%, best loss 2.667422\n",
      "epoch  64 with lr=1.00e-08\n"
     ]
    },
    {
     "name": "stderr",
     "output_type": "stream",
     "text": [
      "100%|██████████| 448/448 [00:02<00:00, 166.67audios/s, loss=2.69338, acc=10.00%]\n",
      "100%|██████████| 128/128 [00:01<00:00, 94.18audios/s, loss=2.79845, acc=7.00%]\n",
      "  0%|          | 0/448 [00:00<?, ?audios/s]"
     ]
    },
    {
     "name": "stdout",
     "output_type": "stream",
     "text": [
      "<class 'float'>\n",
      "total time elapsed: 0h 5m 34s , best accuracy: 22.00%, best loss 2.667422\n",
      "epoch  65 with lr=1.00e-08\n"
     ]
    },
    {
     "name": "stderr",
     "output_type": "stream",
     "text": [
      "100%|██████████| 448/448 [00:02<00:00, 167.14audios/s, loss=2.69177, acc=10.00%]\n",
      "100%|██████████| 128/128 [00:01<00:00, 97.97audios/s, loss=2.80558, acc=4.00%]\n",
      "  0%|          | 0/448 [00:00<?, ?audios/s]"
     ]
    },
    {
     "name": "stdout",
     "output_type": "stream",
     "text": [
      "<class 'float'>\n",
      "total time elapsed: 0h 5m 39s , best accuracy: 22.00%, best loss 2.667422\n",
      "epoch  66 with lr=1.00e-08\n"
     ]
    },
    {
     "name": "stderr",
     "output_type": "stream",
     "text": [
      "100%|██████████| 448/448 [00:02<00:00, 169.76audios/s, loss=2.68718, acc=7.00%]\n",
      "100%|██████████| 128/128 [00:01<00:00, 96.29audios/s, loss=2.78902, acc=8.00%]\n",
      "  0%|          | 0/448 [00:00<?, ?audios/s]"
     ]
    },
    {
     "name": "stdout",
     "output_type": "stream",
     "text": [
      "<class 'float'>\n",
      "total time elapsed: 0h 5m 43s , best accuracy: 22.00%, best loss 2.667422\n",
      "epoch  67 with lr=1.00e-08\n"
     ]
    },
    {
     "name": "stderr",
     "output_type": "stream",
     "text": [
      "100%|██████████| 448/448 [00:02<00:00, 163.66audios/s, loss=2.67176, acc=7.00%]\n",
      "100%|██████████| 128/128 [00:01<00:00, 96.14audios/s, loss=2.80507, acc=10.00%]\n",
      "  0%|          | 0/448 [00:00<?, ?audios/s]"
     ]
    },
    {
     "name": "stdout",
     "output_type": "stream",
     "text": [
      "<class 'float'>\n",
      "total time elapsed: 0h 5m 47s , best accuracy: 22.00%, best loss 2.667422\n",
      "epoch  68 with lr=1.00e-08\n"
     ]
    },
    {
     "name": "stderr",
     "output_type": "stream",
     "text": [
      "100%|██████████| 448/448 [00:02<00:00, 163.73audios/s, loss=2.70047, acc=7.00%]\n",
      "100%|██████████| 128/128 [00:01<00:00, 95.16audios/s, loss=2.79487, acc=7.00%]\n",
      "  0%|          | 0/448 [00:00<?, ?audios/s]"
     ]
    },
    {
     "name": "stdout",
     "output_type": "stream",
     "text": [
      "<class 'float'>\n",
      "total time elapsed: 0h 5m 52s , best accuracy: 22.00%, best loss 2.667422\n",
      "epoch  69 with lr=1.00e-08\n"
     ]
    },
    {
     "name": "stderr",
     "output_type": "stream",
     "text": [
      "100%|██████████| 448/448 [00:02<00:00, 164.92audios/s, loss=2.68866, acc=9.00%] \n",
      "100%|██████████| 128/128 [00:01<00:00, 93.02audios/s, loss=2.80366, acc=4.00%]\n"
     ]
    },
    {
     "name": "stdout",
     "output_type": "stream",
     "text": [
      "<class 'float'>\n",
      "total time elapsed: 0h 5m 56s , best accuracy: 22.00%, best loss 2.667422\n",
      "finished\n"
     ]
    }
   ],
   "source": [
    "print(\"training %s for Google speech commands...\" % args.model)\n",
    "since = time.time()\n",
    "for epoch in range(start_epoch, args.max_epochs):\n",
    "    if args.lr_scheduler == 'step':\n",
    "        lr_scheduler.step()\n",
    "\n",
    "    train(epoch)\n",
    "    epoch_loss = valid(epoch)\n",
    "\n",
    "    if args.lr_scheduler == 'plateau':\n",
    "        print(type(epoch_loss))\n",
    "        lr_scheduler.step(metrics=epoch_loss)\n",
    "\n",
    "    time_elapsed = time.time() - since\n",
    "    time_str = 'total time elapsed: {:.0f}h {:.0f}m {:.0f}s '.format(time_elapsed // 3600, time_elapsed % 3600 // 60, time_elapsed % 60)\n",
    "    print(\"%s, best accuracy: %.02f%%, best loss %f\" % (time_str, best_accuracy, best_loss))\n",
    "    with open('./train_res18.log', 'a+') as f:\n",
    "        f.write(\"%s, epoch: %s, best accuracy: %.02f%%, best loss %f\\n\" % (time_str, epoch,best_accuracy, best_loss))\n",
    "print(\"finished\")"
   ]
  },
  {
   "cell_type": "code",
   "execution_count": null,
   "metadata": {},
   "outputs": [],
   "source": []
  },
  {
   "cell_type": "code",
   "execution_count": null,
   "metadata": {},
   "outputs": [],
   "source": []
  }
 ],
 "metadata": {
  "kernelspec": {
   "display_name": "Python 3",
   "language": "python",
   "name": "python3"
  },
  "language_info": {
   "codemirror_mode": {
    "name": "ipython",
    "version": 3
   },
   "file_extension": ".py",
   "mimetype": "text/x-python",
   "name": "python",
   "nbconvert_exporter": "python",
   "pygments_lexer": "ipython3",
   "version": "3.6.8"
  }
 },
 "nbformat": 4,
 "nbformat_minor": 2
}
