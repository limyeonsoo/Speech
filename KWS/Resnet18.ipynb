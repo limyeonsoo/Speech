{
 "cells": [
  {
   "cell_type": "code",
   "execution_count": 1,
   "metadata": {},
   "outputs": [],
   "source": [
    "#!/usr/bin/env python\n",
    "\"\"\"Train a CNN for Google speech commands.\"\"\"\n",
    "\n",
    "__author__ = 'Yuan Xu, Erdene-Ochir Tuguldur'\n",
    "\n",
    "import argparse\n",
    "import time\n",
    "\n",
    "from tqdm import *\n",
    "\n",
    "import torch\n",
    "from torch.autograd import Variable\n",
    "from torch.utils.data import DataLoader\n",
    "from torch.utils.data.sampler import WeightedRandomSampler\n",
    "\n",
    "import torchvision\n",
    "from torchvision.transforms import *\n",
    "\n",
    "from tensorboardX import SummaryWriter\n",
    "\n",
    "import models\n",
    "from datasets import *\n",
    "from transforms import *\n",
    "from mixup import *"
   ]
  },
  {
   "cell_type": "code",
   "execution_count": 2,
   "metadata": {},
   "outputs": [],
   "source": [
    "import torch.nn as nn\n",
    "import math\n",
    "import torch.utils.model_zoo as model_zoo"
   ]
  },
  {
   "cell_type": "code",
   "execution_count": 3,
   "metadata": {},
   "outputs": [],
   "source": [
    "def conv3x3(in_planes, out_planes, stride=1):\n",
    "    \"\"\"3x3 convolution with padding\"\"\"\n",
    "    return nn.Conv2d(in_planes, out_planes, kernel_size=3, stride=stride, bias=False, padding=1)\n",
    "\n",
    "\n",
    "class BasicBlock(nn.Module):\n",
    "    expansion = 1\n",
    "\n",
    "    def __init__(self, inplanes, planes, stride=1, downsample=None):\n",
    "        super(BasicBlock, self).__init__()\n",
    "        self.conv1 = conv3x3(inplanes, planes, stride)\n",
    "        self.bn1 = nn.BatchNorm2d(planes)\n",
    "        self.relu = nn.ReLU(inplace=True)\n",
    "        self.conv2 = conv3x3(planes, planes)\n",
    "        self.bn2 = nn.BatchNorm2d(planes)\n",
    "        self.downsample = downsample\n",
    "        self.stride = stride\n",
    "\n",
    "    def forward(self, x):\n",
    "        residual = x\n",
    "\n",
    "        out = self.conv1(x)\n",
    "        out = self.bn1(out)\n",
    "        out = self.relu(out)\n",
    "\n",
    "        out = self.conv2(out)\n",
    "        out = self.bn2(out)\n",
    "\n",
    "        if self.downsample is not None:\n",
    "            residual = self.downsample(x)\n",
    "        #print(\"out {}\".format(out.shape))\n",
    "        #print(\"res {}\".format(residual.shape))\n",
    "        out += residual\n",
    "        out = self.relu(out)\n",
    "        \n",
    "        return out\n",
    "\n",
    "\n",
    "class Bottleneck(nn.Module):\n",
    "    expansion = 4\n",
    "\n",
    "    def __init__(self, inplanes, planes, stride=1, downsample=None):\n",
    "        super(Bottleneck, self).__init__()\n",
    "        self.conv1 = nn.Conv2d(inplanes, planes, kernel_size=1, bias=False)\n",
    "        self.bn1 = nn.BatchNorm2d(planes)\n",
    "        self.conv2 = nn.Conv2d(planes, planes, kernel_size=3, stride=stride,\n",
    "                               padding=1, bias=False)\n",
    "        self.bn2 = nn.BatchNorm2d(planes)\n",
    "        self.conv3 = nn.Conv2d(planes, planes * 4, kernel_size=1, bias=False)\n",
    "        self.bn3 = nn.BatchNorm2d(planes * 4)\n",
    "        self.relu = nn.ReLU(inplace=True)\n",
    "        self.downsample = downsample\n",
    "        self.stride = stride\n",
    "\n",
    "    def forward(self, x):\n",
    "        residual = x\n",
    "        out = self.conv1(x)\n",
    "        out = self.bn1(out)\n",
    "        out = self.relu(out)\n",
    "\n",
    "        out = self.conv2(out)\n",
    "        out = self.bn2(out)\n",
    "        out = self.relu(out)\n",
    "\n",
    "        out = self.conv3(out)\n",
    "        out = self.bn3(out)\n",
    "\n",
    "        if self.downsample is not None:\n",
    "            residual = self.downsample(x)\n",
    "        out += residual\n",
    "        out = self.relu(out)\n",
    "\n",
    "        return out\n",
    "\n",
    "\n",
    "class ResNet(nn.Module):\n",
    "\n",
    "    def __init__(self, block, layers, num_classes=1000, in_channels=2):\n",
    "        self.inplanes = 45\n",
    "        super(ResNet, self).__init__()\n",
    "        self.conv1 = nn.Conv2d(in_channels, self.inplanes, kernel_size=3, stride=1, bias=False, padding=3)\n",
    "        self.bn1 = nn.BatchNorm2d(self.inplanes)\n",
    "        self.relu = nn.ReLU(inplace=True)\n",
    "        self.maxpool = nn.MaxPool2d(kernel_size=(4, 3), stride=1)\n",
    "        self.layer1 = self._make_layer(block, 45, layers[0], stride=2)\n",
    "        self.layer2 = self._make_layer(block, 45, layers[1], stride=2)\n",
    "        self.layer3 = self._make_layer(block, 45, layers[2], stride=2)\n",
    "        #self.layer4 = self._make_layer(block, 512, layers[3], stride=2)\n",
    "        self.avgpool = nn.AdaptiveAvgPool2d((1, 1))\n",
    "        self.fc = nn.Linear(45, num_classes)\n",
    "\n",
    "        for m in self.modules():\n",
    "            if isinstance(m, nn.Conv2d):\n",
    "                n = m.kernel_size[0] * m.kernel_size[1] * m.out_channels\n",
    "                m.weight.data.normal_(0, math.sqrt(2. / n))\n",
    "            elif isinstance(m, nn.BatchNorm2d):\n",
    "                m.weight.data.fill_(1)\n",
    "                m.bias.data.zero_()\n",
    "\n",
    "    def _make_layer(self, block, planes, blocks, stride=1):\n",
    "        downsample = None\n",
    "        if stride != 1 or self.inplanes != planes * block.expansion:\n",
    "            downsample = nn.Sequential(\n",
    "                nn.Conv2d(self.inplanes, planes * block.expansion,\n",
    "                          kernel_size=1, stride=stride, bias=False),\n",
    "                nn.BatchNorm2d(planes * block.expansion),\n",
    "                nn.ReLU(inplace=True)\n",
    "            )\n",
    "        #print(downsample)\n",
    "        layers = []\n",
    "        layers.append(block(self.inplanes, planes, stride, downsample))\n",
    "        self.inplanes = planes * block.expansion\n",
    "        for i in range(1, blocks):\n",
    "            layers.append(block(self.inplanes, planes))\n",
    "\n",
    "        return nn.Sequential(*layers)\n",
    "\n",
    "    def forward(self, x):\n",
    "        x = self.conv1(x)\n",
    "        x = self.bn1(x)\n",
    "        x = self.relu(x)\n",
    "        x = self.maxpool(x)\n",
    "        x = self.layer1(x)\n",
    "        x = self.layer2(x)\n",
    "        x = self.layer3(x)\n",
    "        #x = self.layer4(x)\n",
    "        #print(x.shape)\n",
    "        x = self.avgpool(x)\n",
    "        #print(x.shape)\n",
    "        x = x.view(x.size(0), -1)\n",
    "        x = self.fc(x)\n",
    "\n",
    "        return x"
   ]
  },
  {
   "cell_type": "code",
   "execution_count": 4,
   "metadata": {},
   "outputs": [
    {
     "data": {
      "text/plain": [
       "117466"
      ]
     },
     "execution_count": 4,
     "metadata": {},
     "output_type": "execute_result"
    }
   ],
   "source": [
    "model = ResNet(BasicBlock, [1, 1, 1], num_classes=len(CLASSES), in_channels=1)\n",
    "def count_parameters(model):\n",
    "    return sum(p.numel() for p in model.parameters() if p.requires_grad)\n",
    "\n",
    "count_parameters(model)"
   ]
  },
  {
   "cell_type": "code",
   "execution_count": 5,
   "metadata": {},
   "outputs": [],
   "source": [
    "class Arg():\n",
    "    def __init__(self):\n",
    "        self.train_dataset=\"/home/cilab/LabMembers/YS/Speech/life/experiments/train\"\n",
    "        self.valid_dataset=\"/home/cilab/LabMembers/YS/Speech/life/experiments/valid\"\n",
    "        self.background_noise=\"/home/cilab/LabMembers/YS/Speech/_background_noise_\"\n",
    "        self.comment=\"\"\n",
    "        self.batch_size=64\n",
    "        self.dataload_workers_nums=6\n",
    "        self.weight_decay=1e-2\n",
    "        self.optim='sgd'\n",
    "        self.learning_rate=0.01\n",
    "        self.lr_scheduler='plateau'\n",
    "        self.lr_scheduler_patience=5\n",
    "        self.lr_scheduler_step_size=50\n",
    "        self.lr_scheduler_gamma=0.1\n",
    "        self.max_epochs=70\n",
    "        self.resume=None\n",
    "        self.model=\"resnet8-nomixup-mfcc40\"\n",
    "        self.input=\"mel40\"\n",
    "        self.mixup=False\n",
    "args = Arg()"
   ]
  },
  {
   "cell_type": "code",
   "execution_count": 6,
   "metadata": {},
   "outputs": [
    {
     "name": "stdout",
     "output_type": "stream",
     "text": [
      "use_gpu True\n",
      "all :  ['미세먼지', '유튜브', '마이크', '캘린더', '메시지', '이야기', '네이버', '카카오', '커피숍', '인터넷', '이미지', '서비스', '카메라', '내비게이션', '이메일']\n",
      "all :  ['미세먼지', '유튜브', '마이크', '캘린더', '메시지', '이야기', '네이버', '카카오', '커피숍', '인터넷', '이미지', '서비스', '카메라', '내비게이션', '이메일']\n"
     ]
    },
    {
     "name": "stderr",
     "output_type": "stream",
     "text": [
      "/home/cilab/LabMembers/YS/Speech/pytorch-speech-commands/datasets/speech_commands_dataset.py:70: RuntimeWarning: divide by zero encountered in true_divide\n",
      "  weight_per_class = N / count\n"
     ]
    }
   ],
   "source": [
    "use_gpu = torch.cuda.is_available()\n",
    "print('use_gpu', use_gpu)\n",
    "if use_gpu:\n",
    "    torch.backends.cudnn.benchmark = True\n",
    "\n",
    "n_mels = 32\n",
    "if args.input == 'mel40':\n",
    "    n_mels = 40\n",
    "\n",
    "data_aug_transform = Compose([ChangeAmplitude(), ChangeSpeedAndPitchAudio(), FixAudioLength()])\n",
    "bg_dataset = BackgroundNoiseDataset(args.background_noise, data_aug_transform)\n",
    "add_bg_noise = AddBackgroundNoiseOnSTFT(bg_dataset)\n",
    "train_feature_transform = Compose([ToMfcc(n_mels=n_mels), ToTensor('mfcc', 'input')])\n",
    "train_dataset = SpeechCommandsDataset(args.train_dataset,\n",
    "                                Compose([LoadAudio(),\n",
    "                                         data_aug_transform,\n",
    "                                         train_feature_transform]), silence_percentage=0)\n",
    "\n",
    "valid_feature_transform = Compose([ToMfcc(n_mels=n_mels), ToTensor('mfcc', 'input')])\n",
    "valid_dataset = SpeechCommandsDataset(args.valid_dataset,\n",
    "                                Compose([LoadAudio(),\n",
    "                                         data_aug_transform,\n",
    "                                         valid_feature_transform]), silence_percentage=0)\n",
    "\n",
    "weights = train_dataset.make_weights_for_balanced_classes()\n",
    "sampler = WeightedRandomSampler(weights, len(weights))\n",
    "train_dataloader = DataLoader(train_dataset, batch_size=args.batch_size, sampler=sampler,\n",
    "                              pin_memory=use_gpu, num_workers=args.dataload_workers_nums)\n",
    "valid_dataloader = DataLoader(valid_dataset, batch_size=args.batch_size, shuffle=False,\n",
    "                              pin_memory=use_gpu, num_workers=args.dataload_workers_nums)"
   ]
  },
  {
   "cell_type": "code",
   "execution_count": 7,
   "metadata": {
    "scrolled": true
   },
   "outputs": [
    {
     "name": "stdout",
     "output_type": "stream",
     "text": [
      "ResNet(\n",
      "  (conv1): Conv2d(1, 45, kernel_size=(3, 3), stride=(1, 1), padding=(3, 3), bias=False)\n",
      "  (bn1): BatchNorm2d(45, eps=1e-05, momentum=0.1, affine=True, track_running_stats=True)\n",
      "  (relu): ReLU(inplace=True)\n",
      "  (maxpool): MaxPool2d(kernel_size=(4, 3), stride=1, padding=0, dilation=1, ceil_mode=False)\n",
      "  (layer1): Sequential(\n",
      "    (0): BasicBlock(\n",
      "      (conv1): Conv2d(45, 45, kernel_size=(3, 3), stride=(2, 2), padding=(1, 1), bias=False)\n",
      "      (bn1): BatchNorm2d(45, eps=1e-05, momentum=0.1, affine=True, track_running_stats=True)\n",
      "      (relu): ReLU(inplace=True)\n",
      "      (conv2): Conv2d(45, 45, kernel_size=(3, 3), stride=(1, 1), padding=(1, 1), bias=False)\n",
      "      (bn2): BatchNorm2d(45, eps=1e-05, momentum=0.1, affine=True, track_running_stats=True)\n",
      "      (downsample): Sequential(\n",
      "        (0): Conv2d(45, 45, kernel_size=(1, 1), stride=(2, 2), bias=False)\n",
      "        (1): BatchNorm2d(45, eps=1e-05, momentum=0.1, affine=True, track_running_stats=True)\n",
      "        (2): ReLU(inplace=True)\n",
      "      )\n",
      "    )\n",
      "  )\n",
      "  (layer2): Sequential(\n",
      "    (0): BasicBlock(\n",
      "      (conv1): Conv2d(45, 45, kernel_size=(3, 3), stride=(2, 2), padding=(1, 1), bias=False)\n",
      "      (bn1): BatchNorm2d(45, eps=1e-05, momentum=0.1, affine=True, track_running_stats=True)\n",
      "      (relu): ReLU(inplace=True)\n",
      "      (conv2): Conv2d(45, 45, kernel_size=(3, 3), stride=(1, 1), padding=(1, 1), bias=False)\n",
      "      (bn2): BatchNorm2d(45, eps=1e-05, momentum=0.1, affine=True, track_running_stats=True)\n",
      "      (downsample): Sequential(\n",
      "        (0): Conv2d(45, 45, kernel_size=(1, 1), stride=(2, 2), bias=False)\n",
      "        (1): BatchNorm2d(45, eps=1e-05, momentum=0.1, affine=True, track_running_stats=True)\n",
      "        (2): ReLU(inplace=True)\n",
      "      )\n",
      "    )\n",
      "  )\n",
      "  (layer3): Sequential(\n",
      "    (0): BasicBlock(\n",
      "      (conv1): Conv2d(45, 45, kernel_size=(3, 3), stride=(2, 2), padding=(1, 1), bias=False)\n",
      "      (bn1): BatchNorm2d(45, eps=1e-05, momentum=0.1, affine=True, track_running_stats=True)\n",
      "      (relu): ReLU(inplace=True)\n",
      "      (conv2): Conv2d(45, 45, kernel_size=(3, 3), stride=(1, 1), padding=(1, 1), bias=False)\n",
      "      (bn2): BatchNorm2d(45, eps=1e-05, momentum=0.1, affine=True, track_running_stats=True)\n",
      "      (downsample): Sequential(\n",
      "        (0): Conv2d(45, 45, kernel_size=(1, 1), stride=(2, 2), bias=False)\n",
      "        (1): BatchNorm2d(45, eps=1e-05, momentum=0.1, affine=True, track_running_stats=True)\n",
      "        (2): ReLU(inplace=True)\n",
      "      )\n",
      "    )\n",
      "  )\n",
      "  (avgpool): AdaptiveAvgPool2d(output_size=(1, 1))\n",
      "  (fc): Linear(in_features=45, out_features=16, bias=True)\n",
      ")\n"
     ]
    }
   ],
   "source": [
    "# a name used to save checkpoints etc.\n",
    "full_name = '%s_%s_%s_bs%d_lr%.1e_wd%.1e' % (args.model, args.optim, args.lr_scheduler, args.batch_size, args.learning_rate, args.weight_decay)\n",
    "if args.comment:\n",
    "    full_name = '%s_%s' % (full_name, args.comment)\n",
    "\n",
    "#model = models.create_model(model_name=args.model, num_classes=len(CLASSES), in_channels=1)\n",
    "model = ResNet(BasicBlock, [1, 1, 1], num_classes=len(CLASSES), in_channels=1)\n",
    "print(model)\n",
    "if use_gpu:\n",
    "    model = torch.nn.DataParallel(model).cuda()\n",
    "\n",
    "criterion = torch.nn.CrossEntropyLoss()\n",
    "\n",
    "if args.optim == 'sgd':\n",
    "    optimizer = torch.optim.SGD(model.parameters(), lr=args.learning_rate, momentum=0.9, weight_decay=args.weight_decay)\n",
    "else:\n",
    "    optimizer = torch.optim.Adam(model.parameters(), lr=args.learning_rate, weight_decay=args.weight_decay)\n",
    "\n",
    "start_timestamp = int(time.time()*1000)\n",
    "start_epoch = 0\n",
    "best_accuracy = 0\n",
    "best_loss = 1e100\n",
    "global_step = 0\n",
    "\n",
    "if args.resume:\n",
    "    print(\"resuming a checkpoint '%s'\" % args.resume)\n",
    "    checkpoint = torch.load(args.resume)\n",
    "    model.load_state_dict(checkpoint['state_dict'])\n",
    "    model.float()\n",
    "    optimizer.load_state_dict(checkpoint['optimizer'])\n",
    "\n",
    "    best_accuracy = checkpoint.get('accuracy', best_accuracy)\n",
    "    best_loss = checkpoint.get('loss', best_loss)\n",
    "    start_epoch = checkpoint.get('epoch', start_epoch)\n",
    "    global_step = checkpoint.get('step', global_step)\n",
    "\n",
    "    del checkpoint  # reduce memory\n",
    "\n",
    "if args.lr_scheduler == 'plateau':\n",
    "    lr_scheduler = torch.optim.lr_scheduler.ReduceLROnPlateau(optimizer, patience=args.lr_scheduler_patience, factor=args.lr_scheduler_gamma)\n",
    "else:\n",
    "    lr_scheduler = torch.optim.lr_scheduler.StepLR(optimizer, step_size=args.lr_scheduler_step_size, gamma=args.lr_scheduler_gamma, last_epoch=start_epoch-1)"
   ]
  },
  {
   "cell_type": "code",
   "execution_count": 8,
   "metadata": {},
   "outputs": [
    {
     "data": {
      "text/plain": [
       "117466"
      ]
     },
     "execution_count": 8,
     "metadata": {},
     "output_type": "execute_result"
    }
   ],
   "source": [
    "def count_parameters(model):\n",
    "    return sum(p.numel() for p in model.parameters() if p.requires_grad)\n",
    "\n",
    "count_parameters(model)"
   ]
  },
  {
   "cell_type": "code",
   "execution_count": 9,
   "metadata": {},
   "outputs": [],
   "source": [
    "def get_lr():\n",
    "    return optimizer.param_groups[0]['lr']\n",
    "\n",
    "writer = SummaryWriter(comment=('_speech_commands_' + full_name))\n",
    "\n",
    "def train(epoch):\n",
    "    global global_step\n",
    "\n",
    "    print(\"epoch %3d with lr=%.02e\" % (epoch, get_lr()))\n",
    "    phase = 'train'\n",
    "    writer.add_scalar('%s/learning_rate' % phase,  get_lr(), epoch)\n",
    "\n",
    "    model.train()  # Set model to training mode\n",
    "\n",
    "    running_loss = 0.0\n",
    "    it = 0\n",
    "    correct = 0\n",
    "    total = 0\n",
    "\n",
    "    pbar = tqdm(train_dataloader, unit=\"audios\", unit_scale=train_dataloader.batch_size)\n",
    "    for batch in pbar:\n",
    "        inputs = batch['input']\n",
    "        inputs = torch.unsqueeze(inputs, 1)\n",
    "        targets = batch['target']\n",
    "        #print(inputs.shape)\n",
    "        if args.mixup:\n",
    "            inputs, targets = mixup(inputs, targets, num_classes=len(CLASSES))\n",
    "\n",
    "        inputs = Variable(inputs, requires_grad=True)\n",
    "        targets = Variable(targets, requires_grad=False)\n",
    "        if use_gpu:\n",
    "            inputs = inputs.cuda()\n",
    "            targets = targets.cuda(async=True)\n",
    "\n",
    "        # forward/backward\n",
    "        outputs = model(inputs)\n",
    "        if args.mixup:\n",
    "            loss = mixup_cross_entropy_loss(outputs, targets)\n",
    "        else:\n",
    "            loss = criterion(outputs, targets)\n",
    "        optimizer.zero_grad()\n",
    "        loss.backward()\n",
    "        optimizer.step()\n",
    "\n",
    "        # statistics\n",
    "        it += 1\n",
    "        global_step += 1\n",
    "        running_loss += loss.item()\n",
    "        pred = outputs.data.max(1, keepdim=True)[1]\n",
    "        if args.mixup:\n",
    "            targets = batch['target']\n",
    "            targets = Variable(targets, requires_grad=False).cuda(async=True)\n",
    "        correct += pred.eq(targets.data.view_as(pred)).sum()\n",
    "        total += targets.size(0)\n",
    "\n",
    "        writer.add_scalar('%s/loss' % phase, loss.item(), global_step)\n",
    "\n",
    "        # update the progress bar\n",
    "        pbar.set_postfix({\n",
    "            'loss': \"%.05f\" % (running_loss / it),\n",
    "            'acc': \"%.02f%%\" % (100*correct/total)\n",
    "        })\n",
    "\n",
    "    accuracy = correct/total\n",
    "    epoch_loss = running_loss / it\n",
    "    writer.add_scalar('%s/accuracy' % phase, 100*accuracy, epoch)\n",
    "    writer.add_scalar('%s/epoch_loss' % phase, epoch_loss, epoch)"
   ]
  },
  {
   "cell_type": "code",
   "execution_count": 10,
   "metadata": {},
   "outputs": [],
   "source": [
    "def valid(epoch):\n",
    "    global best_accuracy, best_loss, global_step\n",
    "\n",
    "    phase = 'valid'\n",
    "    model.eval()  # Set model to evaluate mode\n",
    "\n",
    "    running_loss = 0.0\n",
    "    it = 0\n",
    "    correct = 0\n",
    "    total = 0\n",
    "\n",
    "    pbar = tqdm(valid_dataloader, unit=\"audios\", unit_scale=valid_dataloader.batch_size)\n",
    "    for batch in pbar:\n",
    "        inputs = batch['input']\n",
    "        inputs = torch.unsqueeze(inputs, 1)\n",
    "        targets = batch['target']\n",
    "\n",
    "        inputs = Variable(inputs, volatile = True)\n",
    "        targets = Variable(targets, requires_grad=False)\n",
    "\n",
    "        if use_gpu:\n",
    "            inputs = inputs.cuda()\n",
    "            targets = targets.cuda(async=True)\n",
    "\n",
    "        # forward\n",
    "        outputs = model(inputs)\n",
    "        loss = criterion(outputs, targets)\n",
    "\n",
    "        # statistics\n",
    "        it += 1\n",
    "        global_step += 1\n",
    "        running_loss += loss.item()\n",
    "        pred = outputs.data.max(1, keepdim=True)[1]\n",
    "        correct += pred.eq(targets.data.view_as(pred)).sum()\n",
    "        total += targets.size(0)\n",
    "\n",
    "        writer.add_scalar('%s/loss' % phase, loss.item(), global_step)\n",
    "\n",
    "        # update the progress bar\n",
    "        pbar.set_postfix({\n",
    "            'loss': \"%.05f\" % (running_loss / it),\n",
    "            'acc': \"%.02f%%\" % (100*correct/total)\n",
    "        })\n",
    "\n",
    "    accuracy = 100*correct/total\n",
    "    epoch_loss = running_loss / it\n",
    "    writer.add_scalar('%s/accuracy' % phase, accuracy, epoch)\n",
    "    writer.add_scalar('%s/epoch_loss' % phase, epoch_loss, epoch)\n",
    "    checkpoint = {\n",
    "        'epoch': epoch,\n",
    "        'step': global_step,\n",
    "        'state_dict': model.state_dict(),\n",
    "        'loss': epoch_loss,\n",
    "        'accuracy': accuracy,\n",
    "        'optimizer' : optimizer.state_dict(),\n",
    "    }\n",
    "    if accuracy > best_accuracy:\n",
    "        best_accuracy = accuracy\n",
    "        torch.save(checkpoint, 'checkpoints/best-acc-resnet18-%s.pth' % full_name)\n",
    "        torch.save(model, '%d-%s-best-loss.pth' % (start_timestamp, full_name))\n",
    "    if epoch_loss < best_loss:\n",
    "        best_loss = epoch_loss\n",
    "        torch.save(checkpoint, 'checkpoints/best-loss-resnet18-%s.pth' % full_name)\n",
    "        torch.save(model, '%d-%s-best-acc.pth' % (start_timestamp, full_name))\n",
    "    torch.save(model, './res18.pth')\n",
    "    #torch.save(checkpoint, 'checkpoints/Resnet18.pth')\n",
    "    del checkpoint  # reduce memory\n",
    "\n",
    "    return epoch_loss"
   ]
  },
  {
   "cell_type": "code",
   "execution_count": 11,
   "metadata": {},
   "outputs": [
    {
     "name": "stderr",
     "output_type": "stream",
     "text": [
      "\r",
      "  0%|          | 0/448 [00:00<?, ?audios/s]"
     ]
    },
    {
     "name": "stdout",
     "output_type": "stream",
     "text": [
      "training resnet8-nomixup-mfcc40 for Google speech commands...\n",
      "epoch   0 with lr=1.00e-02\n"
     ]
    },
    {
     "name": "stderr",
     "output_type": "stream",
     "text": [
      "100%|██████████| 448/448 [00:11<00:00, 39.76audios/s, loss=2.81114, acc=6.00%]\n",
      "  0%|          | 0/128 [00:00<?, ?audios/s]/usr/local/lib/python3.6/dist-packages/ipykernel_launcher.py:18: UserWarning: volatile was removed and now has no effect. Use `with torch.no_grad():` instead.\n",
      "100%|██████████| 128/128 [00:01<00:00, 114.76audios/s, loss=2.53891, acc=4.00%]\n",
      "/home/cilab/.local/lib/python3.6/site-packages/torch/serialization.py:292: UserWarning: Couldn't retrieve source code for container of type DataParallel. It won't be checked for correctness upon loading.\n",
      "  \"type \" + obj.__name__ + \". It won't be checked \"\n",
      "/home/cilab/.local/lib/python3.6/site-packages/torch/serialization.py:292: UserWarning: Couldn't retrieve source code for container of type ResNet. It won't be checked for correctness upon loading.\n",
      "  \"type \" + obj.__name__ + \". It won't be checked \"\n",
      "/home/cilab/.local/lib/python3.6/site-packages/torch/serialization.py:292: UserWarning: Couldn't retrieve source code for container of type Conv2d. It won't be checked for correctness upon loading.\n",
      "  \"type \" + obj.__name__ + \". It won't be checked \"\n",
      "/home/cilab/.local/lib/python3.6/site-packages/torch/serialization.py:292: UserWarning: Couldn't retrieve source code for container of type BatchNorm2d. It won't be checked for correctness upon loading.\n",
      "  \"type \" + obj.__name__ + \". It won't be checked \"\n",
      "/home/cilab/.local/lib/python3.6/site-packages/torch/serialization.py:292: UserWarning: Couldn't retrieve source code for container of type ReLU. It won't be checked for correctness upon loading.\n",
      "  \"type \" + obj.__name__ + \". It won't be checked \"\n",
      "/home/cilab/.local/lib/python3.6/site-packages/torch/serialization.py:292: UserWarning: Couldn't retrieve source code for container of type MaxPool2d. It won't be checked for correctness upon loading.\n",
      "  \"type \" + obj.__name__ + \". It won't be checked \"\n",
      "/home/cilab/.local/lib/python3.6/site-packages/torch/serialization.py:292: UserWarning: Couldn't retrieve source code for container of type Sequential. It won't be checked for correctness upon loading.\n",
      "  \"type \" + obj.__name__ + \". It won't be checked \"\n",
      "/home/cilab/.local/lib/python3.6/site-packages/torch/serialization.py:292: UserWarning: Couldn't retrieve source code for container of type BasicBlock. It won't be checked for correctness upon loading.\n",
      "  \"type \" + obj.__name__ + \". It won't be checked \"\n",
      "/home/cilab/.local/lib/python3.6/site-packages/torch/serialization.py:292: UserWarning: Couldn't retrieve source code for container of type AdaptiveAvgPool2d. It won't be checked for correctness upon loading.\n",
      "  \"type \" + obj.__name__ + \". It won't be checked \"\n",
      "/home/cilab/.local/lib/python3.6/site-packages/torch/serialization.py:292: UserWarning: Couldn't retrieve source code for container of type Linear. It won't be checked for correctness upon loading.\n",
      "  \"type \" + obj.__name__ + \". It won't be checked \"\n",
      "  0%|          | 0/448 [00:00<?, ?audios/s]"
     ]
    },
    {
     "name": "stdout",
     "output_type": "stream",
     "text": [
      "<class 'float'>\n",
      "total time elapsed: 0h 0m 12s , best accuracy: 4.00%, best loss 2.538907\n",
      "epoch   1 with lr=1.00e-02\n"
     ]
    },
    {
     "name": "stderr",
     "output_type": "stream",
     "text": [
      "100%|██████████| 448/448 [00:01<00:00, 331.96audios/s, loss=2.73156, acc=9.00%]\n",
      "100%|██████████| 128/128 [00:01<00:00, 116.38audios/s, loss=2.68234, acc=7.00%]\n",
      "  0%|          | 0/448 [00:00<?, ?audios/s]"
     ]
    },
    {
     "name": "stdout",
     "output_type": "stream",
     "text": [
      "<class 'float'>\n",
      "total time elapsed: 0h 0m 15s , best accuracy: 7.00%, best loss 2.538907\n",
      "epoch   2 with lr=1.00e-02\n"
     ]
    },
    {
     "name": "stderr",
     "output_type": "stream",
     "text": [
      "100%|██████████| 448/448 [00:01<00:00, 319.88audios/s, loss=2.67083, acc=15.00%]\n",
      "100%|██████████| 128/128 [00:01<00:00, 116.41audios/s, loss=2.85396, acc=3.00%]\n",
      "  0%|          | 0/448 [00:00<?, ?audios/s]"
     ]
    },
    {
     "name": "stdout",
     "output_type": "stream",
     "text": [
      "<class 'float'>\n",
      "total time elapsed: 0h 0m 17s , best accuracy: 7.00%, best loss 2.538907\n",
      "epoch   3 with lr=1.00e-02\n"
     ]
    },
    {
     "name": "stderr",
     "output_type": "stream",
     "text": [
      "100%|██████████| 448/448 [00:01<00:00, 317.43audios/s, loss=2.65542, acc=12.00%]\n",
      "100%|██████████| 128/128 [00:01<00:00, 118.96audios/s, loss=2.85853, acc=6.00%]\n",
      "  0%|          | 0/448 [00:00<?, ?audios/s]"
     ]
    },
    {
     "name": "stdout",
     "output_type": "stream",
     "text": [
      "<class 'float'>\n",
      "total time elapsed: 0h 0m 20s , best accuracy: 7.00%, best loss 2.538907\n",
      "epoch   4 with lr=1.00e-02\n"
     ]
    },
    {
     "name": "stderr",
     "output_type": "stream",
     "text": [
      "100%|██████████| 448/448 [00:01<00:00, 361.85audios/s, loss=2.62627, acc=20.00%]\n",
      "100%|██████████| 128/128 [00:01<00:00, 126.13audios/s, loss=2.75097, acc=12.00%]\n",
      "  0%|          | 0/448 [00:00<?, ?audios/s]"
     ]
    },
    {
     "name": "stdout",
     "output_type": "stream",
     "text": [
      "<class 'float'>\n",
      "total time elapsed: 0h 0m 22s , best accuracy: 12.00%, best loss 2.538907\n",
      "epoch   5 with lr=1.00e-02\n"
     ]
    },
    {
     "name": "stderr",
     "output_type": "stream",
     "text": [
      "100%|██████████| 448/448 [00:01<00:00, 316.74audios/s, loss=2.58628, acc=25.00%]\n",
      "100%|██████████| 128/128 [00:00<00:00, 135.48audios/s, loss=2.67735, acc=18.00%]\n",
      "  0%|          | 0/448 [00:00<?, ?audios/s]"
     ]
    },
    {
     "name": "stdout",
     "output_type": "stream",
     "text": [
      "<class 'float'>\n",
      "total time elapsed: 0h 0m 25s , best accuracy: 18.00%, best loss 2.538907\n",
      "epoch   6 with lr=1.00e-02\n"
     ]
    },
    {
     "name": "stderr",
     "output_type": "stream",
     "text": [
      "100%|██████████| 448/448 [00:01<00:00, 337.48audios/s, loss=2.54331, acc=27.00%]\n",
      "100%|██████████| 128/128 [00:01<00:00, 105.38audios/s, loss=2.51607, acc=15.00%]\n",
      "  0%|          | 0/448 [00:00<?, ?audios/s]"
     ]
    },
    {
     "name": "stdout",
     "output_type": "stream",
     "text": [
      "<class 'float'>\n",
      "total time elapsed: 0h 0m 27s , best accuracy: 18.00%, best loss 2.516073\n",
      "epoch   7 with lr=1.00e-02\n"
     ]
    },
    {
     "name": "stderr",
     "output_type": "stream",
     "text": [
      "100%|██████████| 448/448 [00:01<00:00, 338.52audios/s, loss=2.49132, acc=27.00%]\n",
      "100%|██████████| 128/128 [00:00<00:00, 139.65audios/s, loss=2.48588, acc=21.00%]\n",
      "  0%|          | 0/448 [00:00<?, ?audios/s]"
     ]
    },
    {
     "name": "stdout",
     "output_type": "stream",
     "text": [
      "<class 'float'>\n",
      "total time elapsed: 0h 0m 30s , best accuracy: 21.00%, best loss 2.485883\n",
      "epoch   8 with lr=1.00e-02\n"
     ]
    },
    {
     "name": "stderr",
     "output_type": "stream",
     "text": [
      "100%|██████████| 448/448 [00:01<00:00, 270.32audios/s, loss=2.42305, acc=30.00%]\n",
      "100%|██████████| 128/128 [00:01<00:00, 125.25audios/s, loss=2.46379, acc=28.00%]\n",
      "  0%|          | 0/448 [00:00<?, ?audios/s]"
     ]
    },
    {
     "name": "stdout",
     "output_type": "stream",
     "text": [
      "<class 'float'>\n",
      "total time elapsed: 0h 0m 32s , best accuracy: 28.00%, best loss 2.463787\n",
      "epoch   9 with lr=1.00e-02\n"
     ]
    },
    {
     "name": "stderr",
     "output_type": "stream",
     "text": [
      "100%|██████████| 448/448 [00:01<00:00, 337.21audios/s, loss=2.39215, acc=28.00%]\n",
      "100%|██████████| 128/128 [00:01<00:00, 121.75audios/s, loss=2.46274, acc=15.00%]\n",
      "  0%|          | 0/448 [00:00<?, ?audios/s]"
     ]
    },
    {
     "name": "stdout",
     "output_type": "stream",
     "text": [
      "<class 'float'>\n",
      "total time elapsed: 0h 0m 35s , best accuracy: 28.00%, best loss 2.462744\n",
      "epoch  10 with lr=1.00e-02\n"
     ]
    },
    {
     "name": "stderr",
     "output_type": "stream",
     "text": [
      "100%|██████████| 448/448 [00:01<00:00, 319.54audios/s, loss=2.31322, acc=33.00%]\n",
      "100%|██████████| 128/128 [00:01<00:00, 113.84audios/s, loss=2.55296, acc=15.00%]\n",
      "  0%|          | 0/448 [00:00<?, ?audios/s]"
     ]
    },
    {
     "name": "stdout",
     "output_type": "stream",
     "text": [
      "<class 'float'>\n",
      "total time elapsed: 0h 0m 37s , best accuracy: 28.00%, best loss 2.462744\n",
      "epoch  11 with lr=1.00e-02\n"
     ]
    },
    {
     "name": "stderr",
     "output_type": "stream",
     "text": [
      "100%|██████████| 448/448 [00:01<00:00, 333.51audios/s, loss=2.24810, acc=34.00%]\n",
      "100%|██████████| 128/128 [00:01<00:00, 108.10audios/s, loss=2.44907, acc=15.00%]\n",
      "  0%|          | 0/448 [00:00<?, ?audios/s]"
     ]
    },
    {
     "name": "stdout",
     "output_type": "stream",
     "text": [
      "<class 'float'>\n",
      "total time elapsed: 0h 0m 40s , best accuracy: 28.00%, best loss 2.449066\n",
      "epoch  12 with lr=1.00e-02\n"
     ]
    },
    {
     "name": "stderr",
     "output_type": "stream",
     "text": [
      "100%|██████████| 448/448 [00:01<00:00, 367.13audios/s, loss=2.15566, acc=36.00%]\n",
      "100%|██████████| 128/128 [00:01<00:00, 110.33audios/s, loss=2.26334, acc=21.00%]\n",
      "  0%|          | 0/448 [00:00<?, ?audios/s]"
     ]
    },
    {
     "name": "stdout",
     "output_type": "stream",
     "text": [
      "<class 'float'>\n",
      "total time elapsed: 0h 0m 42s , best accuracy: 28.00%, best loss 2.263337\n",
      "epoch  13 with lr=1.00e-02\n"
     ]
    },
    {
     "name": "stderr",
     "output_type": "stream",
     "text": [
      "100%|██████████| 448/448 [00:01<00:00, 326.23audios/s, loss=2.07371, acc=38.00%]\n",
      "100%|██████████| 128/128 [00:01<00:00, 118.81audios/s, loss=2.30575, acc=21.00%]\n",
      "  0%|          | 0/448 [00:00<?, ?audios/s]"
     ]
    },
    {
     "name": "stdout",
     "output_type": "stream",
     "text": [
      "<class 'float'>\n",
      "total time elapsed: 0h 0m 45s , best accuracy: 28.00%, best loss 2.263337\n",
      "epoch  14 with lr=1.00e-02\n"
     ]
    },
    {
     "name": "stderr",
     "output_type": "stream",
     "text": [
      "100%|██████████| 448/448 [00:01<00:00, 326.46audios/s, loss=2.07548, acc=38.00%]\n",
      "100%|██████████| 128/128 [00:01<00:00, 121.73audios/s, loss=2.15784, acc=24.00%]\n",
      "  0%|          | 0/448 [00:00<?, ?audios/s]"
     ]
    },
    {
     "name": "stdout",
     "output_type": "stream",
     "text": [
      "<class 'float'>\n",
      "total time elapsed: 0h 0m 47s , best accuracy: 28.00%, best loss 2.157836\n",
      "epoch  15 with lr=1.00e-02\n"
     ]
    },
    {
     "name": "stderr",
     "output_type": "stream",
     "text": [
      "100%|██████████| 448/448 [00:01<00:00, 300.66audios/s, loss=2.01064, acc=42.00%]\n",
      "100%|██████████| 128/128 [00:01<00:00, 123.90audios/s, loss=2.11365, acc=21.00%]\n",
      "  0%|          | 0/448 [00:00<?, ?audios/s]"
     ]
    },
    {
     "name": "stdout",
     "output_type": "stream",
     "text": [
      "<class 'float'>\n",
      "total time elapsed: 0h 0m 50s , best accuracy: 28.00%, best loss 2.113647\n",
      "epoch  16 with lr=1.00e-02\n"
     ]
    },
    {
     "name": "stderr",
     "output_type": "stream",
     "text": [
      "100%|██████████| 448/448 [00:01<00:00, 355.70audios/s, loss=1.93472, acc=48.00%]\n",
      "100%|██████████| 128/128 [00:01<00:00, 113.06audios/s, loss=2.21050, acc=19.00%]\n",
      "  0%|          | 0/448 [00:00<?, ?audios/s]"
     ]
    },
    {
     "name": "stdout",
     "output_type": "stream",
     "text": [
      "<class 'float'>\n",
      "total time elapsed: 0h 0m 52s , best accuracy: 28.00%, best loss 2.113647\n",
      "epoch  17 with lr=1.00e-02\n"
     ]
    },
    {
     "name": "stderr",
     "output_type": "stream",
     "text": [
      "100%|██████████| 448/448 [00:01<00:00, 320.48audios/s, loss=1.87175, acc=49.00%]\n",
      "100%|██████████| 128/128 [00:01<00:00, 126.11audios/s, loss=2.50948, acc=18.00%]\n",
      "  0%|          | 0/448 [00:00<?, ?audios/s]"
     ]
    },
    {
     "name": "stdout",
     "output_type": "stream",
     "text": [
      "<class 'float'>\n",
      "total time elapsed: 0h 0m 55s , best accuracy: 28.00%, best loss 2.113647\n",
      "epoch  18 with lr=1.00e-02\n"
     ]
    },
    {
     "name": "stderr",
     "output_type": "stream",
     "text": [
      "100%|██████████| 448/448 [00:01<00:00, 244.20audios/s, loss=1.85816, acc=44.00%]\n",
      "100%|██████████| 128/128 [00:00<00:00, 136.87audios/s, loss=2.11068, acc=27.00%]\n",
      "  0%|          | 0/448 [00:00<?, ?audios/s]"
     ]
    },
    {
     "name": "stdout",
     "output_type": "stream",
     "text": [
      "<class 'float'>\n",
      "total time elapsed: 0h 0m 58s , best accuracy: 28.00%, best loss 2.110676\n",
      "epoch  19 with lr=1.00e-02\n"
     ]
    },
    {
     "name": "stderr",
     "output_type": "stream",
     "text": [
      "100%|██████████| 448/448 [00:01<00:00, 327.98audios/s, loss=1.78076, acc=52.00%]\n",
      "100%|██████████| 128/128 [00:01<00:00, 105.12audios/s, loss=1.98049, acc=36.00%]\n",
      "  0%|          | 0/448 [00:00<?, ?audios/s]"
     ]
    },
    {
     "name": "stdout",
     "output_type": "stream",
     "text": [
      "<class 'float'>\n",
      "total time elapsed: 0h 1m 0s , best accuracy: 36.00%, best loss 1.980494\n",
      "epoch  20 with lr=1.00e-02\n"
     ]
    },
    {
     "name": "stderr",
     "output_type": "stream",
     "text": [
      "100%|██████████| 448/448 [00:01<00:00, 343.11audios/s, loss=1.71621, acc=49.00%]\n",
      "100%|██████████| 128/128 [00:01<00:00, 120.35audios/s, loss=2.03952, acc=33.00%]\n",
      "  0%|          | 0/448 [00:00<?, ?audios/s]"
     ]
    },
    {
     "name": "stdout",
     "output_type": "stream",
     "text": [
      "<class 'float'>\n",
      "total time elapsed: 0h 1m 3s , best accuracy: 36.00%, best loss 1.980494\n",
      "epoch  21 with lr=1.00e-02\n"
     ]
    },
    {
     "name": "stderr",
     "output_type": "stream",
     "text": [
      "100%|██████████| 448/448 [00:01<00:00, 334.82audios/s, loss=1.66840, acc=57.00%]\n",
      "100%|██████████| 128/128 [00:00<00:00, 128.45audios/s, loss=2.05083, acc=31.00%]\n",
      "  0%|          | 0/448 [00:00<?, ?audios/s]"
     ]
    },
    {
     "name": "stdout",
     "output_type": "stream",
     "text": [
      "<class 'float'>\n",
      "total time elapsed: 0h 1m 5s , best accuracy: 36.00%, best loss 1.980494\n",
      "epoch  22 with lr=1.00e-02\n"
     ]
    },
    {
     "name": "stderr",
     "output_type": "stream",
     "text": [
      "100%|██████████| 448/448 [00:01<00:00, 369.33audios/s, loss=1.60254, acc=55.00%]\n",
      "100%|██████████| 128/128 [00:01<00:00, 111.20audios/s, loss=2.00060, acc=27.00%]\n",
      "  0%|          | 0/448 [00:00<?, ?audios/s]"
     ]
    },
    {
     "name": "stdout",
     "output_type": "stream",
     "text": [
      "<class 'float'>\n",
      "total time elapsed: 0h 1m 7s , best accuracy: 36.00%, best loss 1.980494\n",
      "epoch  23 with lr=1.00e-02\n"
     ]
    },
    {
     "name": "stderr",
     "output_type": "stream",
     "text": [
      "100%|██████████| 448/448 [00:01<00:00, 361.23audios/s, loss=1.54045, acc=58.00%]\n",
      "100%|██████████| 128/128 [00:01<00:00, 126.25audios/s, loss=1.82278, acc=34.00%]\n",
      "  0%|          | 0/448 [00:00<?, ?audios/s]"
     ]
    },
    {
     "name": "stdout",
     "output_type": "stream",
     "text": [
      "<class 'float'>\n",
      "total time elapsed: 0h 1m 10s , best accuracy: 36.00%, best loss 1.822780\n",
      "epoch  24 with lr=1.00e-02\n"
     ]
    },
    {
     "name": "stderr",
     "output_type": "stream",
     "text": [
      "100%|██████████| 448/448 [00:01<00:00, 303.58audios/s, loss=1.48826, acc=60.00%]\n",
      "100%|██████████| 128/128 [00:01<00:00, 119.48audios/s, loss=1.84956, acc=37.00%]\n",
      "  0%|          | 0/448 [00:00<?, ?audios/s]"
     ]
    },
    {
     "name": "stdout",
     "output_type": "stream",
     "text": [
      "<class 'float'>\n",
      "total time elapsed: 0h 1m 12s , best accuracy: 37.00%, best loss 1.822780\n",
      "epoch  25 with lr=1.00e-02\n"
     ]
    },
    {
     "name": "stderr",
     "output_type": "stream",
     "text": [
      "100%|██████████| 448/448 [00:01<00:00, 346.72audios/s, loss=1.39883, acc=65.00%]\n",
      "100%|██████████| 128/128 [00:01<00:00, 117.22audios/s, loss=1.72745, acc=39.00%]\n",
      "  0%|          | 0/448 [00:00<?, ?audios/s]"
     ]
    },
    {
     "name": "stdout",
     "output_type": "stream",
     "text": [
      "<class 'float'>\n",
      "total time elapsed: 0h 1m 15s , best accuracy: 39.00%, best loss 1.727448\n",
      "epoch  26 with lr=1.00e-02\n"
     ]
    },
    {
     "name": "stderr",
     "output_type": "stream",
     "text": [
      "100%|██████████| 448/448 [00:01<00:00, 295.93audios/s, loss=1.42961, acc=61.00%]\n",
      "100%|██████████| 128/128 [00:01<00:00, 118.67audios/s, loss=1.80216, acc=34.00%]\n",
      "  0%|          | 0/448 [00:00<?, ?audios/s]"
     ]
    },
    {
     "name": "stdout",
     "output_type": "stream",
     "text": [
      "<class 'float'>\n",
      "total time elapsed: 0h 1m 17s , best accuracy: 39.00%, best loss 1.727448\n",
      "epoch  27 with lr=1.00e-02\n"
     ]
    },
    {
     "name": "stderr",
     "output_type": "stream",
     "text": [
      "100%|██████████| 448/448 [00:01<00:00, 329.59audios/s, loss=1.29805, acc=64.00%]\n",
      "100%|██████████| 128/128 [00:01<00:00, 120.74audios/s, loss=1.68440, acc=48.00%]\n",
      "  0%|          | 0/448 [00:00<?, ?audios/s]"
     ]
    },
    {
     "name": "stdout",
     "output_type": "stream",
     "text": [
      "<class 'float'>\n",
      "total time elapsed: 0h 1m 20s , best accuracy: 48.00%, best loss 1.684399\n",
      "epoch  28 with lr=1.00e-02\n"
     ]
    },
    {
     "name": "stderr",
     "output_type": "stream",
     "text": [
      "100%|██████████| 448/448 [00:01<00:00, 260.29audios/s, loss=1.22341, acc=72.00%]\n",
      "100%|██████████| 128/128 [00:01<00:00, 123.69audios/s, loss=1.68017, acc=45.00%]\n",
      "  0%|          | 0/448 [00:00<?, ?audios/s]"
     ]
    },
    {
     "name": "stdout",
     "output_type": "stream",
     "text": [
      "<class 'float'>\n",
      "total time elapsed: 0h 1m 23s , best accuracy: 48.00%, best loss 1.680166\n",
      "epoch  29 with lr=1.00e-02\n"
     ]
    },
    {
     "name": "stderr",
     "output_type": "stream",
     "text": [
      "100%|██████████| 448/448 [00:01<00:00, 349.84audios/s, loss=1.25550, acc=66.00%]\n",
      "100%|██████████| 128/128 [00:01<00:00, 114.49audios/s, loss=1.73207, acc=42.00%]\n",
      "  0%|          | 0/448 [00:00<?, ?audios/s]"
     ]
    },
    {
     "name": "stdout",
     "output_type": "stream",
     "text": [
      "<class 'float'>\n",
      "total time elapsed: 0h 1m 25s , best accuracy: 48.00%, best loss 1.680166\n",
      "epoch  30 with lr=1.00e-02\n"
     ]
    },
    {
     "name": "stderr",
     "output_type": "stream",
     "text": [
      "100%|██████████| 448/448 [00:01<00:00, 346.50audios/s, loss=1.20473, acc=67.00%]\n",
      "100%|██████████| 128/128 [00:01<00:00, 123.55audios/s, loss=1.89356, acc=37.00%]\n",
      "  0%|          | 0/448 [00:00<?, ?audios/s]"
     ]
    },
    {
     "name": "stdout",
     "output_type": "stream",
     "text": [
      "<class 'float'>\n",
      "total time elapsed: 0h 1m 27s , best accuracy: 48.00%, best loss 1.680166\n",
      "epoch  31 with lr=1.00e-02\n"
     ]
    },
    {
     "name": "stderr",
     "output_type": "stream",
     "text": [
      "100%|██████████| 448/448 [00:01<00:00, 299.59audios/s, loss=1.12759, acc=72.00%]\n",
      "100%|██████████| 128/128 [00:01<00:00, 125.51audios/s, loss=1.43837, acc=56.00%]\n",
      "  0%|          | 0/448 [00:00<?, ?audios/s]"
     ]
    },
    {
     "name": "stdout",
     "output_type": "stream",
     "text": [
      "<class 'float'>\n",
      "total time elapsed: 0h 1m 30s , best accuracy: 56.00%, best loss 1.438372\n",
      "epoch  32 with lr=1.00e-02\n"
     ]
    },
    {
     "name": "stderr",
     "output_type": "stream",
     "text": [
      "100%|██████████| 448/448 [00:01<00:00, 353.94audios/s, loss=1.08599, acc=73.00%]\n",
      "100%|██████████| 128/128 [00:01<00:00, 122.76audios/s, loss=1.63477, acc=45.00%]\n",
      "  0%|          | 0/448 [00:00<?, ?audios/s]"
     ]
    },
    {
     "name": "stdout",
     "output_type": "stream",
     "text": [
      "<class 'float'>\n",
      "total time elapsed: 0h 1m 32s , best accuracy: 56.00%, best loss 1.438372\n",
      "epoch  33 with lr=1.00e-02\n"
     ]
    },
    {
     "name": "stderr",
     "output_type": "stream",
     "text": [
      "100%|██████████| 448/448 [00:01<00:00, 305.78audios/s, loss=1.12865, acc=72.00%]\n",
      "100%|██████████| 128/128 [00:00<00:00, 129.87audios/s, loss=3.36621, acc=27.00%]\n",
      "  0%|          | 0/448 [00:00<?, ?audios/s]"
     ]
    },
    {
     "name": "stdout",
     "output_type": "stream",
     "text": [
      "<class 'float'>\n",
      "total time elapsed: 0h 1m 35s , best accuracy: 56.00%, best loss 1.438372\n",
      "epoch  34 with lr=1.00e-02\n"
     ]
    },
    {
     "name": "stderr",
     "output_type": "stream",
     "text": [
      "100%|██████████| 448/448 [00:01<00:00, 317.33audios/s, loss=1.05130, acc=75.00%]\n",
      "100%|██████████| 128/128 [00:01<00:00, 116.64audios/s, loss=1.31286, acc=50.00%]\n",
      "  0%|          | 0/448 [00:00<?, ?audios/s]"
     ]
    },
    {
     "name": "stdout",
     "output_type": "stream",
     "text": [
      "<class 'float'>\n",
      "total time elapsed: 0h 1m 37s , best accuracy: 56.00%, best loss 1.312862\n",
      "epoch  35 with lr=1.00e-02\n"
     ]
    },
    {
     "name": "stderr",
     "output_type": "stream",
     "text": [
      "100%|██████████| 448/448 [00:01<00:00, 290.92audios/s, loss=0.97788, acc=76.00%]\n",
      "100%|██████████| 128/128 [00:00<00:00, 128.81audios/s, loss=1.39027, acc=51.00%]\n",
      "  0%|          | 0/448 [00:00<?, ?audios/s]"
     ]
    },
    {
     "name": "stdout",
     "output_type": "stream",
     "text": [
      "<class 'float'>\n",
      "total time elapsed: 0h 1m 40s , best accuracy: 56.00%, best loss 1.312862\n",
      "epoch  36 with lr=1.00e-02\n"
     ]
    },
    {
     "name": "stderr",
     "output_type": "stream",
     "text": [
      "100%|██████████| 448/448 [00:01<00:00, 292.20audios/s, loss=0.93947, acc=78.00%]\n",
      "100%|██████████| 128/128 [00:00<00:00, 128.83audios/s, loss=1.25220, acc=54.00%]\n",
      "  0%|          | 0/448 [00:00<?, ?audios/s]"
     ]
    },
    {
     "name": "stdout",
     "output_type": "stream",
     "text": [
      "<class 'float'>\n",
      "total time elapsed: 0h 1m 42s , best accuracy: 56.00%, best loss 1.252201\n",
      "epoch  37 with lr=1.00e-02\n"
     ]
    },
    {
     "name": "stderr",
     "output_type": "stream",
     "text": [
      "100%|██████████| 448/448 [00:01<00:00, 314.52audios/s, loss=0.92285, acc=77.00%]\n",
      "100%|██████████| 128/128 [00:01<00:00, 120.07audios/s, loss=1.67981, acc=37.00%]\n",
      "  0%|          | 0/448 [00:00<?, ?audios/s]"
     ]
    },
    {
     "name": "stdout",
     "output_type": "stream",
     "text": [
      "<class 'float'>\n",
      "total time elapsed: 0h 1m 45s , best accuracy: 56.00%, best loss 1.252201\n",
      "epoch  38 with lr=1.00e-02\n"
     ]
    },
    {
     "name": "stderr",
     "output_type": "stream",
     "text": [
      "100%|██████████| 448/448 [00:01<00:00, 302.34audios/s, loss=0.81342, acc=85.00%]\n",
      "100%|██████████| 128/128 [00:00<00:00, 134.90audios/s, loss=1.96386, acc=48.00%]\n",
      "  0%|          | 0/448 [00:00<?, ?audios/s]"
     ]
    },
    {
     "name": "stdout",
     "output_type": "stream",
     "text": [
      "<class 'float'>\n",
      "total time elapsed: 0h 1m 47s , best accuracy: 56.00%, best loss 1.252201\n",
      "epoch  39 with lr=1.00e-02\n"
     ]
    },
    {
     "name": "stderr",
     "output_type": "stream",
     "text": [
      "100%|██████████| 448/448 [00:01<00:00, 333.45audios/s, loss=0.81865, acc=82.00%]\n",
      "100%|██████████| 128/128 [00:01<00:00, 102.49audios/s, loss=1.20487, acc=57.00%]\n",
      "  0%|          | 0/448 [00:00<?, ?audios/s]"
     ]
    },
    {
     "name": "stdout",
     "output_type": "stream",
     "text": [
      "<class 'float'>\n",
      "total time elapsed: 0h 1m 50s , best accuracy: 57.00%, best loss 1.204868\n",
      "epoch  40 with lr=1.00e-02\n"
     ]
    },
    {
     "name": "stderr",
     "output_type": "stream",
     "text": [
      "100%|██████████| 448/448 [00:01<00:00, 361.83audios/s, loss=0.77877, acc=83.00%]\n",
      "100%|██████████| 128/128 [00:01<00:00, 126.71audios/s, loss=1.37753, acc=63.00%]\n",
      "  0%|          | 0/448 [00:00<?, ?audios/s]"
     ]
    },
    {
     "name": "stdout",
     "output_type": "stream",
     "text": [
      "<class 'float'>\n",
      "total time elapsed: 0h 1m 52s , best accuracy: 63.00%, best loss 1.204868\n",
      "epoch  41 with lr=1.00e-02\n"
     ]
    },
    {
     "name": "stderr",
     "output_type": "stream",
     "text": [
      "100%|██████████| 448/448 [00:01<00:00, 334.21audios/s, loss=0.76015, acc=83.00%]\n",
      "100%|██████████| 128/128 [00:01<00:00, 114.82audios/s, loss=1.58051, acc=34.00%]\n",
      "  0%|          | 0/448 [00:00<?, ?audios/s]"
     ]
    },
    {
     "name": "stdout",
     "output_type": "stream",
     "text": [
      "<class 'float'>\n",
      "total time elapsed: 0h 1m 55s , best accuracy: 63.00%, best loss 1.204868\n",
      "epoch  42 with lr=1.00e-02\n"
     ]
    },
    {
     "name": "stderr",
     "output_type": "stream",
     "text": [
      "100%|██████████| 448/448 [00:01<00:00, 307.18audios/s, loss=0.76860, acc=81.00%]\n",
      "100%|██████████| 128/128 [00:01<00:00, 114.45audios/s, loss=1.75547, acc=42.00%]\n",
      "  0%|          | 0/448 [00:00<?, ?audios/s]"
     ]
    },
    {
     "name": "stdout",
     "output_type": "stream",
     "text": [
      "<class 'float'>\n",
      "total time elapsed: 0h 1m 57s , best accuracy: 63.00%, best loss 1.204868\n",
      "epoch  43 with lr=1.00e-02\n"
     ]
    },
    {
     "name": "stderr",
     "output_type": "stream",
     "text": [
      "100%|██████████| 448/448 [00:01<00:00, 269.95audios/s, loss=0.67414, acc=86.00%]\n",
      "100%|██████████| 128/128 [00:01<00:00, 111.61audios/s, loss=1.18925, acc=66.00%]\n",
      "  0%|          | 0/448 [00:00<?, ?audios/s]"
     ]
    },
    {
     "name": "stdout",
     "output_type": "stream",
     "text": [
      "<class 'float'>\n",
      "total time elapsed: 0h 2m 0s , best accuracy: 66.00%, best loss 1.189246\n",
      "epoch  44 with lr=1.00e-02\n"
     ]
    },
    {
     "name": "stderr",
     "output_type": "stream",
     "text": [
      "100%|██████████| 448/448 [00:01<00:00, 257.97audios/s, loss=0.67126, acc=84.00%]\n",
      "100%|██████████| 128/128 [00:01<00:00, 122.26audios/s, loss=1.53101, acc=60.00%]\n",
      "  0%|          | 0/448 [00:00<?, ?audios/s]"
     ]
    },
    {
     "name": "stdout",
     "output_type": "stream",
     "text": [
      "<class 'float'>\n",
      "total time elapsed: 0h 2m 3s , best accuracy: 66.00%, best loss 1.189246\n",
      "epoch  45 with lr=1.00e-02\n"
     ]
    },
    {
     "name": "stderr",
     "output_type": "stream",
     "text": [
      "100%|██████████| 448/448 [00:01<00:00, 338.23audios/s, loss=0.72974, acc=82.00%]\n",
      "100%|██████████| 128/128 [00:01<00:00, 118.69audios/s, loss=1.93305, acc=43.00%]\n",
      "  0%|          | 0/448 [00:00<?, ?audios/s]"
     ]
    },
    {
     "name": "stdout",
     "output_type": "stream",
     "text": [
      "<class 'float'>\n",
      "total time elapsed: 0h 2m 6s , best accuracy: 66.00%, best loss 1.189246\n",
      "epoch  46 with lr=1.00e-02\n"
     ]
    },
    {
     "name": "stderr",
     "output_type": "stream",
     "text": [
      "100%|██████████| 448/448 [00:01<00:00, 312.40audios/s, loss=0.65349, acc=85.00%]\n",
      "100%|██████████| 128/128 [00:01<00:00, 106.53audios/s, loss=2.09907, acc=34.00%]\n",
      "  0%|          | 0/448 [00:00<?, ?audios/s]"
     ]
    },
    {
     "name": "stdout",
     "output_type": "stream",
     "text": [
      "<class 'float'>\n",
      "total time elapsed: 0h 2m 8s , best accuracy: 66.00%, best loss 1.189246\n",
      "epoch  47 with lr=1.00e-02\n"
     ]
    },
    {
     "name": "stderr",
     "output_type": "stream",
     "text": [
      "100%|██████████| 448/448 [00:01<00:00, 347.88audios/s, loss=0.61483, acc=87.00%]\n",
      "100%|██████████| 128/128 [00:01<00:00, 115.84audios/s, loss=0.91994, acc=72.00%]\n",
      "  0%|          | 0/448 [00:00<?, ?audios/s]"
     ]
    },
    {
     "name": "stdout",
     "output_type": "stream",
     "text": [
      "<class 'float'>\n",
      "total time elapsed: 0h 2m 11s , best accuracy: 72.00%, best loss 0.919939\n",
      "epoch  48 with lr=1.00e-02\n"
     ]
    },
    {
     "name": "stderr",
     "output_type": "stream",
     "text": [
      "100%|██████████| 448/448 [00:01<00:00, 297.50audios/s, loss=0.60223, acc=86.00%]\n",
      "100%|██████████| 128/128 [00:01<00:00, 111.33audios/s, loss=1.60902, acc=40.00%]\n",
      "  0%|          | 0/448 [00:00<?, ?audios/s]"
     ]
    },
    {
     "name": "stdout",
     "output_type": "stream",
     "text": [
      "<class 'float'>\n",
      "total time elapsed: 0h 2m 13s , best accuracy: 72.00%, best loss 0.919939\n",
      "epoch  49 with lr=1.00e-02\n"
     ]
    },
    {
     "name": "stderr",
     "output_type": "stream",
     "text": [
      "100%|██████████| 448/448 [00:01<00:00, 277.50audios/s, loss=0.50982, acc=91.00%]\n",
      "100%|██████████| 128/128 [00:01<00:00, 107.18audios/s, loss=1.25065, acc=54.00%]\n",
      "  0%|          | 0/448 [00:00<?, ?audios/s]"
     ]
    },
    {
     "name": "stdout",
     "output_type": "stream",
     "text": [
      "<class 'float'>\n",
      "total time elapsed: 0h 2m 16s , best accuracy: 72.00%, best loss 0.919939\n",
      "epoch  50 with lr=1.00e-02\n"
     ]
    },
    {
     "name": "stderr",
     "output_type": "stream",
     "text": [
      "100%|██████████| 448/448 [00:01<00:00, 331.18audios/s, loss=0.54661, acc=89.00%]\n",
      "100%|██████████| 128/128 [00:01<00:00, 109.69audios/s, loss=0.99467, acc=65.00%]\n",
      "  0%|          | 0/448 [00:00<?, ?audios/s]"
     ]
    },
    {
     "name": "stdout",
     "output_type": "stream",
     "text": [
      "<class 'float'>\n",
      "total time elapsed: 0h 2m 19s , best accuracy: 72.00%, best loss 0.919939\n",
      "epoch  51 with lr=1.00e-02\n"
     ]
    },
    {
     "name": "stderr",
     "output_type": "stream",
     "text": [
      "100%|██████████| 448/448 [00:01<00:00, 260.59audios/s, loss=0.48461, acc=90.00%]\n",
      "100%|██████████| 128/128 [00:01<00:00, 113.03audios/s, loss=1.12268, acc=65.00%]\n",
      "  0%|          | 0/448 [00:00<?, ?audios/s]"
     ]
    },
    {
     "name": "stdout",
     "output_type": "stream",
     "text": [
      "<class 'float'>\n",
      "total time elapsed: 0h 2m 22s , best accuracy: 72.00%, best loss 0.919939\n",
      "epoch  52 with lr=1.00e-02\n"
     ]
    },
    {
     "name": "stderr",
     "output_type": "stream",
     "text": [
      "100%|██████████| 448/448 [00:01<00:00, 247.21audios/s, loss=0.51519, acc=88.00%]\n",
      "100%|██████████| 128/128 [00:01<00:00, 116.88audios/s, loss=1.54811, acc=54.00%]\n",
      "  0%|          | 0/448 [00:00<?, ?audios/s]"
     ]
    },
    {
     "name": "stdout",
     "output_type": "stream",
     "text": [
      "<class 'float'>\n",
      "total time elapsed: 0h 2m 25s , best accuracy: 72.00%, best loss 0.919939\n",
      "epoch  53 with lr=1.00e-02\n"
     ]
    },
    {
     "name": "stderr",
     "output_type": "stream",
     "text": [
      "100%|██████████| 448/448 [00:01<00:00, 256.69audios/s, loss=0.48869, acc=88.00%]\n",
      "100%|██████████| 128/128 [00:01<00:00, 113.80audios/s, loss=1.05090, acc=51.00%]\n",
      "  0%|          | 0/448 [00:00<?, ?audios/s]"
     ]
    },
    {
     "name": "stdout",
     "output_type": "stream",
     "text": [
      "<class 'float'>\n",
      "total time elapsed: 0h 2m 27s , best accuracy: 72.00%, best loss 0.919939\n",
      "epoch  54 with lr=1.00e-03\n"
     ]
    },
    {
     "name": "stderr",
     "output_type": "stream",
     "text": [
      "100%|██████████| 448/448 [00:01<00:00, 304.96audios/s, loss=0.47175, acc=91.00%]\n",
      "100%|██████████| 128/128 [00:01<00:00, 105.07audios/s, loss=0.90754, acc=80.00%]\n",
      "  0%|          | 0/448 [00:00<?, ?audios/s]"
     ]
    },
    {
     "name": "stdout",
     "output_type": "stream",
     "text": [
      "<class 'float'>\n",
      "total time elapsed: 0h 2m 30s , best accuracy: 80.00%, best loss 0.907543\n",
      "epoch  55 with lr=1.00e-03\n"
     ]
    },
    {
     "name": "stderr",
     "output_type": "stream",
     "text": [
      "100%|██████████| 448/448 [00:01<00:00, 265.56audios/s, loss=0.41930, acc=91.00%]\n",
      "100%|██████████| 128/128 [00:01<00:00, 114.81audios/s, loss=1.06352, acc=69.00%]\n",
      "  0%|          | 0/448 [00:00<?, ?audios/s]"
     ]
    },
    {
     "name": "stdout",
     "output_type": "stream",
     "text": [
      "<class 'float'>\n",
      "total time elapsed: 0h 2m 33s , best accuracy: 80.00%, best loss 0.907543\n",
      "epoch  56 with lr=1.00e-03\n"
     ]
    },
    {
     "name": "stderr",
     "output_type": "stream",
     "text": [
      "100%|██████████| 448/448 [00:01<00:00, 303.78audios/s, loss=0.35671, acc=94.00%]\n",
      "100%|██████████| 128/128 [00:01<00:00, 102.02audios/s, loss=0.67806, acc=81.00%]\n",
      "  0%|          | 0/448 [00:00<?, ?audios/s]"
     ]
    },
    {
     "name": "stdout",
     "output_type": "stream",
     "text": [
      "<class 'float'>\n",
      "total time elapsed: 0h 2m 36s , best accuracy: 81.00%, best loss 0.678065\n",
      "epoch  57 with lr=1.00e-03\n"
     ]
    },
    {
     "name": "stderr",
     "output_type": "stream",
     "text": [
      "100%|██████████| 448/448 [00:01<00:00, 315.81audios/s, loss=0.37607, acc=94.00%]\n",
      "100%|██████████| 128/128 [00:01<00:00, 109.02audios/s, loss=0.67700, acc=81.00%]\n",
      "  0%|          | 0/448 [00:00<?, ?audios/s]"
     ]
    },
    {
     "name": "stdout",
     "output_type": "stream",
     "text": [
      "<class 'float'>\n",
      "total time elapsed: 0h 2m 38s , best accuracy: 81.00%, best loss 0.677001\n",
      "epoch  58 with lr=1.00e-03\n"
     ]
    },
    {
     "name": "stderr",
     "output_type": "stream",
     "text": [
      "100%|██████████| 448/448 [00:01<00:00, 245.55audios/s, loss=0.34569, acc=95.00%]\n",
      "100%|██████████| 128/128 [00:01<00:00, 110.69audios/s, loss=0.77251, acc=81.00%]\n",
      "  0%|          | 0/448 [00:00<?, ?audios/s]"
     ]
    },
    {
     "name": "stdout",
     "output_type": "stream",
     "text": [
      "<class 'float'>\n",
      "total time elapsed: 0h 2m 41s , best accuracy: 81.00%, best loss 0.677001\n",
      "epoch  59 with lr=1.00e-03\n"
     ]
    },
    {
     "name": "stderr",
     "output_type": "stream",
     "text": [
      "100%|██████████| 448/448 [00:01<00:00, 306.95audios/s, loss=0.38873, acc=92.00%]\n",
      "100%|██████████| 128/128 [00:01<00:00, 101.25audios/s, loss=0.72784, acc=86.00%]\n",
      "  0%|          | 0/448 [00:00<?, ?audios/s]"
     ]
    },
    {
     "name": "stdout",
     "output_type": "stream",
     "text": [
      "<class 'float'>\n",
      "total time elapsed: 0h 2m 44s , best accuracy: 86.00%, best loss 0.677001\n",
      "epoch  60 with lr=1.00e-03\n"
     ]
    },
    {
     "name": "stderr",
     "output_type": "stream",
     "text": [
      "100%|██████████| 448/448 [00:01<00:00, 333.62audios/s, loss=0.34867, acc=95.00%]\n",
      "100%|██████████| 128/128 [00:01<00:00, 108.52audios/s, loss=0.56233, acc=87.00%]\n",
      "  0%|          | 0/448 [00:00<?, ?audios/s]"
     ]
    },
    {
     "name": "stdout",
     "output_type": "stream",
     "text": [
      "<class 'float'>\n",
      "total time elapsed: 0h 2m 47s , best accuracy: 87.00%, best loss 0.562331\n",
      "epoch  61 with lr=1.00e-03\n"
     ]
    },
    {
     "name": "stderr",
     "output_type": "stream",
     "text": [
      "100%|██████████| 448/448 [00:01<00:00, 241.88audios/s, loss=0.32708, acc=94.00%]\n",
      "100%|██████████| 128/128 [00:01<00:00, 103.72audios/s, loss=0.64507, acc=86.00%]\n",
      "  0%|          | 0/448 [00:00<?, ?audios/s]"
     ]
    },
    {
     "name": "stdout",
     "output_type": "stream",
     "text": [
      "<class 'float'>\n",
      "total time elapsed: 0h 2m 50s , best accuracy: 87.00%, best loss 0.562331\n",
      "epoch  62 with lr=1.00e-03\n"
     ]
    },
    {
     "name": "stderr",
     "output_type": "stream",
     "text": [
      "100%|██████████| 448/448 [00:01<00:00, 281.07audios/s, loss=0.33029, acc=95.00%]\n",
      "100%|██████████| 128/128 [00:01<00:00, 105.97audios/s, loss=0.66768, acc=90.00%]\n",
      "  0%|          | 0/448 [00:00<?, ?audios/s]"
     ]
    },
    {
     "name": "stdout",
     "output_type": "stream",
     "text": [
      "<class 'float'>\n",
      "total time elapsed: 0h 2m 53s , best accuracy: 90.00%, best loss 0.562331\n",
      "epoch  63 with lr=1.00e-03\n"
     ]
    },
    {
     "name": "stderr",
     "output_type": "stream",
     "text": [
      "100%|██████████| 448/448 [00:01<00:00, 304.63audios/s, loss=0.31102, acc=95.00%]\n",
      "100%|██████████| 128/128 [00:01<00:00, 109.34audios/s, loss=0.60468, acc=83.00%]\n",
      "  0%|          | 0/448 [00:00<?, ?audios/s]"
     ]
    },
    {
     "name": "stdout",
     "output_type": "stream",
     "text": [
      "<class 'float'>\n",
      "total time elapsed: 0h 2m 55s , best accuracy: 90.00%, best loss 0.562331\n",
      "epoch  64 with lr=1.00e-03\n"
     ]
    },
    {
     "name": "stderr",
     "output_type": "stream",
     "text": [
      "100%|██████████| 448/448 [00:01<00:00, 279.07audios/s, loss=0.36504, acc=94.00%]\n",
      "100%|██████████| 128/128 [00:01<00:00, 107.15audios/s, loss=0.60153, acc=81.00%]\n",
      "  0%|          | 0/448 [00:00<?, ?audios/s]"
     ]
    },
    {
     "name": "stdout",
     "output_type": "stream",
     "text": [
      "<class 'float'>\n",
      "total time elapsed: 0h 2m 58s , best accuracy: 90.00%, best loss 0.562331\n",
      "epoch  65 with lr=1.00e-03\n"
     ]
    },
    {
     "name": "stderr",
     "output_type": "stream",
     "text": [
      "100%|██████████| 448/448 [00:01<00:00, 314.26audios/s, loss=0.30735, acc=95.00%]\n",
      "100%|██████████| 128/128 [00:01<00:00, 94.72audios/s, loss=0.60823, acc=84.00%]\n",
      "  0%|          | 0/448 [00:00<?, ?audios/s]"
     ]
    },
    {
     "name": "stdout",
     "output_type": "stream",
     "text": [
      "<class 'float'>\n",
      "total time elapsed: 0h 3m 1s , best accuracy: 90.00%, best loss 0.562331\n",
      "epoch  66 with lr=1.00e-03\n"
     ]
    },
    {
     "name": "stderr",
     "output_type": "stream",
     "text": [
      "100%|██████████| 448/448 [00:01<00:00, 322.09audios/s, loss=0.29991, acc=95.00%]\n",
      "100%|██████████| 128/128 [00:01<00:00, 118.68audios/s, loss=0.65563, acc=81.00%]\n",
      "  0%|          | 0/448 [00:00<?, ?audios/s]"
     ]
    },
    {
     "name": "stdout",
     "output_type": "stream",
     "text": [
      "<class 'float'>\n",
      "total time elapsed: 0h 3m 4s , best accuracy: 90.00%, best loss 0.562331\n",
      "epoch  67 with lr=1.00e-04\n"
     ]
    },
    {
     "name": "stderr",
     "output_type": "stream",
     "text": [
      "100%|██████████| 448/448 [00:01<00:00, 296.01audios/s, loss=0.33055, acc=94.00%]\n",
      "100%|██████████| 128/128 [00:01<00:00, 111.96audios/s, loss=0.84649, acc=83.00%]\n",
      "  0%|          | 0/448 [00:00<?, ?audios/s]"
     ]
    },
    {
     "name": "stdout",
     "output_type": "stream",
     "text": [
      "<class 'float'>\n",
      "total time elapsed: 0h 3m 6s , best accuracy: 90.00%, best loss 0.562331\n",
      "epoch  68 with lr=1.00e-04\n"
     ]
    },
    {
     "name": "stderr",
     "output_type": "stream",
     "text": [
      "100%|██████████| 448/448 [00:01<00:00, 315.38audios/s, loss=0.31802, acc=95.00%]\n",
      "100%|██████████| 128/128 [00:01<00:00, 125.30audios/s, loss=0.75253, acc=83.00%]\n",
      "  0%|          | 0/448 [00:00<?, ?audios/s]"
     ]
    },
    {
     "name": "stdout",
     "output_type": "stream",
     "text": [
      "<class 'float'>\n",
      "total time elapsed: 0h 3m 9s , best accuracy: 90.00%, best loss 0.562331\n",
      "epoch  69 with lr=1.00e-04\n"
     ]
    },
    {
     "name": "stderr",
     "output_type": "stream",
     "text": [
      "100%|██████████| 448/448 [00:01<00:00, 339.69audios/s, loss=0.29025, acc=96.00%]\n",
      "100%|██████████| 128/128 [00:00<00:00, 129.23audios/s, loss=0.57711, acc=84.00%]\n"
     ]
    },
    {
     "name": "stdout",
     "output_type": "stream",
     "text": [
      "<class 'float'>\n",
      "total time elapsed: 0h 3m 11s , best accuracy: 90.00%, best loss 0.562331\n",
      "finished\n"
     ]
    }
   ],
   "source": [
    "print(\"training %s for Google speech commands...\" % args.model)\n",
    "since = time.time()\n",
    "for epoch in range(start_epoch, args.max_epochs):\n",
    "    if args.lr_scheduler == 'step':\n",
    "        lr_scheduler.step()\n",
    "\n",
    "    train(epoch)\n",
    "    epoch_loss = valid(epoch)\n",
    "\n",
    "    if args.lr_scheduler == 'plateau':\n",
    "        print(type(epoch_loss))\n",
    "        lr_scheduler.step(metrics=epoch_loss)\n",
    "\n",
    "    time_elapsed = time.time() - since\n",
    "    time_str = 'total time elapsed: {:.0f}h {:.0f}m {:.0f}s '.format(time_elapsed // 3600, time_elapsed % 3600 // 60, time_elapsed % 60)\n",
    "    print(\"%s, best accuracy: %.02f%%, best loss %f\" % (time_str, best_accuracy, best_loss))\n",
    "    with open('./train_res18.log', 'a+') as f:\n",
    "        f.write(\"%s, epoch: %s, best accuracy: %.02f%%, best loss %f\\n\" % (time_str, epoch,best_accuracy, best_loss))\n",
    "print(\"finished\")"
   ]
  },
  {
   "cell_type": "code",
   "execution_count": null,
   "metadata": {},
   "outputs": [],
   "source": []
  }
 ],
 "metadata": {
  "kernelspec": {
   "display_name": "Python 3",
   "language": "python",
   "name": "python3"
  },
  "language_info": {
   "codemirror_mode": {
    "name": "ipython",
    "version": 3
   },
   "file_extension": ".py",
   "mimetype": "text/x-python",
   "name": "python",
   "nbconvert_exporter": "python",
   "pygments_lexer": "ipython3",
   "version": "3.6.8"
  }
 },
 "nbformat": 4,
 "nbformat_minor": 2
}
